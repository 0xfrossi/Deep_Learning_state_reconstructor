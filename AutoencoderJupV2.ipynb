{
 "cells": [
  {
   "cell_type": "code",
   "execution_count": 1,
   "id": "8f435793",
   "metadata": {
    "ExecuteTime": {
     "end_time": "2022-06-18T15:17:08.023326Z",
     "start_time": "2022-06-18T15:17:04.931429Z"
    }
   },
   "outputs": [],
   "source": [
    "import numpy as np\n",
    "import tensorflow as tf\n",
    "from utils_functions import *\n",
    "from plan import *\n",
    "import random\n",
    "from tensorflow.keras.layers import Dense, Input\n",
    "from tensorflow.keras.models import Model\n",
    "import datetime, os\n",
    "\n",
    "\n"
   ]
  },
  {
   "cell_type": "code",
   "execution_count": 2,
   "id": "7177344b",
   "metadata": {
    "ExecuteTime": {
     "end_time": "2022-06-18T15:17:12.735328Z",
     "start_time": "2022-06-18T15:17:08.024827Z"
    },
    "scrolled": true
   },
   "outputs": [
    {
     "name": "stdout",
     "output_type": "stream",
     "text": [
      "File loaded\n",
      "File loaded\n"
     ]
    }
   ],
   "source": [
    "\n",
    "dict_stati= load_file(\"./dizionario_stati\")\n",
    "plansLoaded=load_file(\"./plans\")\n",
    "#print(type(plansPickles))\n",
    "#plansList=load_from_pickles(\"C:/Users/Francesco/Desktop/dataset/dataset/dizionario_stati\",plansPickles)\n",
    "#print(plansPickles)\n"
   ]
  },
  {
   "cell_type": "code",
   "execution_count": 3,
   "id": "994cd7db",
   "metadata": {
    "ExecuteTime": {
     "end_time": "2022-06-18T15:17:12.750825Z",
     "start_time": "2022-06-18T15:17:12.736827Z"
    }
   },
   "outputs": [],
   "source": [
    "#ogni stato è un tensore con elementi dtype int8, questi stati vengono raggruppati in un altro tensore che rappresnta la\n",
    "#variabile \"states\" del piano \n",
    "def build_vector(dict, states_list):\n",
    "    l=len(dict)\n",
    "    vector_states=[]\n",
    "    for state in states_list:\n",
    "        vector=np.array([0]*l,dtype=np.int8)\n",
    "        #vector=tf.zeros(l,dtype=np.int8)\n",
    "        for s in state:\n",
    "            for key in dict.keys():\n",
    "                if key==s:\n",
    "                    vector[dict[key]-1]=1\n",
    "                    break\n",
    "        #t=tf.convert_to_tensor(vector,dtype=tf.int8)            \n",
    "        vector_states.append(vector) \n",
    "    r = np.array(vector_states)                          \n",
    "    return r\n",
    "\n",
    "\n",
    "#NON UTILIZZATO ADESSO\n",
    "#shape di ogni singolo elemento (r) è (n x 340) con n che varia su ogni piano, raggruppati sulla base dei piani\n",
    "def build_all_vectors(dict,plans_list):\n",
    "    total=[]\n",
    "    for plan in plans_list:\n",
    "        r=build_vector(dict,plan.states)\n",
    "        total.append(r)\n",
    "    #r = tf.convert_to_tensor(total,dtype=None)                         \n",
    "    return total\n",
    " \n",
    "    \n",
    "#gli stati vengono ordinati (in una lista) singolarmente con shape (1x340), non vengono raggruppati sulla base dei piani\n",
    "#da utilizzare per autoencoder standard\n",
    "def build_all_vectors1x340(dict, plans_list):\n",
    "    l=len(dict)\n",
    "    total=[]\n",
    "    for plan in plans_list:\n",
    "        for state in plan.states:\n",
    "            vector=np.array([0]*l,dtype=np.int8)\n",
    "            for s in state:\n",
    "                for key in dict.keys():\n",
    "                    if key==s:\n",
    "                        vector[dict[key]-1]=1\n",
    "                        break\n",
    "            #t=tf.convert_to_tensor(vector,dtype=tf.int8)            \n",
    "            total.append(vector)\n",
    "    total=np.array(total)        \n",
    "    return total        "
   ]
  },
  {
   "cell_type": "code",
   "execution_count": 4,
   "id": "a8f80382",
   "metadata": {
    "ExecuteTime": {
     "end_time": "2022-06-18T15:17:12.766325Z",
     "start_time": "2022-06-18T15:17:12.752830Z"
    },
    "scrolled": true
   },
   "outputs": [],
   "source": [
    "#all_states_from_plans_list=build_all_vectors(dict_stati,plansLoaded)"
   ]
  },
  {
   "cell_type": "markdown",
   "id": "4fe83a51",
   "metadata": {},
   "source": [
    "## Preparazione dati"
   ]
  },
  {
   "cell_type": "code",
   "execution_count": 5,
   "id": "8d8fed23",
   "metadata": {
    "ExecuteTime": {
     "end_time": "2022-06-18T15:19:07.726826Z",
     "start_time": "2022-06-18T15:17:12.767828Z"
    }
   },
   "outputs": [],
   "source": [
    "#Creazione dataset totale\n",
    "all1x340=build_all_vectors1x340(dict_stati,plansLoaded)\n",
    "random.shuffle(all1x340)\n"
   ]
  },
  {
   "cell_type": "code",
   "execution_count": 6,
   "id": "4c7364dc",
   "metadata": {
    "ExecuteTime": {
     "end_time": "2022-06-18T15:19:07.742327Z",
     "start_time": "2022-06-18T15:19:07.727827Z"
    }
   },
   "outputs": [
    {
     "name": "stdout",
     "output_type": "stream",
     "text": [
      "(1384373, 340)\n",
      "<class 'numpy.ndarray'>\n",
      "<class 'numpy.ndarray'>\n",
      "int8\n"
     ]
    }
   ],
   "source": [
    "print(all1x340.shape)\n",
    "print(type(all1x340))\n",
    "print(type(all1x340[6]))\n",
    "print(all1x340[6].dtype)"
   ]
  },
  {
   "cell_type": "code",
   "execution_count": 7,
   "id": "ea9dd3bd",
   "metadata": {
    "ExecuteTime": {
     "end_time": "2022-06-18T15:19:07.757845Z",
     "start_time": "2022-06-18T15:19:07.743826Z"
    }
   },
   "outputs": [],
   "source": [
    "#creAzione di train, test e validation set,--> input shape per rete = 340\n",
    "#rendere questi set statici, altimenti cambiano sempre ad ogni esecuzione.... es. comprimerli con 7zip o pickle --> DA FARE IN PRIMA POSSIBILE\n",
    "#random.shuffle(all1x340)\n",
    "half=int(len(all1x340)//3)\n",
    "train=all1x340[half:]\n",
    "vt=all1x340[:half]\n",
    "h2=int(len(vt)//2)\n",
    "validation=vt[h2:]\n",
    "test=vt[:h2]\n"
   ]
  },
  {
   "cell_type": "code",
   "execution_count": 8,
   "id": "d2f59a0e",
   "metadata": {
    "ExecuteTime": {
     "end_time": "2022-06-18T15:19:07.773343Z",
     "start_time": "2022-06-18T15:19:07.759344Z"
    }
   },
   "outputs": [],
   "source": [
    "logdir = os.path.join(\"logs\", datetime.datetime.now().strftime(\"%Y%m%d-%H%M%S\"))"
   ]
  },
  {
   "cell_type": "markdown",
   "id": "a85be87a",
   "metadata": {},
   "source": [
    "## Modello"
   ]
  },
  {
   "cell_type": "code",
   "execution_count": 9,
   "id": "00dc9c18",
   "metadata": {
    "ExecuteTime": {
     "end_time": "2022-06-18T15:20:56.211344Z",
     "start_time": "2022-06-18T15:19:07.776345Z"
    },
    "scrolled": false
   },
   "outputs": [
    {
     "name": "stdout",
     "output_type": "stream",
     "text": [
      "Epoch 1/5000\n",
      "185/185 [==============================] - 4s 11ms/step - loss: 0.1762 - accuracy: 0.0565 - precision: 0.3992 - recall: 0.0478 - val_loss: 0.1641 - val_accuracy: 0.0932 - val_precision: 0.7510 - val_recall: 0.0717\n",
      "Epoch 2/5000\n",
      "185/185 [==============================] - 1s 7ms/step - loss: 0.1630 - accuracy: 0.0595 - precision: 0.7318 - recall: 0.0787 - val_loss: 0.1627 - val_accuracy: 0.0761 - val_precision: 0.7226 - val_recall: 0.0793\n",
      "Epoch 3/5000\n",
      "185/185 [==============================] - 1s 7ms/step - loss: 0.1624 - accuracy: 0.0635 - precision: 0.7189 - recall: 0.0833 - val_loss: 0.1624 - val_accuracy: 0.0617 - val_precision: 0.7049 - val_recall: 0.0921\n",
      "Epoch 4/5000\n",
      "185/185 [==============================] - 1s 7ms/step - loss: 0.1620 - accuracy: 0.0553 - precision: 0.6972 - recall: 0.0961 - val_loss: 0.1620 - val_accuracy: 0.0329 - val_precision: 0.6958 - val_recall: 0.0963\n",
      "Epoch 5/5000\n",
      "185/185 [==============================] - 1s 7ms/step - loss: 0.1617 - accuracy: 0.0483 - precision: 0.6921 - recall: 0.0984 - val_loss: 0.1617 - val_accuracy: 0.0712 - val_precision: 0.6935 - val_recall: 0.0975\n",
      "Epoch 6/5000\n",
      "185/185 [==============================] - 1s 7ms/step - loss: 0.1616 - accuracy: 0.0479 - precision: 0.6925 - recall: 0.0979 - val_loss: 0.1617 - val_accuracy: 0.0285 - val_precision: 0.6906 - val_recall: 0.0977\n",
      "Epoch 7/5000\n",
      "185/185 [==============================] - 1s 7ms/step - loss: 0.1609 - accuracy: 0.0403 - precision: 0.6971 - recall: 0.0948 - val_loss: 0.1606 - val_accuracy: 0.0144 - val_precision: 0.7181 - val_recall: 0.0860\n",
      "Epoch 8/5000\n",
      "185/185 [==============================] - 1s 7ms/step - loss: 0.1601 - accuracy: 0.0298 - precision: 0.6924 - recall: 0.0946 - val_loss: 0.1609 - val_accuracy: 0.0139 - val_precision: 0.7203 - val_recall: 0.0839\n",
      "Epoch 9/5000\n",
      "185/185 [==============================] - 1s 7ms/step - loss: 0.1595 - accuracy: 0.0263 - precision: 0.6948 - recall: 0.0946 - val_loss: 0.1596 - val_accuracy: 0.0278 - val_precision: 0.6583 - val_recall: 0.1039\n",
      "Epoch 10/5000\n",
      "185/185 [==============================] - 1s 7ms/step - loss: 0.1595 - accuracy: 0.0290 - precision: 0.6936 - recall: 0.0942 - val_loss: 0.1596 - val_accuracy: 0.0320 - val_precision: 0.7032 - val_recall: 0.0911\n",
      "Epoch 11/5000\n",
      "185/185 [==============================] - 1s 7ms/step - loss: 0.1591 - accuracy: 0.0285 - precision: 0.6971 - recall: 0.0940 - val_loss: 0.1589 - val_accuracy: 0.0172 - val_precision: 0.7104 - val_recall: 0.0902\n",
      "Epoch 12/5000\n",
      "185/185 [==============================] - 1s 7ms/step - loss: 0.1590 - accuracy: 0.0286 - precision: 0.6953 - recall: 0.0944 - val_loss: 0.1589 - val_accuracy: 0.0106 - val_precision: 0.7054 - val_recall: 0.0911\n",
      "Epoch 13/5000\n",
      "185/185 [==============================] - 1s 7ms/step - loss: 0.1590 - accuracy: 0.0278 - precision: 0.6960 - recall: 0.0940 - val_loss: 0.1605 - val_accuracy: 0.0112 - val_precision: 0.6527 - val_recall: 0.1031\n",
      "Epoch 14/5000\n",
      "185/185 [==============================] - 1s 7ms/step - loss: 0.1591 - accuracy: 0.0223 - precision: 0.6948 - recall: 0.0937 - val_loss: 0.1599 - val_accuracy: 0.0112 - val_precision: 0.7138 - val_recall: 0.0874\n",
      "Epoch 15/5000\n",
      "185/185 [==============================] - 1s 8ms/step - loss: 0.1589 - accuracy: 0.0192 - precision: 0.6962 - recall: 0.0930 - val_loss: 0.1587 - val_accuracy: 0.0150 - val_precision: 0.6819 - val_recall: 0.0980\n",
      "Epoch 16/5000\n",
      "185/185 [==============================] - 1s 7ms/step - loss: 0.1589 - accuracy: 0.0169 - precision: 0.6974 - recall: 0.0929 - val_loss: 0.1585 - val_accuracy: 0.0180 - val_precision: 0.6974 - val_recall: 0.0934\n",
      "Epoch 17/5000\n",
      "185/185 [==============================] - 1s 7ms/step - loss: 0.1588 - accuracy: 0.0196 - precision: 0.6972 - recall: 0.0925 - val_loss: 0.1589 - val_accuracy: 0.0038 - val_precision: 0.7201 - val_recall: 0.0833\n",
      "Epoch 18/5000\n",
      "185/185 [==============================] - 1s 7ms/step - loss: 0.1588 - accuracy: 0.0179 - precision: 0.6968 - recall: 0.0925 - val_loss: 0.1586 - val_accuracy: 0.0059 - val_precision: 0.7096 - val_recall: 0.0889\n",
      "Epoch 19/5000\n",
      "185/185 [==============================] - 1s 7ms/step - loss: 0.1586 - accuracy: 0.0230 - precision: 0.6978 - recall: 0.0928 - val_loss: 0.1583 - val_accuracy: 0.0215 - val_precision: 0.6824 - val_recall: 0.0978\n",
      "Epoch 20/5000\n",
      "185/185 [==============================] - 1s 7ms/step - loss: 0.1586 - accuracy: 0.0167 - precision: 0.6948 - recall: 0.0935 - val_loss: 0.1581 - val_accuracy: 0.0209 - val_precision: 0.6995 - val_recall: 0.0939\n",
      "Epoch 21/5000\n",
      "185/185 [==============================] - 1s 7ms/step - loss: 0.1587 - accuracy: 0.0197 - precision: 0.6967 - recall: 0.0931 - val_loss: 0.1596 - val_accuracy: 0.0027 - val_precision: 0.7042 - val_recall: 0.0871\n",
      "Epoch 22/5000\n",
      "185/185 [==============================] - 1s 7ms/step - loss: 0.1585 - accuracy: 0.0122 - precision: 0.6974 - recall: 0.0932 - val_loss: 0.1591 - val_accuracy: 0.0069 - val_precision: 0.6474 - val_recall: 0.1043\n",
      "Epoch 23/5000\n",
      "185/185 [==============================] - 1s 7ms/step - loss: 0.1586 - accuracy: 0.0166 - precision: 0.6920 - recall: 0.0923 - val_loss: 0.1582 - val_accuracy: 0.0785 - val_precision: 0.6963 - val_recall: 0.0935\n",
      "Epoch 24/5000\n",
      "185/185 [==============================] - 1s 7ms/step - loss: 0.1587 - accuracy: 0.0194 - precision: 0.6936 - recall: 0.0930 - val_loss: 0.1582 - val_accuracy: 0.0196 - val_precision: 0.7071 - val_recall: 0.0908\n",
      "Epoch 25/5000\n",
      "185/185 [==============================] - 1s 7ms/step - loss: 0.1583 - accuracy: 0.0191 - precision: 0.6958 - recall: 0.0928 - val_loss: 0.1580 - val_accuracy: 0.0120 - val_precision: 0.6828 - val_recall: 0.0967\n",
      "Epoch 26/5000\n",
      "185/185 [==============================] - 1s 8ms/step - loss: 0.1579 - accuracy: 0.0132 - precision: 0.6985 - recall: 0.0921 - val_loss: 0.1577 - val_accuracy: 0.0194 - val_precision: 0.7117 - val_recall: 0.0876\n",
      "Epoch 27/5000\n",
      "185/185 [==============================] - 1s 7ms/step - loss: 0.1580 - accuracy: 0.0135 - precision: 0.6993 - recall: 0.0915 - val_loss: 0.1576 - val_accuracy: 0.0019 - val_precision: 0.7034 - val_recall: 0.0911\n",
      "Epoch 28/5000\n",
      "185/185 [==============================] - 1s 7ms/step - loss: 0.1579 - accuracy: 0.0162 - precision: 0.6980 - recall: 0.0917 - val_loss: 0.1586 - val_accuracy: 0.0019 - val_precision: 0.6600 - val_recall: 0.1006\n",
      "Epoch 29/5000\n",
      "185/185 [==============================] - 1s 7ms/step - loss: 0.1580 - accuracy: 0.0187 - precision: 0.6961 - recall: 0.0922 - val_loss: 0.1575 - val_accuracy: 0.0036 - val_precision: 0.7139 - val_recall: 0.0869\n",
      "Epoch 30/5000\n",
      "185/185 [==============================] - 1s 7ms/step - loss: 0.1578 - accuracy: 0.0140 - precision: 0.6964 - recall: 0.0922 - val_loss: 0.1578 - val_accuracy: 0.0023 - val_precision: 0.7134 - val_recall: 0.0865\n",
      "Epoch 31/5000\n",
      "185/185 [==============================] - 1s 7ms/step - loss: 0.1605 - accuracy: 0.0323 - precision: 0.7082 - recall: 0.0861 - val_loss: 0.1598 - val_accuracy: 0.1059 - val_precision: 0.6745 - val_recall: 0.0931\n",
      "Epoch 32/5000\n",
      "185/185 [==============================] - 1s 7ms/step - loss: 0.1589 - accuracy: 0.0325 - precision: 0.6997 - recall: 0.0946 - val_loss: 0.1589 - val_accuracy: 0.0124 - val_precision: 0.7003 - val_recall: 0.0936\n",
      "Epoch 33/5000\n",
      "185/185 [==============================] - 1s 7ms/step - loss: 0.1585 - accuracy: 0.0242 - precision: 0.6940 - recall: 0.0957 - val_loss: 0.1584 - val_accuracy: 0.0074 - val_precision: 0.7019 - val_recall: 0.0899\n",
      "Epoch 34/5000\n",
      "185/185 [==============================] - 1s 7ms/step - loss: 0.1588 - accuracy: 0.0150 - precision: 0.6884 - recall: 0.0942 - val_loss: 0.1594 - val_accuracy: 0.0149 - val_precision: 0.7042 - val_recall: 0.0866\n",
      "Epoch 35/5000\n",
      "185/185 [==============================] - 1s 7ms/step - loss: 0.1583 - accuracy: 0.0254 - precision: 0.6943 - recall: 0.0885 - val_loss: 0.1582 - val_accuracy: 0.0143 - val_precision: 0.7040 - val_recall: 0.0848\n",
      "Epoch 36/5000\n",
      "185/185 [==============================] - 1s 7ms/step - loss: 0.1581 - accuracy: 0.0225 - precision: 0.6965 - recall: 0.0874 - val_loss: 0.1583 - val_accuracy: 0.0138 - val_precision: 0.7084 - val_recall: 0.0840\n",
      "Epoch 37/5000\n"
     ]
    },
    {
     "name": "stdout",
     "output_type": "stream",
     "text": [
      "185/185 [==============================] - 1s 7ms/step - loss: 0.1581 - accuracy: 0.0249 - precision: 0.6943 - recall: 0.0874 - val_loss: 0.1582 - val_accuracy: 0.0222 - val_precision: 0.6960 - val_recall: 0.0866\n",
      "Epoch 38/5000\n",
      "185/185 [==============================] - 1s 7ms/step - loss: 0.1580 - accuracy: 0.0195 - precision: 0.7033 - recall: 0.0863 - val_loss: 0.1580 - val_accuracy: 0.0063 - val_precision: 0.7092 - val_recall: 0.0841\n",
      "Epoch 39/5000\n",
      "185/185 [==============================] - 1s 7ms/step - loss: 0.1580 - accuracy: 0.0226 - precision: 0.7058 - recall: 0.0859 - val_loss: 0.1581 - val_accuracy: 0.0219 - val_precision: 0.6977 - val_recall: 0.0870\n",
      "Epoch 40/5000\n",
      "185/185 [==============================] - 1s 7ms/step - loss: 0.1579 - accuracy: 0.0207 - precision: 0.7053 - recall: 0.0855 - val_loss: 0.1576 - val_accuracy: 0.0095 - val_precision: 0.6996 - val_recall: 0.0849\n",
      "Epoch 41/5000\n",
      "185/185 [==============================] - 1s 7ms/step - loss: 0.1574 - accuracy: 0.0187 - precision: 0.7121 - recall: 0.0833 - val_loss: 0.1573 - val_accuracy: 0.0922 - val_precision: 0.7111 - val_recall: 0.0827\n",
      "Epoch 42/5000\n",
      "185/185 [==============================] - 1s 7ms/step - loss: 0.1574 - accuracy: 0.0209 - precision: 0.7133 - recall: 0.0831 - val_loss: 0.1572 - val_accuracy: 0.0122 - val_precision: 0.7164 - val_recall: 0.0815\n",
      "Epoch 43/5000\n",
      "185/185 [==============================] - 1s 7ms/step - loss: 0.1575 - accuracy: 0.0192 - precision: 0.7107 - recall: 0.0835 - val_loss: 0.1576 - val_accuracy: 0.0129 - val_precision: 0.7196 - val_recall: 0.0807\n",
      "Epoch 44/5000\n",
      "185/185 [==============================] - 1s 7ms/step - loss: 0.1573 - accuracy: 0.0183 - precision: 0.7064 - recall: 0.0855 - val_loss: 0.1572 - val_accuracy: 0.0262 - val_precision: 0.7052 - val_recall: 0.0850\n",
      "Epoch 45/5000\n",
      "185/185 [==============================] - 1s 7ms/step - loss: 0.1572 - accuracy: 0.0176 - precision: 0.6994 - recall: 0.0893 - val_loss: 0.1583 - val_accuracy: 0.0165 - val_precision: 0.7071 - val_recall: 0.0825\n",
      "Epoch 46/5000\n",
      "185/185 [==============================] - 1s 7ms/step - loss: 0.1573 - accuracy: 0.0190 - precision: 0.6974 - recall: 0.0892 - val_loss: 0.1583 - val_accuracy: 0.0845 - val_precision: 0.6877 - val_recall: 0.0865\n",
      "Epoch 47/5000\n",
      "185/185 [==============================] - 1s 7ms/step - loss: 0.1573 - accuracy: 0.0200 - precision: 0.6943 - recall: 0.0909 - val_loss: 0.1578 - val_accuracy: 0.0109 - val_precision: 0.7041 - val_recall: 0.0863\n",
      "Epoch 48/5000\n",
      "185/185 [==============================] - 1s 7ms/step - loss: 0.1573 - accuracy: 0.0281 - precision: 0.6938 - recall: 0.0908 - val_loss: 0.1572 - val_accuracy: 0.0066 - val_precision: 0.7002 - val_recall: 0.0913\n",
      "Epoch 49/5000\n",
      "185/185 [==============================] - 1s 7ms/step - loss: 0.1572 - accuracy: 0.0235 - precision: 0.6911 - recall: 0.0928 - val_loss: 0.1585 - val_accuracy: 0.0103 - val_precision: 0.6792 - val_recall: 0.0873\n",
      "Epoch 50/5000\n",
      "185/185 [==============================] - 1s 7ms/step - loss: 0.1574 - accuracy: 0.0211 - precision: 0.6909 - recall: 0.0916 - val_loss: 0.1572 - val_accuracy: 0.0103 - val_precision: 0.7021 - val_recall: 0.0868\n",
      "Epoch 51/5000\n",
      "185/185 [==============================] - 1s 7ms/step - loss: 0.1572 - accuracy: 0.0267 - precision: 0.6917 - recall: 0.0923 - val_loss: 0.1578 - val_accuracy: 0.0812 - val_precision: 0.6907 - val_recall: 0.0890\n",
      "Epoch 52/5000\n",
      "185/185 [==============================] - 1s 7ms/step - loss: 0.1572 - accuracy: 0.0212 - precision: 0.6905 - recall: 0.0928 - val_loss: 0.1573 - val_accuracy: 0.0247 - val_precision: 0.6946 - val_recall: 0.0937\n",
      "Epoch 53/5000\n",
      "185/185 [==============================] - 1s 7ms/step - loss: 0.1572 - accuracy: 0.0222 - precision: 0.6908 - recall: 0.0932 - val_loss: 0.1571 - val_accuracy: 0.0175 - val_precision: 0.6938 - val_recall: 0.0922\n",
      "Epoch 54/5000\n",
      "185/185 [==============================] - 1s 7ms/step - loss: 0.1573 - accuracy: 0.0233 - precision: 0.6907 - recall: 0.0928 - val_loss: 0.1575 - val_accuracy: 0.0066 - val_precision: 0.6748 - val_recall: 0.0980\n",
      "Epoch 55/5000\n",
      "185/185 [==============================] - 1s 7ms/step - loss: 0.1572 - accuracy: 0.0198 - precision: 0.6909 - recall: 0.0928 - val_loss: 0.1572 - val_accuracy: 0.0088 - val_precision: 0.6929 - val_recall: 0.0901\n",
      "Epoch 56/5000\n",
      "185/185 [==============================] - 1s 7ms/step - loss: 0.1572 - accuracy: 0.0235 - precision: 0.6916 - recall: 0.0928 - val_loss: 0.1573 - val_accuracy: 0.0052 - val_precision: 0.6899 - val_recall: 0.0925\n",
      "Epoch 57/5000\n",
      "185/185 [==============================] - 1s 7ms/step - loss: 0.1572 - accuracy: 0.0226 - precision: 0.6904 - recall: 0.0927 - val_loss: 0.1573 - val_accuracy: 0.0182 - val_precision: 0.6976 - val_recall: 0.0919\n",
      "Epoch 58/5000\n",
      "185/185 [==============================] - 1s 7ms/step - loss: 0.1571 - accuracy: 0.0207 - precision: 0.6909 - recall: 0.0933 - val_loss: 0.1569 - val_accuracy: 0.0934 - val_precision: 0.6979 - val_recall: 0.0934\n",
      "Epoch 59/5000\n",
      "185/185 [==============================] - 1s 7ms/step - loss: 0.1573 - accuracy: 0.0303 - precision: 0.6906 - recall: 0.0922 - val_loss: 0.1579 - val_accuracy: 0.0260 - val_precision: 0.6681 - val_recall: 0.0945\n",
      "Epoch 60/5000\n",
      "185/185 [==============================] - 1s 7ms/step - loss: 0.1573 - accuracy: 0.0191 - precision: 0.6908 - recall: 0.0921 - val_loss: 0.1573 - val_accuracy: 0.0176 - val_precision: 0.7093 - val_recall: 0.0841\n",
      "Epoch 61/5000\n",
      "185/185 [==============================] - 1s 7ms/step - loss: 0.1571 - accuracy: 0.0213 - precision: 0.6911 - recall: 0.0931 - val_loss: 0.1569 - val_accuracy: 0.0142 - val_precision: 0.6942 - val_recall: 0.0944\n",
      "Epoch 62/5000\n",
      "185/185 [==============================] - 1s 8ms/step - loss: 0.1570 - accuracy: 0.0253 - precision: 0.6911 - recall: 0.0938 - val_loss: 0.1569 - val_accuracy: 0.0277 - val_precision: 0.6878 - val_recall: 0.0958\n",
      "Epoch 63/5000\n",
      "185/185 [==============================] - 2s 8ms/step - loss: 0.1573 - accuracy: 0.0218 - precision: 0.6906 - recall: 0.0924 - val_loss: 0.1571 - val_accuracy: 0.0110 - val_precision: 0.6889 - val_recall: 0.0945\n",
      "Epoch 64/5000\n",
      "185/185 [==============================] - 1s 7ms/step - loss: 0.1572 - accuracy: 0.0241 - precision: 0.6908 - recall: 0.0929 - val_loss: 0.1575 - val_accuracy: 0.0084 - val_precision: 0.6855 - val_recall: 0.0944\n",
      "Epoch 65/5000\n",
      "185/185 [==============================] - 1s 7ms/step - loss: 0.1571 - accuracy: 0.0235 - precision: 0.6906 - recall: 0.0934 - val_loss: 0.1573 - val_accuracy: 0.0237 - val_precision: 0.6921 - val_recall: 0.0905\n",
      "Epoch 66/5000\n",
      "185/185 [==============================] - 1s 7ms/step - loss: 0.1573 - accuracy: 0.0232 - precision: 0.6905 - recall: 0.0924 - val_loss: 0.1572 - val_accuracy: 0.0295 - val_precision: 0.6815 - val_recall: 0.0953\n",
      "Epoch 67/5000\n",
      "185/185 [==============================] - 1s 7ms/step - loss: 0.1571 - accuracy: 0.0202 - precision: 0.6905 - recall: 0.0934 - val_loss: 0.1575 - val_accuracy: 0.0253 - val_precision: 0.6871 - val_recall: 0.0920\n",
      "Epoch 68/5000\n",
      "185/185 [==============================] - 1s 8ms/step - loss: 0.1572 - accuracy: 0.0256 - precision: 0.6908 - recall: 0.0928 - val_loss: 0.1587 - val_accuracy: 0.0080 - val_precision: 0.6986 - val_recall: 0.0857\n",
      "Epoch 69/5000\n",
      "185/185 [==============================] - 1s 8ms/step - loss: 0.1572 - accuracy: 0.0216 - precision: 0.6917 - recall: 0.0921 - val_loss: 0.1571 - val_accuracy: 0.0105 - val_precision: 0.6870 - val_recall: 0.0955\n",
      "Epoch 70/5000\n",
      "185/185 [==============================] - 1s 8ms/step - loss: 0.1571 - accuracy: 0.0196 - precision: 0.6911 - recall: 0.0930 - val_loss: 0.1598 - val_accuracy: 0.0801 - val_precision: 0.6289 - val_recall: 0.0984\n",
      "Epoch 71/5000\n",
      "185/185 [==============================] - 1s 7ms/step - loss: 0.1574 - accuracy: 0.0224 - precision: 0.6912 - recall: 0.0918 - val_loss: 0.1577 - val_accuracy: 0.0883 - val_precision: 0.6813 - val_recall: 0.0922\n",
      "Epoch 72/5000\n",
      "185/185 [==============================] - 1s 7ms/step - loss: 0.1571 - accuracy: 0.0236 - precision: 0.6917 - recall: 0.0925 - val_loss: 0.1571 - val_accuracy: 0.0302 - val_precision: 0.6783 - val_recall: 0.0951\n",
      "Epoch 73/5000\n"
     ]
    },
    {
     "name": "stdout",
     "output_type": "stream",
     "text": [
      "185/185 [==============================] - 1s 7ms/step - loss: 0.1571 - accuracy: 0.0278 - precision: 0.6909 - recall: 0.0931 - val_loss: 0.1572 - val_accuracy: 0.0883 - val_precision: 0.6900 - val_recall: 0.0932\n",
      "Epoch 74/5000\n",
      "185/185 [==============================] - 1s 7ms/step - loss: 0.1571 - accuracy: 0.0201 - precision: 0.6913 - recall: 0.0928 - val_loss: 0.1594 - val_accuracy: 0.0806 - val_precision: 0.6491 - val_recall: 0.0911\n",
      "Epoch 75/5000\n",
      "185/185 [==============================] - 1s 7ms/step - loss: 0.1572 - accuracy: 0.0192 - precision: 0.6917 - recall: 0.0924 - val_loss: 0.1577 - val_accuracy: 0.0055 - val_precision: 0.6950 - val_recall: 0.0870\n",
      "Epoch 76/5000\n",
      "185/185 [==============================] - 1s 7ms/step - loss: 0.1572 - accuracy: 0.0259 - precision: 0.6908 - recall: 0.0925 - val_loss: 0.1583 - val_accuracy: 0.0063 - val_precision: 0.7179 - val_recall: 0.0815\n",
      "Epoch 77/5000\n",
      "185/185 [==============================] - 1s 7ms/step - loss: 0.1573 - accuracy: 0.0282 - precision: 0.6904 - recall: 0.0922 - val_loss: 0.1579 - val_accuracy: 0.1039 - val_precision: 0.7043 - val_recall: 0.0875\n",
      "Epoch 78/5000\n",
      "185/185 [==============================] - 1s 7ms/step - loss: 0.1571 - accuracy: 0.0226 - precision: 0.6928 - recall: 0.0923 - val_loss: 0.1571 - val_accuracy: 0.0104 - val_precision: 0.6949 - val_recall: 0.0931\n"
     ]
    },
    {
     "data": {
      "text/plain": [
       "<tensorflow.python.keras.callbacks.History at 0x25d4bb4d0d0>"
      ]
     },
     "execution_count": 9,
     "metadata": {},
     "output_type": "execute_result"
    }
   ],
   "source": [
    "input_size = 340 #costante\n",
    "\n",
    "#Scelti casulmente al momento.... da rivedere come prima modifica forse\n",
    "hidden_size = 85\n",
    "#hidden_size2 = 85\n",
    "code_size = 17\n",
    "\n",
    "\n",
    "\n",
    "my_callbacks = [\n",
    "    tf.keras.callbacks.EarlyStopping(patience=20),\n",
    "    tf.keras.callbacks.TensorBoard(log_dir=\"C:/Users/lucal/PycharmProjects/Deep_Learning_Autoencoder/logsTB\",histogram_freq=1)\n",
    "\n",
    "]\n",
    "\n",
    "#Cose da fare per migliorare la rete solo dopo aver fatto i primi tentativi con la rete proposta:\n",
    "# * Provare ad aggiungere Regolarizzazione es. L1,L2 e dropout(solo nella fase di encoding)\n",
    "# * Provare swish al posto di relu\n",
    "# * Provare keras.layers.BatchNormalization()\n",
    "# * Fare Hyperparameter Tuning  (ultima) www.tensorflow.org/tensorboard/hyperparameter_tuning_with_hparams\n",
    "#Salvare i risultati con ogni modifica fatta per scriverli nel report\n",
    "\n",
    "input_layer = Input(shape=(input_size,))\n",
    "hidden_1 = Dense(hidden_size, activation='relu', kernel_initializer=\"he_uniform\")(input_layer)\n",
    "#hidden_3 = Dense(hidden_size, activation='relu', kernel_initializer=\"he_uniform\")(hidden_1)\n",
    "\n",
    "code = Dense(code_size, activation='relu',kernel_initializer=\"he_uniform\")(hidden_1)\n",
    "\n",
    "hidden_2 =Dense(hidden_size, activation='relu',kernel_initializer=\"he_uniform\")(code)\n",
    "#hidden_4 =Dense(hidden_size, activation='relu',kernel_initializer=\"he_uniform\")(hidden_2)\n",
    "output_layer = Dense(input_size, activation='sigmoid')(hidden_2)\n",
    "\n",
    "autoencoder = Model(input_layer, output_layer)\n",
    "#variare learning_rate beta_1,beta_2, da fare per ultimo\n",
    "#batch_size ???\n",
    "autoencoder.compile(optimizer=tf.keras.optimizers.Adam(learning_rate=0.1), loss='binary_crossentropy',metrics=[\"accuracy\",\"Precision\",\"Recall\"])\n",
    "autoencoder.fit(x=train,y=train, epochs=5000,batch_size=5000, validation_data=(validation,validation), callbacks=my_callbacks,\n",
    "                      )\n",
    "\n",
    " #Gardare i risulati delle metriche su tensorbord                      "
   ]
  },
  {
   "cell_type": "code",
   "execution_count": 10,
   "id": "283988aa",
   "metadata": {
    "ExecuteTime": {
     "end_time": "2022-06-18T13:15:32.761190Z",
     "start_time": "2022-06-18T13:15:32.749190Z"
    }
   },
   "outputs": [],
   "source": [
    "#%tensorboard --logdir logsTf\n",
    "%load_ext tensorboard\n",
    "#Avvio da terminale: spostarsi nella cartella dove è presente la cartella di log, > tensorboard --logdir nomecartella"
   ]
  },
  {
   "cell_type": "markdown",
   "id": "d6cb3dc4",
   "metadata": {},
   "source": [
    "# Print di test"
   ]
  },
  {
   "cell_type": "code",
   "execution_count": 11,
   "id": "369df4d3",
   "metadata": {
    "ExecuteTime": {
     "end_time": "2022-06-18T13:15:32.776689Z",
     "start_time": "2022-06-18T13:15:32.763193Z"
    }
   },
   "outputs": [
    {
     "name": "stdout",
     "output_type": "stream",
     "text": [
      "[0 1 1 0 0 0 1 1 0 1 0 1 0 1 0 0 0 0 1 0 0 0 0 1 0 1 0 0 0 0 0 0 0 0 0 0 0\n",
      " 0 0 0 0 0 0 0 0 0 0 0 0 0 0 0 0 0 0 1 0 0 1 0 0 0 0 0 0 0 0 0 0 0 0 0 0 0\n",
      " 0 0 0 0 0 0 0 0 0 0 0 0 0 0 0 0 0 0 0 0 0 0 0 0 0 0 0 1 0 0 0 0 0 0 0 0 0\n",
      " 0 0 0 0 0 0 0 0 0 0 0 0 0 0 0 0 0 0 0 0 1 1 0 0 0 0 1 0 0 0 1 0 0 0 0 0 0\n",
      " 0 0 0 0 0 0 0 1 0 0 0 0 0 0 0 0 0 0 0 0 0 0 0 0 0 0 0 1 0 1 0 0 0 0 0 0 0\n",
      " 0 0 0 0 0 0 0 0 0 0 0 0 0 0 0 0 0 0 0 1 0 0 0 0 0 0 0 0 0 0 0 0 1 0 0 0 0\n",
      " 0 0 0 0 0 1 0 0 0 0 0 0 0 0 0 0 0 0 0 0 0 0 0 0 1 0 0 0 0 0 0 0 0 0 0 0 0\n",
      " 0 0 0 0 0 0 0 0 0 1 0 0 0 0 0 0 0 0 0 0 0 0 0 0 0 0 0 0 0 0 0 0 0 0 0 0 0\n",
      " 0 0 0 0 0 1 0 0 0 0 0 0 0 0 0 0 0 0 0 0 0 0 0 0 0 0 0 0 0 0 0 0 0 0 0 0 0\n",
      " 0 0 0 0 0 0 0]\n",
      "[0 0 0 1 0 0 0 0 0 0 0 0 0 1 0 0 0 0 0 0 0 0 0 0 0 0 0 0 0 0 0 0 0 0 0 0 0\n",
      " 0 0 0 0 0 0 0 0 0 0 0 0 0 0 0 1 0 0 1 0 0 0 0 0 0 0 0 0 0 0 0 0 0 0 1 0 1\n",
      " 0 0 0 0 1 0 0 0 0 0 0 0 0 0 0 0 0 0 0 0 1 0 0 0 1 0 0 0 0 0 0 1 0 0 0 0 0\n",
      " 0 0 0 0 0 0 0 0 0 0 0 0 0 0 0 1 0 0 0 0 0 0 0 1 0 0 0 0 1 0 0 0 0 0 0 0 0\n",
      " 0 0 0 0 0 1 0 0 0 0 0 0 0 0 0 1 0 0 0 0 0 0 0 0 0 0 0 0 0 0 0 0 0 0 0 0 0\n",
      " 0 0 0 0 0 0 0 0 0 0 0 0 0 0 0 0 0 0 0 0 0 0 0 0 0 0 0 0 0 0 0 0 0 0 0 0 0\n",
      " 0 0 0 0 0 0 0 0 0 0 0 0 0 0 0 0 0 0 0 0 0 1 0 1 0 0 0 0 0 0 0 0 0 0 0 0 0\n",
      " 0 0 0 0 0 0 0 0 0 0 1 0 0 0 0 0 0 0 0 0 1 0 0 0 0 0 0 0 0 0 0 0 0 0 0 0 0\n",
      " 0 0 0 0 0 0 0 0 0 0 0 0 0 0 0 0 0 0 0 0 0 0 0 0 0 0 0 0 0 0 0 0 0 0 0 0 0\n",
      " 0 0 0 0 0 0 0]\n",
      "[0 1 0 0 0 0 0 0 0 0 0 0 1 0 0 0 0 0 1 0 0 0 0 0 0 0 0 0 0 0 0 0 0 0 0 0 0\n",
      " 1 0 0 0 0 0 0 0 0 0 0 0 0 0 0 0 0 0 0 0 0 0 0 1 0 1 0 0 0 0 0 0 0 0 0 0 0\n",
      " 0 0 0 0 0 0 0 0 0 0 1 0 0 0 0 0 0 0 0 0 0 0 0 1 0 0 0 0 0 0 0 1 0 0 0 0 0\n",
      " 0 0 0 0 0 0 0 0 0 0 0 0 0 0 0 0 0 0 0 0 0 0 0 0 0 0 0 0 0 0 0 0 0 0 0 0 0\n",
      " 0 0 0 0 0 0 0 0 0 0 0 0 0 0 0 0 0 0 0 1 0 1 0 0 0 0 0 0 0 0 0 0 0 0 0 0 0\n",
      " 0 0 0 0 1 0 0 0 0 0 0 0 0 0 0 0 0 0 0 0 0 0 0 0 1 0 0 0 0 0 0 0 0 0 0 0 0\n",
      " 0 0 0 0 0 0 0 0 0 0 0 0 0 0 0 0 0 0 0 0 0 0 0 0 0 0 0 0 0 0 0 0 0 0 0 0 0\n",
      " 0 1 0 0 0 0 0 0 0 0 0 0 0 0 0 0 0 0 0 0 0 0 0 0 0 0 0 1 0 0 0 0 0 1 0 0 0\n",
      " 0 0 0 0 0 0 0 0 0 0 0 0 0 0 0 0 0 0 0 0 0 0 0 0 0 0 0 0 0 0 0 0 0 0 0 0 0\n",
      " 0 0 0 0 0 0 0]\n"
     ]
    }
   ],
   "source": [
    "print(validation[59])\n",
    "print(test[2000])\n",
    "print(train[5000])"
   ]
  },
  {
   "cell_type": "code",
   "execution_count": 12,
   "id": "68dbc7df",
   "metadata": {
    "ExecuteTime": {
     "end_time": "2022-06-18T13:15:33.334688Z",
     "start_time": "2022-06-18T13:15:32.779191Z"
    }
   },
   "outputs": [
    {
     "ename": "NameError",
     "evalue": "name 'all_states_from_plans_list' is not defined",
     "output_type": "error",
     "traceback": [
      "\u001b[1;31m---------------------------------------------------------------------------\u001b[0m",
      "\u001b[1;31mNameError\u001b[0m                                 Traceback (most recent call last)",
      "Input \u001b[1;32mIn [12]\u001b[0m, in \u001b[0;36m<cell line: 1>\u001b[1;34m()\u001b[0m\n\u001b[0;32m      1\u001b[0m \u001b[38;5;28;01mfor\u001b[39;00m i \u001b[38;5;129;01min\u001b[39;00m \u001b[38;5;28mrange\u001b[39m(\u001b[38;5;241m3\u001b[39m):\n\u001b[1;32m----> 2\u001b[0m     \u001b[38;5;28mprint\u001b[39m(\u001b[43mall_states_from_plans_list\u001b[49m[i])\n",
      "\u001b[1;31mNameError\u001b[0m: name 'all_states_from_plans_list' is not defined"
     ]
    }
   ],
   "source": [
    "for i in range(3):\n",
    "    print(all_states_from_plans_list[i])"
   ]
  },
  {
   "cell_type": "code",
   "execution_count": null,
   "id": "b662722d",
   "metadata": {
    "ExecuteTime": {
     "end_time": "2022-06-18T13:15:33.336689Z",
     "start_time": "2022-06-18T13:15:33.336689Z"
    }
   },
   "outputs": [],
   "source": [
    "print(\"********initial state *******\")\n",
    "print(len(plansLoaded[1].initial_state))\n",
    "print(\"\")\n",
    "print(plansLoaded[1].initial_state)\n",
    "\n",
    "print(\"******** states *******\")\n",
    "print(len(plansLoaded[1].states))\n",
    "print(\"\")\n",
    "print(plansLoaded[1].states)\n",
    "print(\"******* goals ********\")\n",
    "print(len(plansLoaded[1].goals))\n",
    "print(\"\")\n",
    "print(plansLoaded[1].goals)\n",
    "\n",
    "print(\"\\n\\n -------------  dict stati -----------\")\n",
    "print(len(dict_stati))\n",
    "print(\"\")\n",
    "print(dict_stati)"
   ]
  },
  {
   "cell_type": "code",
   "execution_count": null,
   "id": "944bb903",
   "metadata": {
    "ExecuteTime": {
     "end_time": "2022-06-18T13:15:33.338189Z",
     "start_time": "2022-06-18T13:15:33.338189Z"
    }
   },
   "outputs": [],
   "source": [
    "for i in range(5):\n",
    "    print(all1x340[i])"
   ]
  },
  {
   "cell_type": "code",
   "execution_count": null,
   "id": "18f079b4",
   "metadata": {},
   "outputs": [],
   "source": []
  }
 ],
 "metadata": {
  "kernelspec": {
   "display_name": "PyCharm (Deep_Learning_Autoencoder)",
   "language": "python",
   "name": "pycharm-ce22b02f"
  },
  "language_info": {
   "codemirror_mode": {
    "name": "ipython",
    "version": 3
   },
   "file_extension": ".py",
   "mimetype": "text/x-python",
   "name": "python",
   "nbconvert_exporter": "python",
   "pygments_lexer": "ipython3",
   "version": "3.9.12"
  },
  "vscode": {
   "interpreter": {
    "hash": "9acba0606d7acdc9122521c1e55edc08153e62462fdeed28528cdde632651f64"
   }
  }
 },
 "nbformat": 4,
 "nbformat_minor": 5
}
