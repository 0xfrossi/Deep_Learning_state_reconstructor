{
 "cells": [
  {
   "cell_type": "code",
   "execution_count": 1,
   "id": "8f435793",
   "metadata": {
    "ExecuteTime": {
     "end_time": "2022-06-26T08:03:33.587468Z",
     "start_time": "2022-06-26T08:03:33.569467Z"
    }
   },
   "outputs": [
    {
     "name": "stderr",
     "output_type": "stream",
     "text": [
      "c:\\Users\\Francesco\\anaconda3\\envs\\Deep\\lib\\site-packages\\tqdm\\auto.py:22: TqdmWarning: IProgress not found. Please update jupyter and ipywidgets. See https://ipywidgets.readthedocs.io/en/stable/user_install.html\n",
      "  from .autonotebook import tqdm as notebook_tqdm\n"
     ]
    }
   ],
   "source": [
    "import numpy as np\n",
    "import tensorflow as tf\n",
    "from utils_functions import *\n",
    "from plan import *\n",
    "import random\n",
    "from main import *\n",
    "\n",
    "from tensorflow.keras.layers import Dense, Input\n",
    "from tensorflow.keras.models import Model\n",
    "from tensorflow.keras.layers import LSTM\n",
    "from tensorflow.keras.layers import RepeatVector\n",
    "from tensorflow.keras.layers import TimeDistributed\n",
    "from tensorflow.keras.utils  import plot_model\n",
    "from tensorflow.keras.utils  import Sequence\n",
    "import datetime, os\n",
    "\n",
    "#from matplotlib import pyplot as plt\n",
    "import optuna\n",
    "\n"
   ]
  },
  {
   "cell_type": "code",
   "execution_count": 2,
   "id": "349ba869",
   "metadata": {
    "ExecuteTime": {
     "end_time": "2022-06-26T08:03:37.013775Z",
     "start_time": "2022-06-26T08:03:36.529984Z"
    }
   },
   "outputs": [
    {
     "name": "stdout",
     "output_type": "stream",
     "text": [
      "Num GPUs Available:  1\n",
      "[PhysicalDevice(name='/physical_device:GPU:0', device_type='GPU')]\n",
      "nome gpu:  /device:GPU:0\n"
     ]
    }
   ],
   "source": [
    "# controllo di star effettivamente usando la GPU\n",
    "\n",
    "print(\"Num GPUs Available: \", len(tf.config.list_physical_devices('GPU')))\n",
    "print(tf.config.list_physical_devices('GPU'))\n",
    "print(\"nome gpu: \",tf.test.gpu_device_name())"
   ]
  },
  {
   "cell_type": "markdown",
   "id": "4fe83a51",
   "metadata": {},
   "source": [
    "## Preparazione dati"
   ]
  },
  {
   "cell_type": "markdown",
   "id": "ee3c8c33",
   "metadata": {},
   "source": [
    "### Caricamento dataset statici"
   ]
  },
  {
   "cell_type": "markdown",
   "id": "4f54aad5",
   "metadata": {},
   "source": [
    "### AE classico"
   ]
  },
  {
   "cell_type": "code",
   "execution_count": 2,
   "id": "1a1464b1",
   "metadata": {
    "ExecuteTime": {
     "end_time": "2022-06-26T08:06:22.042811Z",
     "start_time": "2022-06-26T08:03:44.840993Z"
    },
    "pycharm": {
     "is_executing": true
    }
   },
   "outputs": [
    {
     "name": "stdout",
     "output_type": "stream",
     "text": [
      "File loaded\n",
      "File loaded\n",
      "File loaded\n"
     ]
    }
   ],
   "source": [
    "test=load_file(\"./Dataset/set_test\")\n",
    "train=load_file(\"./Dataset/set_training\")\n",
    "validation=load_file(\"./Dataset/set_validation\")\n",
    "\n",
    "test=np.array(test,dtype=np.int8)\n",
    "train=np.array(train,dtype=np.int8)\n",
    "validation=np.array(validation,dtype=np.int8)\n",
    " "
   ]
  },
  {
   "cell_type": "markdown",
   "id": "2e98aa4c",
   "metadata": {},
   "source": [
    "### AE 2 teste"
   ]
  },
  {
   "cell_type": "code",
   "execution_count": 12,
   "id": "7972469e",
   "metadata": {},
   "outputs": [
    {
     "name": "stdout",
     "output_type": "stream",
     "text": [
      "File loaded\n",
      "File loaded\n",
      "File loaded\n"
     ]
    }
   ],
   "source": [
    "test=load_file(\"./Dataset/set_test_v2\")\n",
    "train=load_file(\"./Dataset/set_training_v2\")\n",
    "validation=load_file(\"./Dataset/set_validation_v2\")\n",
    "\n",
    "\n"
   ]
  },
  {
   "cell_type": "markdown",
   "id": "a85be87a",
   "metadata": {},
   "source": [
    "## Modello"
   ]
  },
  {
   "cell_type": "markdown",
   "id": "de70fcca",
   "metadata": {},
   "source": [
    "### Optuna "
   ]
  },
  {
   "cell_type": "code",
   "execution_count": null,
   "id": "0fb83cdd",
   "metadata": {},
   "outputs": [],
   "source": [
    "def objective(trial):\n",
    "    input_dim=340\n",
    "    num_hidden1=170\n",
    "    code=34\n",
    "    ae = tf.keras.models.Sequential()\n",
    "    #tf.keras.regularizers.L2(reg)\n",
    "    #n_layers=trial.suggest_int('n_layers', 1, 3)\n",
    "    #num_hidden1 = trial.suggest_int('n_units_hidden', 68,170,1,log=True)\n",
    "    l_rate=trial.suggest_float(\"weight_decay\", 1e-7, 5e-3, log=True)\n",
    "    reg=trial.suggest_float(\"weight_decay\", 1e-10, 1e-5, log=True)\n",
    "    #code= trial.suggest_int('n_units_embedded', 4,34,1,log=True)\n",
    "\n",
    "    ae.add(Input(shape=(input_dim,)))\n",
    "    ae.add(tf.keras.layers.Dense(num_hidden1, activation='relu',kernel_initializer=\"he_uniform\",kernel_regularizer=tf.keras.regularizers.L1(reg)))     \n",
    "    #ae.add(tf.keras.layers.BatchNormalization())\n",
    "    ae.add(tf.keras.layers.Dense(code, activation='relu', kernel_initializer=\"he_uniform\",kernel_regularizer=tf.keras.regularizers.L1(reg))) \n",
    "   #ae.add(tf.keras.layers.BatchNormalization())\n",
    "    ae.add(tf.keras.layers.Dense(num_hidden1, activation='relu',kernel_initializer=\"he_uniform\",kernel_regularizer=tf.keras.regularizers.L1(reg))) \n",
    "    #ae.add(tf.keras.layers.BatchNormalization())\n",
    "    ae.add(tf.keras.layers.Dense(input_dim, activation='sigmoid',kernel_initializer=tf.keras.initializers.GlorotUniform()))\n",
    "\n",
    "    callback = [tf.keras.callbacks.EarlyStopping(patience=10)]\n",
    "    ae.compile(optimizer=tf.keras.optimizers.Adam(l_rate), loss='binary_crossentropy',metrics=[\"accuracy\",\"Precision\",\"Recall\"])\n",
    "\n",
    "\n",
    "    history=ae.fit(x=train,y=train, epochs=500,batch_size=5000, validation_data=(validation,validation),callbacks=callback)\n",
    "\n",
    "    optuna_dir= os.path.join(\"./optunaLogs/\", datetime.datetime.now().strftime(\"%Y%m%d-%H%M%S\"))\n",
    "    optuna_dir=os.path.join(optuna_dir, str(trial.number))\n",
    "    ae.save(optuna_dir)\n",
    "\n",
    "    #return history.history[\"val_precision\"][-1],history.history[\"val_recall\"][-1]\n",
    "    return history.history[\"loss\"][-1]\n",
    "\n",
    "study = optuna.create_study(direction='minimize')\n",
    "study.optimize(objective, n_trials=20, timeout=None, gc_after_trial=True)\n",
    "\n",
    "print(\"Number of finished trials: \", len(study.trials))\n",
    "\n",
    "print(\"Best trial:\")\n",
    "trial = study.best_trial\n",
    "\n",
    "print(\"  Value: \", trial.value)\n",
    "\n",
    "print(\"  Params: \")\n",
    "for key, value in trial.params.items():\n",
    "    print(\"    {}: {}\".format(key, value))\n",
    "\n"
   ]
  },
  {
   "cell_type": "markdown",
   "id": "53b1d0ef",
   "metadata": {},
   "source": [
    "### AutoEncoder Base"
   ]
  },
  {
   "cell_type": "code",
   "execution_count": null,
   "id": "00dc9c18",
   "metadata": {
    "ExecuteTime": {
     "end_time": "2022-06-26T08:11:53.310423Z",
     "start_time": "2022-06-26T08:07:25.658869Z"
    },
    "scrolled": false
   },
   "outputs": [],
   "source": [
    "\n",
    "logdir = os.path.join(\"./TestLogs/\", datetime.datetime.now().strftime(\"%Y%m%d-%H%M%S\"))\n",
    "my_callbacks = [\n",
    "    tf.keras.callbacks.EarlyStopping(patience=10),\n",
    "    tf.keras.callbacks.TensorBoard(log_dir=logdir,histogram_freq=1, write_graph=True, write_images=True)\n",
    "\n",
    "]\n",
    "\n",
    "\n",
    "\n",
    "#PARAM:\n",
    "#tf.keras.regularizers.L1(l1=1e-4)\n",
    "param={\"INPUT_SIZE\" : 340,\n",
    "\"HIDDEN_SIZE\" : 170,\n",
    "\"HIDDEN_SIZE2\" : None,\n",
    "\"HIDDEN_SIZE3\" : None,\n",
    "\"CODE_SIZE\" : 34,\n",
    "\"KERNEL_INIZIALIZER\":\"he_uniform\",\n",
    "\"KERNEL_REGULIZER\":tf.keras.regularizers.L2(l2=1e-6),\n",
    "'BIAS_REGULARIZER': None,\n",
    "\"ACTIVATION\":'relu',\n",
    "\"OPTIMIZER\":tf.keras.optimizers.Adam(learning_rate=0.0002),\n",
    "\"EPOCHS\":3000,\n",
    "\"BATCH_SIZE\":5000,\n",
    "\"BATCH_NORMAIZATION\": 0\n",
    "}\n",
    "\n",
    "autoencoder=tf.keras.models.Sequential()\n",
    "\n",
    "autoencoder.add(Input(shape=(param[\"INPUT_SIZE\"],)))\n",
    "\n",
    "autoencoder.add( Dense(param[\"HIDDEN_SIZE\"], activation=param[\"ACTIVATION\"], kernel_initializer=param[\"KERNEL_INIZIALIZER\"],kernel_regularizer=param[\"KERNEL_REGULIZER\"], bias_regularizer=param[\"BIAS_REGULARIZER\"] ))\n",
    "\n",
    "autoencoder.add(Dense(param[\"CODE_SIZE\"], activation=param[\"ACTIVATION\"],kernel_initializer=param[\"KERNEL_INIZIALIZER\"],kernel_regularizer=param[\"KERNEL_REGULIZER\"],bias_regularizer=param[\"BIAS_REGULARIZER\"],name=\"code\"))\n",
    "\n",
    "autoencoder.add(Dense(param[\"HIDDEN_SIZE\"], activation=param[\"ACTIVATION\"], kernel_initializer=param[\"KERNEL_INIZIALIZER\"],kernel_regularizer=param[\"KERNEL_REGULIZER\"], bias_regularizer=param[\"BIAS_REGULARIZER\"] ))\n",
    "\n",
    "autoencoder.add( Dense(param[\"INPUT_SIZE\"], activation='sigmoid'))\n",
    "\n",
    "\n",
    "#variare learning_rate beta_1,beta_2, da fare per ultimo\n",
    "#batch_size ???\n",
    "autoencoder.compile(optimizer=param[\"OPTIMIZER\"], loss='binary_crossentropy',metrics=[\"accuracy\",\"Precision\",\"Recall\"])\n",
    "history=autoencoder.fit(x=train,y=train, epochs=param[\"EPOCHS\"],batch_size=param[\"BATCH_SIZE\"], validation_data=(validation,validation), \n",
    "                        callbacks=my_callbacks)\n",
    "\n",
    " #Gardare i risulati delle metriche su tensorbord                      "
   ]
  },
  {
   "cell_type": "markdown",
   "id": "b446f9c4",
   "metadata": {},
   "source": [
    "### Autoencoder LSTM, 2 teste"
   ]
  },
  {
   "cell_type": "code",
   "execution_count": null,
   "id": "6d7db44b",
   "metadata": {},
   "outputs": [],
   "source": [
    "dim_vett=340\n",
    "n_vett=00\n",
    "# encoder\n",
    "input_layer = Input(shape=(n_vett,dim_vett))\n",
    "encoder = LSTM(100, )(input_layer)\n",
    "# reconstruct decoder\n",
    "decoder1 = RepeatVector(n_in)(encoder)\n",
    "decoder1 = LSTM(100,  return_sequences=True)(decoder1)\n",
    "decoder1 = TimeDistributed(Dense(1))(decoder1)\n",
    "# predict decoder\n",
    "decoder2 = RepeatVector(n_out)(encoder)\n",
    "decoder2 = LSTM(100,  return_sequences=True)(decoder2)\n",
    "decoder2 = TimeDistributed(Dense(n_input,activation=\"\"))(decoder2)\n",
    "# tie it together\n",
    "model = Model(inputs=input_layer, outputs=[decoder1, decoder2])\n",
    "model.compile(optimizer='adam', loss='binary_crossentropy',metrics=[\"accuracy\",\"Precision\",\"Recall\"])"
   ]
  },
  {
   "cell_type": "markdown",
   "id": "d078a2f1",
   "metadata": {},
   "source": [
    "### Print and Test ae"
   ]
  },
  {
   "cell_type": "code",
   "execution_count": 39,
   "id": "67006c5c",
   "metadata": {},
   "outputs": [
    {
     "data": {
      "image/png": "[encoded data removed]",
      "text/plain": [
       "<Figure size 432x288 with 1 Axes>"
      ]
     },
     "metadata": {
      "needs_background": "light"
     },
     "output_type": "display_data"
    },
    {
     "data": {
      "image/png": "[encoded data removed]",
      "text/plain": [
       "<Figure size 432x288 with 1 Axes>"
      ]
     },
     "metadata": {
      "needs_background": "light"
     },
     "output_type": "display_data"
    },
    {
     "data": {
      "image/png": "[encoded data removed]",
      "text/plain": [
       "<Figure size 432x288 with 1 Axes>"
      ]
     },
     "metadata": {
      "needs_background": "light"
     },
     "output_type": "display_data"
    },
    {
     "data": {
      "image/png": "[encoded data removed]",
      "text/plain": [
       "<Figure size 432x288 with 1 Axes>"
      ]
     },
     "metadata": {
      "needs_background": "light"
     },
     "output_type": "display_data"
    }
   ],
   "source": [
    "\n",
    "plt.plot(history.history['loss'], label='train')\n",
    "plt.plot(history.history['val_loss'], label='validation')\n",
    "plt.legend()\n",
    "plt.title(\"Loss\")\n",
    "plt.show()\n",
    "    \n",
    "plt.plot(history.history['accuracy'], label='train')\n",
    "plt.plot(history.history['val_accuracy'], label='validation')\n",
    "plt.legend()\n",
    "plt.title(\"Accuracy\")\n",
    "plt.show()\n",
    "\n",
    "plt.plot(history.history['precision'], label='train')\n",
    "plt.plot(history.history['val_precision'], label='validation')\n",
    "plt.legend()\n",
    "plt.title(\"Precision\")\n",
    "plt.show()\n",
    "\n",
    "plt.plot(history.history['recall'], label='train')\n",
    "plt.plot(history.history['val_recall'], label='validation')\n",
    "plt.legend()\n",
    "plt.title(\"Recall\")\n",
    "plt.show()\n",
    "\n",
    "\n"
   ]
  },
  {
   "cell_type": "code",
   "execution_count": 10,
   "id": "f6ff3f12",
   "metadata": {},
   "outputs": [
    {
     "name": "stdout",
     "output_type": "stream",
     "text": [
      "7211/7211 [==============================] - 10s 1ms/step\n"
     ]
    }
   ],
   "source": [
    "#val_predictions = autoencoder.predict(validation)\n",
    "test_predictions = autoencoder.predict(test)"
   ]
  },
  {
   "cell_type": "code",
   "execution_count": 20,
   "id": "5ead6a39",
   "metadata": {},
   "outputs": [
    {
     "name": "stdout",
     "output_type": "stream",
     "text": [
      "[0 1 1 0 0 0 0 0 0 0 1 0 0 0 0 0 0 0 0 0 0 0 0 0 0 1 0 0 0 0 0 0 0 1 0 0 0\n",
      " 0 0 0 0 0 0 0 0 0 0 0 0 0 0 0 0 0 0 0 0 0 0 0 0 0 0 0 0 0 1 0 0 0 0 0 0 0\n",
      " 0 0 0 0 0 0 0 0 0 0 0 1 0 0 0 0 0 0 0 0 0 0 0 0 0 0 0 0 0 0 0 0 0 0 0 0 0\n",
      " 0 0 0 0 0 0 1 0 0 0 0 0 0 0 0 0 0 0 0 0 0 1 0 0 0 0 0 0 0 0 0 0 0 0 0 0 0\n",
      " 0 0 0 0 0 0 0 0 0 0 0 0 0 0 0 0 0 0 0 0 1 0 0 0 0 0 0 0 0 0 0 1 0 1 0 0 0\n",
      " 0 0 0 0 0 0 0 0 0 0 0 0 0 0 0 0 0 0 0 0 0 0 0 0 0 0 0 0 0 0 0 0 0 0 0 0 0\n",
      " 0 0 0 0 0 0 1 0 0 0 0 0 1 1 1 0 0 0 0 0 0 0 0 0 1 0 0 0 0 0 0 0 0 0 0 0 0\n",
      " 0 0 0 0 0 0 0 0 0 0 0 0 0 0 0 0 0 0 0 0 0 0 0 0 0 0 0 0 0 0 0 0 0 0 0 0 0\n",
      " 1 0 0 0 0 0 0 0 0 0 0 0 0 0 0 0 0 0 0 0 0 0 0 0 0 0 0 0 0 0 0 0 0 0 0 0 0\n",
      " 0 0 0 0 0 0 0]\n",
      "[0. 1. 1. 0. 0. 0. 0. 0. 0. 0. 1. 0. 0. 0. 0. 0. 0. 0. 0. 0. 0. 0. 0. 0.\n",
      " 0. 1. 0. 0. 0. 0. 0. 0. 0. 1. 0. 0. 0. 0. 0. 0. 0. 0. 0. 0. 0. 0. 0. 0.\n",
      " 0. 0. 0. 0. 0. 0. 0. 0. 0. 0. 0. 0. 0. 0. 0. 0. 0. 0. 1. 0. 0. 0. 0. 0.\n",
      " 0. 0. 0. 0. 0. 0. 0. 0. 0. 0. 0. 0. 0. 1. 0. 0. 0. 0. 0. 0. 0. 0. 0. 0.\n",
      " 0. 0. 0. 0. 0. 0. 0. 0. 0. 0. 0. 0. 0. 0. 0. 0. 0. 0. 0. 0. 0. 1. 0. 0.\n",
      " 0. 0. 0. 0. 0. 0. 0. 0. 0. 0. 0. 0. 1. 0. 0. 0. 0. 0. 0. 0. 0. 0. 0. 0.\n",
      " 0. 0. 0. 0. 0. 0. 0. 0. 0. 0. 0. 0. 0. 0. 0. 0. 0. 0. 0. 0. 0. 0. 0. 0.\n",
      " 1. 0. 0. 0. 0. 0. 0. 0. 0. 0. 0. 1. 0. 1. 0. 0. 0. 0. 0. 0. 0. 0. 0. 0.\n",
      " 0. 0. 0. 0. 0. 0. 0. 0. 0. 0. 0. 0. 0. 0. 0. 0. 0. 0. 0. 0. 0. 0. 0. 0.\n",
      " 0. 0. 0. 0. 0. 0. 0. 0. 0. 0. 0. 0. 1. 0. 0. 0. 0. 0. 1. 1. 1. 0. 0. 0.\n",
      " 0. 0. 0. 0. 0. 0. 1. 0. 0. 0. 0. 0. 0. 0. 0. 0. 0. 0. 0. 0. 0. 0. 0. 0.\n",
      " 0. 0. 0. 0. 0. 0. 0. 0. 0. 0. 0. 0. 0. 0. 0. 0. 0. 0. 0. 0. 0. 0. 0. 0.\n",
      " 0. 0. 0. 0. 0. 0. 0. 0. 1. 0. 0. 0. 0. 0. 0. 0. 0. 0. 0. 0. 0. 0. 0. 0.\n",
      " 0. 0. 0. 0. 0. 0. 0. 0. 0. 0. 0. 0. 0. 0. 0. 0. 0. 0. 0. 0. 0. 0. 0. 0.\n",
      " 0. 0. 0. 0.]\n"
     ]
    }
   ],
   "source": [
    "print(test[10000])\n",
    "print(np.round(test_predictions[10000]))"
   ]
  },
  {
   "cell_type": "code",
   "execution_count": null,
   "id": "5ee7abf9",
   "metadata": {},
   "outputs": [],
   "source": [
    "arr=results_info(test,test_predictions,logdir) "
   ]
  },
  {
   "cell_type": "markdown",
   "id": "9867a957",
   "metadata": {},
   "source": [
    "Salva modello"
   ]
  },
  {
   "cell_type": "code",
   "execution_count": 17,
   "id": "74cdfa98",
   "metadata": {},
   "outputs": [
    {
     "name": "stdout",
     "output_type": "stream",
     "text": [
      "INFO:tensorflow:Assets written to: ./TestLogs/20220625-123155\\myModel\\assets\n"
     ]
    }
   ],
   "source": [
    "#Se i risultati sono buoni salva il modello in modo che possa essere riusato\n",
    "\n",
    "dir_model= os.path.join(logdir,\"myModel\")\n",
    "autoencoder.save(dir_model)\n",
    "\n",
    "autoencoder.summary()"
   ]
  },
  {
   "cell_type": "markdown",
   "id": "8a1ab4ce",
   "metadata": {},
   "source": [
    "Carica modello"
   ]
  },
  {
   "cell_type": "code",
   "execution_count": 15,
   "id": "c8127b9e",
   "metadata": {},
   "outputs": [],
   "source": [
    "#CARICA AUTOENCODER SALVATO\n",
    "\n",
    "PATH_TO_LOAD=\"./TestLogs/20220625-123155/myModel\"\n",
    "autoencoder = tf.keras.models.load_model(PATH_TO_LOAD)"
   ]
  },
  {
   "cell_type": "code",
   "execution_count": 10,
   "id": "283988aa",
   "metadata": {
    "ExecuteTime": {
     "end_time": "2022-06-18T13:15:32.761190Z",
     "start_time": "2022-06-18T13:15:32.749190Z"
    }
   },
   "outputs": [],
   "source": [
    "#%tensorboard --logdir logsTf\n",
    "%load_ext tensorboard\n",
    "#Avvio da terminale: spostarsi nella cartella dove è presente la cartella di log, > tensorboard --logdir nomecartella"
   ]
  }
 ],
 "metadata": {
  "kernelspec": {
   "display_name": "Python 3.9.12 ('Deep')",
   "language": "python",
   "name": "python3"
  },
  "language_info": {
   "codemirror_mode": {
    "name": "ipython",
    "version": 3
   },
   "file_extension": ".py",
   "mimetype": "text/x-python",
   "name": "python",
   "nbconvert_exporter": "python",
   "pygments_lexer": "ipython3",
   "version": "3.9.12"
  },
  "vscode": {
   "interpreter": {
    "hash": "75241482a63b0cc21089a7e9630ce9a4e49832f95eea58b3d1ce72ab9c72cd52"
   }
  }
 },
 "nbformat": 4,
 "nbformat_minor": 5
}
