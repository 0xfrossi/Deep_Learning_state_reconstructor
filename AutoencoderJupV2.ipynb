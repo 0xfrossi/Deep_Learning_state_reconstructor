{
 "cells": [
  {
   "cell_type": "code",
   "execution_count": 4,
   "id": "8f435793",
   "metadata": {
    "ExecuteTime": {
     "end_time": "2022-06-26T08:03:33.587468Z",
     "start_time": "2022-06-26T08:03:33.569467Z"
    }
   },
   "outputs": [],
   "source": [
    "import numpy as np\n",
    "import tensorflow as tf\n",
    "from utils_functions import *\n",
    "from plan import *\n",
    "import random\n",
    "from main import *\n",
    "from tensorflow.keras.layers import Dense, Input\n",
    "from tensorflow.keras.models import Model\n",
    "import datetime, os\n",
    "from matplotlib import pyplot as plt\n",
    "from tensorboard.plugins.hparams import api as hp\n",
    "\n"
   ]
  },
  {
   "cell_type": "code",
   "execution_count": 5,
   "id": "349ba869",
   "metadata": {
    "ExecuteTime": {
     "end_time": "2022-06-26T08:03:37.013775Z",
     "start_time": "2022-06-26T08:03:36.529984Z"
    }
   },
   "outputs": [
    {
     "name": "stdout",
     "output_type": "stream",
     "text": [
      "Num GPUs Available:  1\n",
      "[PhysicalDevice(name='/physical_device:GPU:0', device_type='GPU')]\n",
      "nome gpu:  /device:GPU:0\n"
     ]
    }
   ],
   "source": [
    "# controllo di star effettivamente usando la GPU\n",
    "\n",
    "print(\"Num GPUs Available: \", len(tf.config.list_physical_devices('GPU')))\n",
    "print(tf.config.list_physical_devices('GPU'))\n",
    "print(\"nome gpu: \",tf.test.gpu_device_name())"
   ]
  },
  {
   "cell_type": "markdown",
   "id": "4fe83a51",
   "metadata": {},
   "source": [
    "## Preparazione dati"
   ]
  },
  {
   "cell_type": "markdown",
   "id": "ee3c8c33",
   "metadata": {},
   "source": [
    "### Caricamento dataset statici"
   ]
  },
  {
   "cell_type": "code",
   "execution_count": 6,
   "id": "1a1464b1",
   "metadata": {
    "ExecuteTime": {
     "end_time": "2022-06-26T08:06:22.042811Z",
     "start_time": "2022-06-26T08:03:44.840993Z"
    },
    "pycharm": {
     "is_executing": true
    }
   },
   "outputs": [
    {
     "name": "stdout",
     "output_type": "stream",
     "text": [
      "File loaded\n",
      "File loaded\n",
      "File loaded\n"
     ]
    }
   ],
   "source": [
    "test=load_file(\"./Dataset/set_test\")\n",
    "train=load_file(\"./Dataset/set_training\")\n",
    "validation=load_file(\"./Dataset/set_validation\")\n",
    " "
   ]
  },
  {
   "cell_type": "code",
   "execution_count": 7,
   "id": "2eda145f",
   "metadata": {
    "ExecuteTime": {
     "end_time": "2022-06-26T08:07:25.657368Z",
     "start_time": "2022-06-26T08:06:22.044810Z"
    }
   },
   "outputs": [],
   "source": [
    "test=np.array(test,dtype=np.int8)\n",
    "train=np.array(train,dtype=np.int8)\n",
    "validation=np.array(validation,dtype=np.int8)"
   ]
  },
  {
   "cell_type": "markdown",
   "id": "a85be87a",
   "metadata": {},
   "source": [
    "## Modello"
   ]
  },
  {
   "cell_type": "code",
   "execution_count": 8,
   "id": "00dc9c18",
   "metadata": {
    "ExecuteTime": {
     "end_time": "2022-06-26T08:11:53.310423Z",
     "start_time": "2022-06-26T08:07:25.658869Z"
    },
    "scrolled": false
   },
   "outputs": [
    {
     "name": "stdout",
     "output_type": "stream",
     "text": [
      "Epoch 1/1000\n",
      "132/132 [==============================] - 5s 17ms/step - loss: 0.4213 - accuracy: 0.0996 - precision: 0.1479 - recall: 0.5314 - val_loss: 0.1374 - val_accuracy: 0.2100 - val_precision: 0.9838 - val_recall: 0.2113\n",
      "Epoch 2/1000\n",
      "132/132 [==============================] - 1s 10ms/step - loss: 0.0846 - accuracy: 0.1735 - precision: 0.9682 - recall: 0.5745 - val_loss: 0.1585 - val_accuracy: 0.1742 - val_precision: 0.5549 - val_recall: 0.4180\n",
      "Epoch 3/1000\n",
      "132/132 [==============================] - 1s 10ms/step - loss: 0.0411 - accuracy: 0.1479 - precision: 0.9902 - recall: 0.7935 - val_loss: 0.0788 - val_accuracy: 0.1781 - val_precision: 0.8376 - val_recall: 0.6400\n",
      "Epoch 4/1000\n",
      "132/132 [==============================] - 2s 12ms/step - loss: 0.0265 - accuracy: 0.1368 - precision: 0.9902 - recall: 0.8850 - val_loss: 0.0315 - val_accuracy: 0.1706 - val_precision: 0.9814 - val_recall: 0.8311\n",
      "Epoch 5/1000\n",
      "132/132 [==============================] - 2s 12ms/step - loss: 0.0191 - accuracy: 0.1301 - precision: 0.9909 - recall: 0.9255 - val_loss: 0.0185 - val_accuracy: 0.1505 - val_precision: 0.9909 - val_recall: 0.9173\n",
      "Epoch 6/1000\n",
      "132/132 [==============================] - 1s 10ms/step - loss: 0.0148 - accuracy: 0.1268 - precision: 0.9916 - recall: 0.9456 - val_loss: 0.0137 - val_accuracy: 0.1417 - val_precision: 0.9908 - val_recall: 0.9478\n",
      "Epoch 7/1000\n",
      "132/132 [==============================] - 1s 11ms/step - loss: 0.0119 - accuracy: 0.1260 - precision: 0.9921 - recall: 0.9572 - val_loss: 0.0110 - val_accuracy: 0.1421 - val_precision: 0.9910 - val_recall: 0.9613\n",
      "Epoch 8/1000\n",
      "132/132 [==============================] - 1s 11ms/step - loss: 0.0100 - accuracy: 0.1274 - precision: 0.9925 - recall: 0.9647 - val_loss: 0.0093 - val_accuracy: 0.1375 - val_precision: 0.9907 - val_recall: 0.9692\n",
      "Epoch 9/1000\n",
      "132/132 [==============================] - 1s 11ms/step - loss: 0.0086 - accuracy: 0.1289 - precision: 0.9930 - recall: 0.9699 - val_loss: 0.0080 - val_accuracy: 0.1451 - val_precision: 0.9919 - val_recall: 0.9725\n",
      "Epoch 10/1000\n",
      "132/132 [==============================] - 1s 11ms/step - loss: 0.0075 - accuracy: 0.1295 - precision: 0.9934 - recall: 0.9739 - val_loss: 0.0071 - val_accuracy: 0.1381 - val_precision: 0.9920 - val_recall: 0.9769\n",
      "Epoch 11/1000\n",
      "132/132 [==============================] - 1s 10ms/step - loss: 0.0066 - accuracy: 0.1312 - precision: 0.9938 - recall: 0.9770 - val_loss: 0.0063 - val_accuracy: 0.1375 - val_precision: 0.9918 - val_recall: 0.9804\n",
      "Epoch 12/1000\n",
      "132/132 [==============================] - 1s 10ms/step - loss: 0.0059 - accuracy: 0.1327 - precision: 0.9941 - recall: 0.9796 - val_loss: 0.0057 - val_accuracy: 0.1471 - val_precision: 0.9925 - val_recall: 0.9821\n",
      "Epoch 13/1000\n",
      "132/132 [==============================] - 1s 11ms/step - loss: 0.0054 - accuracy: 0.1342 - precision: 0.9943 - recall: 0.9817 - val_loss: 0.0052 - val_accuracy: 0.1448 - val_precision: 0.9926 - val_recall: 0.9841\n",
      "Epoch 14/1000\n",
      "132/132 [==============================] - 1s 11ms/step - loss: 0.0049 - accuracy: 0.1358 - precision: 0.9946 - recall: 0.9834 - val_loss: 0.0047 - val_accuracy: 0.1481 - val_precision: 0.9928 - val_recall: 0.9858\n",
      "Epoch 15/1000\n",
      "132/132 [==============================] - 1s 11ms/step - loss: 0.0045 - accuracy: 0.1374 - precision: 0.9948 - recall: 0.9849 - val_loss: 0.0043 - val_accuracy: 0.1479 - val_precision: 0.9934 - val_recall: 0.9867\n",
      "Epoch 16/1000\n",
      "132/132 [==============================] - 1s 11ms/step - loss: 0.0041 - accuracy: 0.1394 - precision: 0.9949 - recall: 0.9861 - val_loss: 0.0041 - val_accuracy: 0.1510 - val_precision: 0.9931 - val_recall: 0.9883\n",
      "Epoch 17/1000\n",
      "132/132 [==============================] - 2s 12ms/step - loss: 0.0038 - accuracy: 0.1415 - precision: 0.9951 - recall: 0.9872 - val_loss: 0.0038 - val_accuracy: 0.1548 - val_precision: 0.9928 - val_recall: 0.9894\n",
      "Epoch 18/1000\n",
      "132/132 [==============================] - 1s 11ms/step - loss: 0.0036 - accuracy: 0.1438 - precision: 0.9952 - recall: 0.9881 - val_loss: 0.0036 - val_accuracy: 0.1567 - val_precision: 0.9935 - val_recall: 0.9899\n",
      "Epoch 19/1000\n",
      "132/132 [==============================] - 1s 10ms/step - loss: 0.0034 - accuracy: 0.1459 - precision: 0.9954 - recall: 0.9888 - val_loss: 0.0033 - val_accuracy: 0.1620 - val_precision: 0.9942 - val_recall: 0.9901\n",
      "Epoch 20/1000\n",
      "132/132 [==============================] - 1s 10ms/step - loss: 0.0032 - accuracy: 0.1489 - precision: 0.9955 - recall: 0.9895 - val_loss: 0.0031 - val_accuracy: 0.1619 - val_precision: 0.9941 - val_recall: 0.9909\n",
      "Epoch 21/1000\n",
      "132/132 [==============================] - 1s 10ms/step - loss: 0.0030 - accuracy: 0.1519 - precision: 0.9957 - recall: 0.9901 - val_loss: 0.0030 - val_accuracy: 0.1577 - val_precision: 0.9942 - val_recall: 0.9915\n",
      "Epoch 22/1000\n",
      "132/132 [==============================] - 1s 10ms/step - loss: 0.0028 - accuracy: 0.1551 - precision: 0.9958 - recall: 0.9907 - val_loss: 0.0028 - val_accuracy: 0.1661 - val_precision: 0.9944 - val_recall: 0.9917\n",
      "Epoch 23/1000\n",
      "132/132 [==============================] - 1s 10ms/step - loss: 0.0027 - accuracy: 0.1583 - precision: 0.9959 - recall: 0.9911 - val_loss: 0.0027 - val_accuracy: 0.1648 - val_precision: 0.9939 - val_recall: 0.9927\n",
      "Epoch 24/1000\n",
      "132/132 [==============================] - 1s 10ms/step - loss: 0.0026 - accuracy: 0.1621 - precision: 0.9960 - recall: 0.9916 - val_loss: 0.0026 - val_accuracy: 0.1710 - val_precision: 0.9943 - val_recall: 0.9930\n",
      "Epoch 25/1000\n",
      "132/132 [==============================] - 1s 10ms/step - loss: 0.0024 - accuracy: 0.1678 - precision: 0.9962 - recall: 0.9920 - val_loss: 0.0025 - val_accuracy: 0.1779 - val_precision: 0.9944 - val_recall: 0.9934\n",
      "Epoch 26/1000\n",
      "132/132 [==============================] - 1s 10ms/step - loss: 0.0023 - accuracy: 0.1714 - precision: 0.9963 - recall: 0.9925 - val_loss: 0.0024 - val_accuracy: 0.1821 - val_precision: 0.9944 - val_recall: 0.9939\n",
      "Epoch 27/1000\n",
      "132/132 [==============================] - 1s 10ms/step - loss: 0.0022 - accuracy: 0.1785 - precision: 0.9964 - recall: 0.9929 - val_loss: 0.0022 - val_accuracy: 0.1843 - val_precision: 0.9950 - val_recall: 0.9939\n",
      "Epoch 28/1000\n",
      "132/132 [==============================] - 1s 10ms/step - loss: 0.0021 - accuracy: 0.1818 - precision: 0.9965 - recall: 0.9932 - val_loss: 0.0022 - val_accuracy: 0.1935 - val_precision: 0.9950 - val_recall: 0.9943\n",
      "Epoch 29/1000\n",
      "132/132 [==============================] - 1s 10ms/step - loss: 0.0020 - accuracy: 0.1869 - precision: 0.9966 - recall: 0.9935 - val_loss: 0.0021 - val_accuracy: 0.1916 - val_precision: 0.9953 - val_recall: 0.9945\n",
      "Epoch 30/1000\n",
      "132/132 [==============================] - 1s 10ms/step - loss: 0.0019 - accuracy: 0.1920 - precision: 0.9967 - recall: 0.9938 - val_loss: 0.0020 - val_accuracy: 0.1978 - val_precision: 0.9959 - val_recall: 0.9943\n",
      "Epoch 31/1000\n",
      "132/132 [==============================] - 1s 10ms/step - loss: 0.0019 - accuracy: 0.1965 - precision: 0.9968 - recall: 0.9940 - val_loss: 0.0019 - val_accuracy: 0.2131 - val_precision: 0.9954 - val_recall: 0.9951\n",
      "Epoch 32/1000\n",
      "132/132 [==============================] - 1s 10ms/step - loss: 0.0018 - accuracy: 0.2016 - precision: 0.9969 - recall: 0.9943 - val_loss: 0.0018 - val_accuracy: 0.2063 - val_precision: 0.9960 - val_recall: 0.9950\n",
      "Epoch 33/1000\n",
      "132/132 [==============================] - 1s 10ms/step - loss: 0.0017 - accuracy: 0.2060 - precision: 0.9970 - recall: 0.9946 - val_loss: 0.0018 - val_accuracy: 0.2134 - val_precision: 0.9958 - val_recall: 0.9954\n",
      "Epoch 34/1000\n",
      "132/132 [==============================] - 1s 10ms/step - loss: 0.0016 - accuracy: 0.2112 - precision: 0.9972 - recall: 0.9948 - val_loss: 0.0017 - val_accuracy: 0.2237 - val_precision: 0.9965 - val_recall: 0.9952\n",
      "Epoch 35/1000\n",
      "132/132 [==============================] - 1s 10ms/step - loss: 0.0016 - accuracy: 0.2151 - precision: 0.9973 - recall: 0.9950 - val_loss: 0.0016 - val_accuracy: 0.2233 - val_precision: 0.9962 - val_recall: 0.9957\n",
      "Epoch 36/1000\n",
      "132/132 [==============================] - 1s 10ms/step - loss: 0.0015 - accuracy: 0.2198 - precision: 0.9974 - recall: 0.9953 - val_loss: 0.0015 - val_accuracy: 0.2272 - val_precision: 0.9972 - val_recall: 0.9952\n"
     ]
    },
    {
     "name": "stdout",
     "output_type": "stream",
     "text": [
      "Epoch 37/1000\n",
      "132/132 [==============================] - 1s 11ms/step - loss: 0.0014 - accuracy: 0.2238 - precision: 0.9975 - recall: 0.9955 - val_loss: 0.0015 - val_accuracy: 0.2471 - val_precision: 0.9963 - val_recall: 0.9963\n",
      "Epoch 38/1000\n",
      "132/132 [==============================] - 1s 10ms/step - loss: 0.0014 - accuracy: 0.2282 - precision: 0.9976 - recall: 0.9957 - val_loss: 0.0014 - val_accuracy: 0.2493 - val_precision: 0.9969 - val_recall: 0.9962\n",
      "Epoch 39/1000\n",
      "132/132 [==============================] - 1s 10ms/step - loss: 0.0013 - accuracy: 0.2324 - precision: 0.9977 - recall: 0.9959 - val_loss: 0.0013 - val_accuracy: 0.2485 - val_precision: 0.9969 - val_recall: 0.9965\n",
      "Epoch 40/1000\n",
      "132/132 [==============================] - 1s 11ms/step - loss: 0.0013 - accuracy: 0.2379 - precision: 0.9978 - recall: 0.9961 - val_loss: 0.0013 - val_accuracy: 0.2572 - val_precision: 0.9972 - val_recall: 0.9964\n",
      "Epoch 41/1000\n",
      "132/132 [==============================] - 1s 11ms/step - loss: 0.0012 - accuracy: 0.2444 - precision: 0.9979 - recall: 0.9963 - val_loss: 0.0012 - val_accuracy: 0.2582 - val_precision: 0.9972 - val_recall: 0.9967\n",
      "Epoch 42/1000\n",
      "132/132 [==============================] - 1s 10ms/step - loss: 0.0012 - accuracy: 0.2503 - precision: 0.9980 - recall: 0.9964 - val_loss: 0.0012 - val_accuracy: 0.2669 - val_precision: 0.9972 - val_recall: 0.9969\n",
      "Epoch 43/1000\n",
      "132/132 [==============================] - 1s 10ms/step - loss: 0.0011 - accuracy: 0.2561 - precision: 0.9981 - recall: 0.9966 - val_loss: 0.0011 - val_accuracy: 0.2734 - val_precision: 0.9974 - val_recall: 0.9969\n",
      "Epoch 44/1000\n",
      "132/132 [==============================] - 1s 10ms/step - loss: 0.0011 - accuracy: 0.2616 - precision: 0.9982 - recall: 0.9967 - val_loss: 0.0011 - val_accuracy: 0.2870 - val_precision: 0.9976 - val_recall: 0.9970\n",
      "Epoch 45/1000\n",
      "132/132 [==============================] - 1s 10ms/step - loss: 0.0010 - accuracy: 0.2688 - precision: 0.9982 - recall: 0.9969 - val_loss: 0.0011 - val_accuracy: 0.2789 - val_precision: 0.9979 - val_recall: 0.9969\n",
      "Epoch 46/1000\n",
      "132/132 [==============================] - 1s 10ms/step - loss: 9.8646e-04 - accuracy: 0.2752 - precision: 0.9983 - recall: 0.9970 - val_loss: 9.9842e-04 - val_accuracy: 0.2971 - val_precision: 0.9982 - val_recall: 0.9970\n",
      "Epoch 47/1000\n",
      "132/132 [==============================] - 1s 10ms/step - loss: 9.4694e-04 - accuracy: 0.2807 - precision: 0.9984 - recall: 0.9971 - val_loss: 9.6323e-04 - val_accuracy: 0.3087 - val_precision: 0.9983 - val_recall: 0.9970\n",
      "Epoch 48/1000\n",
      "132/132 [==============================] - 1s 10ms/step - loss: 9.0654e-04 - accuracy: 0.2857 - precision: 0.9985 - recall: 0.9973 - val_loss: 9.2523e-04 - val_accuracy: 0.3067 - val_precision: 0.9985 - val_recall: 0.9971\n",
      "Epoch 49/1000\n",
      "132/132 [==============================] - 2s 11ms/step - loss: 8.6734e-04 - accuracy: 0.2909 - precision: 0.9986 - recall: 0.9974 - val_loss: 8.9043e-04 - val_accuracy: 0.3023 - val_precision: 0.9983 - val_recall: 0.9975\n",
      "Epoch 50/1000\n",
      "132/132 [==============================] - 1s 11ms/step - loss: 8.2755e-04 - accuracy: 0.2942 - precision: 0.9986 - recall: 0.9976 - val_loss: 8.4992e-04 - val_accuracy: 0.3236 - val_precision: 0.9982 - val_recall: 0.9978\n",
      "Epoch 51/1000\n",
      "132/132 [==============================] - 1s 10ms/step - loss: 7.9126e-04 - accuracy: 0.3000 - precision: 0.9987 - recall: 0.9977 - val_loss: 8.2714e-04 - val_accuracy: 0.3228 - val_precision: 0.9981 - val_recall: 0.9979\n",
      "Epoch 52/1000\n",
      "132/132 [==============================] - 1s 10ms/step - loss: 7.5653e-04 - accuracy: 0.3026 - precision: 0.9988 - recall: 0.9978 - val_loss: 8.0709e-04 - val_accuracy: 0.3312 - val_precision: 0.9981 - val_recall: 0.9980\n",
      "Epoch 53/1000\n",
      "132/132 [==============================] - 1s 10ms/step - loss: 7.2579e-04 - accuracy: 0.3099 - precision: 0.9988 - recall: 0.9979 - val_loss: 7.4625e-04 - val_accuracy: 0.3255 - val_precision: 0.9987 - val_recall: 0.9978\n",
      "Epoch 54/1000\n",
      "132/132 [==============================] - 1s 10ms/step - loss: 6.9999e-04 - accuracy: 0.3153 - precision: 0.9989 - recall: 0.9980 - val_loss: 7.3030e-04 - val_accuracy: 0.3302 - val_precision: 0.9986 - val_recall: 0.9979\n",
      "Epoch 55/1000\n",
      "132/132 [==============================] - 1s 10ms/step - loss: 6.7352e-04 - accuracy: 0.3223 - precision: 0.9989 - recall: 0.9980 - val_loss: 7.0538e-04 - val_accuracy: 0.3450 - val_precision: 0.9985 - val_recall: 0.9981\n",
      "Epoch 56/1000\n",
      "132/132 [==============================] - 1s 10ms/step - loss: 6.5182e-04 - accuracy: 0.3267 - precision: 0.9989 - recall: 0.9981 - val_loss: 6.9335e-04 - val_accuracy: 0.3491 - val_precision: 0.9984 - val_recall: 0.9983\n",
      "Epoch 57/1000\n",
      "132/132 [==============================] - 1s 11ms/step - loss: 6.2785e-04 - accuracy: 0.3344 - precision: 0.9990 - recall: 0.9982 - val_loss: 6.5567e-04 - val_accuracy: 0.3586 - val_precision: 0.9989 - val_recall: 0.9981\n",
      "Epoch 58/1000\n",
      "132/132 [==============================] - 1s 10ms/step - loss: 6.0538e-04 - accuracy: 0.3422 - precision: 0.9990 - recall: 0.9983 - val_loss: 6.3783e-04 - val_accuracy: 0.3608 - val_precision: 0.9986 - val_recall: 0.9984\n",
      "Epoch 59/1000\n",
      "132/132 [==============================] - 1s 10ms/step - loss: 5.8167e-04 - accuracy: 0.3495 - precision: 0.9991 - recall: 0.9983 - val_loss: 6.1113e-04 - val_accuracy: 0.3664 - val_precision: 0.9988 - val_recall: 0.9984\n",
      "Epoch 60/1000\n",
      "132/132 [==============================] - 1s 10ms/step - loss: 5.5947e-04 - accuracy: 0.3560 - precision: 0.9991 - recall: 0.9984 - val_loss: 6.2700e-04 - val_accuracy: 0.3806 - val_precision: 0.9984 - val_recall: 0.9987\n",
      "Epoch 61/1000\n",
      "132/132 [==============================] - 1s 11ms/step - loss: 5.3788e-04 - accuracy: 0.3599 - precision: 0.9991 - recall: 0.9985 - val_loss: 5.8080e-04 - val_accuracy: 0.3963 - val_precision: 0.9988 - val_recall: 0.9986\n",
      "Epoch 62/1000\n",
      "132/132 [==============================] - 1s 10ms/step - loss: 5.1988e-04 - accuracy: 0.3713 - precision: 0.9992 - recall: 0.9985 - val_loss: 5.3649e-04 - val_accuracy: 0.3869 - val_precision: 0.9991 - val_recall: 0.9985\n",
      "Epoch 63/1000\n",
      "132/132 [==============================] - 1s 10ms/step - loss: 4.9798e-04 - accuracy: 0.3770 - precision: 0.9992 - recall: 0.9986 - val_loss: 5.1900e-04 - val_accuracy: 0.4089 - val_precision: 0.9990 - val_recall: 0.9986\n",
      "Epoch 64/1000\n",
      "132/132 [==============================] - 1s 10ms/step - loss: 4.7673e-04 - accuracy: 0.3846 - precision: 0.9992 - recall: 0.9986 - val_loss: 5.0186e-04 - val_accuracy: 0.4175 - val_precision: 0.9991 - val_recall: 0.9986\n",
      "Epoch 65/1000\n",
      "132/132 [==============================] - 1s 11ms/step - loss: 4.5536e-04 - accuracy: 0.3930 - precision: 0.9993 - recall: 0.9987 - val_loss: 4.8865e-04 - val_accuracy: 0.4231 - val_precision: 0.9989 - val_recall: 0.9988\n",
      "Epoch 66/1000\n",
      "132/132 [==============================] - 1s 10ms/step - loss: 4.3637e-04 - accuracy: 0.3996 - precision: 0.9993 - recall: 0.9988 - val_loss: 4.8039e-04 - val_accuracy: 0.4395 - val_precision: 0.9989 - val_recall: 0.9989\n",
      "Epoch 67/1000\n",
      "132/132 [==============================] - 1s 10ms/step - loss: 4.1706e-04 - accuracy: 0.4082 - precision: 0.9994 - recall: 0.9988 - val_loss: 4.4741e-04 - val_accuracy: 0.4262 - val_precision: 0.9992 - val_recall: 0.9988\n",
      "Epoch 68/1000\n",
      "132/132 [==============================] - 1s 11ms/step - loss: 3.9866e-04 - accuracy: 0.4145 - precision: 0.9994 - recall: 0.9989 - val_loss: 4.3852e-04 - val_accuracy: 0.4419 - val_precision: 0.9991 - val_recall: 0.9989\n",
      "Epoch 69/1000\n",
      "132/132 [==============================] - 1s 11ms/step - loss: 3.7992e-04 - accuracy: 0.4212 - precision: 0.9994 - recall: 0.9989 - val_loss: 4.0746e-04 - val_accuracy: 0.4552 - val_precision: 0.9993 - val_recall: 0.9989\n",
      "Epoch 70/1000\n",
      "132/132 [==============================] - 1s 11ms/step - loss: 3.6384e-04 - accuracy: 0.4278 - precision: 0.9994 - recall: 0.9990 - val_loss: 3.9124e-04 - val_accuracy: 0.4524 - val_precision: 0.9992 - val_recall: 0.9990\n",
      "Epoch 71/1000\n",
      "132/132 [==============================] - 1s 10ms/step - loss: 3.4637e-04 - accuracy: 0.4329 - precision: 0.9995 - recall: 0.9990 - val_loss: 3.8651e-04 - val_accuracy: 0.4636 - val_precision: 0.9992 - val_recall: 0.9991\n",
      "Epoch 72/1000\n"
     ]
    },
    {
     "name": "stdout",
     "output_type": "stream",
     "text": [
      "132/132 [==============================] - 1s 10ms/step - loss: 3.3171e-04 - accuracy: 0.4428 - precision: 0.9995 - recall: 0.9991 - val_loss: 3.5867e-04 - val_accuracy: 0.4783 - val_precision: 0.9994 - val_recall: 0.9990\n",
      "Epoch 73/1000\n",
      "132/132 [==============================] - 1s 11ms/step - loss: 3.1719e-04 - accuracy: 0.4497 - precision: 0.9995 - recall: 0.9991 - val_loss: 3.4595e-04 - val_accuracy: 0.4729 - val_precision: 0.9994 - val_recall: 0.9991\n",
      "Epoch 74/1000\n",
      "132/132 [==============================] - 1s 10ms/step - loss: 3.0319e-04 - accuracy: 0.4532 - precision: 0.9996 - recall: 0.9992 - val_loss: 3.2998e-04 - val_accuracy: 0.4687 - val_precision: 0.9994 - val_recall: 0.9991\n",
      "Epoch 75/1000\n",
      "132/132 [==============================] - 1s 11ms/step - loss: 2.9015e-04 - accuracy: 0.4570 - precision: 0.9996 - recall: 0.9992 - val_loss: 3.1733e-04 - val_accuracy: 0.4725 - val_precision: 0.9995 - val_recall: 0.9991\n",
      "Epoch 76/1000\n",
      "132/132 [==============================] - 1s 10ms/step - loss: 2.7795e-04 - accuracy: 0.4627 - precision: 0.9996 - recall: 0.9992 - val_loss: 3.2629e-04 - val_accuracy: 0.4964 - val_precision: 0.9992 - val_recall: 0.9993\n",
      "Epoch 77/1000\n",
      "132/132 [==============================] - 1s 10ms/step - loss: 2.6787e-04 - accuracy: 0.4707 - precision: 0.9996 - recall: 0.9993 - val_loss: 3.0306e-04 - val_accuracy: 0.5048 - val_precision: 0.9994 - val_recall: 0.9993\n",
      "Epoch 78/1000\n",
      "132/132 [==============================] - 1s 11ms/step - loss: 2.5773e-04 - accuracy: 0.4774 - precision: 0.9996 - recall: 0.9993 - val_loss: 2.8551e-04 - val_accuracy: 0.5009 - val_precision: 0.9995 - val_recall: 0.9992\n",
      "Epoch 79/1000\n",
      "132/132 [==============================] - 1s 10ms/step - loss: 2.4772e-04 - accuracy: 0.4858 - precision: 0.9996 - recall: 0.9993 - val_loss: 2.7365e-04 - val_accuracy: 0.5196 - val_precision: 0.9996 - val_recall: 0.9992\n",
      "Epoch 80/1000\n",
      "132/132 [==============================] - 1s 11ms/step - loss: 2.3794e-04 - accuracy: 0.4921 - precision: 0.9997 - recall: 0.9993 - val_loss: 2.6982e-04 - val_accuracy: 0.5073 - val_precision: 0.9995 - val_recall: 0.9993\n",
      "Epoch 81/1000\n",
      "132/132 [==============================] - 1s 10ms/step - loss: 2.2907e-04 - accuracy: 0.4974 - precision: 0.9997 - recall: 0.9994 - val_loss: 2.6456e-04 - val_accuracy: 0.5069 - val_precision: 0.9995 - val_recall: 0.9994\n",
      "Epoch 82/1000\n",
      "132/132 [==============================] - 1s 10ms/step - loss: 2.2031e-04 - accuracy: 0.5039 - precision: 0.9997 - recall: 0.9994 - val_loss: 2.5019e-04 - val_accuracy: 0.5211 - val_precision: 0.9996 - val_recall: 0.9993\n",
      "Epoch 83/1000\n",
      "132/132 [==============================] - 1s 10ms/step - loss: 2.1136e-04 - accuracy: 0.5115 - precision: 0.9997 - recall: 0.9994 - val_loss: 2.5740e-04 - val_accuracy: 0.5505 - val_precision: 0.9994 - val_recall: 0.9994\n",
      "Epoch 84/1000\n",
      "132/132 [==============================] - 1s 11ms/step - loss: 2.0447e-04 - accuracy: 0.5174 - precision: 0.9997 - recall: 0.9994 - val_loss: 2.2944e-04 - val_accuracy: 0.5378 - val_precision: 0.9996 - val_recall: 0.9994\n",
      "Epoch 85/1000\n",
      "132/132 [==============================] - 1s 11ms/step - loss: 1.9648e-04 - accuracy: 0.5240 - precision: 0.9997 - recall: 0.9995 - val_loss: 2.2047e-04 - val_accuracy: 0.5369 - val_precision: 0.9997 - val_recall: 0.9994\n",
      "Epoch 86/1000\n",
      "132/132 [==============================] - 1s 10ms/step - loss: 1.8809e-04 - accuracy: 0.5289 - precision: 0.9997 - recall: 0.9995 - val_loss: 2.2053e-04 - val_accuracy: 0.5485 - val_precision: 0.9996 - val_recall: 0.9995\n",
      "Epoch 87/1000\n",
      "132/132 [==============================] - 1s 10ms/step - loss: 1.8051e-04 - accuracy: 0.5355 - precision: 0.9997 - recall: 0.9995 - val_loss: 2.1180e-04 - val_accuracy: 0.5437 - val_precision: 0.9996 - val_recall: 0.9995\n",
      "Epoch 88/1000\n",
      "132/132 [==============================] - 1s 11ms/step - loss: 1.7292e-04 - accuracy: 0.5424 - precision: 0.9998 - recall: 0.9995 - val_loss: 2.0261e-04 - val_accuracy: 0.5664 - val_precision: 0.9996 - val_recall: 0.9995\n",
      "Epoch 89/1000\n",
      "132/132 [==============================] - 1s 11ms/step - loss: 1.6715e-04 - accuracy: 0.5531 - precision: 0.9998 - recall: 0.9995 - val_loss: 1.9438e-04 - val_accuracy: 0.5730 - val_precision: 0.9997 - val_recall: 0.9995\n",
      "Epoch 90/1000\n",
      "132/132 [==============================] - 2s 12ms/step - loss: 1.5877e-04 - accuracy: 0.5556 - precision: 0.9998 - recall: 0.9996 - val_loss: 1.8632e-04 - val_accuracy: 0.5734 - val_precision: 0.9997 - val_recall: 0.9995\n",
      "Epoch 91/1000\n",
      "132/132 [==============================] - 2s 12ms/step - loss: 1.5204e-04 - accuracy: 0.5622 - precision: 0.9998 - recall: 0.9996 - val_loss: 1.8933e-04 - val_accuracy: 0.5901 - val_precision: 0.9996 - val_recall: 0.9996\n",
      "Epoch 92/1000\n",
      "132/132 [==============================] - 1s 11ms/step - loss: 1.4626e-04 - accuracy: 0.5681 - precision: 0.9998 - recall: 0.9996 - val_loss: 1.7545e-04 - val_accuracy: 0.5948 - val_precision: 0.9997 - val_recall: 0.9996\n",
      "Epoch 93/1000\n",
      "132/132 [==============================] - 2s 12ms/step - loss: 1.4057e-04 - accuracy: 0.5744 - precision: 0.9998 - recall: 0.9996 - val_loss: 1.7817e-04 - val_accuracy: 0.6145 - val_precision: 0.9996 - val_recall: 0.9996\n",
      "Epoch 94/1000\n",
      "132/132 [==============================] - 2s 12ms/step - loss: 1.3484e-04 - accuracy: 0.5793 - precision: 0.9998 - recall: 0.9996 - val_loss: 1.5970e-04 - val_accuracy: 0.5931 - val_precision: 0.9997 - val_recall: 0.9996\n",
      "Epoch 95/1000\n",
      "132/132 [==============================] - 1s 10ms/step - loss: 1.2881e-04 - accuracy: 0.5879 - precision: 0.9998 - recall: 0.9996 - val_loss: 1.5857e-04 - val_accuracy: 0.5864 - val_precision: 0.9998 - val_recall: 0.9995\n",
      "Epoch 96/1000\n",
      "132/132 [==============================] - 1s 11ms/step - loss: 1.2282e-04 - accuracy: 0.5890 - precision: 0.9998 - recall: 0.9997 - val_loss: 1.4849e-04 - val_accuracy: 0.6085 - val_precision: 0.9998 - val_recall: 0.9996\n",
      "Epoch 97/1000\n",
      "132/132 [==============================] - 1s 11ms/step - loss: 1.1834e-04 - accuracy: 0.5952 - precision: 0.9998 - recall: 0.9997 - val_loss: 1.4449e-04 - val_accuracy: 0.6255 - val_precision: 0.9997 - val_recall: 0.9997\n",
      "Epoch 98/1000\n",
      "132/132 [==============================] - 1s 11ms/step - loss: 1.1371e-04 - accuracy: 0.6009 - precision: 0.9998 - recall: 0.9997 - val_loss: 1.4236e-04 - val_accuracy: 0.6258 - val_precision: 0.9997 - val_recall: 0.9996\n",
      "Epoch 99/1000\n",
      "132/132 [==============================] - 2s 12ms/step - loss: 1.0969e-04 - accuracy: 0.6079 - precision: 0.9998 - recall: 0.9997 - val_loss: 1.3243e-04 - val_accuracy: 0.6235 - val_precision: 0.9998 - val_recall: 0.9996\n",
      "Epoch 100/1000\n",
      "132/132 [==============================] - 1s 11ms/step - loss: 1.0427e-04 - accuracy: 0.6140 - precision: 0.9999 - recall: 0.9997 - val_loss: 1.2949e-04 - val_accuracy: 0.6004 - val_precision: 0.9998 - val_recall: 0.9996\n",
      "Epoch 101/1000\n",
      "132/132 [==============================] - 1s 10ms/step - loss: 1.0100e-04 - accuracy: 0.6180 - precision: 0.9999 - recall: 0.9997 - val_loss: 1.2947e-04 - val_accuracy: 0.6461 - val_precision: 0.9997 - val_recall: 0.9997\n",
      "Epoch 102/1000\n",
      "132/132 [==============================] - 1s 10ms/step - loss: 9.7197e-05 - accuracy: 0.6213 - precision: 0.9999 - recall: 0.9997 - val_loss: 1.2077e-04 - val_accuracy: 0.6322 - val_precision: 0.9998 - val_recall: 0.9996\n",
      "Epoch 103/1000\n",
      "132/132 [==============================] - 1s 10ms/step - loss: 9.3748e-05 - accuracy: 0.6274 - precision: 0.9999 - recall: 0.9997 - val_loss: 1.3557e-04 - val_accuracy: 0.6626 - val_precision: 0.9997 - val_recall: 0.9997\n",
      "Epoch 104/1000\n",
      "132/132 [==============================] - 1s 10ms/step - loss: 9.0218e-05 - accuracy: 0.6312 - precision: 0.9999 - recall: 0.9998 - val_loss: 1.2488e-04 - val_accuracy: 0.6642 - val_precision: 0.9997 - val_recall: 0.9997\n",
      "Epoch 105/1000\n",
      "132/132 [==============================] - 1s 11ms/step - loss: 8.6847e-05 - accuracy: 0.6371 - precision: 0.9999 - recall: 0.9998 - val_loss: 1.1249e-04 - val_accuracy: 0.6444 - val_precision: 0.9999 - val_recall: 0.9996\n",
      "Epoch 106/1000\n",
      "132/132 [==============================] - 1s 11ms/step - loss: 8.3824e-05 - accuracy: 0.6387 - precision: 0.9999 - recall: 0.9998 - val_loss: 1.0960e-04 - val_accuracy: 0.6493 - val_precision: 0.9998 - val_recall: 0.9997\n"
     ]
    },
    {
     "name": "stdout",
     "output_type": "stream",
     "text": [
      "Epoch 107/1000\n",
      "132/132 [==============================] - 1s 11ms/step - loss: 8.0614e-05 - accuracy: 0.6437 - precision: 0.9999 - recall: 0.9998 - val_loss: 1.0577e-04 - val_accuracy: 0.6640 - val_precision: 0.9999 - val_recall: 0.9997\n",
      "Epoch 108/1000\n",
      "132/132 [==============================] - 1s 11ms/step - loss: 7.6911e-05 - accuracy: 0.6494 - precision: 0.9999 - recall: 0.9998 - val_loss: 1.0305e-04 - val_accuracy: 0.6775 - val_precision: 0.9998 - val_recall: 0.9997\n",
      "Epoch 109/1000\n",
      "132/132 [==============================] - 1s 11ms/step - loss: 7.5059e-05 - accuracy: 0.6540 - precision: 0.9999 - recall: 0.9998 - val_loss: 1.1207e-04 - val_accuracy: 0.6990 - val_precision: 0.9997 - val_recall: 0.9998\n",
      "Epoch 110/1000\n",
      "132/132 [==============================] - 2s 12ms/step - loss: 7.1877e-05 - accuracy: 0.6585 - precision: 0.9999 - recall: 0.9998 - val_loss: 1.0018e-04 - val_accuracy: 0.6860 - val_precision: 0.9998 - val_recall: 0.9997\n",
      "Epoch 111/1000\n",
      "132/132 [==============================] - 2s 11ms/step - loss: 6.9247e-05 - accuracy: 0.6638 - precision: 0.9999 - recall: 0.9998 - val_loss: 9.3290e-05 - val_accuracy: 0.6770 - val_precision: 0.9998 - val_recall: 0.9997\n",
      "Epoch 112/1000\n",
      "132/132 [==============================] - 1s 11ms/step - loss: 6.6772e-05 - accuracy: 0.6692 - precision: 0.9999 - recall: 0.9998 - val_loss: 9.1050e-05 - val_accuracy: 0.6891 - val_precision: 0.9998 - val_recall: 0.9998\n",
      "Epoch 113/1000\n",
      "132/132 [==============================] - 1s 11ms/step - loss: 6.5062e-05 - accuracy: 0.6720 - precision: 0.9999 - recall: 0.9998 - val_loss: 8.8051e-05 - val_accuracy: 0.6773 - val_precision: 0.9999 - val_recall: 0.9997\n",
      "Epoch 114/1000\n",
      "132/132 [==============================] - 1s 10ms/step - loss: 6.1483e-05 - accuracy: 0.6768 - precision: 0.9999 - recall: 0.9998 - val_loss: 8.5593e-05 - val_accuracy: 0.6845 - val_precision: 0.9999 - val_recall: 0.9997\n",
      "Epoch 115/1000\n",
      "132/132 [==============================] - 1s 10ms/step - loss: 5.9640e-05 - accuracy: 0.6821 - precision: 0.9999 - recall: 0.9998 - val_loss: 8.3284e-05 - val_accuracy: 0.6820 - val_precision: 0.9999 - val_recall: 0.9997\n",
      "Epoch 116/1000\n",
      "132/132 [==============================] - 1s 10ms/step - loss: 5.8306e-05 - accuracy: 0.6794 - precision: 0.9999 - recall: 0.9998 - val_loss: 8.5281e-05 - val_accuracy: 0.7077 - val_precision: 0.9998 - val_recall: 0.9998\n",
      "Epoch 117/1000\n",
      "132/132 [==============================] - 1s 10ms/step - loss: 5.5615e-05 - accuracy: 0.6828 - precision: 0.9999 - recall: 0.9998 - val_loss: 7.9832e-05 - val_accuracy: 0.7039 - val_precision: 0.9998 - val_recall: 0.9998\n",
      "Epoch 118/1000\n",
      "132/132 [==============================] - 1s 10ms/step - loss: 5.2997e-05 - accuracy: 0.6887 - precision: 0.9999 - recall: 0.9999 - val_loss: 8.1599e-05 - val_accuracy: 0.7108 - val_precision: 0.9998 - val_recall: 0.9998\n",
      "Epoch 119/1000\n",
      "132/132 [==============================] - 1s 10ms/step - loss: 5.1758e-05 - accuracy: 0.6934 - precision: 0.9999 - recall: 0.9999 - val_loss: 7.6546e-05 - val_accuracy: 0.6921 - val_precision: 0.9999 - val_recall: 0.9998\n",
      "Epoch 120/1000\n",
      "132/132 [==============================] - 1s 10ms/step - loss: 4.9527e-05 - accuracy: 0.6961 - precision: 0.9999 - recall: 0.9999 - val_loss: 7.2380e-05 - val_accuracy: 0.7059 - val_precision: 0.9999 - val_recall: 0.9998\n",
      "Epoch 121/1000\n",
      "132/132 [==============================] - 1s 10ms/step - loss: 4.6811e-05 - accuracy: 0.6960 - precision: 0.9999 - recall: 0.9999 - val_loss: 7.7017e-05 - val_accuracy: 0.7266 - val_precision: 0.9998 - val_recall: 0.9998\n",
      "Epoch 122/1000\n",
      "132/132 [==============================] - 1s 10ms/step - loss: 4.6038e-05 - accuracy: 0.7016 - precision: 0.9999 - recall: 0.9999 - val_loss: 7.2525e-05 - val_accuracy: 0.7077 - val_precision: 0.9999 - val_recall: 0.9998\n",
      "Epoch 123/1000\n",
      "132/132 [==============================] - 1s 10ms/step - loss: 4.4327e-05 - accuracy: 0.7033 - precision: 0.9999 - recall: 0.9999 - val_loss: 6.7610e-05 - val_accuracy: 0.7164 - val_precision: 0.9999 - val_recall: 0.9998\n",
      "Epoch 124/1000\n",
      "132/132 [==============================] - 1s 11ms/step - loss: 4.3026e-05 - accuracy: 0.7022 - precision: 0.9999 - recall: 0.9999 - val_loss: 6.6625e-05 - val_accuracy: 0.7114 - val_precision: 0.9999 - val_recall: 0.9998\n",
      "Epoch 125/1000\n",
      "132/132 [==============================] - 1s 10ms/step - loss: 4.1716e-05 - accuracy: 0.7042 - precision: 0.9999 - recall: 0.9999 - val_loss: 6.6915e-05 - val_accuracy: 0.7264 - val_precision: 0.9999 - val_recall: 0.9998\n",
      "Epoch 126/1000\n",
      "132/132 [==============================] - 1s 10ms/step - loss: 4.0017e-05 - accuracy: 0.7084 - precision: 0.9999 - recall: 0.9999 - val_loss: 6.2093e-05 - val_accuracy: 0.7174 - val_precision: 0.9999 - val_recall: 0.9998\n",
      "Epoch 127/1000\n",
      "132/132 [==============================] - 1s 11ms/step - loss: 3.8303e-05 - accuracy: 0.7115 - precision: 0.9999 - recall: 0.9999 - val_loss: 6.0442e-05 - val_accuracy: 0.7378 - val_precision: 0.9999 - val_recall: 0.9998\n",
      "Epoch 128/1000\n",
      "132/132 [==============================] - 1s 10ms/step - loss: 3.7642e-05 - accuracy: 0.7161 - precision: 0.9999 - recall: 0.9999 - val_loss: 6.6505e-05 - val_accuracy: 0.7450 - val_precision: 0.9998 - val_recall: 0.9998\n",
      "Epoch 129/1000\n",
      "132/132 [==============================] - 1s 10ms/step - loss: 3.6255e-05 - accuracy: 0.7182 - precision: 0.9999 - recall: 0.9999 - val_loss: 6.0063e-05 - val_accuracy: 0.7215 - val_precision: 0.9999 - val_recall: 0.9998\n",
      "Epoch 130/1000\n",
      "132/132 [==============================] - 1s 10ms/step - loss: 3.4553e-05 - accuracy: 0.7162 - precision: 1.0000 - recall: 0.9999 - val_loss: 5.6070e-05 - val_accuracy: 0.7306 - val_precision: 0.9999 - val_recall: 0.9998\n",
      "Epoch 131/1000\n",
      "132/132 [==============================] - 1s 10ms/step - loss: 3.3179e-05 - accuracy: 0.7183 - precision: 1.0000 - recall: 0.9999 - val_loss: 5.5303e-05 - val_accuracy: 0.7307 - val_precision: 0.9999 - val_recall: 0.9998\n",
      "Epoch 132/1000\n",
      "132/132 [==============================] - 1s 10ms/step - loss: 3.2663e-05 - accuracy: 0.7220 - precision: 1.0000 - recall: 0.9999 - val_loss: 5.6049e-05 - val_accuracy: 0.7370 - val_precision: 0.9999 - val_recall: 0.9999\n",
      "Epoch 133/1000\n",
      "132/132 [==============================] - 1s 10ms/step - loss: 3.0852e-05 - accuracy: 0.7249 - precision: 1.0000 - recall: 0.9999 - val_loss: 5.3203e-05 - val_accuracy: 0.7277 - val_precision: 0.9999 - val_recall: 0.9998\n",
      "Epoch 134/1000\n",
      "132/132 [==============================] - 1s 10ms/step - loss: 2.9660e-05 - accuracy: 0.7283 - precision: 1.0000 - recall: 0.9999 - val_loss: 5.1938e-05 - val_accuracy: 0.7260 - val_precision: 0.9999 - val_recall: 0.9998\n",
      "Epoch 135/1000\n",
      "132/132 [==============================] - 1s 10ms/step - loss: 2.7957e-05 - accuracy: 0.7313 - precision: 1.0000 - recall: 0.9999 - val_loss: 5.9578e-05 - val_accuracy: 0.7543 - val_precision: 0.9998 - val_recall: 0.9999\n",
      "Epoch 136/1000\n",
      "132/132 [==============================] - 1s 10ms/step - loss: 2.7078e-05 - accuracy: 0.7326 - precision: 1.0000 - recall: 0.9999 - val_loss: 4.9093e-05 - val_accuracy: 0.7253 - val_precision: 0.9999 - val_recall: 0.9998\n",
      "Epoch 137/1000\n",
      "132/132 [==============================] - 1s 11ms/step - loss: 2.6764e-05 - accuracy: 0.7335 - precision: 1.0000 - recall: 0.9999 - val_loss: 4.9017e-05 - val_accuracy: 0.7520 - val_precision: 0.9999 - val_recall: 0.9999\n",
      "Epoch 138/1000\n",
      "132/132 [==============================] - 1s 11ms/step - loss: 2.6346e-05 - accuracy: 0.7398 - precision: 1.0000 - recall: 0.9999 - val_loss: 5.8657e-05 - val_accuracy: 0.7735 - val_precision: 0.9998 - val_recall: 0.9999\n",
      "Epoch 139/1000\n",
      "132/132 [==============================] - 1s 10ms/step - loss: 2.5186e-05 - accuracy: 0.7397 - precision: 1.0000 - recall: 0.9999 - val_loss: 4.8102e-05 - val_accuracy: 0.7658 - val_precision: 0.9999 - val_recall: 0.9999\n",
      "Epoch 140/1000\n",
      "132/132 [==============================] - 1s 10ms/step - loss: 2.3828e-05 - accuracy: 0.7435 - precision: 1.0000 - recall: 0.9999 - val_loss: 4.5481e-05 - val_accuracy: 0.7594 - val_precision: 0.9999 - val_recall: 0.9999\n",
      "Epoch 141/1000\n"
     ]
    },
    {
     "name": "stdout",
     "output_type": "stream",
     "text": [
      "132/132 [==============================] - 1s 10ms/step - loss: 2.3018e-05 - accuracy: 0.7458 - precision: 1.0000 - recall: 0.9999 - val_loss: 4.5700e-05 - val_accuracy: 0.7559 - val_precision: 0.9999 - val_recall: 0.9999\n",
      "Epoch 142/1000\n",
      "132/132 [==============================] - 1s 10ms/step - loss: 2.2050e-05 - accuracy: 0.7481 - precision: 1.0000 - recall: 0.9999 - val_loss: 4.2277e-05 - val_accuracy: 0.7422 - val_precision: 0.9999 - val_recall: 0.9999\n",
      "Epoch 143/1000\n",
      "132/132 [==============================] - 1s 11ms/step - loss: 2.0836e-05 - accuracy: 0.7474 - precision: 1.0000 - recall: 0.9999 - val_loss: 3.9660e-05 - val_accuracy: 0.7527 - val_precision: 0.9999 - val_recall: 0.9999\n",
      "Epoch 144/1000\n",
      "132/132 [==============================] - 1s 10ms/step - loss: 2.0334e-05 - accuracy: 0.7492 - precision: 1.0000 - recall: 0.9999 - val_loss: 4.2444e-05 - val_accuracy: 0.7660 - val_precision: 0.9999 - val_recall: 0.9999\n",
      "Epoch 145/1000\n",
      "132/132 [==============================] - 1s 10ms/step - loss: 2.0298e-05 - accuracy: 0.7555 - precision: 1.0000 - recall: 0.9999 - val_loss: 4.1389e-05 - val_accuracy: 0.7626 - val_precision: 0.9999 - val_recall: 0.9999\n",
      "Epoch 146/1000\n",
      "132/132 [==============================] - 1s 10ms/step - loss: 2.0472e-05 - accuracy: 0.7544 - precision: 1.0000 - recall: 0.9999 - val_loss: 4.0649e-05 - val_accuracy: 0.7664 - val_precision: 0.9999 - val_recall: 0.9999\n",
      "Epoch 147/1000\n",
      "132/132 [==============================] - 1s 10ms/step - loss: 1.8314e-05 - accuracy: 0.7537 - precision: 1.0000 - recall: 1.0000 - val_loss: 3.7523e-05 - val_accuracy: 0.7630 - val_precision: 0.9999 - val_recall: 0.9999\n",
      "Epoch 148/1000\n",
      "132/132 [==============================] - 1s 10ms/step - loss: 1.7068e-05 - accuracy: 0.7613 - precision: 1.0000 - recall: 1.0000 - val_loss: 3.8371e-05 - val_accuracy: 0.7817 - val_precision: 0.9999 - val_recall: 0.9999\n",
      "Epoch 149/1000\n",
      "132/132 [==============================] - 1s 10ms/step - loss: 1.7209e-05 - accuracy: 0.7619 - precision: 1.0000 - recall: 1.0000 - val_loss: 4.0043e-05 - val_accuracy: 0.7710 - val_precision: 0.9999 - val_recall: 0.9999\n",
      "Epoch 150/1000\n",
      "132/132 [==============================] - 1s 10ms/step - loss: 1.7243e-05 - accuracy: 0.7623 - precision: 1.0000 - recall: 1.0000 - val_loss: 3.6805e-05 - val_accuracy: 0.7592 - val_precision: 0.9999 - val_recall: 0.9999\n",
      "Epoch 151/1000\n",
      "132/132 [==============================] - 1s 10ms/step - loss: 1.6561e-05 - accuracy: 0.7640 - precision: 1.0000 - recall: 1.0000 - val_loss: 3.5804e-05 - val_accuracy: 0.7647 - val_precision: 0.9999 - val_recall: 0.9999\n",
      "Epoch 152/1000\n",
      "132/132 [==============================] - 1s 10ms/step - loss: 1.5964e-05 - accuracy: 0.7698 - precision: 1.0000 - recall: 1.0000 - val_loss: 3.5018e-05 - val_accuracy: 0.7686 - val_precision: 0.9999 - val_recall: 0.9999\n",
      "Epoch 153/1000\n",
      "132/132 [==============================] - 1s 10ms/step - loss: 1.4732e-05 - accuracy: 0.7686 - precision: 1.0000 - recall: 1.0000 - val_loss: 3.3584e-05 - val_accuracy: 0.7909 - val_precision: 0.9999 - val_recall: 0.9999\n",
      "Epoch 154/1000\n",
      "132/132 [==============================] - 1s 10ms/step - loss: 1.5649e-05 - accuracy: 0.7740 - precision: 1.0000 - recall: 1.0000 - val_loss: 3.5465e-05 - val_accuracy: 0.7683 - val_precision: 1.0000 - val_recall: 0.9999\n",
      "Epoch 155/1000\n",
      "132/132 [==============================] - 1s 10ms/step - loss: 1.4751e-05 - accuracy: 0.7738 - precision: 1.0000 - recall: 1.0000 - val_loss: 3.4596e-05 - val_accuracy: 0.7790 - val_precision: 0.9999 - val_recall: 0.9999\n",
      "Epoch 156/1000\n",
      "132/132 [==============================] - 1s 10ms/step - loss: 1.4073e-05 - accuracy: 0.7782 - precision: 1.0000 - recall: 1.0000 - val_loss: 3.4477e-05 - val_accuracy: 0.7682 - val_precision: 1.0000 - val_recall: 0.9999\n",
      "Epoch 157/1000\n",
      "132/132 [==============================] - 1s 10ms/step - loss: 1.3413e-05 - accuracy: 0.7802 - precision: 1.0000 - recall: 1.0000 - val_loss: 3.0772e-05 - val_accuracy: 0.7998 - val_precision: 0.9999 - val_recall: 0.9999\n",
      "Epoch 158/1000\n",
      "132/132 [==============================] - 1s 10ms/step - loss: 1.2798e-05 - accuracy: 0.7804 - precision: 1.0000 - recall: 1.0000 - val_loss: 3.2548e-05 - val_accuracy: 0.7929 - val_precision: 0.9999 - val_recall: 0.9999\n",
      "Epoch 159/1000\n",
      "132/132 [==============================] - 1s 10ms/step - loss: 1.2547e-05 - accuracy: 0.7887 - precision: 1.0000 - recall: 1.0000 - val_loss: 3.3071e-05 - val_accuracy: 0.7695 - val_precision: 1.0000 - val_recall: 0.9999\n",
      "Epoch 160/1000\n",
      "132/132 [==============================] - 1s 10ms/step - loss: 1.1760e-05 - accuracy: 0.7808 - precision: 1.0000 - recall: 1.0000 - val_loss: 3.2943e-05 - val_accuracy: 0.7998 - val_precision: 0.9999 - val_recall: 0.9999\n",
      "Epoch 161/1000\n",
      "132/132 [==============================] - 1s 10ms/step - loss: 1.2728e-05 - accuracy: 0.7798 - precision: 1.0000 - recall: 1.0000 - val_loss: 2.9943e-05 - val_accuracy: 0.7864 - val_precision: 0.9999 - val_recall: 0.9999\n",
      "Epoch 162/1000\n",
      "132/132 [==============================] - 1s 10ms/step - loss: 6.5269e-05 - accuracy: 0.7613 - precision: 0.9998 - recall: 0.9998 - val_loss: 0.0129 - val_accuracy: 0.8622 - val_precision: 0.9508 - val_recall: 0.9996\n",
      "Epoch 163/1000\n",
      "132/132 [==============================] - 1s 10ms/step - loss: 1.1253e-05 - accuracy: 0.7457 - precision: 1.0000 - recall: 1.0000 - val_loss: 2.4772e-05 - val_accuracy: 0.7447 - val_precision: 1.0000 - val_recall: 0.9999\n",
      "Epoch 164/1000\n",
      "132/132 [==============================] - 1s 10ms/step - loss: 5.5854e-06 - accuracy: 0.7517 - precision: 1.0000 - recall: 1.0000 - val_loss: 2.1953e-05 - val_accuracy: 0.7602 - val_precision: 1.0000 - val_recall: 0.9999\n",
      "Epoch 165/1000\n",
      "132/132 [==============================] - 1s 10ms/step - loss: 4.5764e-06 - accuracy: 0.7564 - precision: 1.0000 - recall: 1.0000 - val_loss: 2.0900e-05 - val_accuracy: 0.7642 - val_precision: 1.0000 - val_recall: 0.9999\n",
      "Epoch 166/1000\n",
      "132/132 [==============================] - 1s 10ms/step - loss: 4.1223e-06 - accuracy: 0.7601 - precision: 1.0000 - recall: 1.0000 - val_loss: 2.0282e-05 - val_accuracy: 0.7633 - val_precision: 1.0000 - val_recall: 0.9999\n",
      "Epoch 167/1000\n",
      "132/132 [==============================] - 1s 10ms/step - loss: 3.8258e-06 - accuracy: 0.7630 - precision: 1.0000 - recall: 1.0000 - val_loss: 2.0175e-05 - val_accuracy: 0.7541 - val_precision: 1.0000 - val_recall: 0.9999\n",
      "Epoch 168/1000\n",
      "132/132 [==============================] - 1s 10ms/step - loss: 3.6783e-06 - accuracy: 0.7668 - precision: 1.0000 - recall: 1.0000 - val_loss: 1.9970e-05 - val_accuracy: 0.7695 - val_precision: 1.0000 - val_recall: 0.9999\n",
      "Epoch 169/1000\n",
      "132/132 [==============================] - 1s 10ms/step - loss: 3.5868e-06 - accuracy: 0.7692 - precision: 1.0000 - recall: 1.0000 - val_loss: 1.9813e-05 - val_accuracy: 0.7665 - val_precision: 1.0000 - val_recall: 0.9999\n",
      "Epoch 170/1000\n",
      "132/132 [==============================] - 1s 10ms/step - loss: 3.5172e-06 - accuracy: 0.7714 - precision: 1.0000 - recall: 1.0000 - val_loss: 1.9921e-05 - val_accuracy: 0.7803 - val_precision: 1.0000 - val_recall: 0.9999\n",
      "Epoch 171/1000\n",
      "132/132 [==============================] - 1s 10ms/step - loss: 3.5314e-06 - accuracy: 0.7728 - precision: 1.0000 - recall: 1.0000 - val_loss: 1.9243e-05 - val_accuracy: 0.7850 - val_precision: 1.0000 - val_recall: 0.9999\n",
      "Epoch 172/1000\n",
      "132/132 [==============================] - 1s 10ms/step - loss: 3.4277e-06 - accuracy: 0.7744 - precision: 1.0000 - recall: 1.0000 - val_loss: 1.9440e-05 - val_accuracy: 0.7738 - val_precision: 1.0000 - val_recall: 0.9999\n",
      "Epoch 173/1000\n",
      "132/132 [==============================] - 1s 10ms/step - loss: 3.4168e-06 - accuracy: 0.7778 - precision: 1.0000 - recall: 1.0000 - val_loss: 1.9648e-05 - val_accuracy: 0.7868 - val_precision: 1.0000 - val_recall: 0.9999\n",
      "Epoch 174/1000\n",
      "132/132 [==============================] - 1s 10ms/step - loss: 3.4827e-06 - accuracy: 0.7801 - precision: 1.0000 - recall: 1.0000 - val_loss: 1.9731e-05 - val_accuracy: 0.7886 - val_precision: 1.0000 - val_recall: 0.9999\n",
      "Epoch 175/1000\n",
      "132/132 [==============================] - 1s 10ms/step - loss: 3.5843e-06 - accuracy: 0.7818 - precision: 1.0000 - recall: 1.0000 - val_loss: 1.9207e-05 - val_accuracy: 0.7907 - val_precision: 1.0000 - val_recall: 0.9999\n"
     ]
    },
    {
     "name": "stdout",
     "output_type": "stream",
     "text": [
      "Epoch 176/1000\n",
      "132/132 [==============================] - 1s 10ms/step - loss: 3.5540e-06 - accuracy: 0.7841 - precision: 1.0000 - recall: 1.0000 - val_loss: 1.9454e-05 - val_accuracy: 0.7831 - val_precision: 1.0000 - val_recall: 0.9999\n",
      "Epoch 177/1000\n",
      "132/132 [==============================] - 1s 10ms/step - loss: 3.6788e-06 - accuracy: 0.7871 - precision: 1.0000 - recall: 1.0000 - val_loss: 1.9554e-05 - val_accuracy: 0.7994 - val_precision: 1.0000 - val_recall: 0.9999\n",
      "Epoch 178/1000\n",
      "132/132 [==============================] - 1s 10ms/step - loss: 3.8437e-06 - accuracy: 0.7904 - precision: 1.0000 - recall: 1.0000 - val_loss: 1.9957e-05 - val_accuracy: 0.7910 - val_precision: 1.0000 - val_recall: 0.9999\n",
      "Epoch 179/1000\n",
      "132/132 [==============================] - 1s 10ms/step - loss: 4.3181e-06 - accuracy: 0.7873 - precision: 1.0000 - recall: 1.0000 - val_loss: 2.1609e-05 - val_accuracy: 0.7890 - val_precision: 1.0000 - val_recall: 0.9999\n",
      "Epoch 180/1000\n",
      "132/132 [==============================] - 1s 10ms/step - loss: 5.5578e-06 - accuracy: 0.7936 - precision: 1.0000 - recall: 1.0000 - val_loss: 2.4686e-05 - val_accuracy: 0.8082 - val_precision: 1.0000 - val_recall: 0.9999\n",
      "Epoch 181/1000\n",
      "132/132 [==============================] - 1s 10ms/step - loss: 6.7035e-06 - accuracy: 0.7952 - precision: 1.0000 - recall: 1.0000 - val_loss: 2.4663e-05 - val_accuracy: 0.7907 - val_precision: 1.0000 - val_recall: 0.9999\n",
      "Epoch 182/1000\n",
      "132/132 [==============================] - 1s 10ms/step - loss: 8.1871e-06 - accuracy: 0.7994 - precision: 1.0000 - recall: 1.0000 - val_loss: 2.8263e-05 - val_accuracy: 0.8091 - val_precision: 1.0000 - val_recall: 0.9999\n",
      "Epoch 183/1000\n",
      "132/132 [==============================] - 1s 10ms/step - loss: 6.4103e-05 - accuracy: 0.7933 - precision: 0.9998 - recall: 0.9998 - val_loss: 0.0399 - val_accuracy: 0.7638 - val_precision: 0.9037 - val_recall: 0.9957\n",
      "Epoch 184/1000\n",
      "132/132 [==============================] - 1s 10ms/step - loss: 1.5724e-05 - accuracy: 0.7679 - precision: 1.0000 - recall: 1.0000 - val_loss: 3.0600e-05 - val_accuracy: 0.7801 - val_precision: 0.9999 - val_recall: 0.9999\n",
      "Epoch 185/1000\n",
      "132/132 [==============================] - 1s 10ms/step - loss: 4.0648e-06 - accuracy: 0.7774 - precision: 1.0000 - recall: 1.0000 - val_loss: 1.9685e-05 - val_accuracy: 0.7757 - val_precision: 1.0000 - val_recall: 0.9999\n"
     ]
    }
   ],
   "source": [
    "\n",
    "logdir = os.path.join(\"./TestLogs/\", datetime.datetime.now().strftime(\"%Y%m%d-%H%M%S\"))\n",
    "my_callbacks = [\n",
    "    tf.keras.callbacks.EarlyStopping(patience=10),\n",
    "    tf.keras.callbacks.TensorBoard(log_dir=logdir,histogram_freq=1, write_graph=True, write_images=True)\n",
    "\n",
    "]\n",
    "\n",
    "#Cose da fare per migliorare la rete solo dopo aver fatto i primi tentativi con la rete proposta:\n",
    "# * Provare ad aggiungere Regolarizzazione es. L1,L2 e dropout(solo nella fase di encoding)\n",
    "# * Provare swish al posto di relu\n",
    "# * Provare tf.keras.layers.BatchNormalization()(var_layer) \n",
    "# * Fare Hyperparameter Tuning  (ultima) www.tensorflow.org/tensorboard/hyperparameter_tuning_with_hparams\n",
    "\n",
    "#PARAM:\n",
    "#tf.keras.regularizers.L1(l1=1e-4)\n",
    "param={\"INPUT_SIZE\" : 340,\n",
    "\"HIDDEN_SIZE\" : 170,\n",
    "\"HIDDEN_SIZE2\" : None,\n",
    "\"CODE_SIZE\" : 85,\n",
    "\"KERNEL_INIZIALIZER\":\"he_uniform\",\n",
    "\"KERNEL_REGULIZER\":None,\n",
    "'BIAS_REGULARIZER': None,\n",
    "\"ACTIVATION\":'relu',\n",
    "\"OPTIMIZER\":tf.keras.optimizers.Adam(learning_rate=0.001),\n",
    "\"EPOCHS\":1000,\n",
    "\"BATCH_SIZE\":7000,\n",
    "\"BATCH_NORMAIZATION\": 3\n",
    "}\n",
    "\n",
    "\n",
    "input_layer = Input(shape=(param[\"INPUT_SIZE\"],))\n",
    "x = Dense(param[\"HIDDEN_SIZE\"], activation=param[\"ACTIVATION\"], kernel_initializer=param[\"KERNEL_INIZIALIZER\"],kernel_regularizer=param[\"KERNEL_REGULIZER\"], bias_regularizer=param[\"BIAS_REGULARIZER\"] )(input_layer)\n",
    "#x = Dense(param[\"HIDDEN_SIZE2\"], activation=param[\"ACTIVATION\"], kernel_initializer=param[\"KERNEL_INIZIALIZER\"],kernel_regularizer=param[\"KERNEL_REGULIZER\"],bias_regularizer=param[\"BIAS_REGULARIZER\"] )(x)\n",
    "x=tf.keras.layers.BatchNormalization()(x)\n",
    "code = Dense(param[\"CODE_SIZE\"], activation=param[\"ACTIVATION\"],kernel_initializer=param[\"KERNEL_INIZIALIZER\"],kernel_regularizer=param[\"KERNEL_REGULIZER\"],bias_regularizer=param[\"BIAS_REGULARIZER\"])(x)\n",
    "x=tf.keras.layers.BatchNormalization()(code)\n",
    "#x =Dense(param[\"HIDDEN_SIZE2\"], activation=param[\"ACTIVATION\"],kernel_initializer=param[\"KERNEL_INIZIALIZER\"],kernel_regularizer=param[\"KERNEL_REGULIZER\"],bias_regularizer=param[\"BIAS_REGULARIZER\"])(code)\n",
    "x =Dense(param[\"HIDDEN_SIZE\"], activation=param[\"ACTIVATION\"],kernel_initializer=param[\"KERNEL_INIZIALIZER\"],kernel_regularizer=param[\"KERNEL_REGULIZER\"],bias_regularizer=param[\"BIAS_REGULARIZER\"])(x)\n",
    "x=tf.keras.layers.BatchNormalization()(x)\n",
    "output_layer = Dense(param[\"INPUT_SIZE\"], activation='sigmoid')(x)\n",
    "\n",
    "autoencoder = Model(input_layer, output_layer)\n",
    "#variare learning_rate beta_1,beta_2, da fare per ultimo\n",
    "#batch_size ???\n",
    "autoencoder.compile(optimizer=param[\"OPTIMIZER\"], loss='binary_crossentropy',metrics=[\"accuracy\",\"Precision\",\"Recall\"])\n",
    "history=autoencoder.fit(x=train,y=train, epochs=param[\"EPOCHS\"],batch_size=param[\"BATCH_SIZE\"], validation_data=(validation,validation), callbacks=my_callbacks,\n",
    "                      )\n",
    "\n",
    " #Gardare i risulati delle metriche su tensorbord                      "
   ]
  },
  {
   "cell_type": "code",
   "execution_count": 13,
   "id": "67006c5c",
   "metadata": {},
   "outputs": [
    {
     "data": {
      "image/png": "[encoded data removed]",
      "text/plain": [
       "<Figure size 432x288 with 1 Axes>"
      ]
     },
     "metadata": {
      "needs_background": "light"
     },
     "output_type": "display_data"
    },
    {
     "data": {
      "image/png": "[encoded data removed]",
      "text/plain": [
       "<Figure size 432x288 with 1 Axes>"
      ]
     },
     "metadata": {
      "needs_background": "light"
     },
     "output_type": "display_data"
    },
    {
     "data": {
      "image/png": "[encoded data removed]",
      "text/plain": [
       "<Figure size 432x288 with 1 Axes>"
      ]
     },
     "metadata": {
      "needs_background": "light"
     },
     "output_type": "display_data"
    },
    {
     "data": {
      "image/png": "[encoded data removed]",
      "text/plain": [
       "<Figure size 432x288 with 1 Axes>"
      ]
     },
     "metadata": {
      "needs_background": "light"
     },
     "output_type": "display_data"
    }
   ],
   "source": [
    "\n",
    "plt.plot(history.history['loss'], label='train')\n",
    "plt.plot(history.history['val_loss'], label='validation')\n",
    "plt.legend()\n",
    "plt.title(\"Loss\")\n",
    "plt.show()\n",
    "    \n",
    "plt.plot(history.history['accuracy'], label='train')\n",
    "plt.plot(history.history['val_accuracy'], label='validation')\n",
    "plt.legend()\n",
    "plt.title(\"Accuracy\")\n",
    "plt.show()\n",
    "\n",
    "plt.plot(history.history['precision'], label='train')\n",
    "plt.plot(history.history['val_precision'], label='validation')\n",
    "plt.legend()\n",
    "plt.title(\"Precision\")\n",
    "plt.show()\n",
    "\n",
    "plt.plot(history.history['recall'], label='train')\n",
    "plt.plot(history.history['val_recall'], label='validation')\n",
    "plt.legend()\n",
    "plt.title(\"Recall\")\n",
    "plt.show()\n",
    "\n",
    "\n"
   ]
  },
  {
   "cell_type": "code",
   "execution_count": 14,
   "id": "f6ff3f12",
   "metadata": {},
   "outputs": [
    {
     "name": "stdout",
     "output_type": "stream",
     "text": [
      "7211/7211 [==============================] - 18s 2ms/step\n",
      "7211/7211 [==============================] - 15s 2ms/step\n"
     ]
    }
   ],
   "source": [
    "val_predictions = autoencoder.predict(validation)\n",
    "test_predictions = autoencoder.predict(test)"
   ]
  },
  {
   "cell_type": "code",
   "execution_count": 15,
   "id": "5ead6a39",
   "metadata": {},
   "outputs": [
    {
     "name": "stdout",
     "output_type": "stream",
     "text": [
      "[1.2056666e-34 3.7509238e-08 1.0000000e+00 2.1906119e-09 0.0000000e+00\n",
      " 0.0000000e+00 2.9932719e-37 0.0000000e+00 1.3173281e-20 1.6850327e-09\n",
      " 3.6585901e-10 1.0000000e+00 5.8269778e-12 4.7875283e-13 1.3448592e-19\n",
      " 2.6951265e-12 3.3827955e-26 1.3927692e-17 2.5884542e-12 1.7023633e-21\n",
      " 1.8697716e-30 4.1444692e-32 5.4063289e-08 1.5994294e-14 1.0000000e+00\n",
      " 4.8578028e-07 3.9291961e-15 1.2534687e-21 0.0000000e+00 1.4159281e-06\n",
      " 5.6740154e-15 3.7309560e-06 2.2487038e-08 6.1930446e-27 3.2837680e-15\n",
      " 2.3887608e-27 1.0000000e+00 9.9999917e-01 4.1002798e-25 2.6033808e-07\n",
      " 1.8447404e-16 6.5548661e-10 2.8090818e-19 0.0000000e+00 0.0000000e+00\n",
      " 3.6610867e-30 6.5629474e-10 0.0000000e+00 4.3167520e-07 9.1611360e-29\n",
      " 4.1703748e-21 0.0000000e+00 3.5231842e-11 3.7983317e-27 1.1947932e-33\n",
      " 2.3297545e-25 8.0339833e-20 2.8888519e-16 9.0002636e-23 0.0000000e+00\n",
      " 1.4708931e-19 1.9365353e-22 7.1920978e-14 9.9999392e-01 0.0000000e+00\n",
      " 7.3325102e-10 1.3983675e-35 4.5919779e-23 1.9576335e-25 1.8419909e-16\n",
      " 0.0000000e+00 0.0000000e+00 9.9215920e-20 7.7159394e-13 0.0000000e+00\n",
      " 0.0000000e+00 4.8407495e-20 8.1042461e-15 7.7435893e-19 1.6899006e-11\n",
      " 1.6658845e-24 2.9705484e-27 2.8140448e-21 2.9111072e-14 0.0000000e+00\n",
      " 1.1017476e-14 5.4574260e-27 0.0000000e+00 8.8886463e-18 1.2537720e-18\n",
      " 8.1165926e-22 5.6968923e-24 1.0000000e+00 7.6984317e-13 1.7927295e-13\n",
      " 1.0000000e+00 6.4273271e-20 2.9968692e-08 2.0621966e-12 4.0561962e-30\n",
      " 1.7470257e-30 1.5029944e-11 4.8452795e-26 1.0000000e+00 1.0000000e+00\n",
      " 6.3245191e-09 7.3439987e-33 1.2908243e-12 9.5300744e-36 4.6593527e-06\n",
      " 2.0224425e-18 1.2719663e-27 4.4730532e-27 2.7140662e-29 2.6097981e-14\n",
      " 6.9066623e-17 9.0868226e-30 0.0000000e+00 3.9906936e-06 1.3749917e-29\n",
      " 7.2922261e-15 3.7366291e-30 1.8780375e-20 5.8727315e-17 0.0000000e+00\n",
      " 0.0000000e+00 8.2408612e-21 1.2779602e-09 2.3536265e-06 4.0385153e-09\n",
      " 8.3393362e-29 2.2213769e-07 1.2892168e-17 2.8539122e-30 9.9999940e-01\n",
      " 1.9850842e-15 2.5597701e-17 5.6970197e-07 0.0000000e+00 1.0889035e-29\n",
      " 1.6461212e-07 6.3301207e-27 2.6042390e-14 1.6656601e-26 6.1360300e-16\n",
      " 4.4626601e-18 5.5601492e-24 4.4518462e-33 1.3776892e-38 4.7723423e-27\n",
      " 1.3433788e-17 1.6795879e-27 0.0000000e+00 2.1206774e-15 1.4910138e-22\n",
      " 3.4966293e-32 5.7403719e-07 4.6017499e-21 2.9924170e-06 7.8950796e-20\n",
      " 6.7518380e-19 5.8192016e-35 0.0000000e+00 2.5962865e-12 1.4936169e-20\n",
      " 4.5230842e-21 3.3153626e-29 1.0845533e-13 0.0000000e+00 9.9999964e-01\n",
      " 2.2173702e-11 9.6625061e-23 6.4914119e-29 3.3867872e-10 8.4090367e-11\n",
      " 5.9053945e-25 0.0000000e+00 8.9192091e-12 3.8026142e-09 1.1547361e-14\n",
      " 2.4544580e-10 1.0000000e+00 2.6349266e-18 7.0703353e-26 0.0000000e+00\n",
      " 1.2970397e-18 9.4388952e-22 9.6941042e-09 6.6140905e-11 1.3219125e-07\n",
      " 1.0511809e-17 1.0565619e-21 0.0000000e+00 4.5702659e-06 0.0000000e+00\n",
      " 4.0006435e-38 2.4499990e-30 0.0000000e+00 3.5862358e-23 6.1727348e-09\n",
      " 0.0000000e+00 3.3131525e-06 0.0000000e+00 1.0982094e-06 5.3959989e-22\n",
      " 4.0582704e-11 7.5924877e-10 5.1997905e-08 8.9025249e-33 5.7351807e-13\n",
      " 0.0000000e+00 1.7470938e-05 0.0000000e+00 1.1820331e-06 4.0038867e-20\n",
      " 9.7913739e-15 5.8278361e-11 2.7513475e-26 7.8189145e-29 0.0000000e+00\n",
      " 8.4074937e-38 6.9183179e-13 1.8636904e-30 2.1759927e-11 0.0000000e+00\n",
      " 1.6174313e-29 1.0169057e-06 0.0000000e+00 0.0000000e+00 0.0000000e+00\n",
      " 1.1952302e-05 6.5355282e-25 1.3561491e-08 1.5702932e-32 3.2375568e-32\n",
      " 3.0566885e-06 1.6076807e-11 9.9999011e-01 1.8089909e-12 0.0000000e+00\n",
      " 1.9766945e-17 0.0000000e+00 0.0000000e+00 0.0000000e+00 3.9858082e-11\n",
      " 8.4326722e-24 1.2114915e-08 1.6747010e-26 1.3487109e-10 4.5789106e-12\n",
      " 6.1339531e-14 2.1801773e-25 4.5675123e-26 0.0000000e+00 1.6527918e-12\n",
      " 3.1990941e-13 2.7668057e-06 5.6612327e-13 0.0000000e+00 6.9815492e-24\n",
      " 0.0000000e+00 1.8497560e-14 5.0662067e-31 3.3170190e-22 7.8218691e-06\n",
      " 4.7572536e-13 0.0000000e+00 1.3629566e-26 7.6530721e-14 6.1933815e-25\n",
      " 7.2706211e-21 2.5842901e-16 2.2605071e-09 0.0000000e+00 3.5767249e-24\n",
      " 1.0538545e-33 1.7815511e-22 1.7112329e-19 9.7279559e-18 8.0189957e-06\n",
      " 0.0000000e+00 2.5527012e-24 1.3558376e-17 3.1790861e-14 7.0808512e-29\n",
      " 0.0000000e+00 2.1388443e-22 3.8862452e-10 8.1592174e-07 4.4464346e-32\n",
      " 8.8686525e-09 0.0000000e+00 0.0000000e+00 1.7290178e-16 5.2952147e-26\n",
      " 3.2472892e-06 2.9496272e-18 1.3071897e-11 5.1386791e-28 4.8436380e-07\n",
      " 1.7332829e-32 1.0570760e-17 3.5522326e-26 1.1824658e-16 0.0000000e+00\n",
      " 2.3028755e-25 2.9964412e-34 5.4323342e-20 2.4045066e-10 3.7055680e-13\n",
      " 0.0000000e+00 2.7751728e-24 1.5809433e-25 0.0000000e+00 0.0000000e+00\n",
      " 2.8077689e-31 1.5394747e-32 3.7345618e-08 8.1190595e-32 1.6721908e-20\n",
      " 1.5925226e-25 4.1472437e-29 3.0325983e-17 0.0000000e+00 0.0000000e+00\n",
      " 2.1582307e-05 6.3840192e-30 1.7625263e-14 2.3163466e-25 3.0136252e-26\n",
      " 8.0073727e-33 5.3211049e-29 8.3529095e-34 4.0033441e-24 4.2387557e-25\n",
      " 4.1651286e-36 1.1229796e-06 0.0000000e+00 0.0000000e+00 6.9066552e-34]\n"
     ]
    }
   ],
   "source": [
    "print(test_predictions[100])"
   ]
  },
  {
   "cell_type": "code",
   "execution_count": 16,
   "id": "5ee7abf9",
   "metadata": {},
   "outputs": [
    {
     "name": "stdout",
     "output_type": "stream",
     "text": [
      "Numero di vettori decodificati correttamente: 230235 su 230728 totali \n",
      "Rapporto: 99.786% \n",
      "Media num di errori per array: 0.002\n",
      "\n"
     ]
    },
    {
     "data": {
      "image/png": "[encoded data removed]",
      "text/plain": [
       "<Figure size 432x288 with 1 Axes>"
      ]
     },
     "metadata": {
      "needs_background": "light"
     },
     "output_type": "display_data"
    },
    {
     "data": {
      "text/plain": [
       "<Figure size 432x288 with 0 Axes>"
      ]
     },
     "metadata": {},
     "output_type": "display_data"
    }
   ],
   "source": [
    "arr=results_info(test,test_predictions,logdir) "
   ]
  },
  {
   "cell_type": "code",
   "execution_count": 17,
   "id": "74cdfa98",
   "metadata": {},
   "outputs": [
    {
     "name": "stdout",
     "output_type": "stream",
     "text": [
      "INFO:tensorflow:Assets written to: ./TestLogs/20220625-123155\\myModel\\assets\n"
     ]
    }
   ],
   "source": [
    "#Se i risultati sono buoni salva il modello in modo che possa essere riusato\n",
    "\n",
    "dir_model= os.path.join(logdir,\"myModel\")\n",
    "autoencoder.save(dir_model)\n",
    "\n",
    "autoencoder.summary()"
   ]
  },
  {
   "cell_type": "code",
   "execution_count": null,
   "id": "c8127b9e",
   "metadata": {},
   "outputs": [],
   "source": [
    "PATH_TO_LOAD=\"\"\n",
    "loaded_model = tf.keras.models.load_model(PATH_TO_LOAD)"
   ]
  },
  {
   "cell_type": "code",
   "execution_count": 10,
   "id": "283988aa",
   "metadata": {
    "ExecuteTime": {
     "end_time": "2022-06-18T13:15:32.761190Z",
     "start_time": "2022-06-18T13:15:32.749190Z"
    }
   },
   "outputs": [],
   "source": [
    "#%tensorboard --logdir logsTf\n",
    "%load_ext tensorboard\n",
    "#Avvio da terminale: spostarsi nella cartella dove è presente la cartella di log, > tensorboard --logdir nomecartella"
   ]
  }
 ],
 "metadata": {
  "kernelspec": {
   "display_name": "PyCharm (Deep_Learning_Autoencoder)",
   "language": "python",
   "name": "pycharm-ce22b02f"
  },
  "language_info": {
   "codemirror_mode": {
    "name": "ipython",
    "version": 3
   },
   "file_extension": ".py",
   "mimetype": "text/x-python",
   "name": "python",
   "nbconvert_exporter": "python",
   "pygments_lexer": "ipython3",
   "version": "3.9.12"
  },
  "vscode": {
   "interpreter": {
    "hash": "75241482a63b0cc21089a7e9630ce9a4e49832f95eea58b3d1ce72ab9c72cd52"
   }
  }
 },
 "nbformat": 4,
 "nbformat_minor": 5
}
