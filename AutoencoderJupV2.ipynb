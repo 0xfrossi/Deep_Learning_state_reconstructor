{
 "cells": [
  {
   "cell_type": "code",
   "execution_count": 104,
   "id": "8f435793",
   "metadata": {},
   "outputs": [],
   "source": [
    "import numpy as np\n",
    "import tensorflow as tf\n",
    "from utils_functions import *\n",
    "from plan import *\n",
    "import random\n",
    "from tensorflow.keras import layers\n",
    "from tensorflow.keras.models import Model\n",
    "from sklearn.model_selection import train_test_split\n"
   ]
  },
  {
   "cell_type": "code",
   "execution_count": 5,
   "id": "7177344b",
   "metadata": {},
   "outputs": [
    {
     "name": "stdout",
     "output_type": "stream",
     "text": [
      "File loaded\n",
      "File loaded\n"
     ]
    }
   ],
   "source": [
    "\n",
    "dict_stati= load_file(\"C:/Users/Francesco/Desktop/dataset/dataset/dizionario_stati\")\n",
    "plansLoaded=load_file(\"C:/Users/Francesco/Desktop/dataset/dataset/plans\")\n",
    "#print(type(plansPickles))\n",
    "#plansList=load_from_pickles(\"C:/Users/Francesco/Desktop/dataset/dataset/dizionario_stati\",plansPickles)\n",
    "#print(plansPickles)\n"
   ]
  },
  {
   "cell_type": "code",
   "execution_count": 68,
   "id": "994cd7db",
   "metadata": {},
   "outputs": [],
   "source": [
    "#ogni stato è un tensore con elementi dtype int8, questi stati vengono raggruppati in un altro tensore che rappresnta la\n",
    "#variabile \"states\" del piano \n",
    "def build_vector(dict, states_list):\n",
    "    l=len(dict)\n",
    "    vector_states=[]\n",
    "    for state in states_list:\n",
    "        vector=np.array([0]*l,dtype=np.int8)\n",
    "        #vector=tf.zeros(l,dtype=np.int8)\n",
    "        for s in state:\n",
    "            for key in dict.keys():\n",
    "                if key==s:\n",
    "                    vector[dict[key]-1]=1\n",
    "                    break\n",
    "        t=tf.convert_to_tensor(vector,dtype=tf.int8)            \n",
    "        vector_states.append(t) \n",
    "    r = tf.convert_to_tensor(vector_states,dtype=None)                          \n",
    "    return r\n",
    "\n",
    "\n",
    "#NON UTILIZZATO ADESSO\n",
    "#shape di ogni singolo elemento (r) è (n x 340) con n che varia su ogni piano, raggruppati sulla base dei piani\n",
    "def build_all_vectors(dict,plans_list):\n",
    "    total=[]\n",
    "    for plan in plans_list:\n",
    "        r=build_vector(dict,plan.states)\n",
    "        total.append(r)\n",
    "    #r = tf.convert_to_tensor(total,dtype=None)                         \n",
    "    return total\n",
    " \n",
    "    \n",
    "#gli stati vengono ordinati (in una lista) singolarmente con shape (1x340), non vengono raggruppati sulla base dei piani\n",
    "#da utilizzare per autoencoder standard\n",
    "def build_all_vectors1x340(dict, plans_list):\n",
    "    l=len(dict)\n",
    "    total=[]\n",
    "    for plan in plans_list:\n",
    "        for state in plan.states:\n",
    "            vector=np.array([0]*l,dtype=np.int8)\n",
    "            for s in state:\n",
    "                for key in dict.keys():\n",
    "                    if key==s:\n",
    "                        vector[dict[key]-1]=1\n",
    "                        break\n",
    "            t=tf.convert_to_tensor(vector,dtype=tf.int8)            \n",
    "            total.append(t)\n",
    "    return total        "
   ]
  },
  {
   "cell_type": "code",
   "execution_count": 47,
   "id": "a8f80382",
   "metadata": {
    "scrolled": true
   },
   "outputs": [],
   "source": [
    "#all_states_from_plans_list=build_all_vectors(dict_stati,plansLoaded)"
   ]
  },
  {
   "cell_type": "markdown",
   "id": "4fe83a51",
   "metadata": {},
   "source": [
    "## Preparazione dati"
   ]
  },
  {
   "cell_type": "code",
   "execution_count": 63,
   "id": "8d8fed23",
   "metadata": {},
   "outputs": [],
   "source": [
    "all1x340=build_all_vectors1x340(dict_stati,plansLoaded)\n",
    "random.shuffle(all1x340)"
   ]
  },
  {
   "cell_type": "code",
   "execution_count": 122,
   "id": "ea9dd3bd",
   "metadata": {},
   "outputs": [],
   "source": [
    "#creAzione di train, test e validation set,--> input shape per rete = 340\n",
    "#rendere questi set statici es. comprimerli \n",
    "#random.shuffle(all1x340)\n",
    "half=int(len(all1x340)//3)\n",
    "train=all1x340[half:]\n",
    "vt=all1x340[:half]\n",
    "h2=int(len(vt)//2)\n",
    "validation=vt[h2:]\n",
    "test=vt[:h2]\n"
   ]
  },
  {
   "cell_type": "markdown",
   "id": "d6cb3dc4",
   "metadata": {},
   "source": [
    "# Print di test"
   ]
  },
  {
   "cell_type": "code",
   "execution_count": 124,
   "id": "369df4d3",
   "metadata": {},
   "outputs": [
    {
     "name": "stdout",
     "output_type": "stream",
     "text": [
      "tf.Tensor(\n",
      "[0 1 0 0 0 0 0 0 0 0 0 0 1 0 0 0 0 0 0 0 0 0 0 0 0 0 0 0 0 0 0 0 1 0 1 1 0\n",
      " 0 0 0 0 0 0 0 0 0 0 0 0 0 0 0 0 0 1 0 0 0 0 0 1 0 0 0 0 0 0 0 0 0 0 0 0 0\n",
      " 1 0 0 0 0 0 0 0 0 0 1 0 0 0 0 0 0 0 0 0 0 0 0 0 0 0 0 0 0 0 1 0 0 0 0 0 0\n",
      " 0 0 0 0 0 0 0 0 0 0 0 0 0 0 0 0 0 0 0 0 1 0 0 0 0 0 0 0 1 0 0 0 0 0 0 0 0\n",
      " 0 1 0 0 0 0 0 0 0 0 0 0 0 0 0 0 0 0 0 1 0 0 0 0 0 0 0 0 0 1 0 0 0 0 0 0 0\n",
      " 0 0 0 0 0 0 0 0 0 0 0 0 0 1 0 0 0 0 0 0 0 0 0 0 1 0 0 0 0 0 0 0 0 0 1 0 0\n",
      " 0 0 0 0 0 0 0 0 0 0 0 0 0 0 0 0 0 0 0 0 0 0 0 0 0 0 0 0 0 0 0 0 0 0 0 0 0\n",
      " 0 0 0 0 0 0 0 0 0 0 0 0 0 0 0 0 0 0 0 0 0 0 0 0 0 0 0 0 0 0 0 0 0 0 0 0 0\n",
      " 0 0 0 0 0 0 0 0 0 0 0 0 0 0 0 0 0 0 0 0 0 0 0 0 0 0 0 0 0 0 0 0 0 0 0 0 0\n",
      " 0 0 0 0 0 0 0], shape=(340,), dtype=int8)\n",
      "tf.Tensor(\n",
      "[1 0 0 0 0 0 0 0 0 0 1 0 0 0 0 0 0 1 0 0 0 0 0 0 0 0 0 0 0 0 0 0 0 0 0 0 1\n",
      " 0 0 0 0 0 0 0 0 0 1 0 0 0 0 0 0 0 0 0 0 0 0 0 0 0 0 0 0 0 1 0 0 0 0 1 0 0\n",
      " 0 0 0 0 0 0 0 0 0 0 0 0 0 0 0 0 0 0 1 0 0 0 0 0 1 0 0 0 0 1 0 0 0 0 0 0 0\n",
      " 0 0 0 0 0 0 0 0 0 0 0 0 0 0 0 0 0 0 0 0 0 0 0 0 1 0 0 0 0 0 0 0 0 0 0 0 0\n",
      " 0 0 0 0 0 0 0 0 0 0 0 0 0 0 0 0 0 0 0 0 0 0 0 0 0 0 0 0 0 0 0 0 0 0 0 0 0\n",
      " 0 0 0 0 0 0 0 0 0 0 0 0 0 0 0 0 0 0 0 0 0 0 0 0 0 0 0 0 0 0 0 0 0 0 0 0 0\n",
      " 0 0 0 0 0 0 0 0 0 1 1 0 0 0 0 0 0 0 0 0 0 0 0 0 0 0 0 0 0 0 0 1 0 0 0 0 0\n",
      " 0 0 0 0 0 0 0 0 0 0 0 0 0 0 0 0 0 0 0 0 0 0 0 0 0 0 0 0 0 0 0 0 0 0 0 0 0\n",
      " 0 0 0 0 0 0 0 0 0 0 0 0 0 0 0 0 0 0 0 0 0 0 0 0 0 0 0 0 0 0 0 0 0 0 0 0 0\n",
      " 0 0 0 0 0 0 0], shape=(340,), dtype=int8)\n",
      "tf.Tensor(\n",
      "[0 0 0 1 0 0 0 0 0 1 1 0 0 1 0 1 0 1 1 1 0 0 0 1 0 0 0 0 0 0 1 0 0 0 0 0 0\n",
      " 0 0 0 0 1 0 0 0 0 0 0 0 0 0 0 0 0 0 0 0 0 0 0 0 0 0 0 0 0 0 0 0 0 0 1 0 0\n",
      " 0 0 0 0 1 0 0 0 0 0 0 0 0 0 0 0 0 0 0 0 0 0 0 0 0 0 0 0 0 0 0 0 0 0 0 0 0\n",
      " 0 0 0 0 0 0 0 0 0 0 0 0 0 0 0 0 0 0 0 0 0 0 0 0 0 0 0 0 0 0 1 0 0 0 0 0 0\n",
      " 0 0 0 0 0 0 0 0 0 0 0 0 0 0 0 0 1 0 0 0 0 0 0 0 0 0 0 0 0 0 0 0 0 0 0 0 0\n",
      " 0 0 0 0 0 0 0 0 0 0 0 0 0 0 0 0 0 0 0 0 0 0 0 0 0 0 0 0 0 0 0 0 0 0 0 0 0\n",
      " 0 0 0 0 0 0 0 0 0 0 0 0 0 1 0 0 0 0 0 0 0 0 0 0 0 0 0 0 0 0 0 0 0 0 0 0 0\n",
      " 0 0 0 0 0 0 0 0 0 0 0 0 0 0 0 0 0 0 0 0 0 0 0 0 0 0 0 0 0 0 0 0 0 0 0 0 0\n",
      " 0 0 0 0 0 0 0 0 0 0 0 0 0 0 0 0 0 0 0 0 0 0 0 0 0 0 0 0 0 0 1 0 0 0 0 0 0\n",
      " 0 1 0 0 0 0 0], shape=(340,), dtype=int8)\n"
     ]
    }
   ],
   "source": [
    "print(validation[59])\n",
    "print(test[2000])\n",
    "print(train[5000])"
   ]
  },
  {
   "cell_type": "code",
   "execution_count": 48,
   "id": "68dbc7df",
   "metadata": {},
   "outputs": [
    {
     "name": "stdout",
     "output_type": "stream",
     "text": [
      "tf.Tensor(\n",
      "[[1 1 1 ... 0 0 0]\n",
      " [1 1 1 ... 0 0 0]\n",
      " [1 0 1 ... 0 0 0]\n",
      " ...\n",
      " [0 1 1 ... 0 0 0]\n",
      " [0 1 1 ... 0 0 0]\n",
      " [0 1 1 ... 0 0 0]], shape=(12, 340), dtype=int8)\n",
      "tf.Tensor(\n",
      "[[1 1 0 ... 0 0 0]\n",
      " [1 1 0 ... 0 0 0]\n",
      " [1 1 0 ... 0 0 0]\n",
      " ...\n",
      " [0 1 0 ... 0 0 0]\n",
      " [0 1 0 ... 0 0 0]\n",
      " [0 1 0 ... 0 0 0]], shape=(11, 340), dtype=int8)\n",
      "tf.Tensor(\n",
      "[[0 0 0 ... 0 0 0]\n",
      " [0 0 0 ... 0 0 0]\n",
      " [0 0 0 ... 0 0 0]\n",
      " ...\n",
      " [1 0 0 ... 0 0 0]\n",
      " [1 0 0 ... 0 0 0]\n",
      " [1 0 0 ... 0 0 0]], shape=(15, 340), dtype=int8)\n"
     ]
    }
   ],
   "source": [
    "for i in range(3):\n",
    "    print(all_states_from_plans_list[i])"
   ]
  },
  {
   "cell_type": "code",
   "execution_count": 4,
   "id": "b662722d",
   "metadata": {},
   "outputs": [
    {
     "name": "stdout",
     "output_type": "stream",
     "text": [
      "********initial state *******\n",
      "14\n",
      "\n",
      "['clear crate3', 'clear pallet0', 'at crate0 distributor0', 'available hoist4', 'at truck0 distributor0', 'available hoist3', 'available hoist2', 'on crate3 pallet4', 'at crate3 depot1', 'on crate0 pallet1', 'available hoist0', 'clear crate0', 'clear pallet2', 'at truck2 distributor2']\n",
      "******** states *******\n",
      "11\n",
      "\n",
      "[['at truck2 depot1', 'clear crate0', 'available hoist0', 'on crate0 pallet1', 'clear crate3', 'on crate3 pallet4', 'available hoist4', 'at crate0 distributor0', 'available hoist2', 'available hoist3', 'at crate3 depot1', 'clear pallet0', 'clear pallet2', 'at truck0 distributor0'], ['at truck2 depot1', 'lifting hoist2 crate0', 'clear pallet1', 'available hoist0', 'clear crate3', 'on crate3 pallet4', 'available hoist4', 'available hoist3', 'at crate3 depot1', 'clear pallet0', 'clear pallet2', 'at truck0 distributor0'], ['at truck2 depot1', 'clear pallet1', 'in crate0 truck0', 'available hoist0', 'clear crate3', 'on crate3 pallet4', 'available hoist4', 'available hoist2', 'available hoist3', 'at crate3 depot1', 'clear pallet0', 'clear pallet2', 'at truck0 distributor0'], ['at truck2 depot1', 'lifting hoist3 crate3', 'clear pallet4', 'clear pallet1', 'in crate0 truck0', 'available hoist0', 'available hoist4', 'available hoist2', 'clear pallet0', 'clear pallet2', 'at truck0 distributor0'], ['at truck2 depot1', 'clear pallet4', 'clear pallet1', 'in crate3 truck2', 'in crate0 truck0', 'available hoist0', 'available hoist4', 'available hoist2', 'available hoist3', 'clear pallet0', 'clear pallet2', 'at truck0 distributor0'], ['at truck2 depot2', 'clear pallet4', 'clear pallet1', 'in crate3 truck2', 'in crate0 truck0', 'available hoist0', 'available hoist4', 'available hoist2', 'available hoist3', 'clear pallet0', 'clear pallet2', 'at truck0 distributor0'], ['at truck2 depot2', 'clear pallet4', 'clear pallet1', 'in crate0 truck0', 'lifting hoist4 crate3', 'available hoist0', 'available hoist2', 'available hoist3', 'clear pallet0', 'clear pallet2', 'at truck0 distributor0'], ['at truck2 depot2', 'clear pallet4', 'clear pallet1', 'in crate0 truck0', 'at crate3 depot2', 'on crate3 pallet2', 'available hoist0', 'clear crate3', 'available hoist4', 'available hoist2', 'available hoist3', 'clear pallet0', 'at truck0 distributor0'], ['at truck0 distributor2', 'at truck2 depot2', 'clear pallet4', 'clear pallet1', 'in crate0 truck0', 'at crate3 depot2', 'on crate3 pallet2', 'available hoist0', 'clear crate3', 'available hoist4', 'available hoist2', 'available hoist3', 'clear pallet0'], ['at truck0 distributor2', 'at truck2 depot2', 'clear pallet4', 'clear pallet1', 'lifting hoist0 crate0', 'at crate3 depot2', 'on crate3 pallet2', 'clear crate3', 'available hoist4', 'available hoist2', 'available hoist3', 'clear pallet0'], ['at truck0 distributor2', 'at truck2 depot2', 'clear pallet4', 'clear pallet1', 'at crate3 depot2', 'on crate3 pallet2', 'at crate0 distributor2', 'on crate0 pallet0', 'clear crate0', 'available hoist0', 'clear crate3', 'available hoist4', 'available hoist2', 'available hoist3']]\n",
      "******* goals ********\n",
      "2\n",
      "\n",
      "['on crate3 pallet2', 'on crate0 pallet0']\n",
      "\n",
      "\n",
      " -------------  dict stati -----------\n",
      "340\n",
      "\n",
      "{'at truck2 depot1': 1, 'clear crate3': 2, 'clear crate9': 3, 'available hoist4': 4, 'on crate3 pallet1': 5, 'on crate9 pallet0': 6, 'clear crate8': 7, 'on crate8 pallet4': 8, 'at crate3 depot2': 9, 'available hoist2': 10, 'available hoist3': 11, 'at crate9 distributor2': 12, 'available hoist5': 13, 'available hoist0': 14, 'at crate8 depot1': 15, 'available hoist1': 16, 'clear pallet2': 17, 'clear pallet5': 18, 'clear pallet3': 19, 'at truck0 distributor1': 20, 'at truck1 distributor1': 21, 'at truck1 depot2': 22, 'lifting hoist2 crate3': 23, 'clear pallet1': 24, 'in crate3 truck1': 25, 'at truck1 distributor0': 26, 'lifting hoist5 crate3': 27, 'at crate3 distributor0': 28, 'on crate3 pallet5': 29, 'lifting hoist0 crate8': 30, 'clear pallet4': 31, 'in crate8 truck2': 32, 'at truck2 distributor1': 33, 'lifting hoist4 crate8': 34, 'at crate8 distributor1': 35, 'on crate8 pallet2': 36, 'clear crate0': 37, 'on crate0 pallet1': 38, 'on crate3 pallet4': 39, 'at crate0 distributor0': 40, 'at crate3 depot1': 41, 'clear pallet0': 42, 'at truck0 distributor0': 43, 'lifting hoist2 crate0': 44, 'in crate0 truck0': 45, 'lifting hoist3 crate3': 46, 'in crate3 truck2': 47, 'at truck2 depot2': 48, 'lifting hoist4 crate3': 49, 'on crate3 pallet2': 50, 'at truck0 distributor2': 51, 'lifting hoist0 crate0': 52, 'at crate0 distributor2': 53, 'on crate0 pallet0': 54, 'clear crate2': 55, 'on crate2 pallet2': 56, 'at crate7 distributor1': 57, 'at crate2 depot2': 58, 'on crate7 pallet5': 59, 'on crate8 crate7': 60, 'at truck0 depot0': 61, 'lifting hoist4 crate2': 62, 'in crate2 truck1': 63, 'lifting hoist1 crate8': 64, 'clear crate7': 65, 'lifting hoist1 crate7': 66, 'in crate7 truck2': 67, 'lifting hoist2 crate7': 68, 'at crate7 depot1': 69, 'on crate7 pallet4': 70, 'on crate8 pallet5': 71, 'at truck1 distributor2': 72, 'lifting hoist5 crate2': 73, 'at crate2 distributor2': 74, 'on crate2 pallet1': 75, 'lifting hoist3 crate0': 76, 'on crate7 pallet1': 77, 'at crate7 distributor0': 78, 'clear crate6': 79, 'at crate8 depot2': 80, 'at crate5 depot2': 81, 'at crate6 depot2': 82, 'on crate1 crate7': 83, 'at crate4 depot2': 84, 'on crate3 crate1': 85, 'at crate1 distributor0': 86, 'on crate4 crate8': 87, 'on crate5 crate4': 88, 'on crate6 crate5': 89, 'at truck0 depot2': 90, 'lifting hoist0 crate6': 91, 'clear crate5': 92, 'in crate6 truck1': 93, 'lifting hoist0 crate5': 94, 'clear crate4': 95, 'in crate5 truck1': 96, 'lifting hoist0 crate4': 97, 'in crate4 truck1': 98, 'in crate8 truck1': 99, 'on crate6 pallet4': 100, 'in crate0 truck1': 101, 'clear crate1': 102, 'lifting hoist3 crate1': 103, 'in crate1 truck1': 104, 'lifting hoist3 crate7': 105, 'in crate7 truck1': 106, 'lifting hoist3 crate5': 107, 'at crate5 distributor0': 108, 'on crate5 pallet1': 109, 'on crate0 crate5': 110, 'lifting hoist3 crate4': 111, 'on crate4 crate0': 112, 'at crate4 distributor0': 113, 'lifting hoist3 crate8': 114, 'on crate8 crate4': 115, 'at crate8 distributor0': 116, 'lifting hoist0 crate3': 117, 'on crate3 crate6': 118, 'lifting hoist0 crate7': 119, 'on crate7 crate3': 120, 'at crate7 depot2': 121, 'on crate1 pallet5': 122, 'at crate1 depot2': 123, 'at crate8 distributor2': 124, 'on crate0 crate1': 125, 'on crate5 crate0': 126, 'at crate6 distributor2': 127, 'at crate0 depot2': 128, 'on crate9 crate8': 129, 'on crate6 crate9': 130, 'on crate2 crate6': 131, 'in crate4 truck2': 132, 'in crate5 truck2': 133, 'in crate0 truck2': 134, 'at truck2 distributor2': 135, 'in crate2 truck2': 136, 'lifting hoist5 crate6': 137, 'in crate6 truck2': 138, 'lifting hoist5 crate9': 139, 'in crate9 truck2': 140, 'lifting hoist5 crate8': 141, 'lifting hoist5 crate0': 142, 'on crate0 pallet4': 143, 'on crate9 crate0': 144, 'lifting hoist5 crate4': 145, 'at crate4 distributor2': 146, 'on crate4 crate9': 147, 'on crate6 crate1': 148, 'on crate8 crate6': 149, 'on crate5 crate8': 150, 'lifting hoist4 crate1': 151, 'on crate2 pallet4': 152, 'on crate3 pallet3': 153, 'at crate3 distributor2': 154, 'at crate2 depot1': 155, 'at truck2 depot0': 156, 'in crate1 truck2': 157, 'lifting hoist2 crate2': 158, 'lifting hoist2 crate1': 159, 'at crate1 depot1': 160, 'on crate1 pallet4': 161, 'on crate2 pallet3': 162, 'on crate4 pallet3': 163, 'at crate4 depot0': 164, 'at crate6 distributor0': 165, 'at truck0 depot1': 166, 'lifting hoist1 crate1': 167, 'at crate1 distributor1': 168, 'on crate1 pallet1': 169, 'at truck1 depot0': 170, 'lifting hoist4 crate4': 171, 'on crate4 pallet5': 172, 'lifting hoist4 crate6': 173, 'on crate6 crate4': 174, 'lifting hoist5 crate7': 175, 'at crate8 depot0': 176, 'on crate8 pallet3': 177, 'at crate2 depot0': 178, 'at crate9 depot0': 179, 'at crate6 depot0': 180, 'at crate5 depot0': 181, 'at crate0 depot0': 182, 'on crate2 crate8': 183, 'on crate6 crate2': 184, 'on crate0 crate6': 185, 'on crate9 crate5': 186, 'lifting hoist2 crate9': 187, 'lifting hoist2 crate5': 188, 'lifting hoist2 crate6': 189, 'lifting hoist2 crate8': 190, 'at crate7 depot0': 191, 'on crate7 pallet3': 192, 'on crate5 crate7': 193, 'on crate9 pallet5': 194, 'on crate8 crate9': 195, 'on crate0 crate8': 196, 'on crate2 crate4': 197, 'on crate5 pallet3': 198, 'at crate5 distributor1': 199, 'in crate3 truck0': 200, 'in crate9 truck0': 201, 'in crate5 truck0': 202, 'lifting hoist0 crate9': 203, 'lifting hoist1 crate3': 204, 'on crate3 pallet0': 205, 'at crate9 distributor1': 206, 'on crate9 pallet3': 207, 'lifting hoist1 crate5': 208, 'on crate5 crate3': 209, 'at crate3 distributor1': 210, 'on crate5 pallet0': 211, 'at crate9 depot2': 212, 'on crate5 pallet5': 213, 'at truck1 depot1': 214, 'lifting hoist1 crate2': 215, 'at crate5 distributor2': 216, 'at crate1 distributor2': 217, 'on crate9 crate7': 218, 'on crate3 crate9': 219, 'on crate1 crate5': 220, 'on crate8 crate1': 221, 'lifting hoist5 crate1': 222, 'lifting hoist5 crate5': 223, 'in crate2 truck0': 224, 'lifting hoist1 crate9': 225, 'on crate8 pallet0': 226, 'in crate7 truck0': 227, 'on crate1 crate2': 228, 'on crate9 crate1': 229, 'lifting hoist1 crate0': 230, 'on crate0 crate7': 231, 'on crate0 pallet3': 232, 'at crate0 depot1': 233, 'on crate5 pallet2': 234, 'on crate6 crate0': 235, 'at truck2 distributor0': 236, 'at crate9 distributor0': 237, 'on crate9 pallet4': 238, 'lifting hoist0 crate1': 239, 'on crate1 crate8': 240, 'on crate5 crate1': 241, 'on crate3 crate5': 242, 'lifting hoist4 crate0': 243, 'on crate4 pallet4': 244, 'on crate8 crate3': 245, 'on crate3 crate0': 246, 'at crate3 depot0': 247, 'on crate4 crate1': 248, 'at crate4 depot1': 249, 'at crate9 depot1': 250, 'at crate5 depot1': 251, 'on crate7 crate4': 252, 'on crate6 pallet0': 253, 'lifting hoist4 crate9': 254, 'lifting hoist4 crate5': 255, 'lifting hoist4 crate7': 256, 'on crate9 crate6': 257, 'at crate6 depot1': 258, 'on crate6 pallet5': 259, 'on crate0 crate9': 260, 'in crate9 truck1': 261, 'on crate9 pallet1': 262, 'on crate9 crate4': 263, 'on crate2 crate3': 264, 'in crate1 truck0': 265, 'lifting hoist3 crate2': 266, 'on crate6 pallet3': 267, 'on crate4 crate6': 268, 'at crate7 distributor2': 269, 'on crate6 crate3': 270, 'on crate0 crate4': 271, 'on crate7 crate0': 272, 'in crate4 truck0': 273, 'on crate4 crate5': 274, 'on crate2 crate0': 275, 'on crate7 crate6': 276, 'lifting hoist2 crate4': 277, 'on crate2 crate5': 278, 'at crate2 distributor0': 279, 'on crate0 crate2': 280, 'on crate3 crate7': 281, 'on crate4 crate3': 282, 'lifting hoist1 crate4': 283, 'at crate4 distributor1': 284, 'on crate4 pallet2': 285, 'on crate1 pallet3': 286, 'at crate0 distributor1': 287, 'on crate6 crate8': 288, 'on crate5 crate9': 289, 'lifting hoist3 crate9': 290, 'lifting hoist3 crate6': 291, 'on crate0 crate3': 292, 'on crate1 crate0': 293, 'at crate6 distributor1': 294, 'on crate7 pallet2': 295, 'on crate9 crate2': 296, 'on crate0 pallet2': 297, 'on crate1 crate3': 298, 'on crate2 crate1': 299, 'in crate6 truck0': 300, 'on crate2 pallet5': 301, 'at crate1 depot0': 302, 'on crate8 crate2': 303, 'on crate3 crate8': 304, 'on crate6 pallet1': 305, 'on crate7 pallet0': 306, 'on crate4 pallet1': 307, 'on crate8 crate0': 308, 'on crate1 crate4': 309, 'at crate2 distributor1': 310, 'on crate8 pallet1': 311, 'on crate2 crate7': 312, 'on crate5 crate2': 313, 'on crate3 crate2': 314, 'on crate9 crate3': 315, 'on crate1 crate6': 316, 'lifting hoist1 crate6': 317, 'on crate5 crate6': 318, 'on crate3 crate4': 319, 'on crate7 crate8': 320, 'on crate4 crate7': 321, 'on crate2 pallet0': 322, 'lifting hoist0 crate2': 323, 'on crate1 pallet0': 324, 'on crate5 pallet4': 325, 'on crate0 pallet5': 326, 'in crate8 truck0': 327, 'on crate9 pallet2': 328, 'on crate2 crate9': 329, 'on crate4 crate2': 330, 'on crate4 pallet0': 331, 'on crate7 crate2': 332, 'on crate6 crate7': 333, 'on crate7 crate5': 334, 'on crate6 pallet2': 335, 'on crate7 crate1': 336, 'on crate8 crate5': 337, 'on crate1 crate9': 338, 'on crate1 pallet2': 339, 'on crate7 crate9': 340}\n"
     ]
    }
   ],
   "source": [
    "print(\"********initial state *******\")\n",
    "print(len(plansLoaded[1].initial_state))\n",
    "print(\"\")\n",
    "print(plansLoaded[1].initial_state)\n",
    "\n",
    "print(\"******** states *******\")\n",
    "print(len(plansLoaded[1].states))\n",
    "print(\"\")\n",
    "print(plansLoaded[1].states)\n",
    "print(\"******* goals ********\")\n",
    "print(len(plansLoaded[1].goals))\n",
    "print(\"\")\n",
    "print(plansLoaded[1].goals)\n",
    "\n",
    "print(\"\\n\\n -------------  dict stati -----------\")\n",
    "print(len(dict_stati))\n",
    "print(\"\")\n",
    "print(dict_stati)"
   ]
  },
  {
   "cell_type": "code",
   "execution_count": 64,
   "id": "944bb903",
   "metadata": {},
   "outputs": [
    {
     "name": "stdout",
     "output_type": "stream",
     "text": [
      "tf.Tensor(\n",
      "[1 1 1 1 1 1 1 1 1 1 1 1 1 1 1 1 1 1 1 1 1 0 0 0 0 0 0 0 0 0 0 0 0 0 0 0 0\n",
      " 0 0 0 0 0 0 0 0 0 0 0 0 0 0 0 0 0 0 0 0 0 0 0 0 0 0 0 0 0 0 0 0 0 0 0 0 0\n",
      " 0 0 0 0 0 0 0 0 0 0 0 0 0 0 0 0 0 0 0 0 0 0 0 0 0 0 0 0 0 0 0 0 0 0 0 0 0\n",
      " 0 0 0 0 0 0 0 0 0 0 0 0 0 0 0 0 0 0 0 0 0 0 0 0 0 0 0 0 0 0 0 0 0 0 0 0 0\n",
      " 0 0 0 0 0 0 0 0 0 0 0 0 0 0 0 0 0 0 0 0 0 0 0 0 0 0 0 0 0 0 0 0 0 0 0 0 0\n",
      " 0 0 0 0 0 0 0 0 0 0 0 0 0 0 0 0 0 0 0 0 0 0 0 0 0 0 0 0 0 0 0 0 0 0 0 0 0\n",
      " 0 0 0 0 0 0 0 0 0 0 0 0 0 0 0 0 0 0 0 0 0 0 0 0 0 0 0 0 0 0 0 0 0 0 0 0 0\n",
      " 0 0 0 0 0 0 0 0 0 0 0 0 0 0 0 0 0 0 0 0 0 0 0 0 0 0 0 0 0 0 0 0 0 0 0 0 0\n",
      " 0 0 0 0 0 0 0 0 0 0 0 0 0 0 0 0 0 0 0 0 0 0 0 0 0 0 0 0 0 0 0 0 0 0 0 0 0\n",
      " 0 0 0 0 0 0 0], shape=(340,), dtype=int8)\n",
      "tf.Tensor(\n",
      "[1 1 1 1 1 1 1 1 1 1 1 1 1 1 1 1 1 1 1 1 0 1 0 0 0 0 0 0 0 0 0 0 0 0 0 0 0\n",
      " 0 0 0 0 0 0 0 0 0 0 0 0 0 0 0 0 0 0 0 0 0 0 0 0 0 0 0 0 0 0 0 0 0 0 0 0 0\n",
      " 0 0 0 0 0 0 0 0 0 0 0 0 0 0 0 0 0 0 0 0 0 0 0 0 0 0 0 0 0 0 0 0 0 0 0 0 0\n",
      " 0 0 0 0 0 0 0 0 0 0 0 0 0 0 0 0 0 0 0 0 0 0 0 0 0 0 0 0 0 0 0 0 0 0 0 0 0\n",
      " 0 0 0 0 0 0 0 0 0 0 0 0 0 0 0 0 0 0 0 0 0 0 0 0 0 0 0 0 0 0 0 0 0 0 0 0 0\n",
      " 0 0 0 0 0 0 0 0 0 0 0 0 0 0 0 0 0 0 0 0 0 0 0 0 0 0 0 0 0 0 0 0 0 0 0 0 0\n",
      " 0 0 0 0 0 0 0 0 0 0 0 0 0 0 0 0 0 0 0 0 0 0 0 0 0 0 0 0 0 0 0 0 0 0 0 0 0\n",
      " 0 0 0 0 0 0 0 0 0 0 0 0 0 0 0 0 0 0 0 0 0 0 0 0 0 0 0 0 0 0 0 0 0 0 0 0 0\n",
      " 0 0 0 0 0 0 0 0 0 0 0 0 0 0 0 0 0 0 0 0 0 0 0 0 0 0 0 0 0 0 0 0 0 0 0 0 0\n",
      " 0 0 0 0 0 0 0], shape=(340,), dtype=int8)\n",
      "tf.Tensor(\n",
      "[1 0 1 1 0 1 1 1 0 0 1 1 1 1 1 1 1 1 1 1 0 1 1 1 0 0 0 0 0 0 0 0 0 0 0 0 0\n",
      " 0 0 0 0 0 0 0 0 0 0 0 0 0 0 0 0 0 0 0 0 0 0 0 0 0 0 0 0 0 0 0 0 0 0 0 0 0\n",
      " 0 0 0 0 0 0 0 0 0 0 0 0 0 0 0 0 0 0 0 0 0 0 0 0 0 0 0 0 0 0 0 0 0 0 0 0 0\n",
      " 0 0 0 0 0 0 0 0 0 0 0 0 0 0 0 0 0 0 0 0 0 0 0 0 0 0 0 0 0 0 0 0 0 0 0 0 0\n",
      " 0 0 0 0 0 0 0 0 0 0 0 0 0 0 0 0 0 0 0 0 0 0 0 0 0 0 0 0 0 0 0 0 0 0 0 0 0\n",
      " 0 0 0 0 0 0 0 0 0 0 0 0 0 0 0 0 0 0 0 0 0 0 0 0 0 0 0 0 0 0 0 0 0 0 0 0 0\n",
      " 0 0 0 0 0 0 0 0 0 0 0 0 0 0 0 0 0 0 0 0 0 0 0 0 0 0 0 0 0 0 0 0 0 0 0 0 0\n",
      " 0 0 0 0 0 0 0 0 0 0 0 0 0 0 0 0 0 0 0 0 0 0 0 0 0 0 0 0 0 0 0 0 0 0 0 0 0\n",
      " 0 0 0 0 0 0 0 0 0 0 0 0 0 0 0 0 0 0 0 0 0 0 0 0 0 0 0 0 0 0 0 0 0 0 0 0 0\n",
      " 0 0 0 0 0 0 0], shape=(340,), dtype=int8)\n",
      "tf.Tensor(\n",
      "[1 0 1 1 0 1 1 1 0 1 1 1 1 1 1 1 1 1 1 1 0 1 0 1 1 0 0 0 0 0 0 0 0 0 0 0 0\n",
      " 0 0 0 0 0 0 0 0 0 0 0 0 0 0 0 0 0 0 0 0 0 0 0 0 0 0 0 0 0 0 0 0 0 0 0 0 0\n",
      " 0 0 0 0 0 0 0 0 0 0 0 0 0 0 0 0 0 0 0 0 0 0 0 0 0 0 0 0 0 0 0 0 0 0 0 0 0\n",
      " 0 0 0 0 0 0 0 0 0 0 0 0 0 0 0 0 0 0 0 0 0 0 0 0 0 0 0 0 0 0 0 0 0 0 0 0 0\n",
      " 0 0 0 0 0 0 0 0 0 0 0 0 0 0 0 0 0 0 0 0 0 0 0 0 0 0 0 0 0 0 0 0 0 0 0 0 0\n",
      " 0 0 0 0 0 0 0 0 0 0 0 0 0 0 0 0 0 0 0 0 0 0 0 0 0 0 0 0 0 0 0 0 0 0 0 0 0\n",
      " 0 0 0 0 0 0 0 0 0 0 0 0 0 0 0 0 0 0 0 0 0 0 0 0 0 0 0 0 0 0 0 0 0 0 0 0 0\n",
      " 0 0 0 0 0 0 0 0 0 0 0 0 0 0 0 0 0 0 0 0 0 0 0 0 0 0 0 0 0 0 0 0 0 0 0 0 0\n",
      " 0 0 0 0 0 0 0 0 0 0 0 0 0 0 0 0 0 0 0 0 0 0 0 0 0 0 0 0 0 0 0 0 0 0 0 0 0\n",
      " 0 0 0 0 0 0 0], shape=(340,), dtype=int8)\n",
      "tf.Tensor(\n",
      "[1 0 1 1 0 1 1 1 0 1 1 1 1 1 1 1 1 1 1 1 0 0 0 1 1 1 0 0 0 0 0 0 0 0 0 0 0\n",
      " 0 0 0 0 0 0 0 0 0 0 0 0 0 0 0 0 0 0 0 0 0 0 0 0 0 0 0 0 0 0 0 0 0 0 0 0 0\n",
      " 0 0 0 0 0 0 0 0 0 0 0 0 0 0 0 0 0 0 0 0 0 0 0 0 0 0 0 0 0 0 0 0 0 0 0 0 0\n",
      " 0 0 0 0 0 0 0 0 0 0 0 0 0 0 0 0 0 0 0 0 0 0 0 0 0 0 0 0 0 0 0 0 0 0 0 0 0\n",
      " 0 0 0 0 0 0 0 0 0 0 0 0 0 0 0 0 0 0 0 0 0 0 0 0 0 0 0 0 0 0 0 0 0 0 0 0 0\n",
      " 0 0 0 0 0 0 0 0 0 0 0 0 0 0 0 0 0 0 0 0 0 0 0 0 0 0 0 0 0 0 0 0 0 0 0 0 0\n",
      " 0 0 0 0 0 0 0 0 0 0 0 0 0 0 0 0 0 0 0 0 0 0 0 0 0 0 0 0 0 0 0 0 0 0 0 0 0\n",
      " 0 0 0 0 0 0 0 0 0 0 0 0 0 0 0 0 0 0 0 0 0 0 0 0 0 0 0 0 0 0 0 0 0 0 0 0 0\n",
      " 0 0 0 0 0 0 0 0 0 0 0 0 0 0 0 0 0 0 0 0 0 0 0 0 0 0 0 0 0 0 0 0 0 0 0 0 0\n",
      " 0 0 0 0 0 0 0], shape=(340,), dtype=int8)\n"
     ]
    }
   ],
   "source": [
    "for i in range(5):\n",
    "    print(all1x340[i])"
   ]
  },
  {
   "cell_type": "code",
   "execution_count": null,
   "id": "18f079b4",
   "metadata": {},
   "outputs": [],
   "source": []
  }
 ],
 "metadata": {
  "kernelspec": {
   "display_name": "Python 3 (ipykernel)",
   "language": "python",
   "name": "python3"
  },
  "language_info": {
   "codemirror_mode": {
    "name": "ipython",
    "version": 3
   },
   "file_extension": ".py",
   "mimetype": "text/x-python",
   "name": "python",
   "nbconvert_exporter": "python",
   "pygments_lexer": "ipython3",
   "version": "3.9.12"
  }
 },
 "nbformat": 4,
 "nbformat_minor": 5
}
