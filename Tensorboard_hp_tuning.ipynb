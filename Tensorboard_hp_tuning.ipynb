{
 "cells": [
  {
   "cell_type": "code",
   "execution_count": 37,
   "id": "1f20066a",
   "metadata": {
    "ExecuteTime": {
     "end_time": "2022-06-27T06:58:54.230456Z",
     "start_time": "2022-06-27T06:58:54.214958Z"
    }
   },
   "outputs": [
    {
     "name": "stdout",
     "output_type": "stream",
     "text": [
      "The tensorboard extension is already loaded. To reload it, use:\n",
      "  %reload_ext tensorboard\n"
     ]
    }
   ],
   "source": [
    "%load_ext tensorboard"
   ]
  },
  {
   "cell_type": "code",
   "execution_count": 38,
   "id": "283f868d",
   "metadata": {
    "ExecuteTime": {
     "end_time": "2022-06-27T06:58:54.245957Z",
     "start_time": "2022-06-27T06:58:54.232456Z"
    }
   },
   "outputs": [],
   "source": [
    "import numpy as np\n",
    "import tensorflow as tf\n",
    "from utils_functions import *\n",
    "from plan import *\n",
    "import random\n",
    "from tensorflow.keras.layers import Dense, Input\n",
    "from tensorflow.keras.models import Model\n",
    "from tensorboard.plugins.hparams import api as hp\n",
    "import datetime, os"
   ]
  },
  {
   "cell_type": "code",
   "execution_count": 39,
   "id": "11c66693",
   "metadata": {
    "ExecuteTime": {
     "end_time": "2022-06-27T06:58:54.261455Z",
     "start_time": "2022-06-27T06:58:54.247457Z"
    }
   },
   "outputs": [
    {
     "name": "stdout",
     "output_type": "stream",
     "text": [
      "Num GPUs Available:  1\n",
      "[PhysicalDevice(name='/physical_device:GPU:0', device_type='GPU')]\n"
     ]
    }
   ],
   "source": [
    "# controllo di star effettivamente usando la GPU\n",
    "\n",
    "print(\"Num GPUs Available: \", len(tf.config.list_physical_devices('GPU')))\n",
    "print(tf.config.list_physical_devices('GPU'))"
   ]
  },
  {
   "cell_type": "code",
   "execution_count": 40,
   "id": "043c6639",
   "metadata": {
    "ExecuteTime": {
     "end_time": "2022-06-27T06:58:59.872118Z",
     "start_time": "2022-06-27T06:58:54.263456Z"
    }
   },
   "outputs": [
    {
     "name": "stdout",
     "output_type": "stream",
     "text": [
      "File loaded\n",
      "File loaded\n"
     ]
    }
   ],
   "source": [
    "dict_stati= load_file(\"./dizionario_stati\")\n",
    "plansLoaded=load_file(\"./plans\")"
   ]
  },
  {
   "cell_type": "code",
   "execution_count": 41,
   "id": "433c7390",
   "metadata": {
    "ExecuteTime": {
     "end_time": "2022-06-27T06:58:59.887619Z",
     "start_time": "2022-06-27T06:58:59.873620Z"
    }
   },
   "outputs": [],
   "source": [
    "#ogni stato è un tensore con elementi dtype int8, questi stati vengono raggruppati in un altro tensore che rappresnta la\n",
    "#variabile \"states\" del piano \n",
    "\n",
    "def build_vector(dict, states_list):\n",
    "    l=len(dict)\n",
    "    vector_states=[]\n",
    "    for state in states_list:\n",
    "        vector=np.array([0]*l,dtype=np.int8)\n",
    "        #vector=tf.zeros(l,dtype=np.int8)\n",
    "        for s in state:\n",
    "            for key in dict.keys():\n",
    "                if key==s:\n",
    "                    vector[dict[key]-1]=1\n",
    "                    break\n",
    "        #t=tf.convert_to_tensor(vector,dtype=tf.int8)            \n",
    "        vector_states.append(vector) \n",
    "    r = np.array(vector_states)                          \n",
    "    return r\n",
    "\n",
    "#NON UTILIZZATO ADESSO\n",
    "#shape di ogni singolo elemento (r) è (n x 340) con n che varia su ogni piano, raggruppati sulla base dei piani\n",
    "\n",
    "def build_all_vectors(dict,plans_list):\n",
    "    total=[]\n",
    "    for plan in plans_list:\n",
    "        r=build_vector(dict,plan.states)\n",
    "        total.append(r)\n",
    "    #r = tf.convert_to_tensor(total,dtype=None)                         \n",
    "    return total\n",
    " \n",
    "    \n",
    "#gli stati vengono ordinati (in una lista) singolarmente con shape (1x340), non vengono raggruppati sulla base dei piani\n",
    "#da utilizzare per autoencoder standard\n",
    "\n",
    "def build_all_vectors1x340(dict, plans_list):\n",
    "    l=len(dict)\n",
    "    total=[]\n",
    "    for plan in plans_list:\n",
    "        for state in plan.states:\n",
    "            vector=np.array([0]*l,dtype=np.int8)\n",
    "            for s in state:\n",
    "                for key in dict.keys():\n",
    "                    if key==s:\n",
    "                        vector[dict[key]-1]=1\n",
    "                        break\n",
    "            #t=tf.convert_to_tensor(vector,dtype=tf.int8)            \n",
    "            total.append(vector)\n",
    "    total=np.array(total)        \n",
    "    return total        "
   ]
  },
  {
   "cell_type": "markdown",
   "id": "cc6f8594",
   "metadata": {},
   "source": [
    "## Preparazione dati"
   ]
  },
  {
   "cell_type": "markdown",
   "id": "03f6a441",
   "metadata": {},
   "source": [
    "### Caricamento dataset statici"
   ]
  },
  {
   "cell_type": "code",
   "execution_count": 42,
   "id": "548e70da",
   "metadata": {
    "ExecuteTime": {
     "end_time": "2022-06-27T07:02:05.315030Z",
     "start_time": "2022-06-27T06:58:59.889620Z"
    }
   },
   "outputs": [
    {
     "name": "stdout",
     "output_type": "stream",
     "text": [
      "File loaded\n",
      "File loaded\n",
      "File loaded\n"
     ]
    }
   ],
   "source": [
    "test=load_file(\"./Dataset/set_test\")\n",
    "train=load_file(\"./Dataset/set_training\")\n",
    "validation=load_file(\"./Dataset/set_validation\")"
   ]
  },
  {
   "cell_type": "code",
   "execution_count": 43,
   "id": "4775b2e8",
   "metadata": {
    "ExecuteTime": {
     "end_time": "2022-06-27T07:03:37.657009Z",
     "start_time": "2022-06-27T07:02:05.318530Z"
    }
   },
   "outputs": [],
   "source": [
    "test=np.array(test,dtype=np.int8)\n",
    "train=np.array(train,dtype=np.int8)\n",
    "validation=np.array(validation,dtype=np.int8)"
   ]
  },
  {
   "cell_type": "code",
   "execution_count": 44,
   "id": "b2f44f21",
   "metadata": {
    "ExecuteTime": {
     "end_time": "2022-06-27T07:03:37.672506Z",
     "start_time": "2022-06-27T07:03:37.658508Z"
    }
   },
   "outputs": [],
   "source": [
    "logdir = os.path.join(\"./TestLogs/\", datetime.datetime.now().strftime(\"%Y%m%d-%H%M%S\"))\n",
    "my_callbacks = [\n",
    "    tf.keras.callbacks.EarlyStopping(patience=10),\n",
    "    tf.keras.callbacks.TensorBoard(log_dir=logdir,histogram_freq=1, write_graph=True, write_images=True)\n",
    "]"
   ]
  },
  {
   "cell_type": "code",
   "execution_count": 45,
   "id": "a30a81ad",
   "metadata": {
    "ExecuteTime": {
     "end_time": "2022-06-27T07:03:37.703506Z",
     "start_time": "2022-06-27T07:03:37.674007Z"
    }
   },
   "outputs": [],
   "source": [
    "# Per il test mi limito a tunare il numero di unità nascoste.\n",
    "# Se poi funziona, dovrebbe trattarsi solo di scrivere meccanicamente le righe restanti.\n",
    "input_size = 340\n",
    "HP_HIDDEN_SIZE = hp.HParam('hidden_size', hp.Discrete([160, 180]))\n",
    "code_size = 85\n",
    "METRIC_ACCURACY = 'accuracy'\n",
    "\n",
    "with tf.summary.create_file_writer('./logs/hparam_tuning').as_default():\n",
    "    hp.hparams_config(\n",
    "        hparams=[HP_HIDDEN_SIZE],\n",
    "        metrics=[hp.Metric(METRIC_ACCURACY, display_name='Accuracy')],\n",
    "    )"
   ]
  },
  {
   "cell_type": "code",
   "execution_count": 46,
   "id": "461982bd",
   "metadata": {
    "ExecuteTime": {
     "end_time": "2022-06-27T07:03:37.719117Z",
     "start_time": "2022-06-27T07:03:37.706006Z"
    }
   },
   "outputs": [],
   "source": [
    "def train_model(hparams):\n",
    "    model = tf.keras.models.Sequential([\n",
    "        tf.keras.layers.Input(shape=(input_size,)),\n",
    "        tf.keras.layers.Dense(hparams[HP_HIDDEN_SIZE], activation=tf.nn.swish),\n",
    "        tf.keras.layers.Dense(code_size, activation=tf.nn.swish),\n",
    "        tf.keras.layers.Dense(hparams[HP_HIDDEN_SIZE], activation=tf.nn.swish),\n",
    "        tf.keras.layers.Dense(input_size, activation=tf.nn.sigmoid),\n",
    "    ])\n",
    "    model.compile(\n",
    "        optimizer=tf.keras.optimizers.Adam(learning_rate=0.001),\n",
    "        loss='binary_crossentropy',\n",
    "        metrics=['accuracy'],\n",
    "    )\n",
    "    \n",
    "    model.fit(\n",
    "        x=train,y=train,\n",
    "        epochs=15,\n",
    "        batch_size=1000,\n",
    "        validation_data=(validation,validation),\n",
    "        callbacks=my_callbacks,\n",
    "    )\n",
    "    _, accuracy = model.evaluate(x=test, y=test)\n",
    "    \n",
    "    return accuracy\n",
    "    "
   ]
  },
  {
   "cell_type": "code",
   "execution_count": 47,
   "id": "6268b6a3",
   "metadata": {
    "ExecuteTime": {
     "end_time": "2022-06-27T07:03:37.734504Z",
     "start_time": "2022-06-27T07:03:37.721007Z"
    }
   },
   "outputs": [],
   "source": [
    "def run(run_dir, hparams):\n",
    "    with tf.summary.create_file_writer(run_dir).as_default():\n",
    "        hp.hparams(hparams)\n",
    "        accuracy = train_model(hparams)\n",
    "        tf.summary.scalar(METRIC_ACCURACY, accuracy, step=1)"
   ]
  },
  {
   "cell_type": "code",
   "execution_count": 48,
   "id": "68c87c4f",
   "metadata": {
    "ExecuteTime": {
     "end_time": "2022-06-27T07:06:25.215073Z",
     "start_time": "2022-06-27T07:03:37.736004Z"
    }
   },
   "outputs": [
    {
     "name": "stdout",
     "output_type": "stream",
     "text": [
      "--- Starting trial: run-0\n",
      "{'hidden_size': 160}\n",
      "WARNING:tensorflow:Please add `keras.layers.InputLayer` instead of `keras.Input` to Sequential model. `keras.Input` is intended to be used by Functional model.\n",
      "Epoch 1/15\n",
      "923/923 [==============================] - 6s 6ms/step - loss: 0.1306 - accuracy: 0.1051 - val_loss: 0.0619 - val_accuracy: 0.1093\n",
      "Epoch 2/15\n",
      "923/923 [==============================] - 5s 5ms/step - loss: 0.0454 - accuracy: 0.1185 - val_loss: 0.0357 - val_accuracy: 0.1372\n",
      "Epoch 3/15\n",
      "923/923 [==============================] - 5s 5ms/step - loss: 0.0323 - accuracy: 0.1484 - val_loss: 0.0296 - val_accuracy: 0.1500\n",
      "Epoch 4/15\n",
      "923/923 [==============================] - 5s 5ms/step - loss: 0.0277 - accuracy: 0.1652 - val_loss: 0.0261 - val_accuracy: 0.1876\n",
      "Epoch 5/15\n",
      "923/923 [==============================] - 5s 5ms/step - loss: 0.0248 - accuracy: 0.1913 - val_loss: 0.0236 - val_accuracy: 0.2107\n",
      "Epoch 6/15\n",
      "923/923 [==============================] - 5s 5ms/step - loss: 0.0226 - accuracy: 0.2140 - val_loss: 0.0217 - val_accuracy: 0.2283\n",
      "Epoch 7/15\n",
      "923/923 [==============================] - 4s 5ms/step - loss: 0.0207 - accuracy: 0.2272 - val_loss: 0.0198 - val_accuracy: 0.2415\n",
      "Epoch 8/15\n",
      "923/923 [==============================] - 4s 5ms/step - loss: 0.0185 - accuracy: 0.2258 - val_loss: 0.0175 - val_accuracy: 0.2567\n",
      "Epoch 9/15\n",
      "923/923 [==============================] - 4s 5ms/step - loss: 0.0164 - accuracy: 0.2176 - val_loss: 0.0155 - val_accuracy: 0.2163\n",
      "Epoch 10/15\n",
      "923/923 [==============================] - 5s 5ms/step - loss: 0.0145 - accuracy: 0.2147 - val_loss: 0.0137 - val_accuracy: 0.2074\n",
      "Epoch 11/15\n",
      "923/923 [==============================] - 5s 5ms/step - loss: 0.0129 - accuracy: 0.2072 - val_loss: 0.0123 - val_accuracy: 0.2366\n",
      "Epoch 12/15\n",
      "923/923 [==============================] - 5s 5ms/step - loss: 0.0115 - accuracy: 0.2005 - val_loss: 0.0111 - val_accuracy: 0.1921\n",
      "Epoch 13/15\n",
      "923/923 [==============================] - 4s 5ms/step - loss: 0.0107 - accuracy: 0.1942 - val_loss: 0.0100 - val_accuracy: 0.1925\n",
      "Epoch 14/15\n",
      "923/923 [==============================] - 5s 5ms/step - loss: 0.0095 - accuracy: 0.1933 - val_loss: 0.0092 - val_accuracy: 0.1752\n",
      "Epoch 15/15\n",
      "923/923 [==============================] - 5s 5ms/step - loss: 0.0087 - accuracy: 0.1962 - val_loss: 0.0084 - val_accuracy: 0.1987\n",
      "7211/7211 [==============================] - 17s 2ms/step - loss: 0.0084 - accuracy: 0.1980\n",
      "--- Starting trial: run-1\n",
      "{'hidden_size': 180}\n",
      "WARNING:tensorflow:Please add `keras.layers.InputLayer` instead of `keras.Input` to Sequential model. `keras.Input` is intended to be used by Functional model.\n",
      "Epoch 1/15\n",
      "923/923 [==============================] - 6s 6ms/step - loss: 0.1230 - accuracy: 0.1101 - val_loss: 0.0540 - val_accuracy: 0.1104\n",
      "Epoch 2/15\n",
      "923/923 [==============================] - 5s 5ms/step - loss: 0.0388 - accuracy: 0.1228 - val_loss: 0.0295 - val_accuracy: 0.1383\n",
      "Epoch 3/15\n",
      "923/923 [==============================] - 5s 5ms/step - loss: 0.0253 - accuracy: 0.1359 - val_loss: 0.0221 - val_accuracy: 0.1370\n",
      "Epoch 4/15\n",
      "923/923 [==============================] - 4s 5ms/step - loss: 0.0201 - accuracy: 0.1427 - val_loss: 0.0186 - val_accuracy: 0.1381\n",
      "Epoch 5/15\n",
      "923/923 [==============================] - 4s 4ms/step - loss: 0.0171 - accuracy: 0.1473 - val_loss: 0.0160 - val_accuracy: 0.1542\n",
      "Epoch 6/15\n",
      "923/923 [==============================] - 4s 4ms/step - loss: 0.0150 - accuracy: 0.1569 - val_loss: 0.0143 - val_accuracy: 0.1509\n",
      "Epoch 7/15\n",
      "923/923 [==============================] - 4s 4ms/step - loss: 0.0135 - accuracy: 0.1638 - val_loss: 0.0129 - val_accuracy: 0.1836\n",
      "Epoch 8/15\n",
      "923/923 [==============================] - 4s 4ms/step - loss: 0.0123 - accuracy: 0.1686 - val_loss: 0.0119 - val_accuracy: 0.1614\n",
      "Epoch 9/15\n",
      "923/923 [==============================] - 4s 5ms/step - loss: 0.0114 - accuracy: 0.1725 - val_loss: 0.0110 - val_accuracy: 0.1858\n",
      "Epoch 10/15\n",
      "923/923 [==============================] - 4s 5ms/step - loss: 0.0106 - accuracy: 0.1774 - val_loss: 0.0102 - val_accuracy: 0.1743\n",
      "Epoch 11/15\n",
      "923/923 [==============================] - 4s 4ms/step - loss: 0.0098 - accuracy: 0.1792 - val_loss: 0.0095 - val_accuracy: 0.1742\n",
      "Epoch 12/15\n",
      "923/923 [==============================] - 4s 4ms/step - loss: 0.0090 - accuracy: 0.1815 - val_loss: 0.0088 - val_accuracy: 0.1871\n",
      "Epoch 13/15\n",
      "923/923 [==============================] - 4s 4ms/step - loss: 0.0085 - accuracy: 0.1755 - val_loss: 0.0082 - val_accuracy: 0.1863\n",
      "Epoch 14/15\n",
      "923/923 [==============================] - 4s 4ms/step - loss: 0.0078 - accuracy: 0.1809 - val_loss: 0.0076 - val_accuracy: 0.1799\n",
      "Epoch 15/15\n",
      "923/923 [==============================] - 4s 5ms/step - loss: 0.0073 - accuracy: 0.1801 - val_loss: 0.0074 - val_accuracy: 0.1716\n",
      "7211/7211 [==============================] - 13s 2ms/step - loss: 0.0074 - accuracy: 0.1722\n"
     ]
    }
   ],
   "source": [
    "session_num = 0\n",
    "\n",
    "for h_units in HP_HIDDEN_SIZE.domain.values:\n",
    "    hparams= {\n",
    "        HP_HIDDEN_SIZE: h_units,\n",
    "    }\n",
    "    run_name = \"run-%d\" % session_num\n",
    "    print('--- Starting trial: %s' % run_name)\n",
    "    print({h.name: hparams[h] for h in hparams})\n",
    "    run('logs/hparam_tuning/' + run_name, hparams)\n",
    "    session_num += 1"
   ]
  },
  {
   "cell_type": "code",
   "execution_count": 50,
   "id": "ae62185a",
   "metadata": {
    "ExecuteTime": {
     "end_time": "2022-06-27T07:07:00.136716Z",
     "start_time": "2022-06-27T07:07:00.094219Z"
    }
   },
   "outputs": [
    {
     "name": "stderr",
     "output_type": "stream",
     "text": [
      "'kill' is not recognized as an internal or external command,\n",
      "operable program or batch file.\n"
     ]
    },
    {
     "data": {
      "text/plain": [
       "Reusing TensorBoard on port 6006 (pid 3680), started 2 days, 16:56:40 ago. (Use '!kill 3680' to kill it.)"
      ]
     },
     "metadata": {},
     "output_type": "display_data"
    },
    {
     "data": {
      "text/html": [
       "\n",
       "      <iframe id=\"tensorboard-frame-f7467f43b26e12d7\" width=\"100%\" height=\"800\" frameborder=\"0\">\n",
       "      </iframe>\n",
       "      <script>\n",
       "        (function() {\n",
       "          const frame = document.getElementById(\"tensorboard-frame-f7467f43b26e12d7\");\n",
       "          const url = new URL(\"/\", window.location);\n",
       "          const port = 6006;\n",
       "          if (port) {\n",
       "            url.port = port;\n",
       "          }\n",
       "          frame.src = url;\n",
       "        })();\n",
       "      </script>\n",
       "    "
      ],
      "text/plain": [
       "<IPython.core.display.HTML object>"
      ]
     },
     "metadata": {},
     "output_type": "display_data"
    }
   ],
   "source": [
    "%tensorboard --logdir ./logs/hparam_tuning"
   ]
  },
  {
   "cell_type": "code",
   "execution_count": null,
   "id": "017899f9",
   "metadata": {},
   "outputs": [],
   "source": []
  }
 ],
 "metadata": {
  "kernelspec": {
   "display_name": "Python 3 (ipykernel)",
   "language": "python",
   "name": "python3"
  },
  "language_info": {
   "codemirror_mode": {
    "name": "ipython",
    "version": 3
   },
   "file_extension": ".py",
   "mimetype": "text/x-python",
   "name": "python",
   "nbconvert_exporter": "python",
   "pygments_lexer": "ipython3",
   "version": "3.9.12"
  }
 },
 "nbformat": 4,
 "nbformat_minor": 5
}
