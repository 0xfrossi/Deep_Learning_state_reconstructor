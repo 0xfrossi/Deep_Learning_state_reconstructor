{
 "cells": [
  {
   "cell_type": "code",
   "execution_count": null,
   "id": "8f435793",
   "metadata": {
    "ExecuteTime": {
     "end_time": "2022-07-14T07:26:15.128769Z",
     "start_time": "2022-07-14T07:26:09.598146Z"
    }
   },
   "outputs": [],
   "source": [
    "import numpy as np\n",
    "import tensorflow as tf\n",
    "from utils_functions import *\n",
    "from plan import *\n",
    "import random\n",
    "from utils import *\n",
    "from matplotlib import pyplot as plt\n",
    "from tensorflow.keras.layers import Dense, InputLayer, Flatten,Dropout\n",
    "from tensorflow.keras.models import Model\n",
    "from tensorflow.keras.utils  import plot_model\n",
    "#from tensorflow.keras.utils  import Sequence\n",
    "from sklearn.model_selection import train_test_split\n",
    "import datetime, os\n",
    "import pandas as pd\n",
    "import optuna\n"
   ]
  },
  {
   "cell_type": "code",
   "execution_count": 2,
   "id": "349ba869",
   "metadata": {
    "ExecuteTime": {
     "end_time": "2022-07-14T07:26:15.129770Z",
     "start_time": "2022-07-14T07:26:15.129770Z"
    }
   },
   "outputs": [
    {
     "name": "stdout",
     "output_type": "stream",
     "text": [
      "Num GPUs Available:  1\n",
      "[PhysicalDevice(name='/physical_device:GPU:0', device_type='GPU')]\n",
      "nome gpu:  /device:GPU:0\n"
     ]
    }
   ],
   "source": [
    "# controllo di star effettivamente usando la GPU\n",
    "\n",
    "print(\"Num GPUs Available: \", len(tf.config.list_physical_devices('GPU')))\n",
    "print(tf.config.list_physical_devices('GPU'))\n",
    "print(\"nome gpu: \",tf.test.gpu_device_name())"
   ]
  },
  {
   "cell_type": "markdown",
   "id": "4fe83a51",
   "metadata": {},
   "source": [
    "## Preparazione dati"
   ]
  },
  {
   "cell_type": "markdown",
   "id": "f392ff4b",
   "metadata": {},
   "source": [
    "Creazione dataset"
   ]
  },
  {
   "cell_type": "code",
   "execution_count": null,
   "id": "7b2839eb",
   "metadata": {
    "ExecuteTime": {
     "end_time": "2022-07-13T07:56:04.872062Z",
     "start_time": "2022-07-13T07:56:00.223563Z"
    }
   },
   "outputs": [],
   "source": [
    "dizionario_stati = load_file(\"./dizionario_stati\")\n",
    "piani_caricati = load_file(\"./plans\")"
   ]
  },
  {
   "cell_type": "markdown",
   "id": "1946adc3",
   "metadata": {},
   "source": [
    "# Processo creazione dateset a sequenze"
   ]
  },
  {
   "cell_type": "markdown",
   "id": "dbcb1a8b",
   "metadata": {},
   "source": [
    "Sample: sequenza da 5 vettori, 4 in input, 1 (quello centrale) da ricostruire in output"
   ]
  },
  {
   "cell_type": "code",
   "execution_count": 3,
   "id": "ab829f5c",
   "metadata": {},
   "outputs": [],
   "source": [
    "#Metodi usati per ri-trasformare tutti gli array/liste in np array con np.int8\n",
    "def convert_x_np(data):\n",
    "    new_data=[]\n",
    "    for seq in data:\n",
    "        new_seq=[]\n",
    "        for array in seq:\n",
    "            np_a=np.array(array,dtype=np.int8)\n",
    "            new_seq.append(np_a)\n",
    "        np_seq=np.array(new_seq)\n",
    "        new_data.append(np_seq)\n",
    "    np_new_data=np.array(new_data)\n",
    "    return np_new_data  \n",
    "\n",
    "def convert_y_np(data):\n",
    "    new_data=[]\n",
    "    for array in data:\n",
    "        np_a=np.array(array,dtype=np.int8)\n",
    "        new_data.append(np_a) \n",
    "               \n",
    "    np_new_data=np.array(new_data)\n",
    "    print(\"Completato\")\n",
    "    return np_new_data  \n"
   ]
  },
  {
   "cell_type": "code",
   "execution_count": 19,
   "id": "f0f8c473",
   "metadata": {
    "ExecuteTime": {
     "end_time": "2022-07-13T07:57:57.184060Z",
     "start_time": "2022-07-13T07:57:53.095063Z"
    }
   },
   "outputs": [],
   "source": [
    "dataset = costruisci_vettore_per_piano(dizionario_stati,piani_caricati)\n",
    "dataset_5x340 = dataset_augmentation(dataset)\n",
    "\n",
    "np.random.shuffle(dataset_5x340)\n",
    "df = pd.DataFrame(dataset_5x340.tolist(), columns=['s0', 's1','s2','s3','s4'])\n",
    "X=df[[\"s0\",\"s1\",\"s3\",\"s4\"]]\n",
    "Y=df[\"s2\"]\n",
    "#Split\n",
    "x_tmp, x_test, y_tmp, y_test = train_test_split(X,Y,test_size=0.2,train_size=0.8)\n",
    "x_train, x_val, y_train, y_val = train_test_split(x_tmp,y_tmp,test_size = 0.25,train_size =0.75)\n",
    "\n",
    "x_train=x_train.to_numpy(dtype=object)\n",
    "y_train=y_train.to_numpy(dtype=object)\n",
    "\n",
    "x_val=x_val.to_numpy(dtype=object)\n",
    "y_val=y_val.to_numpy(dtype=object)\n",
    "\n",
    "x_test=x_test.to_numpy(dtype=object)\n",
    "y_test=y_test.to_numpy(dtype=object)\n",
    "\n",
    "np_x_train=convert_x_np(x_train)\n",
    "np_y_train=convert_y_np(y_train)\n",
    "\n",
    "np_x_val=convert_x_np(x_val)\n",
    "np_x_test=convert_x_np(x_test)\n",
    "\n",
    "np_y_val=convert_y_np(y_val)\n",
    "np_y_test=convert_y_np(y_test)\n",
    "\n",
    "save_file(np_x_train, \"./Dataset/\", \"set_training_x\")\n",
    "save_file(np_x_val, \"./Dataset/\", \"set_validation_x\")\n",
    "save_file(np_x_test, \"./Dataset/\", \"set_test_x\")\n",
    "    \n",
    "save_file(np_y_train, \"./Dataset/\", \"set_training_y\")\n",
    "save_file(np_y_val, \"./Dataset/\", \"set_validation_y\")\n",
    "save_file(np_y_test, \"./Dataset/\", \"set_test_y\")"
   ]
  },
  {
   "cell_type": "markdown",
   "id": "8f1b4d2e",
   "metadata": {},
   "source": [
    "# Modello"
   ]
  },
  {
   "cell_type": "markdown",
   "id": "28dd37de",
   "metadata": {},
   "source": [
    "Caricamento dataset 5 seq"
   ]
  },
  {
   "cell_type": "code",
   "execution_count": null,
   "id": "9664cbcf",
   "metadata": {
    "ExecuteTime": {
     "end_time": "2022-07-14T07:30:49.801366Z",
     "start_time": "2022-07-14T07:30:49.674866Z"
    }
   },
   "outputs": [],
   "source": [
    "train_x=load_file(\"./Dataset/set_training_x\")\n",
    "train_y=load_file(\"./Dataset/set_training_y\")\n",
    "val_x=load_file(\"./Dataset/set_validation_x\")\n",
    "val_y=load_file(\"./Dataset/set_validation_y\")\n",
    "test_x=load_file(\"./Dataset/set_test_x\")\n",
    "test_y=load_file(\"./Dataset/set_test_y\")"
   ]
  },
  {
   "cell_type": "markdown",
   "id": "0e0ef7b6",
   "metadata": {},
   "source": [
    "Caricamento dataset per modello 7 seq"
   ]
  },
  {
   "cell_type": "code",
   "execution_count": null,
   "id": "498ca5f2",
   "metadata": {},
   "outputs": [],
   "source": [
    "train_x=load_file(\"./Dataset/set_training7_x\")\n",
    "train_y=load_file(\"./Dataset/set_training7_y\")\n",
    "val_x=load_file(\"./Dataset/set_validation7_x\")\n",
    "val_y=load_file(\"./Dataset/set_validation7_y\")\n",
    "test_x=load_file(\"./Dataset/set_test7_x\")\n",
    "test_y=load_file(\"./Dataset/set_test7_y\")"
   ]
  },
  {
   "cell_type": "code",
   "execution_count": null,
   "id": "e7311b35",
   "metadata": {
    "ExecuteTime": {
     "end_time": "2022-07-14T09:56:31.510664Z",
     "start_time": "2022-07-14T09:21:29.835861Z"
    }
   },
   "outputs": [],
   "source": [
    "logdir = os.path.join(\"./TestLogs/\", datetime.datetime.now().strftime(\"%Y%m%d-%H%M%S\"))\n",
    "my_callbacks = [\n",
    "    tf.keras.callbacks.EarlyStopping(patience=20,restore_best_weights=True),\n",
    "    tf.keras.callbacks.TensorBoard(log_dir=logdir,histogram_freq=1, write_graph=True, write_images=True)\n",
    "\n",
    "]\n",
    "\n",
    "#PARAM:\n",
    "param={\n",
    "\"OUTPUT_SIZE\": train_x.shape[2],\n",
    "\"HIDDEN_SIZE\" : 1020,\n",
    "\"HIDDEN_SIZE2\" : None,\n",
    "\"HIDDEN_SIZE3\" : None,\n",
    "\"CODE_SIZE\" : 510,\n",
    "\"KERNEL_INIZIALIZER\":\"he_uniform\",\n",
    "\"KERNEL_REGULIZER\":tf.keras.regularizers.L1(l1=3e-9),\n",
    "'BIAS_REGULARIZER': None,\n",
    "\"ACTIVATION\":\"relu\",\n",
    "\"OPTIMIZER\":tf.keras.optimizers.Nadam(learning_rate=0.008,beta_1=0.95,beta_2=0.999),\n",
    "\"EPOCHS\":400,\n",
    "\"BATCH_SIZE\":500,\n",
    "}\n",
    "\n",
    "autoencoderV2=tf.keras.models.Sequential()\n",
    "autoencoderV2.add(InputLayer(input_shape=(train_x.shape[1],train_x.shape[2])))\n",
    "\n",
    "autoencoderV2.add(Flatten())\n",
    "autoencoderV2.add(tf.keras.layers.BatchNormalization())\n",
    "autoencoderV2.add( Dense(param[\"HIDDEN_SIZE\"], activation=param[\"ACTIVATION\"], kernel_initializer=param[\"KERNEL_INIZIALIZER\"],kernel_regularizer=param[\"KERNEL_REGULIZER\"], bias_regularizer=param[\"BIAS_REGULARIZER\"] ))\n",
    "autoencoderV2.add(Dropout(0.05))\n",
    "autoencoderV2.add(tf.keras.layers.BatchNormalization())\n",
    "#autoencoderV2.add( Dense(param[\"HIDDEN_SIZE2\"], activation=param[\"ACTIVATION\"], kernel_initializer=param[\"KERNEL_INIZIALIZER\"],kernel_regularizer=param[\"KERNEL_REGULIZER\"], bias_regularizer=param[\"BIAS_REGULARIZER\"] ))\n",
    "#autoencoderV2.add(Dropout(0.05))\n",
    "#autoencoderV2.add(tf.keras.layers.BatchNormalization())\n",
    "#autoencoderV2.add( Dense(param[\"HIDDEN_SIZE3\"], activation=param[\"ACTIVATION\"], kernel_initializer=param[\"KERNEL_INIZIALIZER\"],kernel_regularizer=param[\"KERNEL_REGULIZER\"], bias_regularizer=param[\"BIAS_REGULARIZER\"] ))\n",
    "#autoencoderV2.add(tf.keras.layers.BatchNormalization())\n",
    "\n",
    "autoencoderV2.add(Dense(param[\"CODE_SIZE\"], activation=param[\"ACTIVATION\"],kernel_initializer=param[\"KERNEL_INIZIALIZER\"],kernel_regularizer=param[\"KERNEL_REGULIZER\"],bias_regularizer=param[\"BIAS_REGULARIZER\"],name=\"embedding\"))\n",
    "#autoencoderV2.add(Dropout(0.2))\n",
    "autoencoderV2.add(tf.keras.layers.BatchNormalization())\n",
    "#autoencoderV2.add( Dense(param[\"HIDDEN_SIZE3\"], activation=param[\"ACTIVATION\"], kernel_initializer=param[\"KERNEL_INIZIALIZER\"],kernel_regularizer=param[\"KERNEL_REGULIZER\"], bias_regularizer=param[\"BIAS_REGULARIZER\"] ))\n",
    "#autoencoderV2.add(Dropout(0.2))\n",
    "#autoencoderV2.add(tf.keras.layers.BatchNormalization())\n",
    "#autoencoderV2.add( Dense(param[\"HIDDEN_SIZE2\"], activation=param[\"ACTIVATION\"], kernel_initializer=param[\"KERNEL_INIZIALIZER\"],kernel_regularizer=param[\"KERNEL_REGULIZER\"], bias_regularizer=param[\"BIAS_REGULARIZER\"] ))\n",
    "#autoencoderV2.add(Dropout(0.2))\n",
    "#autoencoderV2.add(tf.keras.layers.BatchNormalization())\n",
    "autoencoderV2.add(Dense(param[\"HIDDEN_SIZE\"], activation=param[\"ACTIVATION\"], kernel_initializer=param[\"KERNEL_INIZIALIZER\"],kernel_regularizer=param[\"KERNEL_REGULIZER\"], bias_regularizer=param[\"BIAS_REGULARIZER\"] ))\n",
    "autoencoderV2.add(Dropout(0.3))\n",
    "autoencoderV2.add(tf.keras.layers.BatchNormalization())\n",
    "autoencoderV2.add( Dense(param[\"OUTPUT_SIZE\"], activation='sigmoid',kernel_initializer=tf.keras.initializers.GlorotUniform()))\n",
    "\n",
    "autoencoderV2.compile(optimizer=param[\"OPTIMIZER\"], loss='binary_crossentropy',metrics=[\"accuracy\",\"Precision\",\"Recall\"])\n",
    "history=autoencoderV2.fit(x=train_x,y=train_y, epochs=param[\"EPOCHS\"],batch_size=param[\"BATCH_SIZE\"], validation_data=(val_x,val_y), \n",
    "                        callbacks=my_callbacks)"
   ]
  },
  {
   "cell_type": "code",
   "execution_count": null,
   "id": "1c6ac98f",
   "metadata": {
    "ExecuteTime": {
     "end_time": "2022-07-14T09:59:47.026505Z",
     "start_time": "2022-07-14T09:59:47.020503Z"
    }
   },
   "outputs": [],
   "source": [
    "autoencoderV2.summary()"
   ]
  },
  {
   "cell_type": "markdown",
   "id": "cd082c3f",
   "metadata": {},
   "source": [
    "## Optuna"
   ]
  },
  {
   "cell_type": "code",
   "execution_count": null,
   "id": "d3ecad5e",
   "metadata": {},
   "outputs": [],
   "source": [
    "def objective(trial):\n",
    "   \n",
    "    l_rate=trial.suggest_float(\"learning rate\", 1e-6, 2e-3, log=True)\n",
    "    reg=trial.suggest_float(\"reg param\", 1e-9, 1e-3, log=True)\n",
    "    dropout_iniziale=trial.suggest_float(\"dropout iniziale\", 0.05, 0.3,step=0.05, )\n",
    "    dropout_finale=trial.suggest_float(\"dropout finale\", 0.05, 0.3,step=0.05, )\n",
    "    #dropouts_interni=trial.suggest_float(\"dropout interni\", 0, 0.2,step=0.05, )\n",
    "    param={\n",
    "            \"OUTPUT_SIZE\":train_x.shape[2],\n",
    "            \"HIDDEN_SIZE\" : 1020,\n",
    "            \"HIDDEN_SIZE2\" : 510,\n",
    "            \"HIDDEN_SIZE3\" : 255,\n",
    "            \"CODE_SIZE\" : 200,        \n",
    "            \"KERNEL_INIZIALIZER\":\"he_uniform\",\n",
    "            \"KERNEL_REGULIZER\":tf.keras.regularizers.L2(l2=reg) ,\n",
    "            'BIAS_REGULARIZER': None,\n",
    "            \"ACTIVATION\":\"relu\",\n",
    "            \"OPTIMIZER\":tf.keras.optimizers.Adam(learning_rate=l_rate),\n",
    "            \"EPOCHS\":500,\n",
    "            \"BATCH_SIZE\":1000,\n",
    "            }\n",
    "          \n",
    "    autoencoderV2=tf.keras.models.Sequential()\n",
    "\n",
    "    autoencoderV2.add(InputLayer(input_shape=(train_x.shape[1],train_x.shape[2])))\n",
    "    autoencoderV2.add(Flatten())\n",
    "    autoencoderV2.add(Dropout(dropout_iniziale))\n",
    "    autoencoderV2.add(tf.keras.layers.BatchNormalization())\n",
    "    autoencoderV2.add( Dense(param[\"HIDDEN_SIZE\"], activation=param[\"ACTIVATION\"], kernel_initializer=param[\"KERNEL_INIZIALIZER\"],kernel_regularizer=param[\"KERNEL_REGULIZER\"], bias_regularizer=param[\"BIAS_REGULARIZER\"] ))\n",
    "    \n",
    "    autoencoderV2.add(tf.keras.layers.BatchNormalization())\n",
    "    autoencoderV2.add( Dense(param[\"HIDDEN_SIZE2\"], activation=param[\"ACTIVATION\"], kernel_initializer=param[\"KERNEL_INIZIALIZER\"],kernel_regularizer=param[\"KERNEL_REGULIZER\"], bias_regularizer=param[\"BIAS_REGULARIZER\"] ))\n",
    "    #autoencoderV2.add(Dropout(dropouts_interni))\n",
    "    autoencoderV2.add(tf.keras.layers.BatchNormalization())\n",
    "    autoencoderV2.add( Dense(param[\"HIDDEN_SIZE3\"], activation=param[\"ACTIVATION\"], kernel_initializer=param[\"KERNEL_INIZIALIZER\"],kernel_regularizer=param[\"KERNEL_REGULIZER\"], bias_regularizer=param[\"BIAS_REGULARIZER\"] ))\n",
    "    #autoencoderV2.add(Dropout(0.1))\n",
    "    autoencoderV2.add(tf.keras.layers.BatchNormalization())\n",
    "\n",
    "    autoencoderV2.add(Dense(param[\"CODE_SIZE\"], activation=param[\"ACTIVATION\"],kernel_initializer=param[\"KERNEL_INIZIALIZER\"],kernel_regularizer=param[\"KERNEL_REGULIZER\"],bias_regularizer=param[\"BIAS_REGULARIZER\"],name=\"embedding\"))\n",
    "    autoencoderV2.add(tf.keras.layers.BatchNormalization())\n",
    "    autoencoderV2.add( Dense(param[\"HIDDEN_SIZE3\"], activation=param[\"ACTIVATION\"], kernel_initializer=param[\"KERNEL_INIZIALIZER\"],kernel_regularizer=param[\"KERNEL_REGULIZER\"], bias_regularizer=param[\"BIAS_REGULARIZER\"] ))\n",
    "    autoencoderV2.add(Dropout(dropout_finale))\n",
    "    autoencoderV2.add(tf.keras.layers.BatchNormalization())\n",
    "   \n",
    "    autoencoderV2.add( Dense(param[\"HIDDEN_SIZE2\"], activation=param[\"ACTIVATION\"], kernel_initializer=param[\"KERNEL_INIZIALIZER\"],kernel_regularizer=param[\"KERNEL_REGULIZER\"], bias_regularizer=param[\"BIAS_REGULARIZER\"] ))\n",
    "    autoencoderV2.add(Dropout(dropout_finale))\n",
    "    autoencoderV2.add(tf.keras.layers.BatchNormalization())\n",
    "    #autoencoderV2.add(Dense(param[\"HIDDEN_SIZE\"], activation=param[\"ACTIVATION\"], kernel_initializer=param[\"KERNEL_INIZIALIZER\"],kernel_regularizer=param[\"KERNEL_REGULIZER\"], bias_regularizer=param[\"BIAS_REGULARIZER\"] ))\n",
    "    #autoencoderV2.add(tf.keras.layers.BatchNormalization())\n",
    "    autoencoderV2.add( Dense(param[\"OUTPUT_SIZE\"], activation='sigmoid',kernel_initializer=tf.keras.initializers.GlorotUniform()))\n",
    "\n",
    "\n",
    "    my_callbacks = [tf.keras.callbacks.EarlyStopping(patience=15,restore_best_weights=True)]\n",
    "\n",
    "    autoencoderV2.compile(optimizer=param[\"OPTIMIZER\"], loss='binary_crossentropy',metrics=[\"accuracy\",\"Precision\",\"Recall\"])\n",
    "    history=autoencoderV2.fit(x=train_x,y=train_y, epochs=param[\"EPOCHS\"],batch_size=param[\"BATCH_SIZE\"], validation_data=(val_x,val_y), \n",
    "                            callbacks=my_callbacks)\n",
    "    optuna_dir= os.path.join(\"./optunaLogs/\", datetime.datetime.now().strftime(\"%Y%m%d-%H%M%S\"))\n",
    "    optuna_dir=os.path.join(optuna_dir, str(trial.number))\n",
    "    autoencoderV2.save(optuna_dir)\n",
    "\n",
    "    return history.history[\"loss\"][-1]\n",
    "\n",
    "study = optuna.create_study(direction='minimize')\n",
    "study.optimize(objective, n_trials=15, timeout=None, gc_after_trial=True)\n",
    "\n",
    "print(\"Number of finished trials: \", len(study.trials))\n",
    "print(\"Best trial:\")\n",
    "trial = study.best_trial\n",
    "print(\"  Value: \", trial.value)\n",
    "print(\"  Params: \")\n",
    "for key, value in trial.params.items():\n",
    "    print(\"    {}: {}\".format(key, value))\n",
    "\n",
    "\n",
    "    "
   ]
  },
  {
   "cell_type": "markdown",
   "id": "f801dfa9",
   "metadata": {},
   "source": [
    "## Test"
   ]
  },
  {
   "cell_type": "code",
   "execution_count": null,
   "id": "1b4fa1a3",
   "metadata": {
    "ExecuteTime": {
     "end_time": "2022-07-14T09:13:55.352045Z",
     "start_time": "2022-07-14T09:13:54.904545Z"
    }
   },
   "outputs": [],
   "source": [
    "plt.plot(history.history['loss'], label='train')\n",
    "plt.plot(history.history['val_loss'], label='validation')\n",
    "plt.legend()\n",
    "plt.title(\"Loss\")\n",
    "plt.show()\n",
    "    \n",
    "plt.plot(history.history['accuracy'], label='train')\n",
    "plt.plot(history.history['val_accuracy'], label='validation')\n",
    "plt.legend()\n",
    "plt.title(\"Accuracy\")\n",
    "plt.show()\n",
    "\n",
    "plt.plot(history.history['precision'], label='train')\n",
    "plt.plot(history.history['val_precision'], label='validation')\n",
    "plt.legend()\n",
    "plt.title(\"Precision\")\n",
    "plt.show()\n",
    "\n",
    "plt.plot(history.history['recall'], label='train')\n",
    "plt.plot(history.history['val_recall'], label='validation')\n",
    "plt.legend()\n",
    "plt.title(\"Recall\")\n",
    "plt.show()"
   ]
  },
  {
   "cell_type": "code",
   "execution_count": 68,
   "id": "13811ccc",
   "metadata": {
    "ExecuteTime": {
     "end_time": "2022-07-14T10:00:31.797757Z",
     "start_time": "2022-07-14T09:59:51.329758Z"
    }
   },
   "outputs": [
    {
     "name": "stdout",
     "output_type": "stream",
     "text": [
      "1046/1046 [==============================] - 3s 3ms/step\n",
      "Numero di vettori decodificati correttamente: 21579 su 33459 totali \n",
      "Rapporto: 64.494% \n",
      "Media num di errori per array: 0.788\n",
      "\n"
     ]
    },
    {
     "data": {
      "image/png": "[encoded data removed]",
      "text/plain": [
       "<Figure size 432x288 with 1 Axes>"
      ]
     },
     "metadata": {
      "needs_background": "light"
     },
     "output_type": "display_data"
    }
   ],
   "source": [
    "y_test_predict= autoencoderV2.predict(test_x) \n",
    "arr=results_info(test_y, y_test_predict,logdir)\n"
   ]
  },
  {
   "cell_type": "code",
   "execution_count": null,
   "id": "8697d296",
   "metadata": {
    "ExecuteTime": {
     "end_time": "2022-07-14T08:51:09.122526Z",
     "start_time": "2022-07-14T08:51:09.122526Z"
    }
   },
   "outputs": [],
   "source": [
    "\n",
    "dir_model= os.path.join(logdir,\"myModel\")\n",
    "autoencoderV2.save(dir_model)"
   ]
  },
  {
   "cell_type": "code",
   "execution_count": null,
   "id": "a6f69386",
   "metadata": {},
   "outputs": [],
   "source": [
    "#CARICA AUTOENCODER SALVATO\n",
    "\n",
    "PATH_TO_LOAD=\"\"\n",
    "autoencoderV2 = tf.keras.models.load_model(PATH_TO_LOAD)\n",
    "autoencoderV2.summary()"
   ]
  },
  {
   "cell_type": "markdown",
   "id": "d5f8e3df",
   "metadata": {},
   "source": [
    "# Dataset con 7 seq "
   ]
  },
  {
   "cell_type": "markdown",
   "id": "544e1599",
   "metadata": {},
   "source": [
    "Creazione dataset con sample da 7 sequenze, 6 in input 1 in output"
   ]
  },
  {
   "cell_type": "code",
   "execution_count": null,
   "id": "3633c164",
   "metadata": {},
   "outputs": [],
   "source": [
    "dizionario_stati = load_file(\"./dizionario_stati\")\n",
    "piani_caricati = load_file(\"./plans\")\n",
    "\n",
    "dataset = costruisci_vettore_per_piano(dizionario_stati,piani_caricati)\n",
    "print(\"Vettori per piani costruiti\")\n",
    "\n",
    "dataset_7x340 = dataset_augmentation(dataset,7)\n",
    "print(\"Vettori di dim. 7 costruiti\")\n",
    "\n",
    "np.random.shuffle(dataset_7x340)\n",
    "\n",
    "df = pd.DataFrame(dataset_7x340.tolist(), columns=['v0','v1','v2','v3','v4','v5','v6'])\n",
    "\n",
    "X=df[[\"v0\",\"v1\",\"v2\",\"v4\",\"v5\",\"v6\"]]\n",
    "Y=df[\"v3\"]\n",
    "\n",
    "print(\"Df X e Y estratti con successo, v3 usato come output da ricostruire\")\n",
    "#split\n",
    "x_tmp, x_test, y_tmp, y_test = train_test_split(X,Y,test_size=0.2,train_size=0.8)\n",
    "x_train, x_val, y_train, y_val = train_test_split(x_tmp,y_tmp,test_size = 0.25,train_size =0.75)\n",
    "\n",
    "x_train=x_train.to_numpy(dtype=object)\n",
    "y_train=y_train.to_numpy(dtype=object)\n",
    "\n",
    "x_val=x_val.to_numpy(dtype=object)\n",
    "y_val=y_val.to_numpy(dtype=object)\n",
    "\n",
    "x_test=x_test.to_numpy(dtype=object)\n",
    "y_test=y_test.to_numpy(dtype=object)\n",
    "print(\"Split di train test e val completato\")\n",
    "\n",
    "np_x_train=convert_x_np(x_train)\n",
    "np_y_train=convert_y_np(y_train)\n",
    "\n",
    "np_x_val=convert_x_np(x_val)\n",
    "np_x_test=convert_x_np(x_test)\n",
    "\n",
    "np_y_val=convert_y_np(y_val)\n",
    "np_y_test=convert_y_np(y_test)\n",
    "print(\"Conversione degli split in np completata \\n Inizio salvataggio\")\n",
    "\n",
    "save_file(np_x_train, \"./Dataset/\", \"set_training7_x\")\n",
    "save_file(np_x_val, \"./Dataset/\", \"set_validation7_x\")\n",
    "save_file(np_x_test, \"./Dataset/\", \"set_test7_x\")\n",
    "    \n",
    "save_file(np_y_train, \"./Dataset/\", \"set_training7_y\")\n",
    "save_file(np_y_val, \"./Dataset/\", \"set_validation7_y\")\n",
    "save_file(np_y_test, \"./Dataset/\", \"set_test7_y\")\n"
   ]
  }
 ],
 "metadata": {
  "kernelspec": {
   "display_name": "Python 3 (ipykernel)",
   "language": "python",
   "name": "python3"
  },
  "language_info": {
   "codemirror_mode": {
    "name": "ipython",
    "version": 3
   },
   "file_extension": ".py",
   "mimetype": "text/x-python",
   "name": "python",
   "nbconvert_exporter": "python",
   "pygments_lexer": "ipython3",
   "version": "3.9.12"
  },
  "vscode": {
   "interpreter": {
    "hash": "75241482a63b0cc21089a7e9630ce9a4e49832f95eea58b3d1ce72ab9c72cd52"
   }
  }
 },
 "nbformat": 4,
 "nbformat_minor": 5
}
