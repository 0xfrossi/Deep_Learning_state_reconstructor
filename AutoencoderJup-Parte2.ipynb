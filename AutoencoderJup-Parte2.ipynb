{
 "cells": [
  {
   "cell_type": "code",
   "execution_count": 1,
   "id": "8f435793",
   "metadata": {
    "ExecuteTime": {
     "end_time": "2022-07-18T07:00:27.106676Z",
     "start_time": "2022-07-18T07:00:20.279354Z"
    }
   },
   "outputs": [],
   "source": [
    "import numpy as np\n",
    "import tensorflow as tf\n",
    "from tensorflow.keras.initializers import RandomNormal, Constant\n",
    "from utils_functions import *\n",
    "from plan import *\n",
    "import random\n",
    "from main import *\n",
    "from matplotlib import pyplot as plt\n",
    "from tensorflow.keras.layers import Dense, Input, Flatten\n",
    "from tensorflow.keras.models import Model\n",
    "#from tensorflow.keras.layers import LSTM\n",
    "#from tensorflow.keras.layers import RepeatVector\n",
    "#from tensorflow.keras.layers import TimeDistributed\n",
    "from tensorflow.keras.utils  import plot_model\n",
    "#from tensorflow.keras.utils  import Sequence\n",
    "from sklearn.model_selection import train_test_split\n",
    "import datetime, os\n",
    "import pandas as pd\n",
    "\n",
    "import optuna\n",
    "from optuna.multi_objective.study import create_study\n",
    "from optuna import *"
   ]
  },
  {
   "cell_type": "code",
   "execution_count": 2,
   "id": "349ba869",
   "metadata": {
    "ExecuteTime": {
     "end_time": "2022-07-18T07:00:29.219102Z",
     "start_time": "2022-07-18T07:00:28.038931Z"
    }
   },
   "outputs": [
    {
     "name": "stdout",
     "output_type": "stream",
     "text": [
      "Num GPUs Available:  1\n",
      "[PhysicalDevice(name='/physical_device:GPU:0', device_type='GPU')]\n",
      "nome gpu:  /device:GPU:0\n"
     ]
    }
   ],
   "source": [
    "# controllo di star effettivamente usando la GPU\n",
    "\n",
    "print(\"Num GPUs Available: \", len(tf.config.list_physical_devices('GPU')))\n",
    "print(tf.config.list_physical_devices('GPU'))\n",
    "print(\"nome gpu: \",tf.test.gpu_device_name())"
   ]
  },
  {
   "cell_type": "markdown",
   "id": "4fe83a51",
   "metadata": {},
   "source": [
    "## Preparazione dati"
   ]
  },
  {
   "cell_type": "markdown",
   "id": "4f54aad5",
   "metadata": {},
   "source": [
    "### Preparazione dati per struttura Simil-CBOW"
   ]
  },
  {
   "cell_type": "markdown",
   "id": "f392ff4b",
   "metadata": {},
   "source": [
    "Creazione dataset"
   ]
  },
  {
   "cell_type": "code",
   "execution_count": null,
   "id": "7b2839eb",
   "metadata": {
    "ExecuteTime": {
     "end_time": "2022-07-13T07:56:04.872062Z",
     "start_time": "2022-07-13T07:56:00.223563Z"
    }
   },
   "outputs": [],
   "source": [
    "dizionario_stati = load_file(\"./dizionario_stati\")\n",
    "piani_caricati = load_file(\"./plans\")"
   ]
  },
  {
   "cell_type": "code",
   "execution_count": null,
   "id": "e1e14055",
   "metadata": {
    "ExecuteTime": {
     "end_time": "2022-07-13T07:57:53.061063Z",
     "start_time": "2022-07-13T07:57:53.046561Z"
    }
   },
   "outputs": [],
   "source": [
    "#ESEMPIO DI TEST\n",
    "d = [\n",
    "    [[0,0,0,0],[0,0,0,1],[0,0,0,2],[0,0,0,3],[0,0,0,4],[0,0,0,5],[0,0,0,6],[0,0,0,7]],\n",
    "    [[1,1,1,0],[1,1,1,1],[1,1,1,2],[1,1,1,3],[1,1,1,4],[1,1,1,5],[1,1,1,6],[1,1,1,7],[1,1,1,8],[1,1,1,9]],\n",
    "    [[2,2,2,0],[2,2,2,1],[2,2,2,2],[2,2,2,3],[2,2,2,4]],\n",
    "    [[3,3,3,0],[3,3,3,1],[3,3,3,2],[3,3,3,3]],\n",
    "    [[4,4,4,0],[4,4,4,1],[4,4,4,2],[4,4,4,3],[4,4,4,4],[4,4,4,5]]\n",
    "\n",
    "]"
   ]
  },
  {
   "cell_type": "code",
   "execution_count": null,
   "id": "63b40abd",
   "metadata": {
    "ExecuteTime": {
     "end_time": "2022-07-13T07:57:53.076561Z",
     "start_time": "2022-07-13T07:57:53.062567Z"
    }
   },
   "outputs": [],
   "source": [
    "new = dataset_augmentation(d)"
   ]
  },
  {
   "cell_type": "code",
   "execution_count": null,
   "id": "728ced5a",
   "metadata": {
    "ExecuteTime": {
     "end_time": "2022-07-13T07:57:53.092064Z",
     "start_time": "2022-07-13T07:57:53.079064Z"
    }
   },
   "outputs": [],
   "source": [
    "print(new)\n",
    "print(new.shape)"
   ]
  },
  {
   "cell_type": "markdown",
   "id": "1946adc3",
   "metadata": {},
   "source": [
    "# Processo creazione dateset corretti"
   ]
  },
  {
   "cell_type": "code",
   "execution_count": null,
   "id": "f0f8c473",
   "metadata": {
    "ExecuteTime": {
     "end_time": "2022-07-13T07:57:57.184060Z",
     "start_time": "2022-07-13T07:57:53.095063Z"
    }
   },
   "outputs": [],
   "source": [
    "dataset = costruisci_vettore_per_piano(dizionario_stati,piani_caricati)\n",
    "\n",
    "dataset_5x340 = dataset_augmentation(dataset)"
   ]
  },
  {
   "cell_type": "code",
   "execution_count": null,
   "id": "831a1695",
   "metadata": {
    "ExecuteTime": {
     "end_time": "2022-07-13T07:57:57.199561Z",
     "start_time": "2022-07-13T07:57:57.185063Z"
    }
   },
   "outputs": [],
   "source": [
    "print(dataset_5x340.shape)"
   ]
  },
  {
   "cell_type": "code",
   "execution_count": null,
   "id": "e89af9b6",
   "metadata": {},
   "outputs": [],
   "source": [
    "np.random.shuffle(dataset_5x340)"
   ]
  },
  {
   "cell_type": "code",
   "execution_count": null,
   "id": "1f8ff189",
   "metadata": {},
   "outputs": [],
   "source": [
    "df = pd.DataFrame(dataset_5x340.tolist(), columns=['s0', 's1','s2','s3','s4'])"
   ]
  },
  {
   "cell_type": "code",
   "execution_count": null,
   "id": "dbaa0315",
   "metadata": {},
   "outputs": [],
   "source": [
    "df"
   ]
  },
  {
   "cell_type": "code",
   "execution_count": null,
   "id": "3de85609",
   "metadata": {},
   "outputs": [],
   "source": [
    "X=df[[\"s0\",\"s1\",\"s3\",\"s4\"]]"
   ]
  },
  {
   "cell_type": "code",
   "execution_count": null,
   "id": "a4b60bfc",
   "metadata": {},
   "outputs": [],
   "source": [
    "Y=df[\"s2\"]"
   ]
  },
  {
   "cell_type": "code",
   "execution_count": null,
   "id": "28a7fa73",
   "metadata": {},
   "outputs": [],
   "source": [
    "#split\n",
    "x_tmp, x_test, y_tmp, y_test = train_test_split(X,Y,test_size=0.2,train_size=0.8)\n",
    "x_train, x_val, y_train, y_val = train_test_split(x_tmp,y_tmp,test_size = 0.25,train_size =0.75)"
   ]
  },
  {
   "cell_type": "code",
   "execution_count": null,
   "id": "3846bbe2",
   "metadata": {},
   "outputs": [],
   "source": [
    "x_train\n"
   ]
  },
  {
   "cell_type": "code",
   "execution_count": null,
   "id": "f4171d58",
   "metadata": {},
   "outputs": [],
   "source": [
    "y_train"
   ]
  },
  {
   "cell_type": "code",
   "execution_count": null,
   "id": "2ac270dc",
   "metadata": {},
   "outputs": [],
   "source": [
    "x_test"
   ]
  },
  {
   "cell_type": "code",
   "execution_count": null,
   "id": "65907598",
   "metadata": {},
   "outputs": [],
   "source": [
    "y_test"
   ]
  },
  {
   "cell_type": "code",
   "execution_count": null,
   "id": "0833ec49",
   "metadata": {},
   "outputs": [],
   "source": [
    "x_train=x_train.to_numpy(dtype=object)\n",
    "y_train=y_train.to_numpy(dtype=object)\n",
    "\n",
    "x_val=x_val.to_numpy(dtype=object)\n",
    "y_val=y_val.to_numpy(dtype=object)\n",
    "\n",
    "x_test=x_test.to_numpy(dtype=object)\n",
    "y_test=y_test.to_numpy(dtype=object)\n"
   ]
  },
  {
   "cell_type": "code",
   "execution_count": null,
   "id": "ab829f5c",
   "metadata": {},
   "outputs": [],
   "source": [
    "#Metodi usati per ri-trasformare tutti gli array/liste in np array con np.int8\n",
    "def convert_x_np(data):\n",
    "    new_data=[]\n",
    "    for seq in data:\n",
    "        new_seq=[]\n",
    "        for array in seq:\n",
    "            np_a=np.array(array,dtype=np.int8)\n",
    "            new_seq.append(np_a)\n",
    "        np_seq=np.array(new_seq)\n",
    "        new_data.append(np_seq)\n",
    "    np_new_data=np.array(new_data)\n",
    "    return np_new_data  \n",
    "\n",
    "def convert_y_np(data):\n",
    "    new_data=[]\n",
    "    for array in data:\n",
    "        np_a=np.array(array,dtype=np.int8)\n",
    "        new_data.append(np_a) \n",
    "               \n",
    "    np_new_data=np.array(new_data)\n",
    "    print(\"Completato\")\n",
    "    return np_new_data  \n"
   ]
  },
  {
   "cell_type": "code",
   "execution_count": null,
   "id": "46a3745a",
   "metadata": {},
   "outputs": [],
   "source": [
    "np_x_train=convert_x_np(x_train)\n",
    "np_y_train=convert_y_np(y_train)\n",
    "\n",
    "np_x_val=convert_x_np(x_val)\n",
    "np_x_test=convert_x_np(x_test)\n",
    "\n",
    "np_y_val=convert_y_np(y_val)\n",
    "np_y_test=convert_y_np(y_test)"
   ]
  },
  {
   "cell_type": "code",
   "execution_count": null,
   "id": "7f320126",
   "metadata": {},
   "outputs": [],
   "source": [
    "save_file(np_x_train, \"./Dataset/\", \"set_training_x\")\n",
    "save_file(np_x_val, \"./Dataset/\", \"set_validation_x\")\n",
    "save_file(np_x_test, \"./Dataset/\", \"set_test_x\")\n",
    "    \n",
    "save_file(np_y_train, \"./Dataset/\", \"set_training_y\")\n",
    "save_file(np_y_val, \"./Dataset/\", \"set_validation_y\")\n",
    "save_file(np_y_test, \"./Dataset/\", \"set_test_y\")"
   ]
  },
  {
   "cell_type": "markdown",
   "id": "8f1b4d2e",
   "metadata": {},
   "source": [
    "# Modello"
   ]
  },
  {
   "cell_type": "markdown",
   "id": "28dd37de",
   "metadata": {},
   "source": [
    "Caricamento dataset"
   ]
  },
  {
   "cell_type": "code",
   "execution_count": 3,
   "id": "9664cbcf",
   "metadata": {
    "ExecuteTime": {
     "end_time": "2022-07-18T07:00:33.529655Z",
     "start_time": "2022-07-18T07:00:33.226948Z"
    }
   },
   "outputs": [
    {
     "name": "stdout",
     "output_type": "stream",
     "text": [
      "File loaded\n",
      "File loaded\n",
      "File loaded\n",
      "File loaded\n",
      "File loaded\n",
      "File loaded\n"
     ]
    }
   ],
   "source": [
    "train_x=load_file(\"./Dataset/set_training_x\")\n",
    "train_y=load_file(\"./Dataset/set_training_y\")\n",
    "val_x=load_file(\"./Dataset/set_validation_x\")\n",
    "val_y=load_file(\"./Dataset/set_validation_y\")\n",
    "test_x=load_file(\"./Dataset/set_test_x\")\n",
    "test_y=load_file(\"./Dataset/set_test_y\")"
   ]
  },
  {
   "cell_type": "markdown",
   "id": "1b3d80cf",
   "metadata": {},
   "source": [
    "## Optuna"
   ]
  },
  {
   "cell_type": "code",
   "execution_count": null,
   "id": "16def09c",
   "metadata": {
    "ExecuteTime": {
     "end_time": "2022-07-15T19:32:55.881855Z",
     "start_time": "2022-07-15T08:55:42.176259Z"
    }
   },
   "outputs": [],
   "source": [
    "def objective(trial):\n",
    "    \n",
    "    logdir = os.path.join(\"./TestLogs/\", datetime.datetime.now().strftime(\"%Y%m%d-%H%M%S\"))\n",
    "    my_callbacks = [\n",
    "    tf.keras.callbacks.EarlyStopping(patience=10),\n",
    "    tf.keras.callbacks.TensorBoard(log_dir=logdir,histogram_freq=1, write_graph=True, write_images=True)\n",
    "    ]\n",
    "    \n",
    "    param={\"INPUT_SIZE\" : \"4,340\" ,\n",
    "    \"OUTPUT_SIZE\":340,\n",
    "    \"HIDDEN_SIZE\" : 670,\n",
    "    \"HIDDEN_SIZE2\" : 134,\n",
    "    \"HIDDEN_SIZE3\" : None,\n",
    "    \"CODE_SIZE\" : 67,\n",
    "    \"KERNEL_INIZIALIZER\":\"he_uniform\",\n",
    "    #\"KERNEL_REGULIZER\":tf.keras.regularizers.L2(l2=1e-5),\n",
    "    'BIAS_REGULARIZER': None,\n",
    "    \"ACTIVATION\":'relu',\n",
    "    #\"OPTIMIZER\":tf.keras.optimizers.Adam(learning_rate=0.0002),\n",
    "    \"EPOCHS\":400,\n",
    "    \"BATCH_SIZE\":150,\n",
    "    \"BATCH_NORMAIZATION\": 0\n",
    "    }\n",
    "    \n",
    "    autoencoderV2=tf.keras.models.Sequential()\n",
    "    \n",
    "    l_rate = trial.suggest_float(\"learning rate\", 1e-5, 5e-5, log = True)\n",
    "    regolarizzatore = trial.suggest_float(\"reg param\", 1e-5, 5e-5, log = True)\n",
    "    \n",
    "    autoencoderV2.add(Input(shape=(4,340)))\n",
    "    autoencoderV2.add(Flatten())\n",
    "    autoencoderV2.add( Dense(param[\"HIDDEN_SIZE\"], activation=param[\"ACTIVATION\"], kernel_initializer=param[\"KERNEL_INIZIALIZER\"], kernel_regularizer=tf.keras.regularizers.L2(regolarizzatore), bias_regularizer=param[\"BIAS_REGULARIZER\"] ))\n",
    "    autoencoderV2.add( Dense(param[\"HIDDEN_SIZE2\"], activation=param[\"ACTIVATION\"], kernel_initializer=param[\"KERNEL_INIZIALIZER\"], kernel_regularizer=tf.keras.regularizers.L2(regolarizzatore), bias_regularizer=param[\"BIAS_REGULARIZER\"] ))\n",
    "    autoencoderV2.add(Dense(param[\"CODE_SIZE\"], activation=param[\"ACTIVATION\"],kernel_initializer=param[\"KERNEL_INIZIALIZER\"], kernel_regularizer=tf.keras.regularizers.L2(regolarizzatore), bias_regularizer=param[\"BIAS_REGULARIZER\"],name=\"embedding\"))\n",
    "    autoencoderV2.add( Dense(param[\"HIDDEN_SIZE2\"], activation=param[\"ACTIVATION\"], kernel_initializer=param[\"KERNEL_INIZIALIZER\"], kernel_regularizer=tf.keras.regularizers.L2(regolarizzatore), bias_regularizer=param[\"BIAS_REGULARIZER\"] ))\n",
    "    autoencoderV2.add(Dense(param[\"HIDDEN_SIZE\"], activation=param[\"ACTIVATION\"], kernel_initializer=param[\"KERNEL_INIZIALIZER\"], kernel_regularizer=tf.keras.regularizers.L2(regolarizzatore), bias_regularizer=param[\"BIAS_REGULARIZER\"] ))\n",
    "    autoencoderV2.add( Dense(param[\"OUTPUT_SIZE\"], activation='sigmoid'))\n",
    "    \n",
    "    autoencoderV2.compile(optimizer=tf.keras.optimizers.Adam(l_rate), loss='binary_crossentropy',metrics=[\"accuracy\",\"Precision\",\"Recall\"])\n",
    "    history=autoencoderV2.fit(x=train_x,y=train_y, epochs=param[\"EPOCHS\"],batch_size=param[\"BATCH_SIZE\"], validation_data=(val_x,val_y), \n",
    "                        callbacks=my_callbacks)\n",
    "    optuna_dir= os.path.join(\"./optunaLogs_parte2/\", datetime.datetime.now().strftime(\"%Y%m%d-%H%M%S\"))\n",
    "    optuna_dir=os.path.join(optuna_dir, str(trial.number))\n",
    "    autoencoderV2.save(optuna_dir)\n",
    "\n",
    "    return history.history[\"loss\"][-1]\n",
    "\n",
    "    \n",
    "study = optuna.create_study(direction='minimize')\n",
    "study.optimize(objective, n_trials=15, timeout=None, gc_after_trial=True)\n",
    "\n",
    "print(\"Number of finished trials: \", len(study.trials))\n",
    "\n",
    "print(\"Best trial:\")\n",
    "trial = study.best_trial\n",
    "\n",
    "print(\"  Value: \", trial.value)\n",
    "\n",
    "print(\"  Params: \")\n",
    "for key, value in trial.params.items():\n",
    "    print(\"    {}: {}\".format(key, value))\n"
   ]
  },
  {
   "cell_type": "markdown",
   "id": "94e2a6f6",
   "metadata": {},
   "source": [
    "## Modello simil-CBOW"
   ]
  },
  {
   "cell_type": "code",
   "execution_count": 40,
   "id": "e7311b35",
   "metadata": {
    "ExecuteTime": {
     "end_time": "2022-07-18T15:33:34.403820Z",
     "start_time": "2022-07-18T14:42:34.126171Z"
    }
   },
   "outputs": [
    {
     "name": "stdout",
     "output_type": "stream",
     "text": [
      "WARNING:tensorflow:Please add `keras.layers.InputLayer` instead of `keras.Input` to Sequential model. `keras.Input` is intended to be used by Functional model.\n",
      "Epoch 1/800\n",
      "1025/1025 [==============================] - 17s 15ms/step - loss: 0.4910 - accuracy: 0.0377 - precision: 0.1049 - recall: 0.4298 - val_loss: 0.1923 - val_accuracy: 0.0557 - val_precision: 0.7177 - val_recall: 0.2123\n",
      "Epoch 2/800\n",
      "1025/1025 [==============================] - 12s 12ms/step - loss: 0.1507 - accuracy: 0.0700 - precision: 0.7798 - recall: 0.2777 - val_loss: 0.1265 - val_accuracy: 0.0723 - val_precision: 0.8277 - val_recall: 0.3701\n",
      "Epoch 3/800\n",
      "1025/1025 [==============================] - 11s 11ms/step - loss: 0.1146 - accuracy: 0.0710 - precision: 0.8349 - recall: 0.4417 - val_loss: 0.1021 - val_accuracy: 0.0713 - val_precision: 0.8639 - val_recall: 0.5137\n",
      "Epoch 4/800\n",
      "1025/1025 [==============================] - 11s 11ms/step - loss: 0.0952 - accuracy: 0.0678 - precision: 0.8703 - recall: 0.5522 - val_loss: 0.0862 - val_accuracy: 0.0651 - val_precision: 0.8923 - val_recall: 0.6066\n",
      "Epoch 5/800\n",
      "1025/1025 [==============================] - 12s 11ms/step - loss: 0.0813 - accuracy: 0.0667 - precision: 0.8952 - recall: 0.6320 - val_loss: 0.0740 - val_accuracy: 0.0682 - val_precision: 0.9132 - val_recall: 0.6766\n",
      "Epoch 6/800\n",
      "1025/1025 [==============================] - 11s 11ms/step - loss: 0.0702 - accuracy: 0.0675 - precision: 0.9139 - recall: 0.6960 - val_loss: 0.0641 - val_accuracy: 0.0683 - val_precision: 0.9268 - val_recall: 0.7360\n",
      "Epoch 7/800\n",
      "1025/1025 [==============================] - 11s 11ms/step - loss: 0.0609 - accuracy: 0.0687 - precision: 0.9284 - recall: 0.7499 - val_loss: 0.0558 - val_accuracy: 0.0686 - val_precision: 0.9396 - val_recall: 0.7825\n",
      "Epoch 8/800\n",
      "1025/1025 [==============================] - 11s 11ms/step - loss: 0.0532 - accuracy: 0.0673 - precision: 0.9398 - recall: 0.7943 - val_loss: 0.0490 - val_accuracy: 0.0662 - val_precision: 0.9487 - val_recall: 0.8219\n",
      "Epoch 9/800\n",
      "1025/1025 [==============================] - 11s 11ms/step - loss: 0.0469 - accuracy: 0.0679 - precision: 0.9489 - recall: 0.8293 - val_loss: 0.0434 - val_accuracy: 0.0643 - val_precision: 0.9561 - val_recall: 0.8517\n",
      "Epoch 10/800\n",
      "1025/1025 [==============================] - 11s 11ms/step - loss: 0.0418 - accuracy: 0.0694 - precision: 0.9560 - recall: 0.8564 - val_loss: 0.0390 - val_accuracy: 0.0614 - val_precision: 0.9619 - val_recall: 0.8733\n",
      "Epoch 11/800\n",
      "1025/1025 [==============================] - 11s 11ms/step - loss: 0.0376 - accuracy: 0.0678 - precision: 0.9613 - recall: 0.8771 - val_loss: 0.0355 - val_accuracy: 0.0639 - val_precision: 0.9658 - val_recall: 0.8904\n",
      "Epoch 12/800\n",
      "1025/1025 [==============================] - 12s 11ms/step - loss: 0.0342 - accuracy: 0.0696 - precision: 0.9659 - recall: 0.8934 - val_loss: 0.0326 - val_accuracy: 0.0650 - val_precision: 0.9682 - val_recall: 0.9051\n",
      "Epoch 13/800\n",
      "1025/1025 [==============================] - 12s 11ms/step - loss: 0.0315 - accuracy: 0.0686 - precision: 0.9690 - recall: 0.9061 - val_loss: 0.0302 - val_accuracy: 0.0681 - val_precision: 0.9716 - val_recall: 0.9147\n",
      "Epoch 14/800\n",
      "1025/1025 [==============================] - 11s 11ms/step - loss: 0.0291 - accuracy: 0.0701 - precision: 0.9718 - recall: 0.9165 - val_loss: 0.0282 - val_accuracy: 0.0725 - val_precision: 0.9735 - val_recall: 0.9236\n",
      "Epoch 15/800\n",
      "1025/1025 [==============================] - 11s 11ms/step - loss: 0.0272 - accuracy: 0.0698 - precision: 0.9739 - recall: 0.9248 - val_loss: 0.0265 - val_accuracy: 0.0649 - val_precision: 0.9759 - val_recall: 0.9294\n",
      "Epoch 16/800\n",
      "1025/1025 [==============================] - 11s 11ms/step - loss: 0.0254 - accuracy: 0.0698 - precision: 0.9759 - recall: 0.9319 - val_loss: 0.0251 - val_accuracy: 0.0690 - val_precision: 0.9765 - val_recall: 0.9356\n",
      "Epoch 17/800\n",
      "1025/1025 [==============================] - 11s 10ms/step - loss: 0.0239 - accuracy: 0.0703 - precision: 0.9774 - recall: 0.9378 - val_loss: 0.0238 - val_accuracy: 0.0682 - val_precision: 0.9777 - val_recall: 0.9412\n",
      "Epoch 18/800\n",
      "1025/1025 [==============================] - 11s 11ms/step - loss: 0.0226 - accuracy: 0.0711 - precision: 0.9790 - recall: 0.9430 - val_loss: 0.0227 - val_accuracy: 0.0700 - val_precision: 0.9777 - val_recall: 0.9460\n",
      "Epoch 19/800\n",
      "1025/1025 [==============================] - 11s 11ms/step - loss: 0.0214 - accuracy: 0.0704 - precision: 0.9803 - recall: 0.9474 - val_loss: 0.0217 - val_accuracy: 0.0687 - val_precision: 0.9796 - val_recall: 0.9486\n",
      "Epoch 20/800\n",
      "1025/1025 [==============================] - 11s 11ms/step - loss: 0.0204 - accuracy: 0.0730 - precision: 0.9812 - recall: 0.9513 - val_loss: 0.0208 - val_accuracy: 0.0656 - val_precision: 0.9802 - val_recall: 0.9523\n",
      "Epoch 21/800\n",
      "1025/1025 [==============================] - 11s 11ms/step - loss: 0.0194 - accuracy: 0.0720 - precision: 0.9823 - recall: 0.9546 - val_loss: 0.0200 - val_accuracy: 0.0682 - val_precision: 0.9807 - val_recall: 0.9554\n",
      "Epoch 22/800\n",
      "1025/1025 [==============================] - 11s 11ms/step - loss: 0.0185 - accuracy: 0.0729 - precision: 0.9833 - recall: 0.9576 - val_loss: 0.0192 - val_accuracy: 0.0715 - val_precision: 0.9816 - val_recall: 0.9572\n",
      "Epoch 23/800\n",
      "1025/1025 [==============================] - 11s 11ms/step - loss: 0.0177 - accuracy: 0.0742 - precision: 0.9841 - recall: 0.9604 - val_loss: 0.0186 - val_accuracy: 0.0684 - val_precision: 0.9823 - val_recall: 0.9597\n",
      "Epoch 24/800\n",
      "1025/1025 [==============================] - 11s 10ms/step - loss: 0.0169 - accuracy: 0.0751 - precision: 0.9849 - recall: 0.9628 - val_loss: 0.0179 - val_accuracy: 0.0782 - val_precision: 0.9828 - val_recall: 0.9617\n",
      "Epoch 25/800\n",
      "1025/1025 [==============================] - 11s 11ms/step - loss: 0.0163 - accuracy: 0.0752 - precision: 0.9856 - recall: 0.9651 - val_loss: 0.0174 - val_accuracy: 0.0729 - val_precision: 0.9832 - val_recall: 0.9636\n",
      "Epoch 26/800\n",
      "1025/1025 [==============================] - 11s 10ms/step - loss: 0.0156 - accuracy: 0.0770 - precision: 0.9863 - recall: 0.9673 - val_loss: 0.0169 - val_accuracy: 0.0737 - val_precision: 0.9836 - val_recall: 0.9650\n",
      "Epoch 27/800\n",
      "1025/1025 [==============================] - 11s 11ms/step - loss: 0.0150 - accuracy: 0.0783 - precision: 0.9868 - recall: 0.9690 - val_loss: 0.0164 - val_accuracy: 0.0768 - val_precision: 0.9839 - val_recall: 0.9666\n",
      "Epoch 28/800\n",
      "1025/1025 [==============================] - 12s 11ms/step - loss: 0.0145 - accuracy: 0.0790 - precision: 0.9874 - recall: 0.9708 - val_loss: 0.0160 - val_accuracy: 0.0765 - val_precision: 0.9841 - val_recall: 0.9682\n",
      "Epoch 29/800\n",
      "1025/1025 [==============================] - 12s 12ms/step - loss: 0.0139 - accuracy: 0.0794 - precision: 0.9878 - recall: 0.9721 - val_loss: 0.0155 - val_accuracy: 0.0747 - val_precision: 0.9842 - val_recall: 0.9697\n",
      "Epoch 30/800\n",
      "1025/1025 [==============================] - 11s 11ms/step - loss: 0.0134 - accuracy: 0.0812 - precision: 0.9885 - recall: 0.9737 - val_loss: 0.0152 - val_accuracy: 0.0779 - val_precision: 0.9850 - val_recall: 0.9705\n",
      "Epoch 31/800\n",
      "1025/1025 [==============================] - 11s 11ms/step - loss: 0.0130 - accuracy: 0.0819 - precision: 0.9888 - recall: 0.9750 - val_loss: 0.0148 - val_accuracy: 0.0790 - val_precision: 0.9846 - val_recall: 0.9719\n",
      "Epoch 32/800\n",
      "1025/1025 [==============================] - 11s 11ms/step - loss: 0.0125 - accuracy: 0.0828 - precision: 0.9893 - recall: 0.9765 - val_loss: 0.0145 - val_accuracy: 0.0876 - val_precision: 0.9853 - val_recall: 0.9725\n",
      "Epoch 33/800\n",
      "1025/1025 [==============================] - 11s 11ms/step - loss: 0.0122 - accuracy: 0.0844 - precision: 0.9896 - recall: 0.9774 - val_loss: 0.0142 - val_accuracy: 0.0807 - val_precision: 0.9856 - val_recall: 0.9734\n",
      "Epoch 34/800\n",
      "1025/1025 [==============================] - 11s 11ms/step - loss: 0.0118 - accuracy: 0.0848 - precision: 0.9900 - recall: 0.9785 - val_loss: 0.0139 - val_accuracy: 0.0816 - val_precision: 0.9857 - val_recall: 0.9742\n",
      "Epoch 35/800\n",
      "1025/1025 [==============================] - 11s 11ms/step - loss: 0.0114 - accuracy: 0.0873 - precision: 0.9903 - recall: 0.9795 - val_loss: 0.0136 - val_accuracy: 0.0856 - val_precision: 0.9859 - val_recall: 0.9748\n"
     ]
    },
    {
     "name": "stdout",
     "output_type": "stream",
     "text": [
      "Epoch 36/800\n",
      "1025/1025 [==============================] - 11s 11ms/step - loss: 0.0111 - accuracy: 0.0885 - precision: 0.9907 - recall: 0.9804 - val_loss: 0.0134 - val_accuracy: 0.0895 - val_precision: 0.9857 - val_recall: 0.9760\n",
      "Epoch 37/800\n",
      "1025/1025 [==============================] - 11s 11ms/step - loss: 0.0107 - accuracy: 0.0920 - precision: 0.9910 - recall: 0.9812 - val_loss: 0.0131 - val_accuracy: 0.0958 - val_precision: 0.9861 - val_recall: 0.9765\n",
      "Epoch 38/800\n",
      "1025/1025 [==============================] - 11s 11ms/step - loss: 0.0104 - accuracy: 0.0939 - precision: 0.9913 - recall: 0.9821 - val_loss: 0.0129 - val_accuracy: 0.0891 - val_precision: 0.9865 - val_recall: 0.9768\n",
      "Epoch 39/800\n",
      "1025/1025 [==============================] - 11s 11ms/step - loss: 0.0101 - accuracy: 0.0959 - precision: 0.9916 - recall: 0.9828 - val_loss: 0.0127 - val_accuracy: 0.1026 - val_precision: 0.9861 - val_recall: 0.9778\n",
      "Epoch 40/800\n",
      "1025/1025 [==============================] - 11s 11ms/step - loss: 0.0099 - accuracy: 0.0976 - precision: 0.9917 - recall: 0.9835 - val_loss: 0.0125 - val_accuracy: 0.1058 - val_precision: 0.9864 - val_recall: 0.9784\n",
      "Epoch 41/800\n",
      "1025/1025 [==============================] - 13s 12ms/step - loss: 0.0096 - accuracy: 0.1004 - precision: 0.9920 - recall: 0.9840 - val_loss: 0.0123 - val_accuracy: 0.1120 - val_precision: 0.9867 - val_recall: 0.9786\n",
      "Epoch 42/800\n",
      "1025/1025 [==============================] - 12s 11ms/step - loss: 0.0094 - accuracy: 0.1041 - precision: 0.9922 - recall: 0.9845 - val_loss: 0.0121 - val_accuracy: 0.0954 - val_precision: 0.9871 - val_recall: 0.9787\n",
      "Epoch 43/800\n",
      "1025/1025 [==============================] - 11s 11ms/step - loss: 0.0091 - accuracy: 0.1074 - precision: 0.9925 - recall: 0.9853 - val_loss: 0.0119 - val_accuracy: 0.1034 - val_precision: 0.9870 - val_recall: 0.9794\n",
      "Epoch 44/800\n",
      "1025/1025 [==============================] - 11s 11ms/step - loss: 0.0089 - accuracy: 0.1089 - precision: 0.9926 - recall: 0.9858 - val_loss: 0.0118 - val_accuracy: 0.1076 - val_precision: 0.9873 - val_recall: 0.9796\n",
      "Epoch 45/800\n",
      "1025/1025 [==============================] - 11s 11ms/step - loss: 0.0087 - accuracy: 0.1131 - precision: 0.9927 - recall: 0.9862 - val_loss: 0.0116 - val_accuracy: 0.1251 - val_precision: 0.9872 - val_recall: 0.9802\n",
      "Epoch 46/800\n",
      "1025/1025 [==============================] - 11s 11ms/step - loss: 0.0085 - accuracy: 0.1151 - precision: 0.9930 - recall: 0.9867 - val_loss: 0.0115 - val_accuracy: 0.1193 - val_precision: 0.9873 - val_recall: 0.9804\n",
      "Epoch 47/800\n",
      "1025/1025 [==============================] - 11s 11ms/step - loss: 0.0083 - accuracy: 0.1158 - precision: 0.9932 - recall: 0.9872 - val_loss: 0.0114 - val_accuracy: 0.1226 - val_precision: 0.9873 - val_recall: 0.9809\n",
      "Epoch 48/800\n",
      "1025/1025 [==============================] - 11s 11ms/step - loss: 0.0081 - accuracy: 0.1197 - precision: 0.9932 - recall: 0.9875 - val_loss: 0.0112 - val_accuracy: 0.1169 - val_precision: 0.9874 - val_recall: 0.9810\n",
      "Epoch 49/800\n",
      "1025/1025 [==============================] - 11s 11ms/step - loss: 0.0080 - accuracy: 0.1207 - precision: 0.9935 - recall: 0.9879 - val_loss: 0.0111 - val_accuracy: 0.1231 - val_precision: 0.9874 - val_recall: 0.9814\n",
      "Epoch 50/800\n",
      "1025/1025 [==============================] - 11s 11ms/step - loss: 0.0078 - accuracy: 0.1253 - precision: 0.9936 - recall: 0.9883 - val_loss: 0.0110 - val_accuracy: 0.1276 - val_precision: 0.9874 - val_recall: 0.9815\n",
      "Epoch 51/800\n",
      "1025/1025 [==============================] - 11s 11ms/step - loss: 0.0076 - accuracy: 0.1279 - precision: 0.9938 - recall: 0.9887 - val_loss: 0.0109 - val_accuracy: 0.1297 - val_precision: 0.9877 - val_recall: 0.9819\n",
      "Epoch 52/800\n",
      "1025/1025 [==============================] - 11s 11ms/step - loss: 0.0074 - accuracy: 0.1323 - precision: 0.9939 - recall: 0.9890 - val_loss: 0.0108 - val_accuracy: 0.1266 - val_precision: 0.9880 - val_recall: 0.9820\n",
      "Epoch 53/800\n",
      "1025/1025 [==============================] - 11s 11ms/step - loss: 0.0073 - accuracy: 0.1354 - precision: 0.9941 - recall: 0.9893 - val_loss: 0.0107 - val_accuracy: 0.1341 - val_precision: 0.9882 - val_recall: 0.9821\n",
      "Epoch 54/800\n",
      "1025/1025 [==============================] - 11s 11ms/step - loss: 0.0071 - accuracy: 0.1377 - precision: 0.9941 - recall: 0.9896 - val_loss: 0.0106 - val_accuracy: 0.1399 - val_precision: 0.9880 - val_recall: 0.9824\n",
      "Epoch 55/800\n",
      "1025/1025 [==============================] - 11s 11ms/step - loss: 0.0070 - accuracy: 0.1415 - precision: 0.9943 - recall: 0.9899 - val_loss: 0.0105 - val_accuracy: 0.1353 - val_precision: 0.9878 - val_recall: 0.9826\n",
      "Epoch 56/800\n",
      "1025/1025 [==============================] - 11s 11ms/step - loss: 0.0069 - accuracy: 0.1441 - precision: 0.9944 - recall: 0.9901 - val_loss: 0.0103 - val_accuracy: 0.1519 - val_precision: 0.9880 - val_recall: 0.9829\n",
      "Epoch 57/800\n",
      "1025/1025 [==============================] - 11s 11ms/step - loss: 0.0067 - accuracy: 0.1489 - precision: 0.9945 - recall: 0.9904 - val_loss: 0.0103 - val_accuracy: 0.1538 - val_precision: 0.9880 - val_recall: 0.9830\n",
      "Epoch 58/800\n",
      "1025/1025 [==============================] - 11s 11ms/step - loss: 0.0066 - accuracy: 0.1518 - precision: 0.9946 - recall: 0.9907 - val_loss: 0.0102 - val_accuracy: 0.1564 - val_precision: 0.9879 - val_recall: 0.9831\n",
      "Epoch 59/800\n",
      "1025/1025 [==============================] - 11s 11ms/step - loss: 0.0065 - accuracy: 0.1533 - precision: 0.9946 - recall: 0.9908 - val_loss: 0.0101 - val_accuracy: 0.1588 - val_precision: 0.9880 - val_recall: 0.9836\n",
      "Epoch 60/800\n",
      "1025/1025 [==============================] - 11s 11ms/step - loss: 0.0064 - accuracy: 0.1562 - precision: 0.9947 - recall: 0.9910 - val_loss: 0.0100 - val_accuracy: 0.1467 - val_precision: 0.9880 - val_recall: 0.9835\n",
      "Epoch 61/800\n",
      "1025/1025 [==============================] - 11s 11ms/step - loss: 0.0063 - accuracy: 0.1571 - precision: 0.9948 - recall: 0.9913 - val_loss: 0.0100 - val_accuracy: 0.1738 - val_precision: 0.9881 - val_recall: 0.9837\n",
      "Epoch 62/800\n",
      "1025/1025 [==============================] - 11s 11ms/step - loss: 0.0062 - accuracy: 0.1652 - precision: 0.9950 - recall: 0.9915 - val_loss: 0.0099 - val_accuracy: 0.1670 - val_precision: 0.9885 - val_recall: 0.9837\n",
      "Epoch 63/800\n",
      "1025/1025 [==============================] - 11s 11ms/step - loss: 0.0061 - accuracy: 0.1659 - precision: 0.9950 - recall: 0.9917 - val_loss: 0.0099 - val_accuracy: 0.1868 - val_precision: 0.9881 - val_recall: 0.9841\n",
      "Epoch 64/800\n",
      "1025/1025 [==============================] - 11s 10ms/step - loss: 0.0060 - accuracy: 0.1704 - precision: 0.9951 - recall: 0.9919 - val_loss: 0.0098 - val_accuracy: 0.1723 - val_precision: 0.9884 - val_recall: 0.9841\n",
      "Epoch 65/800\n",
      "1025/1025 [==============================] - 11s 10ms/step - loss: 0.0059 - accuracy: 0.1742 - precision: 0.9951 - recall: 0.9919 - val_loss: 0.0097 - val_accuracy: 0.1683 - val_precision: 0.9885 - val_recall: 0.9841\n",
      "Epoch 66/800\n",
      "1025/1025 [==============================] - 10s 10ms/step - loss: 0.0058 - accuracy: 0.1760 - precision: 0.9953 - recall: 0.9923 - val_loss: 0.0096 - val_accuracy: 0.1815 - val_precision: 0.9884 - val_recall: 0.9845\n",
      "Epoch 67/800\n",
      "1025/1025 [==============================] - 11s 10ms/step - loss: 0.0057 - accuracy: 0.1776 - precision: 0.9954 - recall: 0.9924 - val_loss: 0.0096 - val_accuracy: 0.1848 - val_precision: 0.9885 - val_recall: 0.9844\n",
      "Epoch 68/800\n",
      "1025/1025 [==============================] - 11s 10ms/step - loss: 0.0056 - accuracy: 0.1809 - precision: 0.9954 - recall: 0.9925 - val_loss: 0.0096 - val_accuracy: 0.1788 - val_precision: 0.9882 - val_recall: 0.9847\n",
      "Epoch 69/800\n",
      "1025/1025 [==============================] - 11s 10ms/step - loss: 0.0055 - accuracy: 0.1850 - precision: 0.9955 - recall: 0.9928 - val_loss: 0.0095 - val_accuracy: 0.1878 - val_precision: 0.9885 - val_recall: 0.9848\n",
      "Epoch 70/800\n",
      "1025/1025 [==============================] - 11s 10ms/step - loss: 0.0054 - accuracy: 0.1886 - precision: 0.9955 - recall: 0.9928 - val_loss: 0.0094 - val_accuracy: 0.1912 - val_precision: 0.9887 - val_recall: 0.9847\n",
      "Epoch 71/800\n",
      "1025/1025 [==============================] - 11s 10ms/step - loss: 0.0054 - accuracy: 0.1924 - precision: 0.9955 - recall: 0.9929 - val_loss: 0.0094 - val_accuracy: 0.1921 - val_precision: 0.9885 - val_recall: 0.9850\n"
     ]
    },
    {
     "name": "stdout",
     "output_type": "stream",
     "text": [
      "Epoch 72/800\n",
      "1025/1025 [==============================] - 11s 10ms/step - loss: 0.0053 - accuracy: 0.1974 - precision: 0.9956 - recall: 0.9930 - val_loss: 0.0093 - val_accuracy: 0.2020 - val_precision: 0.9885 - val_recall: 0.9850\n",
      "Epoch 73/800\n",
      "1025/1025 [==============================] - 11s 10ms/step - loss: 0.0052 - accuracy: 0.1977 - precision: 0.9957 - recall: 0.9932 - val_loss: 0.0093 - val_accuracy: 0.2167 - val_precision: 0.9888 - val_recall: 0.9849\n",
      "Epoch 74/800\n",
      "1025/1025 [==============================] - 11s 10ms/step - loss: 0.0051 - accuracy: 0.2000 - precision: 0.9957 - recall: 0.9933 - val_loss: 0.0092 - val_accuracy: 0.2147 - val_precision: 0.9887 - val_recall: 0.9850\n",
      "Epoch 75/800\n",
      "1025/1025 [==============================] - 11s 10ms/step - loss: 0.0051 - accuracy: 0.2049 - precision: 0.9958 - recall: 0.9935 - val_loss: 0.0092 - val_accuracy: 0.2159 - val_precision: 0.9888 - val_recall: 0.9852\n",
      "Epoch 76/800\n",
      "1025/1025 [==============================] - 11s 10ms/step - loss: 0.0050 - accuracy: 0.2084 - precision: 0.9958 - recall: 0.9935 - val_loss: 0.0091 - val_accuracy: 0.2085 - val_precision: 0.9888 - val_recall: 0.9855\n",
      "Epoch 77/800\n",
      "1025/1025 [==============================] - 10s 10ms/step - loss: 0.0049 - accuracy: 0.2113 - precision: 0.9959 - recall: 0.9936 - val_loss: 0.0091 - val_accuracy: 0.2068 - val_precision: 0.9888 - val_recall: 0.9855\n",
      "Epoch 78/800\n",
      "1025/1025 [==============================] - 11s 10ms/step - loss: 0.0049 - accuracy: 0.2113 - precision: 0.9960 - recall: 0.9938 - val_loss: 0.0090 - val_accuracy: 0.2064 - val_precision: 0.9888 - val_recall: 0.9855\n",
      "Epoch 79/800\n",
      "1025/1025 [==============================] - 10s 10ms/step - loss: 0.0048 - accuracy: 0.2154 - precision: 0.9959 - recall: 0.9937 - val_loss: 0.0090 - val_accuracy: 0.2209 - val_precision: 0.9891 - val_recall: 0.9855\n",
      "Epoch 80/800\n",
      "1025/1025 [==============================] - 11s 10ms/step - loss: 0.0048 - accuracy: 0.2172 - precision: 0.9961 - recall: 0.9939 - val_loss: 0.0090 - val_accuracy: 0.2253 - val_precision: 0.9890 - val_recall: 0.9857\n",
      "Epoch 81/800\n",
      "1025/1025 [==============================] - 11s 10ms/step - loss: 0.0047 - accuracy: 0.2230 - precision: 0.9960 - recall: 0.9941 - val_loss: 0.0089 - val_accuracy: 0.2209 - val_precision: 0.9890 - val_recall: 0.9855\n",
      "Epoch 82/800\n",
      "1025/1025 [==============================] - 11s 10ms/step - loss: 0.0047 - accuracy: 0.2228 - precision: 0.9961 - recall: 0.9941 - val_loss: 0.0089 - val_accuracy: 0.2199 - val_precision: 0.9892 - val_recall: 0.9857\n",
      "Epoch 83/800\n",
      "1025/1025 [==============================] - 10s 10ms/step - loss: 0.0046 - accuracy: 0.2284 - precision: 0.9961 - recall: 0.9941 - val_loss: 0.0088 - val_accuracy: 0.2389 - val_precision: 0.9891 - val_recall: 0.9860\n",
      "Epoch 84/800\n",
      "1025/1025 [==============================] - 11s 10ms/step - loss: 0.0045 - accuracy: 0.2314 - precision: 0.9962 - recall: 0.9943 - val_loss: 0.0088 - val_accuracy: 0.2417 - val_precision: 0.9892 - val_recall: 0.9858\n",
      "Epoch 85/800\n",
      "1025/1025 [==============================] - 10s 10ms/step - loss: 0.0045 - accuracy: 0.2340 - precision: 0.9962 - recall: 0.9943 - val_loss: 0.0088 - val_accuracy: 0.2386 - val_precision: 0.9890 - val_recall: 0.9859\n",
      "Epoch 86/800\n",
      "1025/1025 [==============================] - 10s 10ms/step - loss: 0.0045 - accuracy: 0.2379 - precision: 0.9962 - recall: 0.9943 - val_loss: 0.0087 - val_accuracy: 0.2423 - val_precision: 0.9892 - val_recall: 0.9860\n",
      "Epoch 87/800\n",
      "1025/1025 [==============================] - 10s 10ms/step - loss: 0.0044 - accuracy: 0.2394 - precision: 0.9962 - recall: 0.9944 - val_loss: 0.0087 - val_accuracy: 0.2390 - val_precision: 0.9889 - val_recall: 0.9861\n",
      "Epoch 88/800\n",
      "1025/1025 [==============================] - 11s 10ms/step - loss: 0.0044 - accuracy: 0.2425 - precision: 0.9962 - recall: 0.9945 - val_loss: 0.0086 - val_accuracy: 0.2492 - val_precision: 0.9893 - val_recall: 0.9861\n",
      "Epoch 89/800\n",
      "1025/1025 [==============================] - 11s 10ms/step - loss: 0.0043 - accuracy: 0.2438 - precision: 0.9964 - recall: 0.9947 - val_loss: 0.0086 - val_accuracy: 0.2502 - val_precision: 0.9892 - val_recall: 0.9862\n",
      "Epoch 90/800\n",
      "1025/1025 [==============================] - 11s 10ms/step - loss: 0.0043 - accuracy: 0.2423 - precision: 0.9963 - recall: 0.9946 - val_loss: 0.0086 - val_accuracy: 0.2531 - val_precision: 0.9893 - val_recall: 0.9862\n",
      "Epoch 91/800\n",
      "1025/1025 [==============================] - 11s 10ms/step - loss: 0.0042 - accuracy: 0.2477 - precision: 0.9963 - recall: 0.9947 - val_loss: 0.0086 - val_accuracy: 0.2686 - val_precision: 0.9894 - val_recall: 0.9862\n",
      "Epoch 92/800\n",
      "1025/1025 [==============================] - 11s 10ms/step - loss: 0.0042 - accuracy: 0.2518 - precision: 0.9964 - recall: 0.9948 - val_loss: 0.0086 - val_accuracy: 0.2608 - val_precision: 0.9897 - val_recall: 0.9861\n",
      "Epoch 93/800\n",
      "1025/1025 [==============================] - 11s 10ms/step - loss: 0.0041 - accuracy: 0.2554 - precision: 0.9965 - recall: 0.9949 - val_loss: 0.0085 - val_accuracy: 0.2460 - val_precision: 0.9895 - val_recall: 0.9863\n",
      "Epoch 94/800\n",
      "1025/1025 [==============================] - 11s 10ms/step - loss: 0.0041 - accuracy: 0.2583 - precision: 0.9964 - recall: 0.9948 - val_loss: 0.0085 - val_accuracy: 0.2667 - val_precision: 0.9896 - val_recall: 0.9861\n",
      "Epoch 95/800\n",
      "1025/1025 [==============================] - 11s 10ms/step - loss: 0.0041 - accuracy: 0.2585 - precision: 0.9964 - recall: 0.9949 - val_loss: 0.0085 - val_accuracy: 0.2696 - val_precision: 0.9894 - val_recall: 0.9865: 0.0041 - accuracy: 0.2575 - preci\n",
      "Epoch 96/800\n",
      "1025/1025 [==============================] - 11s 10ms/step - loss: 0.0040 - accuracy: 0.2610 - precision: 0.9966 - recall: 0.9951 - val_loss: 0.0084 - val_accuracy: 0.2696 - val_precision: 0.9893 - val_recall: 0.9865\n",
      "Epoch 97/800\n",
      "1025/1025 [==============================] - 11s 10ms/step - loss: 0.0040 - accuracy: 0.2623 - precision: 0.9965 - recall: 0.9951 - val_loss: 0.0084 - val_accuracy: 0.2800 - val_precision: 0.9898 - val_recall: 0.9865\n",
      "Epoch 98/800\n",
      "1025/1025 [==============================] - 11s 10ms/step - loss: 0.0039 - accuracy: 0.2675 - precision: 0.9967 - recall: 0.9951 - val_loss: 0.0084 - val_accuracy: 0.2543 - val_precision: 0.9898 - val_recall: 0.9863\n",
      "Epoch 99/800\n",
      "1025/1025 [==============================] - 11s 10ms/step - loss: 0.0039 - accuracy: 0.2698 - precision: 0.9966 - recall: 0.9951 - val_loss: 0.0084 - val_accuracy: 0.2646 - val_precision: 0.9896 - val_recall: 0.9865\n",
      "Epoch 100/800\n",
      "1025/1025 [==============================] - 11s 10ms/step - loss: 0.0039 - accuracy: 0.2720 - precision: 0.9966 - recall: 0.9953 - val_loss: 0.0083 - val_accuracy: 0.2872 - val_precision: 0.9893 - val_recall: 0.9868\n",
      "Epoch 101/800\n",
      "1025/1025 [==============================] - 11s 10ms/step - loss: 0.0038 - accuracy: 0.2720 - precision: 0.9966 - recall: 0.9952 - val_loss: 0.0083 - val_accuracy: 0.2931 - val_precision: 0.9896 - val_recall: 0.9867\n",
      "Epoch 102/800\n",
      "1025/1025 [==============================] - 11s 10ms/step - loss: 0.0038 - accuracy: 0.2778 - precision: 0.9966 - recall: 0.9953 - val_loss: 0.0083 - val_accuracy: 0.3060 - val_precision: 0.9899 - val_recall: 0.9864\n",
      "Epoch 103/800\n",
      "1025/1025 [==============================] - 11s 10ms/step - loss: 0.0038 - accuracy: 0.2804 - precision: 0.9967 - recall: 0.9953 - val_loss: 0.0083 - val_accuracy: 0.3031 - val_precision: 0.9898 - val_recall: 0.9866\n",
      "Epoch 104/800\n",
      "1025/1025 [==============================] - 11s 10ms/step - loss: 0.0037 - accuracy: 0.2834 - precision: 0.9967 - recall: 0.9953 - val_loss: 0.0082 - val_accuracy: 0.2947 - val_precision: 0.9895 - val_recall: 0.9869\n",
      "Epoch 105/800\n",
      "1025/1025 [==============================] - 11s 10ms/step - loss: 0.0037 - accuracy: 0.2874 - precision: 0.9967 - recall: 0.9954 - val_loss: 0.0082 - val_accuracy: 0.2800 - val_precision: 0.9898 - val_recall: 0.9866\n",
      "Epoch 106/800\n",
      "1025/1025 [==============================] - 11s 10ms/step - loss: 0.0037 - accuracy: 0.2917 - precision: 0.9967 - recall: 0.9955 - val_loss: 0.0083 - val_accuracy: 0.2929 - val_precision: 0.9899 - val_recall: 0.9866\n",
      "Epoch 107/800\n"
     ]
    },
    {
     "name": "stdout",
     "output_type": "stream",
     "text": [
      "1025/1025 [==============================] - 11s 11ms/step - loss: 0.0037 - accuracy: 0.2907 - precision: 0.9967 - recall: 0.9954 - val_loss: 0.0081 - val_accuracy: 0.2973 - val_precision: 0.9898 - val_recall: 0.9868\n",
      "Epoch 108/800\n",
      "1025/1025 [==============================] - 11s 11ms/step - loss: 0.0036 - accuracy: 0.2941 - precision: 0.9968 - recall: 0.9956 - val_loss: 0.0082 - val_accuracy: 0.2885 - val_precision: 0.9897 - val_recall: 0.9869\n",
      "Epoch 109/800\n",
      "1025/1025 [==============================] - 11s 11ms/step - loss: 0.0036 - accuracy: 0.2951 - precision: 0.9967 - recall: 0.9955 - val_loss: 0.0081 - val_accuracy: 0.2883 - val_precision: 0.9902 - val_recall: 0.9867\n",
      "Epoch 110/800\n",
      "1025/1025 [==============================] - 11s 11ms/step - loss: 0.0036 - accuracy: 0.3014 - precision: 0.9967 - recall: 0.9956 - val_loss: 0.0081 - val_accuracy: 0.2892 - val_precision: 0.9899 - val_recall: 0.9868\n",
      "Epoch 111/800\n",
      "1025/1025 [==============================] - 11s 11ms/step - loss: 0.0035 - accuracy: 0.2971 - precision: 0.9968 - recall: 0.9956 - val_loss: 0.0081 - val_accuracy: 0.2999 - val_precision: 0.9901 - val_recall: 0.9870\n",
      "Epoch 112/800\n",
      "1025/1025 [==============================] - 11s 11ms/step - loss: 0.0035 - accuracy: 0.3013 - precision: 0.9968 - recall: 0.9957 - val_loss: 0.0081 - val_accuracy: 0.3074 - val_precision: 0.9898 - val_recall: 0.9870\n",
      "Epoch 113/800\n",
      "1025/1025 [==============================] - 11s 11ms/step - loss: 0.0035 - accuracy: 0.3059 - precision: 0.9968 - recall: 0.9956 - val_loss: 0.0081 - val_accuracy: 0.3181 - val_precision: 0.9898 - val_recall: 0.9870\n",
      "Epoch 114/800\n",
      "1025/1025 [==============================] - 12s 11ms/step - loss: 0.0034 - accuracy: 0.3056 - precision: 0.9969 - recall: 0.9958 - val_loss: 0.0081 - val_accuracy: 0.3152 - val_precision: 0.9901 - val_recall: 0.9868\n",
      "Epoch 115/800\n",
      "1025/1025 [==============================] - 11s 11ms/step - loss: 0.0034 - accuracy: 0.3070 - precision: 0.9969 - recall: 0.9958 - val_loss: 0.0080 - val_accuracy: 0.3266 - val_precision: 0.9901 - val_recall: 0.9870\n",
      "Epoch 116/800\n",
      "1025/1025 [==============================] - 11s 11ms/step - loss: 0.0034 - accuracy: 0.3106 - precision: 0.9969 - recall: 0.9958 - val_loss: 0.0080 - val_accuracy: 0.3213 - val_precision: 0.9900 - val_recall: 0.9871\n",
      "Epoch 117/800\n",
      "1025/1025 [==============================] - 11s 11ms/step - loss: 0.0034 - accuracy: 0.3086 - precision: 0.9969 - recall: 0.9959 - val_loss: 0.0080 - val_accuracy: 0.3263 - val_precision: 0.9901 - val_recall: 0.9870\n",
      "Epoch 118/800\n",
      "1025/1025 [==============================] - 11s 11ms/step - loss: 0.0033 - accuracy: 0.3108 - precision: 0.9969 - recall: 0.9959 - val_loss: 0.0080 - val_accuracy: 0.3257 - val_precision: 0.9900 - val_recall: 0.9870\n",
      "Epoch 119/800\n",
      "1025/1025 [==============================] - 11s 11ms/step - loss: 0.0033 - accuracy: 0.3166 - precision: 0.9969 - recall: 0.9959 - val_loss: 0.0079 - val_accuracy: 0.3017 - val_precision: 0.9904 - val_recall: 0.9870\n",
      "Epoch 120/800\n",
      "1025/1025 [==============================] - 11s 11ms/step - loss: 0.0033 - accuracy: 0.3194 - precision: 0.9969 - recall: 0.9959 - val_loss: 0.0079 - val_accuracy: 0.3180 - val_precision: 0.9902 - val_recall: 0.9872\n",
      "Epoch 121/800\n",
      "1025/1025 [==============================] - 11s 11ms/step - loss: 0.0033 - accuracy: 0.3181 - precision: 0.9970 - recall: 0.9959 - val_loss: 0.0080 - val_accuracy: 0.3394 - val_precision: 0.9901 - val_recall: 0.9871\n",
      "Epoch 122/800\n",
      "1025/1025 [==============================] - 11s 11ms/step - loss: 0.0032 - accuracy: 0.3259 - precision: 0.9970 - recall: 0.9960 - val_loss: 0.0079 - val_accuracy: 0.3386 - val_precision: 0.9902 - val_recall: 0.9873\n",
      "Epoch 123/800\n",
      "1025/1025 [==============================] - 11s 11ms/step - loss: 0.0033 - accuracy: 0.3241 - precision: 0.9969 - recall: 0.9959 - val_loss: 0.0079 - val_accuracy: 0.3487 - val_precision: 0.9901 - val_recall: 0.9873\n",
      "Epoch 124/800\n",
      "1025/1025 [==============================] - 12s 11ms/step - loss: 0.0032 - accuracy: 0.3295 - precision: 0.9970 - recall: 0.9960 - val_loss: 0.0079 - val_accuracy: 0.3616 - val_precision: 0.9903 - val_recall: 0.9874\n",
      "Epoch 125/800\n",
      "1025/1025 [==============================] - 11s 11ms/step - loss: 0.0032 - accuracy: 0.3254 - precision: 0.9971 - recall: 0.9961 - val_loss: 0.0078 - val_accuracy: 0.3343 - val_precision: 0.9902 - val_recall: 0.9873\n",
      "Epoch 126/800\n",
      "1025/1025 [==============================] - 11s 11ms/step - loss: 0.0032 - accuracy: 0.3307 - precision: 0.9970 - recall: 0.9960 - val_loss: 0.0079 - val_accuracy: 0.3424 - val_precision: 0.9901 - val_recall: 0.9874\n",
      "Epoch 127/800\n",
      "1025/1025 [==============================] - 11s 11ms/step - loss: 0.0032 - accuracy: 0.3357 - precision: 0.9970 - recall: 0.9960 - val_loss: 0.0079 - val_accuracy: 0.3386 - val_precision: 0.9901 - val_recall: 0.9872\n",
      "Epoch 128/800\n",
      "1025/1025 [==============================] - 11s 11ms/step - loss: 0.0031 - accuracy: 0.3354 - precision: 0.9971 - recall: 0.9961 - val_loss: 0.0078 - val_accuracy: 0.3469 - val_precision: 0.9904 - val_recall: 0.9871\n",
      "Epoch 129/800\n",
      "1025/1025 [==============================] - 10s 10ms/step - loss: 0.0031 - accuracy: 0.3364 - precision: 0.9971 - recall: 0.9962 - val_loss: 0.0078 - val_accuracy: 0.3431 - val_precision: 0.9903 - val_recall: 0.9874\n",
      "Epoch 130/800\n",
      "1025/1025 [==============================] - 11s 10ms/step - loss: 0.0031 - accuracy: 0.3373 - precision: 0.9972 - recall: 0.9963 - val_loss: 0.0078 - val_accuracy: 0.3570 - val_precision: 0.9901 - val_recall: 0.9874\n",
      "Epoch 131/800\n",
      "1025/1025 [==============================] - 11s 10ms/step - loss: 0.0031 - accuracy: 0.3409 - precision: 0.9970 - recall: 0.9961 - val_loss: 0.0078 - val_accuracy: 0.3579 - val_precision: 0.9903 - val_recall: 0.9872\n",
      "Epoch 132/800\n",
      "1025/1025 [==============================] - 11s 11ms/step - loss: 0.0031 - accuracy: 0.3443 - precision: 0.9971 - recall: 0.9962 - val_loss: 0.0078 - val_accuracy: 0.3515 - val_precision: 0.9903 - val_recall: 0.9874\n",
      "Epoch 133/800\n",
      "1025/1025 [==============================] - 11s 11ms/step - loss: 0.0031 - accuracy: 0.3428 - precision: 0.9971 - recall: 0.9962 - val_loss: 0.0077 - val_accuracy: 0.3443 - val_precision: 0.9903 - val_recall: 0.9876\n",
      "Epoch 134/800\n",
      "1025/1025 [==============================] - 11s 11ms/step - loss: 0.0030 - accuracy: 0.3465 - precision: 0.9971 - recall: 0.9963 - val_loss: 0.0078 - val_accuracy: 0.3636 - val_precision: 0.9904 - val_recall: 0.9874\n",
      "Epoch 135/800\n",
      "1025/1025 [==============================] - 11s 11ms/step - loss: 0.0030 - accuracy: 0.3462 - precision: 0.9971 - recall: 0.9962 - val_loss: 0.0077 - val_accuracy: 0.3756 - val_precision: 0.9905 - val_recall: 0.9873\n",
      "Epoch 136/800\n",
      "1025/1025 [==============================] - 11s 11ms/step - loss: 0.0030 - accuracy: 0.3491 - precision: 0.9972 - recall: 0.9963 - val_loss: 0.0077 - val_accuracy: 0.3646 - val_precision: 0.9906 - val_recall: 0.9874\n",
      "Epoch 137/800\n",
      "1025/1025 [==============================] - 11s 11ms/step - loss: 0.0030 - accuracy: 0.3482 - precision: 0.9971 - recall: 0.9962 - val_loss: 0.0077 - val_accuracy: 0.3593 - val_precision: 0.9905 - val_recall: 0.9874\n",
      "Epoch 138/800\n",
      "1025/1025 [==============================] - 11s 11ms/step - loss: 0.0030 - accuracy: 0.3554 - precision: 0.9971 - recall: 0.9963 - val_loss: 0.0077 - val_accuracy: 0.3706 - val_precision: 0.9903 - val_recall: 0.9877\n",
      "Epoch 139/800\n",
      "1025/1025 [==============================] - 11s 11ms/step - loss: 0.0030 - accuracy: 0.3584 - precision: 0.9972 - recall: 0.9963 - val_loss: 0.0076 - val_accuracy: 0.3644 - val_precision: 0.9906 - val_recall: 0.9876\n",
      "Epoch 140/800\n",
      "1025/1025 [==============================] - 12s 11ms/step - loss: 0.0029 - accuracy: 0.3560 - precision: 0.9971 - recall: 0.9963 - val_loss: 0.0076 - val_accuracy: 0.3587 - val_precision: 0.9902 - val_recall: 0.9877\n",
      "Epoch 141/800\n",
      "1025/1025 [==============================] - 13s 12ms/step - loss: 0.0029 - accuracy: 0.3589 - precision: 0.9972 - recall: 0.9964 - val_loss: 0.0076 - val_accuracy: 0.3452 - val_precision: 0.9907 - val_recall: 0.9875\n",
      "Epoch 142/800\n"
     ]
    },
    {
     "name": "stdout",
     "output_type": "stream",
     "text": [
      "1025/1025 [==============================] - 11s 11ms/step - loss: 0.0029 - accuracy: 0.3578 - precision: 0.9972 - recall: 0.9963 - val_loss: 0.0076 - val_accuracy: 0.3729 - val_precision: 0.9907 - val_recall: 0.9874\n",
      "Epoch 143/800\n",
      "1025/1025 [==============================] - 11s 11ms/step - loss: 0.0029 - accuracy: 0.3604 - precision: 0.9972 - recall: 0.9965 - val_loss: 0.0076 - val_accuracy: 0.3756 - val_precision: 0.9905 - val_recall: 0.9877\n",
      "Epoch 144/800\n",
      "1025/1025 [==============================] - 12s 12ms/step - loss: 0.0029 - accuracy: 0.3677 - precision: 0.9972 - recall: 0.9965 - val_loss: 0.0076 - val_accuracy: 0.3956 - val_precision: 0.9906 - val_recall: 0.9874\n",
      "Epoch 145/800\n",
      "1025/1025 [==============================] - 12s 11ms/step - loss: 0.0029 - accuracy: 0.3697 - precision: 0.9973 - recall: 0.9964 - val_loss: 0.0076 - val_accuracy: 0.3792 - val_precision: 0.9904 - val_recall: 0.9876\n",
      "Epoch 146/800\n",
      "1025/1025 [==============================] - 12s 12ms/step - loss: 0.0028 - accuracy: 0.3729 - precision: 0.9972 - recall: 0.9964 - val_loss: 0.0076 - val_accuracy: 0.3982 - val_precision: 0.9906 - val_recall: 0.9875\n",
      "Epoch 147/800\n",
      "1025/1025 [==============================] - 12s 11ms/step - loss: 0.0028 - accuracy: 0.3779 - precision: 0.9973 - recall: 0.9965 - val_loss: 0.0076 - val_accuracy: 0.3935 - val_precision: 0.9904 - val_recall: 0.9878\n",
      "Epoch 148/800\n",
      "1025/1025 [==============================] - 11s 11ms/step - loss: 0.0028 - accuracy: 0.3728 - precision: 0.9972 - recall: 0.9964 - val_loss: 0.0076 - val_accuracy: 0.3734 - val_precision: 0.9906 - val_recall: 0.9877\n",
      "Epoch 149/800\n",
      "1025/1025 [==============================] - 11s 11ms/step - loss: 0.0028 - accuracy: 0.3704 - precision: 0.9973 - recall: 0.9965 - val_loss: 0.0075 - val_accuracy: 0.3908 - val_precision: 0.9906 - val_recall: 0.9877\n",
      "Epoch 150/800\n",
      "1025/1025 [==============================] - 11s 11ms/step - loss: 0.0028 - accuracy: 0.3722 - precision: 0.9973 - recall: 0.9965 - val_loss: 0.0076 - val_accuracy: 0.3758 - val_precision: 0.9906 - val_recall: 0.9878\n",
      "Epoch 151/800\n",
      "1025/1025 [==============================] - 11s 11ms/step - loss: 0.0028 - accuracy: 0.3734 - precision: 0.9973 - recall: 0.9965 - val_loss: 0.0076 - val_accuracy: 0.3905 - val_precision: 0.9907 - val_recall: 0.9878\n",
      "Epoch 152/800\n",
      "1025/1025 [==============================] - 12s 11ms/step - loss: 0.0028 - accuracy: 0.3799 - precision: 0.9973 - recall: 0.9965 - val_loss: 0.0075 - val_accuracy: 0.4021 - val_precision: 0.9908 - val_recall: 0.9878\n",
      "Epoch 153/800\n",
      "1025/1025 [==============================] - 12s 11ms/step - loss: 0.0027 - accuracy: 0.3808 - precision: 0.9974 - recall: 0.9966 - val_loss: 0.0075 - val_accuracy: 0.4005 - val_precision: 0.9906 - val_recall: 0.9877\n",
      "Epoch 154/800\n",
      "1025/1025 [==============================] - 11s 11ms/step - loss: 0.0027 - accuracy: 0.3798 - precision: 0.9973 - recall: 0.9966 - val_loss: 0.0075 - val_accuracy: 0.3735 - val_precision: 0.9907 - val_recall: 0.9876\n",
      "Epoch 155/800\n",
      "1025/1025 [==============================] - 11s 11ms/step - loss: 0.0027 - accuracy: 0.3804 - precision: 0.9973 - recall: 0.9966 - val_loss: 0.0075 - val_accuracy: 0.3899 - val_precision: 0.9906 - val_recall: 0.9879\n",
      "Epoch 156/800\n",
      "1025/1025 [==============================] - 11s 11ms/step - loss: 0.0027 - accuracy: 0.3831 - precision: 0.9973 - recall: 0.9966 - val_loss: 0.0075 - val_accuracy: 0.3931 - val_precision: 0.9907 - val_recall: 0.9876\n",
      "Epoch 157/800\n",
      "1025/1025 [==============================] - 12s 11ms/step - loss: 0.0027 - accuracy: 0.3819 - precision: 0.9972 - recall: 0.9965 - val_loss: 0.0075 - val_accuracy: 0.3917 - val_precision: 0.9907 - val_recall: 0.9878\n",
      "Epoch 158/800\n",
      "1025/1025 [==============================] - 11s 11ms/step - loss: 0.0027 - accuracy: 0.3843 - precision: 0.9974 - recall: 0.9967 - val_loss: 0.0075 - val_accuracy: 0.4056 - val_precision: 0.9910 - val_recall: 0.9877\n",
      "Epoch 159/800\n",
      "1025/1025 [==============================] - 11s 11ms/step - loss: 0.0027 - accuracy: 0.3853 - precision: 0.9974 - recall: 0.9967 - val_loss: 0.0074 - val_accuracy: 0.3830 - val_precision: 0.9907 - val_recall: 0.9879\n",
      "Epoch 160/800\n",
      "1025/1025 [==============================] - 11s 11ms/step - loss: 0.0027 - accuracy: 0.3875 - precision: 0.9974 - recall: 0.9966 - val_loss: 0.0075 - val_accuracy: 0.3895 - val_precision: 0.9908 - val_recall: 0.9877\n",
      "Epoch 161/800\n",
      "1025/1025 [==============================] - 11s 11ms/step - loss: 0.0027 - accuracy: 0.3871 - precision: 0.9973 - recall: 0.9966 - val_loss: 0.0074 - val_accuracy: 0.3904 - val_precision: 0.9907 - val_recall: 0.9880\n",
      "Epoch 162/800\n",
      "1025/1025 [==============================] - 12s 11ms/step - loss: 0.0026 - accuracy: 0.3910 - precision: 0.9974 - recall: 0.9967 - val_loss: 0.0074 - val_accuracy: 0.4170 - val_precision: 0.9908 - val_recall: 0.9878\n",
      "Epoch 163/800\n",
      "1025/1025 [==============================] - 12s 11ms/step - loss: 0.0026 - accuracy: 0.3892 - precision: 0.9974 - recall: 0.9967 - val_loss: 0.0074 - val_accuracy: 0.4122 - val_precision: 0.9908 - val_recall: 0.9879\n",
      "Epoch 164/800\n",
      "1025/1025 [==============================] - 12s 12ms/step - loss: 0.0026 - accuracy: 0.3901 - precision: 0.9974 - recall: 0.9968 - val_loss: 0.0074 - val_accuracy: 0.3945 - val_precision: 0.9910 - val_recall: 0.9880\n",
      "Epoch 165/800\n",
      "1025/1025 [==============================] - 12s 12ms/step - loss: 0.0026 - accuracy: 0.3947 - precision: 0.9974 - recall: 0.9967 - val_loss: 0.0074 - val_accuracy: 0.3907 - val_precision: 0.9908 - val_recall: 0.9879\n",
      "Epoch 166/800\n",
      "1025/1025 [==============================] - 12s 12ms/step - loss: 0.0026 - accuracy: 0.3943 - precision: 0.9974 - recall: 0.9967 - val_loss: 0.0074 - val_accuracy: 0.4117 - val_precision: 0.9910 - val_recall: 0.9880\n",
      "Epoch 167/800\n",
      "1025/1025 [==============================] - 13s 12ms/step - loss: 0.0026 - accuracy: 0.3984 - precision: 0.9975 - recall: 0.9968 - val_loss: 0.0074 - val_accuracy: 0.4156 - val_precision: 0.9911 - val_recall: 0.9878\n",
      "Epoch 168/800\n",
      "1025/1025 [==============================] - 12s 11ms/step - loss: 0.0026 - accuracy: 0.3978 - precision: 0.9974 - recall: 0.9968 - val_loss: 0.0073 - val_accuracy: 0.3977 - val_precision: 0.9909 - val_recall: 0.9880\n",
      "Epoch 169/800\n",
      "1025/1025 [==============================] - 12s 11ms/step - loss: 0.0026 - accuracy: 0.3990 - precision: 0.9974 - recall: 0.9967 - val_loss: 0.0074 - val_accuracy: 0.4192 - val_precision: 0.9907 - val_recall: 0.9881\n",
      "Epoch 170/800\n",
      "1025/1025 [==============================] - 12s 12ms/step - loss: 0.0026 - accuracy: 0.3996 - precision: 0.9975 - recall: 0.9968 - val_loss: 0.0073 - val_accuracy: 0.4234 - val_precision: 0.9909 - val_recall: 0.9880\n",
      "Epoch 171/800\n",
      "1025/1025 [==============================] - 12s 12ms/step - loss: 0.0025 - accuracy: 0.4017 - precision: 0.9974 - recall: 0.9968 - val_loss: 0.0074 - val_accuracy: 0.4159 - val_precision: 0.9909 - val_recall: 0.9880\n",
      "Epoch 172/800\n",
      "1025/1025 [==============================] - 11s 11ms/step - loss: 0.0025 - accuracy: 0.4057 - precision: 0.9974 - recall: 0.9968 - val_loss: 0.0073 - val_accuracy: 0.4082 - val_precision: 0.9911 - val_recall: 0.9878\n",
      "Epoch 173/800\n",
      "1025/1025 [==============================] - 11s 11ms/step - loss: 0.0025 - accuracy: 0.4047 - precision: 0.9975 - recall: 0.9968 - val_loss: 0.0073 - val_accuracy: 0.4167 - val_precision: 0.9909 - val_recall: 0.9881\n",
      "Epoch 174/800\n",
      "1025/1025 [==============================] - 11s 11ms/step - loss: 0.0025 - accuracy: 0.4072 - precision: 0.9975 - recall: 0.9968 - val_loss: 0.0074 - val_accuracy: 0.4086 - val_precision: 0.9912 - val_recall: 0.9878\n",
      "Epoch 175/800\n",
      "1025/1025 [==============================] - 14s 13ms/step - loss: 0.0025 - accuracy: 0.4124 - precision: 0.9974 - recall: 0.9968 - val_loss: 0.0073 - val_accuracy: 0.4157 - val_precision: 0.9909 - val_recall: 0.9880\n",
      "Epoch 176/800\n",
      "1025/1025 [==============================] - 11s 11ms/step - loss: 0.0025 - accuracy: 0.4141 - precision: 0.9975 - recall: 0.9968 - val_loss: 0.0072 - val_accuracy: 0.4183 - val_precision: 0.9910 - val_recall: 0.9883\n",
      "Epoch 177/800\n"
     ]
    },
    {
     "name": "stdout",
     "output_type": "stream",
     "text": [
      "1025/1025 [==============================] - 11s 11ms/step - loss: 0.0025 - accuracy: 0.4136 - precision: 0.9975 - recall: 0.9969 - val_loss: 0.0073 - val_accuracy: 0.4161 - val_precision: 0.9912 - val_recall: 0.9879\n",
      "Epoch 178/800\n",
      "1025/1025 [==============================] - 11s 11ms/step - loss: 0.0025 - accuracy: 0.4169 - precision: 0.9974 - recall: 0.9968 - val_loss: 0.0073 - val_accuracy: 0.4358 - val_precision: 0.9911 - val_recall: 0.9881\n",
      "Epoch 179/800\n",
      "1025/1025 [==============================] - 11s 11ms/step - loss: 0.0025 - accuracy: 0.4149 - precision: 0.9975 - recall: 0.9968 - val_loss: 0.0073 - val_accuracy: 0.4019 - val_precision: 0.9911 - val_recall: 0.9878\n",
      "Epoch 180/800\n",
      "1025/1025 [==============================] - 11s 11ms/step - loss: 0.0025 - accuracy: 0.4137 - precision: 0.9974 - recall: 0.9969 - val_loss: 0.0073 - val_accuracy: 0.4352 - val_precision: 0.9908 - val_recall: 0.9882\n",
      "Epoch 181/800\n",
      "1025/1025 [==============================] - 11s 11ms/step - loss: 0.0025 - accuracy: 0.4154 - precision: 0.9975 - recall: 0.9968 - val_loss: 0.0073 - val_accuracy: 0.4178 - val_precision: 0.9909 - val_recall: 0.9883\n",
      "Epoch 182/800\n",
      "1025/1025 [==============================] - 11s 11ms/step - loss: 0.0024 - accuracy: 0.4168 - precision: 0.9976 - recall: 0.9970 - val_loss: 0.0073 - val_accuracy: 0.4314 - val_precision: 0.9910 - val_recall: 0.9881\n",
      "Epoch 183/800\n",
      "1025/1025 [==============================] - 11s 11ms/step - loss: 0.0024 - accuracy: 0.4217 - precision: 0.9975 - recall: 0.9970 - val_loss: 0.0073 - val_accuracy: 0.4138 - val_precision: 0.9910 - val_recall: 0.9881\n",
      "Epoch 184/800\n",
      "1025/1025 [==============================] - 11s 11ms/step - loss: 0.0025 - accuracy: 0.4235 - precision: 0.9975 - recall: 0.9968 - val_loss: 0.0072 - val_accuracy: 0.4246 - val_precision: 0.9913 - val_recall: 0.9882\n",
      "Epoch 185/800\n",
      "1025/1025 [==============================] - 11s 11ms/step - loss: 0.0024 - accuracy: 0.4185 - precision: 0.9975 - recall: 0.9970 - val_loss: 0.0072 - val_accuracy: 0.4114 - val_precision: 0.9913 - val_recall: 0.9880\n",
      "Epoch 186/800\n",
      "1025/1025 [==============================] - 11s 11ms/step - loss: 0.0024 - accuracy: 0.4233 - precision: 0.9975 - recall: 0.9969 - val_loss: 0.0072 - val_accuracy: 0.4357 - val_precision: 0.9910 - val_recall: 0.9884\n",
      "Epoch 187/800\n",
      "1025/1025 [==============================] - 11s 11ms/step - loss: 0.0024 - accuracy: 0.4222 - precision: 0.9976 - recall: 0.9971 - val_loss: 0.0072 - val_accuracy: 0.4105 - val_precision: 0.9912 - val_recall: 0.9882\n",
      "Epoch 188/800\n",
      "1025/1025 [==============================] - 11s 11ms/step - loss: 0.0024 - accuracy: 0.4254 - precision: 0.9976 - recall: 0.9970 - val_loss: 0.0072 - val_accuracy: 0.4261 - val_precision: 0.9912 - val_recall: 0.9883\n",
      "Epoch 189/800\n",
      "1025/1025 [==============================] - 11s 11ms/step - loss: 0.0024 - accuracy: 0.4288 - precision: 0.9975 - recall: 0.9969 - val_loss: 0.0072 - val_accuracy: 0.4331 - val_precision: 0.9911 - val_recall: 0.9884\n",
      "Epoch 190/800\n",
      "1025/1025 [==============================] - 11s 11ms/step - loss: 0.0024 - accuracy: 0.4279 - precision: 0.9976 - recall: 0.9971 - val_loss: 0.0072 - val_accuracy: 0.4399 - val_precision: 0.9912 - val_recall: 0.9884\n",
      "Epoch 191/800\n",
      "1025/1025 [==============================] - 11s 11ms/step - loss: 0.0024 - accuracy: 0.4310 - precision: 0.9975 - recall: 0.9969 - val_loss: 0.0072 - val_accuracy: 0.4583 - val_precision: 0.9909 - val_recall: 0.9883\n",
      "Epoch 192/800\n",
      "1025/1025 [==============================] - 11s 11ms/step - loss: 0.0024 - accuracy: 0.4269 - precision: 0.9976 - recall: 0.9970 - val_loss: 0.0072 - val_accuracy: 0.4434 - val_precision: 0.9912 - val_recall: 0.9881\n",
      "Epoch 193/800\n",
      "1025/1025 [==============================] - 11s 11ms/step - loss: 0.0024 - accuracy: 0.4299 - precision: 0.9976 - recall: 0.9970 - val_loss: 0.0072 - val_accuracy: 0.4348 - val_precision: 0.9914 - val_recall: 0.9881\n",
      "Epoch 194/800\n",
      "1025/1025 [==============================] - 11s 11ms/step - loss: 0.0024 - accuracy: 0.4364 - precision: 0.9976 - recall: 0.9970 - val_loss: 0.0071 - val_accuracy: 0.4358 - val_precision: 0.9913 - val_recall: 0.9884\n",
      "Epoch 195/800\n",
      "1025/1025 [==============================] - 11s 11ms/step - loss: 0.0024 - accuracy: 0.4358 - precision: 0.9976 - recall: 0.9970 - val_loss: 0.0071 - val_accuracy: 0.4353 - val_precision: 0.9913 - val_recall: 0.9882\n",
      "Epoch 196/800\n",
      "1025/1025 [==============================] - 11s 11ms/step - loss: 0.0023 - accuracy: 0.4349 - precision: 0.9976 - recall: 0.9970 - val_loss: 0.0072 - val_accuracy: 0.4509 - val_precision: 0.9910 - val_recall: 0.9883\n",
      "Epoch 197/800\n",
      "1025/1025 [==============================] - 11s 11ms/step - loss: 0.0023 - accuracy: 0.4365 - precision: 0.9976 - recall: 0.9970 - val_loss: 0.0072 - val_accuracy: 0.4255 - val_precision: 0.9911 - val_recall: 0.9884\n",
      "Epoch 198/800\n",
      "1025/1025 [==============================] - 11s 11ms/step - loss: 0.0023 - accuracy: 0.4333 - precision: 0.9976 - recall: 0.9970 - val_loss: 0.0071 - val_accuracy: 0.4181 - val_precision: 0.9914 - val_recall: 0.9882\n",
      "Epoch 199/800\n",
      "1025/1025 [==============================] - 11s 11ms/step - loss: 0.0023 - accuracy: 0.4394 - precision: 0.9976 - recall: 0.9971 - val_loss: 0.0071 - val_accuracy: 0.4406 - val_precision: 0.9913 - val_recall: 0.9884\n",
      "Epoch 200/800\n",
      "1025/1025 [==============================] - 11s 11ms/step - loss: 0.0023 - accuracy: 0.4396 - precision: 0.9976 - recall: 0.9971 - val_loss: 0.0072 - val_accuracy: 0.4496 - val_precision: 0.9912 - val_recall: 0.9885\n",
      "Epoch 201/800\n",
      "1025/1025 [==============================] - 11s 11ms/step - loss: 0.0023 - accuracy: 0.4431 - precision: 0.9976 - recall: 0.9971 - val_loss: 0.0071 - val_accuracy: 0.4595 - val_precision: 0.9913 - val_recall: 0.9885\n",
      "Epoch 202/800\n",
      "1025/1025 [==============================] - 11s 11ms/step - loss: 0.0023 - accuracy: 0.4398 - precision: 0.9976 - recall: 0.9971 - val_loss: 0.0071 - val_accuracy: 0.4579 - val_precision: 0.9913 - val_recall: 0.9885\n",
      "Epoch 203/800\n",
      "1025/1025 [==============================] - 11s 11ms/step - loss: 0.0023 - accuracy: 0.4453 - precision: 0.9976 - recall: 0.9971 - val_loss: 0.0071 - val_accuracy: 0.4533 - val_precision: 0.9913 - val_recall: 0.9884\n",
      "Epoch 204/800\n",
      "1025/1025 [==============================] - 11s 11ms/step - loss: 0.0023 - accuracy: 0.4442 - precision: 0.9976 - recall: 0.9971 - val_loss: 0.0071 - val_accuracy: 0.4506 - val_precision: 0.9915 - val_recall: 0.9885\n",
      "Epoch 205/800\n",
      "1025/1025 [==============================] - 11s 11ms/step - loss: 0.0023 - accuracy: 0.4447 - precision: 0.9976 - recall: 0.9971 - val_loss: 0.0071 - val_accuracy: 0.4522 - val_precision: 0.9911 - val_recall: 0.9885\n",
      "Epoch 206/800\n",
      "1025/1025 [==============================] - 11s 11ms/step - loss: 0.0023 - accuracy: 0.4438 - precision: 0.9977 - recall: 0.9971 - val_loss: 0.0071 - val_accuracy: 0.4347 - val_precision: 0.9912 - val_recall: 0.9886\n",
      "Epoch 207/800\n",
      "1025/1025 [==============================] - 11s 11ms/step - loss: 0.0023 - accuracy: 0.4462 - precision: 0.9976 - recall: 0.9971 - val_loss: 0.0071 - val_accuracy: 0.4569 - val_precision: 0.9914 - val_recall: 0.9884\n",
      "Epoch 208/800\n",
      "1025/1025 [==============================] - 11s 11ms/step - loss: 0.0023 - accuracy: 0.4478 - precision: 0.9977 - recall: 0.9972 - val_loss: 0.0071 - val_accuracy: 0.4686 - val_precision: 0.9916 - val_recall: 0.9884\n",
      "Epoch 209/800\n",
      "1025/1025 [==============================] - 11s 11ms/step - loss: 0.0023 - accuracy: 0.4523 - precision: 0.9976 - recall: 0.9971 - val_loss: 0.0071 - val_accuracy: 0.4359 - val_precision: 0.9913 - val_recall: 0.9886\n",
      "Epoch 210/800\n",
      "1025/1025 [==============================] - 11s 11ms/step - loss: 0.0022 - accuracy: 0.4527 - precision: 0.9977 - recall: 0.9972 - val_loss: 0.0071 - val_accuracy: 0.4527 - val_precision: 0.9915 - val_recall: 0.9883\n",
      "Epoch 211/800\n",
      "1025/1025 [==============================] - 11s 11ms/step - loss: 0.0023 - accuracy: 0.4503 - precision: 0.9976 - recall: 0.9971 - val_loss: 0.0071 - val_accuracy: 0.4719 - val_precision: 0.9913 - val_recall: 0.9887\n",
      "Epoch 212/800\n"
     ]
    },
    {
     "name": "stdout",
     "output_type": "stream",
     "text": [
      "1025/1025 [==============================] - 11s 11ms/step - loss: 0.0023 - accuracy: 0.4510 - precision: 0.9976 - recall: 0.9971 - val_loss: 0.0071 - val_accuracy: 0.4702 - val_precision: 0.9913 - val_recall: 0.9885\n",
      "Epoch 213/800\n",
      "1025/1025 [==============================] - 11s 11ms/step - loss: 0.0022 - accuracy: 0.4518 - precision: 0.9976 - recall: 0.9972 - val_loss: 0.0071 - val_accuracy: 0.4516 - val_precision: 0.9913 - val_recall: 0.9885\n",
      "Epoch 214/800\n",
      "1025/1025 [==============================] - 11s 11ms/step - loss: 0.0022 - accuracy: 0.4595 - precision: 0.9977 - recall: 0.9972 - val_loss: 0.0070 - val_accuracy: 0.4594 - val_precision: 0.9915 - val_recall: 0.9884\n",
      "Epoch 215/800\n",
      "1025/1025 [==============================] - 11s 11ms/step - loss: 0.0022 - accuracy: 0.4600 - precision: 0.9977 - recall: 0.9972 - val_loss: 0.0071 - val_accuracy: 0.4584 - val_precision: 0.9914 - val_recall: 0.9884\n",
      "Epoch 216/800\n",
      "1025/1025 [==============================] - 11s 11ms/step - loss: 0.0022 - accuracy: 0.4581 - precision: 0.9976 - recall: 0.9971 - val_loss: 0.0071 - val_accuracy: 0.4653 - val_precision: 0.9913 - val_recall: 0.9886\n",
      "Epoch 217/800\n",
      "1025/1025 [==============================] - 11s 11ms/step - loss: 0.0022 - accuracy: 0.4607 - precision: 0.9977 - recall: 0.9972 - val_loss: 0.0070 - val_accuracy: 0.4711 - val_precision: 0.9915 - val_recall: 0.9886\n",
      "Epoch 218/800\n",
      "1025/1025 [==============================] - 11s 11ms/step - loss: 0.0022 - accuracy: 0.4563 - precision: 0.9978 - recall: 0.9973 - val_loss: 0.0070 - val_accuracy: 0.4649 - val_precision: 0.9916 - val_recall: 0.9885\n",
      "Epoch 219/800\n",
      "1025/1025 [==============================] - 11s 11ms/step - loss: 0.0022 - accuracy: 0.4553 - precision: 0.9977 - recall: 0.9972 - val_loss: 0.0070 - val_accuracy: 0.4539 - val_precision: 0.9916 - val_recall: 0.9885\n",
      "Epoch 220/800\n",
      "1025/1025 [==============================] - 11s 11ms/step - loss: 0.0022 - accuracy: 0.4626 - precision: 0.9977 - recall: 0.9972 - val_loss: 0.0070 - val_accuracy: 0.4554 - val_precision: 0.9915 - val_recall: 0.9885\n",
      "Epoch 221/800\n",
      "1025/1025 [==============================] - 11s 11ms/step - loss: 0.0022 - accuracy: 0.4614 - precision: 0.9977 - recall: 0.9973 - val_loss: 0.0070 - val_accuracy: 0.4782 - val_precision: 0.9913 - val_recall: 0.9887\n",
      "Epoch 222/800\n",
      "1025/1025 [==============================] - 11s 11ms/step - loss: 0.0022 - accuracy: 0.4660 - precision: 0.9977 - recall: 0.9972 - val_loss: 0.0070 - val_accuracy: 0.4794 - val_precision: 0.9914 - val_recall: 0.9888\n",
      "Epoch 223/800\n",
      "1025/1025 [==============================] - 11s 11ms/step - loss: 0.0022 - accuracy: 0.4610 - precision: 0.9977 - recall: 0.9972 - val_loss: 0.0069 - val_accuracy: 0.4841 - val_precision: 0.9915 - val_recall: 0.9887\n",
      "Epoch 224/800\n",
      "1025/1025 [==============================] - 11s 11ms/step - loss: 0.0022 - accuracy: 0.4682 - precision: 0.9977 - recall: 0.9972 - val_loss: 0.0070 - val_accuracy: 0.4803 - val_precision: 0.9914 - val_recall: 0.9886\n",
      "Epoch 225/800\n",
      "1025/1025 [==============================] - 11s 11ms/step - loss: 0.0022 - accuracy: 0.4718 - precision: 0.9978 - recall: 0.9973 - val_loss: 0.0070 - val_accuracy: 0.4756 - val_precision: 0.9915 - val_recall: 0.9886\n",
      "Epoch 226/800\n",
      "1025/1025 [==============================] - 11s 11ms/step - loss: 0.0022 - accuracy: 0.4626 - precision: 0.9977 - recall: 0.9973 - val_loss: 0.0070 - val_accuracy: 0.4892 - val_precision: 0.9914 - val_recall: 0.9887\n",
      "Epoch 227/800\n",
      "1025/1025 [==============================] - 14s 13ms/step - loss: 0.0021 - accuracy: 0.4688 - precision: 0.9978 - recall: 0.9973 - val_loss: 0.0071 - val_accuracy: 0.5042 - val_precision: 0.9913 - val_recall: 0.9887\n",
      "Epoch 228/800\n",
      "1025/1025 [==============================] - 11s 11ms/step - loss: 0.0022 - accuracy: 0.4715 - precision: 0.9977 - recall: 0.9972 - val_loss: 0.0070 - val_accuracy: 0.4768 - val_precision: 0.9915 - val_recall: 0.9887\n",
      "Epoch 229/800\n",
      "1025/1025 [==============================] - 11s 11ms/step - loss: 0.0022 - accuracy: 0.4750 - precision: 0.9977 - recall: 0.9972 - val_loss: 0.0070 - val_accuracy: 0.5014 - val_precision: 0.9913 - val_recall: 0.9888\n",
      "Epoch 230/800\n",
      "1025/1025 [==============================] - 11s 11ms/step - loss: 0.0021 - accuracy: 0.4753 - precision: 0.9978 - recall: 0.9973 - val_loss: 0.0070 - val_accuracy: 0.4664 - val_precision: 0.9914 - val_recall: 0.9887\n",
      "Epoch 231/800\n",
      "1025/1025 [==============================] - 11s 11ms/step - loss: 0.0021 - accuracy: 0.4726 - precision: 0.9977 - recall: 0.9973 - val_loss: 0.0070 - val_accuracy: 0.4978 - val_precision: 0.9915 - val_recall: 0.9888\n",
      "Epoch 232/800\n",
      "1025/1025 [==============================] - 12s 12ms/step - loss: 0.0021 - accuracy: 0.4715 - precision: 0.9978 - recall: 0.9973 - val_loss: 0.0070 - val_accuracy: 0.4710 - val_precision: 0.9915 - val_recall: 0.9888\n",
      "Epoch 233/800\n",
      "1025/1025 [==============================] - 12s 12ms/step - loss: 0.0021 - accuracy: 0.4804 - precision: 0.9977 - recall: 0.9972 - val_loss: 0.0069 - val_accuracy: 0.4880 - val_precision: 0.9916 - val_recall: 0.9887\n",
      "Epoch 234/800\n",
      "1025/1025 [==============================] - 11s 10ms/step - loss: 0.0021 - accuracy: 0.4717 - precision: 0.9978 - recall: 0.9974 - val_loss: 0.0070 - val_accuracy: 0.4876 - val_precision: 0.9914 - val_recall: 0.9887\n",
      "Epoch 235/800\n",
      "1025/1025 [==============================] - 11s 10ms/step - loss: 0.0021 - accuracy: 0.4784 - precision: 0.9977 - recall: 0.9972 - val_loss: 0.0070 - val_accuracy: 0.4751 - val_precision: 0.9916 - val_recall: 0.9885\n",
      "Epoch 236/800\n",
      "1025/1025 [==============================] - 11s 10ms/step - loss: 0.0021 - accuracy: 0.4744 - precision: 0.9977 - recall: 0.9973 - val_loss: 0.0070 - val_accuracy: 0.5012 - val_precision: 0.9916 - val_recall: 0.9888\n",
      "Epoch 237/800\n",
      "1025/1025 [==============================] - 11s 10ms/step - loss: 0.0021 - accuracy: 0.4726 - precision: 0.9977 - recall: 0.9973 - val_loss: 0.0070 - val_accuracy: 0.4811 - val_precision: 0.9916 - val_recall: 0.9887\n",
      "Epoch 238/800\n",
      "1025/1025 [==============================] - 11s 10ms/step - loss: 0.0021 - accuracy: 0.4801 - precision: 0.9978 - recall: 0.9973 - val_loss: 0.0070 - val_accuracy: 0.4737 - val_precision: 0.9918 - val_recall: 0.9885\n",
      "Epoch 239/800\n",
      "1025/1025 [==============================] - 11s 10ms/step - loss: 0.0021 - accuracy: 0.4828 - precision: 0.9977 - recall: 0.9973 - val_loss: 0.0069 - val_accuracy: 0.4935 - val_precision: 0.9918 - val_recall: 0.9887\n",
      "Epoch 240/800\n",
      "1025/1025 [==============================] - 11s 10ms/step - loss: 0.0021 - accuracy: 0.4799 - precision: 0.9978 - recall: 0.9973 - val_loss: 0.0070 - val_accuracy: 0.4981 - val_precision: 0.9917 - val_recall: 0.9887\n",
      "Epoch 241/800\n",
      "1025/1025 [==============================] - 11s 10ms/step - loss: 0.0021 - accuracy: 0.4779 - precision: 0.9978 - recall: 0.9974 - val_loss: 0.0070 - val_accuracy: 0.4852 - val_precision: 0.9917 - val_recall: 0.9886\n",
      "Epoch 242/800\n",
      "1025/1025 [==============================] - 11s 10ms/step - loss: 0.0021 - accuracy: 0.4816 - precision: 0.9978 - recall: 0.9973 - val_loss: 0.0069 - val_accuracy: 0.5108 - val_precision: 0.9916 - val_recall: 0.9888\n",
      "Epoch 243/800\n",
      "1025/1025 [==============================] - 11s 10ms/step - loss: 0.0021 - accuracy: 0.4851 - precision: 0.9978 - recall: 0.9974 - val_loss: 0.0069 - val_accuracy: 0.4701 - val_precision: 0.9917 - val_recall: 0.9887\n",
      "Epoch 244/800\n",
      "1025/1025 [==============================] - 11s 10ms/step - loss: 0.0021 - accuracy: 0.4869 - precision: 0.9978 - recall: 0.9974 - val_loss: 0.0069 - val_accuracy: 0.4867 - val_precision: 0.9916 - val_recall: 0.9889\n",
      "Epoch 245/800\n",
      "1025/1025 [==============================] - 11s 10ms/step - loss: 0.0021 - accuracy: 0.4831 - precision: 0.9978 - recall: 0.9973 - val_loss: 0.0069 - val_accuracy: 0.4895 - val_precision: 0.9916 - val_recall: 0.9889\n",
      "Epoch 246/800\n",
      "1025/1025 [==============================] - 10s 10ms/step - loss: 0.0021 - accuracy: 0.4875 - precision: 0.9977 - recall: 0.9973 - val_loss: 0.0069 - val_accuracy: 0.5058 - val_precision: 0.9916 - val_recall: 0.9889\n",
      "Epoch 247/800\n"
     ]
    },
    {
     "name": "stdout",
     "output_type": "stream",
     "text": [
      "1025/1025 [==============================] - 11s 10ms/step - loss: 0.0021 - accuracy: 0.4807 - precision: 0.9978 - recall: 0.9974 - val_loss: 0.0069 - val_accuracy: 0.5019 - val_precision: 0.9917 - val_recall: 0.9890\n",
      "Epoch 248/800\n",
      "1025/1025 [==============================] - 11s 10ms/step - loss: 0.0020 - accuracy: 0.4882 - precision: 0.9979 - recall: 0.9974 - val_loss: 0.0069 - val_accuracy: 0.5101 - val_precision: 0.9917 - val_recall: 0.9890\n",
      "Epoch 249/800\n",
      "1025/1025 [==============================] - 11s 10ms/step - loss: 0.0021 - accuracy: 0.4866 - precision: 0.9978 - recall: 0.9973 - val_loss: 0.0069 - val_accuracy: 0.4835 - val_precision: 0.9915 - val_recall: 0.9889\n",
      "Epoch 250/800\n",
      "1025/1025 [==============================] - 11s 11ms/step - loss: 0.0021 - accuracy: 0.4854 - precision: 0.9978 - recall: 0.9973 - val_loss: 0.0069 - val_accuracy: 0.5249 - val_precision: 0.9917 - val_recall: 0.9889\n",
      "Epoch 251/800\n",
      "1025/1025 [==============================] - 11s 11ms/step - loss: 0.0021 - accuracy: 0.4913 - precision: 0.9978 - recall: 0.9974 - val_loss: 0.0069 - val_accuracy: 0.4952 - val_precision: 0.9919 - val_recall: 0.9888\n",
      "Epoch 252/800\n",
      "1025/1025 [==============================] - 11s 10ms/step - loss: 0.0020 - accuracy: 0.4841 - precision: 0.9979 - recall: 0.9975 - val_loss: 0.0069 - val_accuracy: 0.5255 - val_precision: 0.9917 - val_recall: 0.9888\n",
      "Epoch 253/800\n",
      "1025/1025 [==============================] - 11s 10ms/step - loss: 0.0021 - accuracy: 0.4838 - precision: 0.9978 - recall: 0.9974 - val_loss: 0.0069 - val_accuracy: 0.4856 - val_precision: 0.9917 - val_recall: 0.9888\n",
      "Epoch 254/800\n",
      "1025/1025 [==============================] - 11s 10ms/step - loss: 0.0020 - accuracy: 0.4857 - precision: 0.9978 - recall: 0.9974 - val_loss: 0.0069 - val_accuracy: 0.5233 - val_precision: 0.9917 - val_recall: 0.9890\n",
      "Epoch 255/800\n",
      "1025/1025 [==============================] - 11s 10ms/step - loss: 0.0020 - accuracy: 0.4894 - precision: 0.9978 - recall: 0.9974 - val_loss: 0.0069 - val_accuracy: 0.4930 - val_precision: 0.9918 - val_recall: 0.9889\n",
      "Epoch 256/800\n",
      "1025/1025 [==============================] - 11s 10ms/step - loss: 0.0020 - accuracy: 0.4914 - precision: 0.9979 - recall: 0.9974 - val_loss: 0.0069 - val_accuracy: 0.5250 - val_precision: 0.9918 - val_recall: 0.9890\n",
      "Epoch 257/800\n",
      "1025/1025 [==============================] - 11s 10ms/step - loss: 0.0020 - accuracy: 0.4930 - precision: 0.9978 - recall: 0.9974 - val_loss: 0.0069 - val_accuracy: 0.5166 - val_precision: 0.9917 - val_recall: 0.9889\n",
      "Epoch 258/800\n",
      "1025/1025 [==============================] - 11s 10ms/step - loss: 0.0020 - accuracy: 0.4970 - precision: 0.9979 - recall: 0.9975 - val_loss: 0.0069 - val_accuracy: 0.4958 - val_precision: 0.9918 - val_recall: 0.9889\n",
      "Epoch 259/800\n",
      "1025/1025 [==============================] - 11s 10ms/step - loss: 0.0020 - accuracy: 0.4951 - precision: 0.9978 - recall: 0.9974 - val_loss: 0.0069 - val_accuracy: 0.5081 - val_precision: 0.9919 - val_recall: 0.9889\n",
      "Epoch 260/800\n",
      "1025/1025 [==============================] - 10s 10ms/step - loss: 0.0020 - accuracy: 0.4916 - precision: 0.9978 - recall: 0.9974 - val_loss: 0.0068 - val_accuracy: 0.5133 - val_precision: 0.9915 - val_recall: 0.9891\n",
      "Epoch 261/800\n",
      "1025/1025 [==============================] - 11s 10ms/step - loss: 0.0020 - accuracy: 0.4967 - precision: 0.9979 - recall: 0.9975 - val_loss: 0.0069 - val_accuracy: 0.4974 - val_precision: 0.9918 - val_recall: 0.9890\n",
      "Epoch 262/800\n",
      "1025/1025 [==============================] - 10s 10ms/step - loss: 0.0020 - accuracy: 0.4953 - precision: 0.9979 - recall: 0.9975 - val_loss: 0.0069 - val_accuracy: 0.5222 - val_precision: 0.9917 - val_recall: 0.9890\n",
      "Epoch 263/800\n",
      "1025/1025 [==============================] - 10s 10ms/step - loss: 0.0020 - accuracy: 0.4956 - precision: 0.9979 - recall: 0.9975 - val_loss: 0.0068 - val_accuracy: 0.5141 - val_precision: 0.9917 - val_recall: 0.9889\n",
      "Epoch 264/800\n",
      "1025/1025 [==============================] - 11s 10ms/step - loss: 0.0020 - accuracy: 0.4941 - precision: 0.9979 - recall: 0.9975 - val_loss: 0.0069 - val_accuracy: 0.5279 - val_precision: 0.9916 - val_recall: 0.9888\n",
      "Epoch 265/800\n",
      "1025/1025 [==============================] - 11s 10ms/step - loss: 0.0020 - accuracy: 0.4994 - precision: 0.9978 - recall: 0.9974 - val_loss: 0.0068 - val_accuracy: 0.4957 - val_precision: 0.9918 - val_recall: 0.9891\n",
      "Epoch 266/800\n",
      "1025/1025 [==============================] - 10s 10ms/step - loss: 0.0020 - accuracy: 0.4980 - precision: 0.9979 - recall: 0.9975 - val_loss: 0.0069 - val_accuracy: 0.5142 - val_precision: 0.9918 - val_recall: 0.9891\n",
      "Epoch 267/800\n",
      "1025/1025 [==============================] - 10s 10ms/step - loss: 0.0020 - accuracy: 0.5003 - precision: 0.9979 - recall: 0.9974 - val_loss: 0.0068 - val_accuracy: 0.5153 - val_precision: 0.9919 - val_recall: 0.9891\n",
      "Epoch 268/800\n",
      "1025/1025 [==============================] - 11s 10ms/step - loss: 0.0020 - accuracy: 0.5001 - precision: 0.9978 - recall: 0.9975 - val_loss: 0.0069 - val_accuracy: 0.5252 - val_precision: 0.9915 - val_recall: 0.9891\n",
      "Epoch 269/800\n",
      "1025/1025 [==============================] - 11s 10ms/step - loss: 0.0020 - accuracy: 0.5023 - precision: 0.9979 - recall: 0.9975 - val_loss: 0.0068 - val_accuracy: 0.4950 - val_precision: 0.9919 - val_recall: 0.9890\n",
      "Epoch 270/800\n",
      "1025/1025 [==============================] - 11s 10ms/step - loss: 0.0020 - accuracy: 0.5001 - precision: 0.9979 - recall: 0.9975 - val_loss: 0.0068 - val_accuracy: 0.4773 - val_precision: 0.9918 - val_recall: 0.9891\n"
     ]
    }
   ],
   "source": [
    "logdir = os.path.join(\"./TestLogs/\", datetime.datetime.now().strftime(\"%Y%m%d-%H%M%S\"))\n",
    "my_callbacks = [\n",
    "    tf.keras.callbacks.EarlyStopping(patience=10),\n",
    "    tf.keras.callbacks.TensorBoard(log_dir=logdir,histogram_freq=1, write_graph=True, write_images=True)\n",
    "\n",
    "]\n",
    "\n",
    "\n",
    "\n",
    "#PARAM:\n",
    "#tf.keras.regularizers.L1(l1=1e-4)\n",
    "param={\"INPUT_SIZE\" : \"4,340\" ,\n",
    "\"OUTPUT_SIZE\":340,\n",
    "\"HIDDEN_SIZE\" : 670,\n",
    "\"HIDDEN_SIZE2\" : 134,\n",
    "\"HIDDEN_SIZE3\" : None,\n",
    "\"CODE_SIZE\" : 67,\n",
    "\"KERNEL_INIZIALIZER\":\"he_uniform\",\n",
    "\"KERNEL_REGULIZER\":tf.keras.regularizers.L2(l2=5e-6),\n",
    "'BIAS_REGULARIZER': None,\n",
    "\"ACTIVATION\":'relu',\n",
    "\"OPTIMIZER\":tf.keras.optimizers.Adam(learning_rate=7e-5),\n",
    "\"EPOCHS\":800,\n",
    "\"BATCH_SIZE\":150,\n",
    "# \"BATCH_NORMALIZATION\": 0\n",
    "}\n",
    "\n",
    "autoencoderV2=tf.keras.models.Sequential()\n",
    "\n",
    "autoencoderV2.add(Input(shape=(4,340)))\n",
    "\n",
    "autoencoderV2.add(Flatten())\n",
    "\n",
    "autoencoderV2.add( Dense(param[\"HIDDEN_SIZE\"], activation=param[\"ACTIVATION\"], kernel_initializer=param[\"KERNEL_INIZIALIZER\"],kernel_regularizer=param[\"KERNEL_REGULIZER\"], bias_regularizer=param[\"BIAS_REGULARIZER\"] ))\n",
    "autoencoderV2.add(tf.keras.layers.BatchNormalization())\n",
    "autoencoderV2.add( Dense(param[\"HIDDEN_SIZE2\"], activation=param[\"ACTIVATION\"], kernel_initializer=param[\"KERNEL_INIZIALIZER\"],kernel_regularizer=param[\"KERNEL_REGULIZER\"], bias_regularizer=param[\"BIAS_REGULARIZER\"] ))\n",
    "autoencoderV2.add(tf.keras.layers.BatchNormalization())\n",
    "autoencoderV2.add(Dense(param[\"CODE_SIZE\"], activation=param[\"ACTIVATION\"],kernel_initializer=param[\"KERNEL_INIZIALIZER\"],kernel_regularizer=param[\"KERNEL_REGULIZER\"],bias_regularizer=param[\"BIAS_REGULARIZER\"],name=\"embedding\"))\n",
    "autoencoderV2.add(tf.keras.layers.BatchNormalization())\n",
    "autoencoderV2.add( Dense(param[\"HIDDEN_SIZE2\"], activation=param[\"ACTIVATION\"], kernel_initializer=param[\"KERNEL_INIZIALIZER\"],kernel_regularizer=param[\"KERNEL_REGULIZER\"], bias_regularizer=param[\"BIAS_REGULARIZER\"] ))\n",
    "autoencoderV2.add(tf.keras.layers.BatchNormalization())\n",
    "autoencoderV2.add(Dense(param[\"HIDDEN_SIZE\"], activation=param[\"ACTIVATION\"], kernel_initializer=param[\"KERNEL_INIZIALIZER\"],kernel_regularizer=param[\"KERNEL_REGULIZER\"], bias_regularizer=param[\"BIAS_REGULARIZER\"] ))\n",
    "autoencoderV2.add(tf.keras.layers.BatchNormalization())\n",
    "autoencoderV2.add( Dense(param[\"OUTPUT_SIZE\"], activation='sigmoid'))\n",
    "\n",
    "\n",
    "#variare learning_rate beta_1,beta_2, da fare per ultimo\n",
    "#batch_size ???\n",
    "autoencoderV2.compile(optimizer=param[\"OPTIMIZER\"], loss='binary_crossentropy',metrics=[\"accuracy\",\"Precision\",\"Recall\"])\n",
    "history=autoencoderV2.fit(x=train_x,y=train_y, epochs=param[\"EPOCHS\"],batch_size=param[\"BATCH_SIZE\"], validation_data=(val_x,val_y), \n",
    "                        callbacks=my_callbacks)"
   ]
  },
  {
   "cell_type": "code",
   "execution_count": 35,
   "id": "1c6ac98f",
   "metadata": {
    "ExecuteTime": {
     "end_time": "2022-07-18T14:40:38.238179Z",
     "start_time": "2022-07-18T14:40:38.219177Z"
    }
   },
   "outputs": [
    {
     "name": "stdout",
     "output_type": "stream",
     "text": [
      "Model: \"sequential_5\"\n",
      "_________________________________________________________________\n",
      "Layer (type)                 Output Shape              Param #   \n",
      "=================================================================\n",
      "flatten_5 (Flatten)          (None, 1360)              0         \n",
      "_________________________________________________________________\n",
      "dense_25 (Dense)             (None, 670)               911870    \n",
      "_________________________________________________________________\n",
      "dense_26 (Dense)             (None, 134)               89914     \n",
      "_________________________________________________________________\n",
      "embedding (Dense)            (None, 67)                9045      \n",
      "_________________________________________________________________\n",
      "dense_27 (Dense)             (None, 134)               9112      \n",
      "_________________________________________________________________\n",
      "dense_28 (Dense)             (None, 670)               90450     \n",
      "_________________________________________________________________\n",
      "dense_29 (Dense)             (None, 340)               228140    \n",
      "=================================================================\n",
      "Total params: 1,338,531\n",
      "Trainable params: 1,338,531\n",
      "Non-trainable params: 0\n",
      "_________________________________________________________________\n"
     ]
    }
   ],
   "source": [
    "autoencoderV2.summary()"
   ]
  },
  {
   "cell_type": "code",
   "execution_count": 36,
   "id": "1b4fa1a3",
   "metadata": {
    "ExecuteTime": {
     "end_time": "2022-07-18T14:40:43.304517Z",
     "start_time": "2022-07-18T14:40:42.854016Z"
    },
    "scrolled": true
   },
   "outputs": [
    {
     "data": {
      "image/png": "[encoded data removed]",
      "text/plain": [
       "<Figure size 432x288 with 1 Axes>"
      ]
     },
     "metadata": {
      "needs_background": "light"
     },
     "output_type": "display_data"
    },
    {
     "data": {
      "image/png": "[encoded data removed]",
      "text/plain": [
       "<Figure size 432x288 with 1 Axes>"
      ]
     },
     "metadata": {
      "needs_background": "light"
     },
     "output_type": "display_data"
    },
    {
     "data": {
      "image/png": "[encoded data removed]",
      "text/plain": [
       "<Figure size 432x288 with 1 Axes>"
      ]
     },
     "metadata": {
      "needs_background": "light"
     },
     "output_type": "display_data"
    },
    {
     "data": {
      "image/png": "[encoded data removed]",
      "text/plain": [
       "<Figure size 432x288 with 1 Axes>"
      ]
     },
     "metadata": {
      "needs_background": "light"
     },
     "output_type": "display_data"
    }
   ],
   "source": [
    "plt.plot(history.history['loss'], label='train')\n",
    "plt.plot(history.history['val_loss'], label='validation')\n",
    "plt.legend()\n",
    "plt.title(\"Loss\")\n",
    "plt.show()\n",
    "    \n",
    "plt.plot(history.history['accuracy'], label='train')\n",
    "plt.plot(history.history['val_accuracy'], label='validation')\n",
    "plt.legend()\n",
    "plt.title(\"Accuracy\")\n",
    "plt.show()\n",
    "\n",
    "plt.plot(history.history['precision'], label='train')\n",
    "plt.plot(history.history['val_precision'], label='validation')\n",
    "plt.legend()\n",
    "plt.title(\"Precision\")\n",
    "plt.show()\n",
    "\n",
    "plt.plot(history.history['recall'], label='train')\n",
    "plt.plot(history.history['val_recall'], label='validation')\n",
    "plt.legend()\n",
    "plt.title(\"Recall\")\n",
    "plt.show()"
   ]
  },
  {
   "cell_type": "code",
   "execution_count": 37,
   "id": "c89f95e7",
   "metadata": {
    "ExecuteTime": {
     "end_time": "2022-07-18T14:40:46.243623Z",
     "start_time": "2022-07-18T14:40:44.815622Z"
    }
   },
   "outputs": [],
   "source": [
    "y_test_predict= autoencoderV2.predict(test_x)\n"
   ]
  },
  {
   "cell_type": "code",
   "execution_count": 38,
   "id": "13811ccc",
   "metadata": {
    "ExecuteTime": {
     "end_time": "2022-07-18T14:41:27.411624Z",
     "start_time": "2022-07-18T14:40:46.245624Z"
    }
   },
   "outputs": [
    {
     "name": "stdout",
     "output_type": "stream",
     "text": [
      "Numero di vettori decodificati correttamente: 46054 su 51231 totali \n",
      "Rapporto: 89.895% \n",
      "Media num di errori per array: 0.374\n",
      "\n"
     ]
    },
    {
     "data": {
      "image/png": "[encoded data removed]",
      "text/plain": [
       "<Figure size 432x288 with 1 Axes>"
      ]
     },
     "metadata": {
      "needs_background": "light"
     },
     "output_type": "display_data"
    }
   ],
   "source": [
    "arr=results_info(test_y, y_test_predict,logdir)\n"
   ]
  },
  {
   "cell_type": "code",
   "execution_count": 39,
   "id": "8697d296",
   "metadata": {
    "ExecuteTime": {
     "end_time": "2022-07-18T14:41:41.980809Z",
     "start_time": "2022-07-18T14:41:39.738232Z"
    }
   },
   "outputs": [
    {
     "name": "stdout",
     "output_type": "stream",
     "text": [
      "INFO:tensorflow:Assets written to: ./TestLogs/20220718-154318\\myModel\\assets\n"
     ]
    }
   ],
   "source": [
    "#Se è buono salvare (>90% rapporto vettori decodificati correttamente)\n",
    "\n",
    "dir_model= os.path.join(logdir,\"myModel\")\n",
    "autoencoderV2.save(dir_model)"
   ]
  },
  {
   "cell_type": "code",
   "execution_count": null,
   "id": "4d44bef1",
   "metadata": {},
   "outputs": [],
   "source": []
  }
 ],
 "metadata": {
  "kernelspec": {
   "display_name": "Python 3 (ipykernel)",
   "language": "python",
   "name": "python3"
  },
  "language_info": {
   "codemirror_mode": {
    "name": "ipython",
    "version": 3
   },
   "file_extension": ".py",
   "mimetype": "text/x-python",
   "name": "python",
   "nbconvert_exporter": "python",
   "pygments_lexer": "ipython3",
   "version": "3.9.12"
  },
  "vscode": {
   "interpreter": {
    "hash": "75241482a63b0cc21089a7e9630ce9a4e49832f95eea58b3d1ce72ab9c72cd52"
   }
  }
 },
 "nbformat": 4,
 "nbformat_minor": 5
}
