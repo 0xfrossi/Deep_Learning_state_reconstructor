{
 "cells": [
  {
   "cell_type": "code",
   "execution_count": 1,
   "id": "8f435793",
   "metadata": {
    "ExecuteTime": {
     "end_time": "2022-07-13T07:55:59.001578Z",
     "start_time": "2022-07-13T07:55:54.161889Z"
    }
   },
   "outputs": [],
   "source": [
    "import numpy as np\n",
    "import tensorflow as tf\n",
    "from utils_functions import *\n",
    "from plan import *\n",
    "import random\n",
    "from main import *\n",
    "\n",
    "from tensorflow.keras.layers import Dense, Input\n",
    "from tensorflow.keras.models import Model\n",
    "from tensorflow.keras.layers import LSTM\n",
    "from tensorflow.keras.layers import RepeatVector\n",
    "from tensorflow.keras.layers import TimeDistributed\n",
    "from tensorflow.keras.utils  import plot_model\n",
    "from tensorflow.keras.utils  import Sequence\n",
    "import datetime, os"
   ]
  },
  {
   "cell_type": "code",
   "execution_count": 2,
   "id": "349ba869",
   "metadata": {
    "ExecuteTime": {
     "end_time": "2022-07-13T07:56:00.175899Z",
     "start_time": "2022-07-13T07:55:59.003079Z"
    }
   },
   "outputs": [
    {
     "name": "stdout",
     "output_type": "stream",
     "text": [
      "Num GPUs Available:  1\n",
      "[PhysicalDevice(name='/physical_device:GPU:0', device_type='GPU')]\n",
      "nome gpu:  /device:GPU:0\n"
     ]
    }
   ],
   "source": [
    "# controllo di star effettivamente usando la GPU\n",
    "\n",
    "print(\"Num GPUs Available: \", len(tf.config.list_physical_devices('GPU')))\n",
    "print(tf.config.list_physical_devices('GPU'))\n",
    "print(\"nome gpu: \",tf.test.gpu_device_name())"
   ]
  },
  {
   "cell_type": "markdown",
   "id": "4fe83a51",
   "metadata": {},
   "source": [
    "## Preparazione dati"
   ]
  },
  {
   "cell_type": "markdown",
   "id": "4f54aad5",
   "metadata": {},
   "source": [
    "### Preparazione dati per struttura Simil-CBOW"
   ]
  },
  {
   "cell_type": "code",
   "execution_count": 3,
   "id": "1a1464b1",
   "metadata": {
    "ExecuteTime": {
     "end_time": "2022-07-13T07:56:00.191037Z",
     "start_time": "2022-07-13T07:56:00.177400Z"
    },
    "pycharm": {
     "is_executing": true
    }
   },
   "outputs": [],
   "source": [
    "# window_size = 2\n",
    "# dizionario_stati = load_file(\"./dizionario_stati\")\n",
    "# piani_caricati = load_file(\"./plans\")"
   ]
  },
  {
   "cell_type": "code",
   "execution_count": 4,
   "id": "168367f3",
   "metadata": {
    "ExecuteTime": {
     "end_time": "2022-07-13T07:56:00.206542Z",
     "start_time": "2022-07-13T07:56:00.193043Z"
    }
   },
   "outputs": [],
   "source": [
    "# def crea_vettori_finestre(dizionario, lista_piani, dimensione_finestra):\n",
    "#     finestre = []\n",
    "#     outputs = []\n",
    "#     print(\"Qui 000\")\n",
    "#     tutti_vettori_1x340 = costruisci_tutti_vettori_1x340(dizionario, lista_piani)\n",
    "#     print(\"Qui 00\")\n",
    "#     tutti_vettori_1x340_list= tutti_vettori_1x340.tolist()\n",
    "#     print(\"Qui 0\")\n",
    "    \n",
    "#     for vett in tutti_vettori_1x340_list:\n",
    "#         indice = tutti_vettori_1x340_list.index(vett)\n",
    "#         if indice == 0 or indice == 1 or indice == len(tutti_vettori_1x340_list)-2 or indice == len(tutti_vettori_1x340_list)-1:\n",
    "#             print(\"Qui 1\", indice)\n",
    "#             continue  # se non posso prendere 2 vettori prima, o due vettori poi, non lo prendo, non può essere un output\n",
    "#             print(\"Qui 2\")\n",
    "#         else:\n",
    "#             print(\"Qui 3\")\n",
    "#             start = indice - dimensione_finestra  # 2 prima del corrente\n",
    "#             end = indice + dimensione_finestra    # 2 dopo il corrente\n",
    "#             vettore_finestra = []\n",
    "#             for i in range(start, end):\n",
    "#                 if i == indice:\n",
    "#                     print(\"Qui 4\")\n",
    "#                     outputs.append(tutti_vettori_1x340[i])  # se è il vettore centrale, la Seq0 dell'immagine di riferimento\n",
    "#                                                  # allora è un autput della finestra, e lo aggiungo al vettore degli output\n",
    "#                 else:\n",
    "#                     print(\"Qui 5\")\n",
    "#                     vettore_finestra.append(\n",
    "#                         tutti_vettori_1x340[i])  # se è Seq-2, o Seq-1, o Seq+1, o Seq+2, lo aggiungo al vettore finestra\n",
    "#         finestre.append(vettore_finestra)\n",
    "\n",
    "#     print(\"Qui 6\")\n",
    "#     return finestre, outputs"
   ]
  },
  {
   "cell_type": "code",
   "execution_count": 5,
   "id": "1c9f900f",
   "metadata": {
    "ExecuteTime": {
     "end_time": "2022-07-13T07:56:00.222052Z",
     "start_time": "2022-07-13T07:56:00.208043Z"
    }
   },
   "outputs": [],
   "source": [
    "# crea_vettori_finestre(dizionario_stati, piani_caricati, window_size)"
   ]
  },
  {
   "cell_type": "markdown",
   "id": "f392ff4b",
   "metadata": {},
   "source": [
    "Creazione dataset"
   ]
  },
  {
   "cell_type": "code",
   "execution_count": 6,
   "id": "7b2839eb",
   "metadata": {
    "ExecuteTime": {
     "end_time": "2022-07-13T07:56:04.872062Z",
     "start_time": "2022-07-13T07:56:00.223563Z"
    }
   },
   "outputs": [
    {
     "name": "stdout",
     "output_type": "stream",
     "text": [
      "File loaded\n",
      "File loaded\n"
     ]
    }
   ],
   "source": [
    "dizionario_stati = load_file(\"./dizionario_stati\")\n",
    "piani_caricati = load_file(\"./plans\")"
   ]
  },
  {
   "cell_type": "code",
   "execution_count": 7,
   "id": "b5cbfad4",
   "metadata": {
    "ExecuteTime": {
     "end_time": "2022-07-13T07:57:53.045561Z",
     "start_time": "2022-07-13T07:56:04.873566Z"
    }
   },
   "outputs": [],
   "source": [
    "dataset = costruisci_vettore_per_piano(dizionario_stati,piani_caricati)"
   ]
  },
  {
   "cell_type": "code",
   "execution_count": 8,
   "id": "e1e14055",
   "metadata": {
    "ExecuteTime": {
     "end_time": "2022-07-13T07:57:53.061063Z",
     "start_time": "2022-07-13T07:57:53.046561Z"
    }
   },
   "outputs": [],
   "source": [
    "#ESEMPIO DI TEST\n",
    "d = [\n",
    "    [[0,0,0,0],[0,0,0,1],[0,0,0,2],[0,0,0,3],[0,0,0,4],[0,0,0,5],[0,0,0,6],[0,0,0,7]],\n",
    "    [[1,1,1,0],[1,1,1,1],[1,1,1,2],[1,1,1,3],[1,1,1,4],[1,1,1,5],[1,1,1,6],[1,1,1,7],[1,1,1,8],[1,1,1,9]],\n",
    "    [[2,2,2,0],[2,2,2,1],[2,2,2,2],[2,2,2,3],[2,2,2,4]],\n",
    "    [[3,3,3,0],[3,3,3,1],[3,3,3,2],[3,3,3,3]],\n",
    "    [[4,4,4,0],[4,4,4,1],[4,4,4,2],[4,4,4,3],[4,4,4,4],[4,4,4,5]]\n",
    "\n",
    "]"
   ]
  },
  {
   "cell_type": "code",
   "execution_count": 9,
   "id": "63b40abd",
   "metadata": {
    "ExecuteTime": {
     "end_time": "2022-07-13T07:57:53.076561Z",
     "start_time": "2022-07-13T07:57:53.062567Z"
    }
   },
   "outputs": [],
   "source": [
    "new = dataset_augmentation(d)"
   ]
  },
  {
   "cell_type": "code",
   "execution_count": 10,
   "id": "728ced5a",
   "metadata": {
    "ExecuteTime": {
     "end_time": "2022-07-13T07:57:53.092064Z",
     "start_time": "2022-07-13T07:57:53.079064Z"
    }
   },
   "outputs": [
    {
     "name": "stdout",
     "output_type": "stream",
     "text": [
      "[[[0 0 0 0]\n",
      "  [0 0 0 1]\n",
      "  [0 0 0 2]\n",
      "  [0 0 0 3]\n",
      "  [0 0 0 4]]\n",
      "\n",
      " [[1 1 1 0]\n",
      "  [1 1 1 1]\n",
      "  [1 1 1 2]\n",
      "  [1 1 1 3]\n",
      "  [1 1 1 4]]\n",
      "\n",
      " [[1 1 1 5]\n",
      "  [1 1 1 6]\n",
      "  [1 1 1 7]\n",
      "  [1 1 1 8]\n",
      "  [1 1 1 9]]\n",
      "\n",
      " [[2 2 2 0]\n",
      "  [2 2 2 1]\n",
      "  [2 2 2 2]\n",
      "  [2 2 2 3]\n",
      "  [2 2 2 4]]\n",
      "\n",
      " [[4 4 4 0]\n",
      "  [4 4 4 1]\n",
      "  [4 4 4 2]\n",
      "  [4 4 4 3]\n",
      "  [4 4 4 4]]]\n",
      "(5, 5, 4)\n"
     ]
    }
   ],
   "source": [
    "print(new)\n",
    "print(new.shape)"
   ]
  },
  {
   "cell_type": "code",
   "execution_count": 11,
   "id": "f0f8c473",
   "metadata": {
    "ExecuteTime": {
     "end_time": "2022-07-13T07:57:57.184060Z",
     "start_time": "2022-07-13T07:57:53.095063Z"
    }
   },
   "outputs": [],
   "source": [
    "dataset_5x340 = dataset_augmentation(dataset)"
   ]
  },
  {
   "cell_type": "code",
   "execution_count": 12,
   "id": "831a1695",
   "metadata": {
    "ExecuteTime": {
     "end_time": "2022-07-13T07:57:57.199561Z",
     "start_time": "2022-07-13T07:57:57.185063Z"
    }
   },
   "outputs": [
    {
     "name": "stdout",
     "output_type": "stream",
     "text": [
      "(256153, 5, 340)\n"
     ]
    }
   ],
   "source": [
    "print(dataset_5x340.shape)"
   ]
  },
  {
   "cell_type": "markdown",
   "id": "e8a7deac",
   "metadata": {},
   "source": [
    "Prossimi passi:\n",
    "* shuffle di dataset_5x340\n",
    "* splittare in train_x,train_y , val_x,val_y, test_x,test_y\n",
    "* la parte \"x\" dim: 4x340, \"y\" dim: 1x340, con \"y\" il primo vettore della sequenza --> non il terzo? il prof parlava di dare in pasto seq-2, seq-1, seq+1, seq+1, per ottenere seq0\n",
    "* comprimerli rendendoli statici"
   ]
  },
  {
   "cell_type": "code",
   "execution_count": 71,
   "id": "f2e825bb",
   "metadata": {
    "ExecuteTime": {
     "end_time": "2022-07-13T09:30:49.427455Z",
     "start_time": "2022-07-13T09:30:49.416955Z"
    }
   },
   "outputs": [],
   "source": [
    "def crea_sets_parte2(dataset_gruppi_da_5):\n",
    "    random.shuffle(dataset_gruppi_da_5)\n",
    "    split = int(len(dataset_gruppi_da_5)//3)\n",
    "    train = dataset_gruppi_da_5[split:]\n",
    "    val_test = dataset_gruppi_da_5[:split]\n",
    "    sub_split = int(len(val_test)//2)\n",
    "    validation = val_test[sub_split:]\n",
    "    test = val_test[:sub_split]\n",
    "    \n",
    "    l_train_x = []\n",
    "    l_validation_x = []\n",
    "    l_test_x = []\n",
    "    \n",
    "    l_train_y = []\n",
    "    l_validation_y = []\n",
    "    l_test_y = []\n",
    "    \n",
    "    for t in train: # scorro ogni quintupla\n",
    "        l_train_y.append(t[2]) # metto l'elemento centrale della quintupla nel set y\n",
    "        list_t = t.tolist()\n",
    "        list_t.remove(list_t[2]) # elimino l'elemento centrale dalla quintupla\n",
    "        l_train_x.append(list_t) # aggiungo la quadrupla al set x\n",
    "        \n",
    "    for v in validation: # scorro ogni quintupla\n",
    "        l_validation_y.append(v[2]) # metto l'elemento centrale della quintupla nel set y\n",
    "        list_v = v.tolist()\n",
    "        list_v.remove(list_v[2]) # elimino l'elemento centrale dalla quintupla\n",
    "        l_validation_x.append(list_v) # aggiungo la quadrupla al set x\n",
    "        \n",
    "    for te in test: # scorro ogni quintupla\n",
    "        l_test_y.append(te[2]) # metto l'elemento centrale della quintupla nel set y\n",
    "        list_te = te.tolist()\n",
    "        list_te.remove(list_te[2]) # elimino l'elemento centrale dalla quintupla\n",
    "        l_test_x.append(list_te) # aggiungo la quadrupla al set x\n",
    "    \n",
    "    train_x = np.array(l_train_x)\n",
    "    validation_x = np.array(l_validation_x)\n",
    "    test_x = np.array(l_test_x)\n",
    "    \n",
    "    train_y = np.array(l_train_y)\n",
    "    validation_y = np.array(l_validation_y)\n",
    "    test_y = np.array(l_test_y)\n",
    "    \n",
    "    save_file(train_x, \"./Dataset_Parte2/\", \"set_training_x\")\n",
    "    save_file(validation_x, \"./Dataset_Parte2/\", \"set_validation_x\")\n",
    "    save_file(test_x, \"./Dataset_Parte2/\", \"set_test_x\")\n",
    "    \n",
    "    save_file(train_y, \"./Dataset_Parte2/\", \"set_training_y\")\n",
    "    save_file(validation_y, \"./Dataset_Parte2/\", \"set_validation_y\")\n",
    "    save_file(test_y, \"./Dataset_Parte2/\", \"set_test_y\")\n",
    "    \n",
    "    return True"
   ]
  },
  {
   "cell_type": "code",
   "execution_count": 72,
   "id": "730a4fb8",
   "metadata": {
    "ExecuteTime": {
     "end_time": "2022-07-13T09:31:28.678272Z",
     "start_time": "2022-07-13T09:30:50.990785Z"
    }
   },
   "outputs": [
    {
     "name": "stdout",
     "output_type": "stream",
     "text": [
      "set_training_x saved in ./Dataset_Parte2/\n",
      "set_validation_x saved in ./Dataset_Parte2/\n",
      "set_test_x saved in ./Dataset_Parte2/\n",
      "set_training_y saved in ./Dataset_Parte2/\n",
      "set_validation_y saved in ./Dataset_Parte2/\n",
      "set_test_y saved in ./Dataset_Parte2/\n"
     ]
    },
    {
     "data": {
      "text/plain": [
       "True"
      ]
     },
     "execution_count": 72,
     "metadata": {},
     "output_type": "execute_result"
    }
   ],
   "source": [
    "crea_sets_parte2(dataset_5x340)"
   ]
  },
  {
   "cell_type": "code",
   "execution_count": null,
   "id": "200390dc",
   "metadata": {},
   "outputs": [],
   "source": []
  }
 ],
 "metadata": {
  "kernelspec": {
   "display_name": "Python 3 (ipykernel)",
   "language": "python",
   "name": "python3"
  },
  "language_info": {
   "codemirror_mode": {
    "name": "ipython",
    "version": 3
   },
   "file_extension": ".py",
   "mimetype": "text/x-python",
   "name": "python",
   "nbconvert_exporter": "python",
   "pygments_lexer": "ipython3",
   "version": "3.9.12"
  },
  "vscode": {
   "interpreter": {
    "hash": "75241482a63b0cc21089a7e9630ce9a4e49832f95eea58b3d1ce72ab9c72cd52"
   }
  }
 },
 "nbformat": 4,
 "nbformat_minor": 5
}
