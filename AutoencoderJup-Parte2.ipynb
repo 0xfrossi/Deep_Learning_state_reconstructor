{
 "cells": [
  {
   "cell_type": "code",
   "execution_count": 2,
   "id": "8f435793",
   "metadata": {
    "ExecuteTime": {
     "end_time": "2022-07-12T07:42:47.870204Z",
     "start_time": "2022-07-12T07:42:47.864704Z"
    }
   },
   "outputs": [],
   "source": [
    "import numpy as np\n",
    "import tensorflow as tf\n",
    "from utils_functions import *\n",
    "from plan import *\n",
    "import random\n",
    "from main import *\n",
    "\n",
    "from tensorflow.keras.layers import Dense, Input\n",
    "from tensorflow.keras.models import Model\n",
    "from tensorflow.keras.layers import LSTM\n",
    "from tensorflow.keras.layers import RepeatVector\n",
    "from tensorflow.keras.layers import TimeDistributed\n",
    "from tensorflow.keras.utils  import plot_model\n",
    "from tensorflow.keras.utils  import Sequence\n",
    "import datetime, os"
   ]
  },
  {
   "cell_type": "code",
   "execution_count": 3,
   "id": "349ba869",
   "metadata": {
    "ExecuteTime": {
     "end_time": "2022-07-12T07:42:51.262229Z",
     "start_time": "2022-07-12T07:42:49.943741Z"
    }
   },
   "outputs": [
    {
     "name": "stdout",
     "output_type": "stream",
     "text": [
      "Num GPUs Available:  1\n",
      "[PhysicalDevice(name='/physical_device:GPU:0', device_type='GPU')]\n",
      "nome gpu:  /device:GPU:0\n"
     ]
    }
   ],
   "source": [
    "# controllo di star effettivamente usando la GPU\n",
    "\n",
    "print(\"Num GPUs Available: \", len(tf.config.list_physical_devices('GPU')))\n",
    "print(tf.config.list_physical_devices('GPU'))\n",
    "print(\"nome gpu: \",tf.test.gpu_device_name())"
   ]
  },
  {
   "cell_type": "markdown",
   "id": "4fe83a51",
   "metadata": {},
   "source": [
    "## Preparazione dati"
   ]
  },
  {
   "cell_type": "markdown",
   "id": "ee3c8c33",
   "metadata": {},
   "source": [
    "### Caricamento dataset statici"
   ]
  },
  {
   "cell_type": "markdown",
   "id": "4f54aad5",
   "metadata": {},
   "source": [
    "### Preparazione dati per struttura Simil-CBOW"
   ]
  },
  {
   "cell_type": "code",
   "execution_count": 4,
   "id": "1a1464b1",
   "metadata": {
    "ExecuteTime": {
     "end_time": "2022-07-12T07:53:21.011920Z",
     "start_time": "2022-07-12T07:48:58.941920Z"
    },
    "pycharm": {
     "is_executing": true
    }
   },
   "outputs": [
    {
     "name": "stdout",
     "output_type": "stream",
     "text": [
      "File loaded\n",
      "File loaded\n",
      "File loaded\n"
     ]
    }
   ],
   "source": [
    "test=load_file(\"./Dataset/set_test\")\n",
    "train=load_file(\"./Dataset/set_training\")\n",
    "validation=load_file(\"./Dataset/set_validation\")\n",
    "\n",
    "test=np.array(test,dtype=np.int8)\n",
    "train=np.array(train,dtype=np.int8)\n",
    "validation=np.array(validation,dtype=np.int8)\n",
    "\n",
    "v = len(train)\n",
    "window_size = 2"
   ]
  },
  {
   "cell_type": "code",
   "execution_count": 18,
   "id": "eafd1fc5",
   "metadata": {
    "ExecuteTime": {
     "end_time": "2022-07-12T08:07:54.786161Z",
     "start_time": "2022-07-12T08:07:54.776162Z"
    }
   },
   "outputs": [],
   "source": [
    "# IDEA 1 PER GENERAZIONE DATASET DI TRAINING A FINESTRE\n",
    "\n",
    "# def generazione_dati(train, window_size, lunghezza del training set):\n",
    "    \n",
    "#     sequenze = []\n",
    "    \n",
    "#     for ciascun vettore all'interno del training set:\n",
    "#         ricavo il suo indice (come? con le key del dizionario?)\n",
    "#         se è il primo o secondo, o penultimo, o ultimo (ovvero se indice = 1 OR 2 OR len(train)-1 o len(train)):\n",
    "#             lo skippo perchè non posso avere una finestra di due vettori prima e due dopo.\n",
    "#         else:\n",
    "#             start = indice - window_size\n",
    "#             end = indice + windows_size\n",
    "            \n",
    "#             vettore_di_contesto = []\n",
    "#             per i nel range(start,end):\n",
    "#                 se i != dall'indice del vettore corrente:\n",
    "#                     appendo il vettore di indice i-esimo a vettore_di_contesto\n",
    "        \n",
    "#         appendo vettore_di_contesto a sequenze\n",
    "    \n",
    "#     ritorno sequenze\n",
    "       \n",
    "   \n",
    "    \n",
    "# In questo modo dovrei avere un vettore (sequenze) di vettori di dimensione 4 \n",
    "# (vettori di contesto, a.k.a. le finestre), dove ciascuno di questi vettori e uno stato\n",
    "\n",
    "# Successivamente, quando si tratta di allenare il modello, mi pare abbia detto il prof di fare\n",
    "# un concato o append o flatten della sequenza"
   ]
  }
 ],
 "metadata": {
  "kernelspec": {
   "display_name": "Python 3 (ipykernel)",
   "language": "python",
   "name": "python3"
  },
  "language_info": {
   "codemirror_mode": {
    "name": "ipython",
    "version": 3
   },
   "file_extension": ".py",
   "mimetype": "text/x-python",
   "name": "python",
   "nbconvert_exporter": "python",
   "pygments_lexer": "ipython3",
   "version": "3.9.12"
  },
  "vscode": {
   "interpreter": {
    "hash": "75241482a63b0cc21089a7e9630ce9a4e49832f95eea58b3d1ce72ab9c72cd52"
   }
  }
 },
 "nbformat": 4,
 "nbformat_minor": 5
}
