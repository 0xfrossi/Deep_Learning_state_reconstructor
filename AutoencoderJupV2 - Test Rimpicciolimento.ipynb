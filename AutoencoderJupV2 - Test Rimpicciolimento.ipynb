{
 "cells": [
  {
   "cell_type": "code",
   "execution_count": 1,
   "id": "8f435793",
   "metadata": {
    "ExecuteTime": {
     "end_time": "2022-07-29T06:46:33.975781Z",
     "start_time": "2022-07-29T06:46:26.801435Z"
    }
   },
   "outputs": [],
   "source": [
    "import numpy as np\n",
    "import tensorflow as tf\n",
    "from utils_functions import *\n",
    "from plan import *\n",
    "import random\n",
    "from main import *\n",
    "\n",
    "from tensorflow.keras.layers import Dense, Input\n",
    "from tensorflow.keras.models import Model\n",
    "from tensorflow.keras.layers import LSTM\n",
    "from tensorflow.keras.layers import RepeatVector\n",
    "from tensorflow.keras.layers import TimeDistributed\n",
    "from tensorflow.keras.utils  import plot_model\n",
    "from tensorflow.keras.utils  import Sequence\n",
    "import datetime, os\n",
    "\n",
    "#from matplotlib import pyplot as plt\n",
    "import optuna\n",
    "\n"
   ]
  },
  {
   "cell_type": "code",
   "execution_count": 2,
   "id": "349ba869",
   "metadata": {
    "ExecuteTime": {
     "end_time": "2022-07-29T06:46:35.255867Z",
     "start_time": "2022-07-29T06:46:33.977283Z"
    }
   },
   "outputs": [
    {
     "name": "stdout",
     "output_type": "stream",
     "text": [
      "Num GPUs Available:  1\n",
      "[PhysicalDevice(name='/physical_device:GPU:0', device_type='GPU')]\n",
      "nome gpu:  /device:GPU:0\n"
     ]
    }
   ],
   "source": [
    "# controllo di star effettivamente usando la GPU\n",
    "\n",
    "print(\"Num GPUs Available: \", len(tf.config.list_physical_devices('GPU')))\n",
    "print(tf.config.list_physical_devices('GPU'))\n",
    "print(\"nome gpu: \",tf.test.gpu_device_name())"
   ]
  },
  {
   "cell_type": "markdown",
   "id": "4fe83a51",
   "metadata": {},
   "source": [
    "## Preparazione dati"
   ]
  },
  {
   "cell_type": "markdown",
   "id": "ee3c8c33",
   "metadata": {},
   "source": [
    "### Caricamento dataset statici"
   ]
  },
  {
   "cell_type": "markdown",
   "id": "4f54aad5",
   "metadata": {},
   "source": [
    "### AE classico"
   ]
  },
  {
   "cell_type": "code",
   "execution_count": 3,
   "id": "1a1464b1",
   "metadata": {
    "ExecuteTime": {
     "end_time": "2022-07-29T06:49:46.506866Z",
     "start_time": "2022-07-29T06:46:35.257868Z"
    },
    "pycharm": {
     "is_executing": true
    }
   },
   "outputs": [
    {
     "name": "stdout",
     "output_type": "stream",
     "text": [
      "File loaded\n",
      "File loaded\n",
      "File loaded\n"
     ]
    }
   ],
   "source": [
    "test=load_file(\"./Dataset/set_test\")\n",
    "train=load_file(\"./Dataset/set_training\")\n",
    "validation=load_file(\"./Dataset/set_validation\")\n",
    "\n",
    "test=np.array(test,dtype=np.int8)\n",
    "train=np.array(train,dtype=np.int8)\n",
    "validation=np.array(validation,dtype=np.int8)\n",
    " "
   ]
  },
  {
   "cell_type": "markdown",
   "id": "a85be87a",
   "metadata": {},
   "source": [
    "## Modello"
   ]
  },
  {
   "cell_type": "markdown",
   "id": "53b1d0ef",
   "metadata": {},
   "source": [
    "### AutoEncoder Base"
   ]
  },
  {
   "cell_type": "code",
   "execution_count": 19,
   "id": "00dc9c18",
   "metadata": {
    "ExecuteTime": {
     "end_time": "2022-07-29T16:54:18.322482Z",
     "start_time": "2022-07-29T15:26:16.653256Z"
    },
    "scrolled": true
   },
   "outputs": [
    {
     "name": "stdout",
     "output_type": "stream",
     "text": [
      "WARNING:tensorflow:Please add `keras.layers.InputLayer` instead of `keras.Input` to Sequential model. `keras.Input` is intended to be used by Functional model.\n",
      "Epoch 1/2000\n",
      "6153/6153 [==============================] - 60s 9ms/step - loss: 0.1675 - accuracy: 0.1236 - precision: 0.4064 - recall: 0.4898 - val_loss: 0.0387 - val_accuracy: 0.1296 - val_precision: 0.9736 - val_recall: 0.8386\n",
      "Epoch 2/2000\n",
      "6153/6153 [==============================] - 55s 9ms/step - loss: 0.0307 - accuracy: 0.1136 - precision: 0.9696 - recall: 0.8669 - val_loss: 0.0189 - val_accuracy: 0.1343 - val_precision: 0.9727 - val_recall: 0.9483\n",
      "Epoch 3/2000\n",
      "6153/6153 [==============================] - 55s 9ms/step - loss: 0.0213 - accuracy: 0.1125 - precision: 0.9701 - recall: 0.9168 - val_loss: 0.0142 - val_accuracy: 0.1305 - val_precision: 0.9753 - val_recall: 0.9651\n",
      "Epoch 4/2000\n",
      "6153/6153 [==============================] - 55s 9ms/step - loss: 0.0176 - accuracy: 0.1191 - precision: 0.9731 - recall: 0.9340 - val_loss: 0.0118 - val_accuracy: 0.1467 - val_precision: 0.9773 - val_recall: 0.9732\n",
      "Epoch 5/2000\n",
      "6153/6153 [==============================] - 57s 9ms/step - loss: 0.0155 - accuracy: 0.1280 - precision: 0.9748 - recall: 0.9431 - val_loss: 0.0103 - val_accuracy: 0.1593 - val_precision: 0.9784 - val_recall: 0.9772\n",
      "Epoch 6/2000\n",
      "6153/6153 [==============================] - 56s 9ms/step - loss: 0.0141 - accuracy: 0.1357 - precision: 0.9758 - recall: 0.9484 - val_loss: 0.0095 - val_accuracy: 0.1795 - val_precision: 0.9768 - val_recall: 0.9809\n",
      "Epoch 7/2000\n",
      "6153/6153 [==============================] - 57s 9ms/step - loss: 0.0132 - accuracy: 0.1419 - precision: 0.9765 - recall: 0.9517 - val_loss: 0.0084 - val_accuracy: 0.1758 - val_precision: 0.9823 - val_recall: 0.9798\n",
      "Epoch 8/2000\n",
      "6153/6153 [==============================] - 57s 9ms/step - loss: 0.0124 - accuracy: 0.1482 - precision: 0.9772 - recall: 0.9545 - val_loss: 0.0081 - val_accuracy: 0.1762 - val_precision: 0.9785 - val_recall: 0.9835\n",
      "Epoch 9/2000\n",
      "6153/6153 [==============================] - 56s 9ms/step - loss: 0.0117 - accuracy: 0.1513 - precision: 0.9776 - recall: 0.9566 - val_loss: 0.0079 - val_accuracy: 0.1833 - val_precision: 0.9768 - val_recall: 0.9850\n",
      "Epoch 10/2000\n",
      "6153/6153 [==============================] - 57s 9ms/step - loss: 0.0113 - accuracy: 0.1558 - precision: 0.9779 - recall: 0.9581 - val_loss: 0.0074 - val_accuracy: 0.1786 - val_precision: 0.9780 - val_recall: 0.9853\n",
      "Epoch 11/2000\n",
      "6153/6153 [==============================] - 57s 9ms/step - loss: 0.0108 - accuracy: 0.1588 - precision: 0.9782 - recall: 0.9596 - val_loss: 0.0070 - val_accuracy: 0.1853 - val_precision: 0.9789 - val_recall: 0.9859\n",
      "Epoch 12/2000\n",
      "6153/6153 [==============================] - 57s 9ms/step - loss: 0.0104 - accuracy: 0.1625 - precision: 0.9784 - recall: 0.9609 - val_loss: 0.0065 - val_accuracy: 0.1759 - val_precision: 0.9811 - val_recall: 0.9856\n",
      "Epoch 13/2000\n",
      "6153/6153 [==============================] - 57s 9ms/step - loss: 0.0100 - accuracy: 0.1648 - precision: 0.9787 - recall: 0.9621 - val_loss: 0.0062 - val_accuracy: 0.1833 - val_precision: 0.9813 - val_recall: 0.9863\n",
      "Epoch 14/2000\n",
      "6153/6153 [==============================] - 57s 9ms/step - loss: 0.0097 - accuracy: 0.1682 - precision: 0.9791 - recall: 0.9634 - val_loss: 0.0059 - val_accuracy: 0.1796 - val_precision: 0.9821 - val_recall: 0.9867\n",
      "Epoch 15/2000\n",
      "6153/6153 [==============================] - 57s 9ms/step - loss: 0.0093 - accuracy: 0.1735 - precision: 0.9796 - recall: 0.9646 - val_loss: 0.0056 - val_accuracy: 0.1960 - val_precision: 0.9825 - val_recall: 0.9875\n",
      "Epoch 16/2000\n",
      "6153/6153 [==============================] - 55s 9ms/step - loss: 0.0089 - accuracy: 0.1784 - precision: 0.9801 - recall: 0.9659 - val_loss: 0.0053 - val_accuracy: 0.1818 - val_precision: 0.9842 - val_recall: 0.9870\n",
      "Epoch 17/2000\n",
      "6153/6153 [==============================] - 54s 9ms/step - loss: 0.0086 - accuracy: 0.1833 - precision: 0.9805 - recall: 0.9670 - val_loss: 0.0052 - val_accuracy: 0.1927 - val_precision: 0.9835 - val_recall: 0.9884\n",
      "Epoch 18/2000\n",
      "6153/6153 [==============================] - 56s 9ms/step - loss: 0.0083 - accuracy: 0.1899 - precision: 0.9810 - recall: 0.9681 - val_loss: 0.0051 - val_accuracy: 0.1906 - val_precision: 0.9828 - val_recall: 0.9893\n",
      "Epoch 19/2000\n",
      "6153/6153 [==============================] - 57s 9ms/step - loss: 0.0080 - accuracy: 0.1940 - precision: 0.9814 - recall: 0.9695 - val_loss: 0.0050 - val_accuracy: 0.1990 - val_precision: 0.9819 - val_recall: 0.9903\n",
      "Epoch 20/2000\n",
      "6153/6153 [==============================] - 56s 9ms/step - loss: 0.0077 - accuracy: 0.1982 - precision: 0.9818 - recall: 0.9707 - val_loss: 0.0045 - val_accuracy: 0.1826 - val_precision: 0.9854 - val_recall: 0.9892\n",
      "Epoch 21/2000\n",
      "6153/6153 [==============================] - 54s 9ms/step - loss: 0.0074 - accuracy: 0.2057 - precision: 0.9822 - recall: 0.9718 - val_loss: 0.0043 - val_accuracy: 0.2040 - val_precision: 0.9860 - val_recall: 0.9893\n",
      "Epoch 22/2000\n",
      "6153/6153 [==============================] - 54s 9ms/step - loss: 0.0071 - accuracy: 0.2100 - precision: 0.9827 - recall: 0.9730 - val_loss: 0.0042 - val_accuracy: 0.2129 - val_precision: 0.9855 - val_recall: 0.9903\n",
      "Epoch 23/2000\n",
      "6153/6153 [==============================] - 55s 9ms/step - loss: 0.0068 - accuracy: 0.2143 - precision: 0.9833 - recall: 0.9742 - val_loss: 0.0040 - val_accuracy: 0.2067 - val_precision: 0.9871 - val_recall: 0.9899\n",
      "Epoch 24/2000\n",
      "6153/6153 [==============================] - 57s 9ms/step - loss: 0.0065 - accuracy: 0.2187 - precision: 0.9838 - recall: 0.9755 - val_loss: 0.0040 - val_accuracy: 0.1976 - val_precision: 0.9850 - val_recall: 0.9917\n",
      "Epoch 25/2000\n",
      "6153/6153 [==============================] - 57s 9ms/step - loss: 0.0062 - accuracy: 0.2230 - precision: 0.9843 - recall: 0.9766 - val_loss: 0.0041 - val_accuracy: 0.1961 - val_precision: 0.9844 - val_recall: 0.9920\n",
      "Epoch 26/2000\n",
      "6153/6153 [==============================] - 56s 9ms/step - loss: 0.0060 - accuracy: 0.2272 - precision: 0.9847 - recall: 0.9777 - val_loss: 0.0036 - val_accuracy: 0.2057 - val_precision: 0.9883 - val_recall: 0.9909\n",
      "Epoch 27/2000\n",
      "6153/6153 [==============================] - 56s 9ms/step - loss: 0.0058 - accuracy: 0.2309 - precision: 0.9851 - recall: 0.9786 - val_loss: 0.0036 - val_accuracy: 0.1928 - val_precision: 0.9866 - val_recall: 0.9926\n",
      "Epoch 28/2000\n",
      "6153/6153 [==============================] - 57s 9ms/step - loss: 0.0056 - accuracy: 0.2331 - precision: 0.9855 - recall: 0.9794 - val_loss: 0.0035 - val_accuracy: 0.1986 - val_precision: 0.9873 - val_recall: 0.9926\n",
      "Epoch 29/2000\n",
      "6153/6153 [==============================] - 57s 9ms/step - loss: 0.0054 - accuracy: 0.2418 - precision: 0.9858 - recall: 0.9801 - val_loss: 0.0032 - val_accuracy: 0.2204 - val_precision: 0.9894 - val_recall: 0.9918\n",
      "Epoch 30/2000\n",
      "6153/6153 [==============================] - 57s 9ms/step - loss: 0.0053 - accuracy: 0.2473 - precision: 0.9861 - recall: 0.9808 - val_loss: 0.0031 - val_accuracy: 0.1806 - val_precision: 0.9906 - val_recall: 0.9913\n",
      "Epoch 31/2000\n",
      "6153/6153 [==============================] - 57s 9ms/step - loss: 0.0051 - accuracy: 0.2513 - precision: 0.9864 - recall: 0.9815 - val_loss: 0.0031 - val_accuracy: 0.2109 - val_precision: 0.9900 - val_recall: 0.9925\n",
      "Epoch 32/2000\n",
      "6153/6153 [==============================] - 56s 9ms/step - loss: 0.0050 - accuracy: 0.2605 - precision: 0.9868 - recall: 0.9821 - val_loss: 0.0031 - val_accuracy: 0.2156 - val_precision: 0.9893 - val_recall: 0.9932\n",
      "Epoch 33/2000\n",
      "6153/6153 [==============================] - 56s 9ms/step - loss: 0.0048 - accuracy: 0.2650 - precision: 0.9871 - recall: 0.9826 - val_loss: 0.0030 - val_accuracy: 0.2286 - val_precision: 0.9898 - val_recall: 0.9934\n",
      "Epoch 34/2000\n",
      "6153/6153 [==============================] - 57s 9ms/step - loss: 0.0047 - accuracy: 0.2742 - precision: 0.9873 - recall: 0.9832 - val_loss: 0.0029 - val_accuracy: 0.2347 - val_precision: 0.9900 - val_recall: 0.9940\n",
      "Epoch 35/2000\n",
      "6153/6153 [==============================] - 57s 9ms/step - loss: 0.0046 - accuracy: 0.2827 - precision: 0.9876 - recall: 0.9836 - val_loss: 0.0027 - val_accuracy: 0.2380 - val_precision: 0.9918 - val_recall: 0.9930\n"
     ]
    },
    {
     "name": "stdout",
     "output_type": "stream",
     "text": [
      "Epoch 36/2000\n",
      "6153/6153 [==============================] - 57s 9ms/step - loss: 0.0045 - accuracy: 0.2877 - precision: 0.9878 - recall: 0.9840 - val_loss: 0.0026 - val_accuracy: 0.2418 - val_precision: 0.9925 - val_recall: 0.9930\n",
      "Epoch 37/2000\n",
      "6153/6153 [==============================] - 57s 9ms/step - loss: 0.0044 - accuracy: 0.2972 - precision: 0.9881 - recall: 0.9845 - val_loss: 0.0028 - val_accuracy: 0.2816 - val_precision: 0.9895 - val_recall: 0.9951\n",
      "Epoch 38/2000\n",
      "6153/6153 [==============================] - 57s 9ms/step - loss: 0.0043 - accuracy: 0.3024 - precision: 0.9883 - recall: 0.9849 - val_loss: 0.0025 - val_accuracy: 0.2181 - val_precision: 0.9925 - val_recall: 0.9935\n",
      "Epoch 39/2000\n",
      "6153/6153 [==============================] - 57s 9ms/step - loss: 0.0042 - accuracy: 0.3107 - precision: 0.9885 - recall: 0.9852 - val_loss: 0.0026 - val_accuracy: 0.2408 - val_precision: 0.9907 - val_recall: 0.9948\n",
      "Epoch 40/2000\n",
      "6153/6153 [==============================] - 58s 9ms/step - loss: 0.0042 - accuracy: 0.3136 - precision: 0.9887 - recall: 0.9856 - val_loss: 0.0026 - val_accuracy: 0.2760 - val_precision: 0.9907 - val_recall: 0.9951\n",
      "Epoch 41/2000\n",
      "6153/6153 [==============================] - 56s 9ms/step - loss: 0.0041 - accuracy: 0.3225 - precision: 0.9889 - recall: 0.9859 - val_loss: 0.0025 - val_accuracy: 0.3055 - val_precision: 0.9912 - val_recall: 0.9952\n",
      "Epoch 42/2000\n",
      "6153/6153 [==============================] - 55s 9ms/step - loss: 0.0040 - accuracy: 0.3278 - precision: 0.9891 - recall: 0.9862 - val_loss: 0.0025 - val_accuracy: 0.2850 - val_precision: 0.9910 - val_recall: 0.9954\n",
      "Epoch 43/2000\n",
      "6153/6153 [==============================] - 57s 9ms/step - loss: 0.0040 - accuracy: 0.3289 - precision: 0.9892 - recall: 0.9865 - val_loss: 0.0025 - val_accuracy: 0.3193 - val_precision: 0.9903 - val_recall: 0.9958\n",
      "Epoch 44/2000\n",
      "6153/6153 [==============================] - 57s 9ms/step - loss: 0.0039 - accuracy: 0.3417 - precision: 0.9893 - recall: 0.9868 - val_loss: 0.0025 - val_accuracy: 0.3269 - val_precision: 0.9901 - val_recall: 0.9962\n",
      "Epoch 45/2000\n",
      "6153/6153 [==============================] - 57s 9ms/step - loss: 0.0038 - accuracy: 0.3438 - precision: 0.9895 - recall: 0.9870 - val_loss: 0.0022 - val_accuracy: 0.3219 - val_precision: 0.9942 - val_recall: 0.9939\n",
      "Epoch 46/2000\n",
      "6153/6153 [==============================] - 72s 12ms/step - loss: 0.0038 - accuracy: 0.3492 - precision: 0.9896 - recall: 0.9873 - val_loss: 0.0023 - val_accuracy: 0.3004 - val_precision: 0.9924 - val_recall: 0.9950\n",
      "Epoch 47/2000\n",
      "6153/6153 [==============================] - 63s 10ms/step - loss: 0.0037 - accuracy: 0.3552 - precision: 0.9898 - recall: 0.9876 - val_loss: 0.0024 - val_accuracy: 0.3376 - val_precision: 0.9906 - val_recall: 0.9961\n",
      "Epoch 48/2000\n",
      "6153/6153 [==============================] - 61s 10ms/step - loss: 0.0037 - accuracy: 0.3583 - precision: 0.9899 - recall: 0.9877 - val_loss: 0.0025 - val_accuracy: 0.3714 - val_precision: 0.9894 - val_recall: 0.9969\n",
      "Epoch 49/2000\n",
      "6153/6153 [==============================] - 63s 10ms/step - loss: 0.0036 - accuracy: 0.3616 - precision: 0.9900 - recall: 0.9880 - val_loss: 0.0023 - val_accuracy: 0.3180 - val_precision: 0.9918 - val_recall: 0.9960\n",
      "Epoch 50/2000\n",
      "6153/6153 [==============================] - 69s 11ms/step - loss: 0.0036 - accuracy: 0.3656 - precision: 0.9901 - recall: 0.9881 - val_loss: 0.0021 - val_accuracy: 0.3293 - val_precision: 0.9943 - val_recall: 0.9948\n",
      "Epoch 51/2000\n",
      "6153/6153 [==============================] - 71s 11ms/step - loss: 0.0035 - accuracy: 0.3744 - precision: 0.9903 - recall: 0.9884 - val_loss: 0.0023 - val_accuracy: 0.3888 - val_precision: 0.9914 - val_recall: 0.9965\n",
      "Epoch 52/2000\n",
      "6153/6153 [==============================] - 66s 11ms/step - loss: 0.0035 - accuracy: 0.3767 - precision: 0.9903 - recall: 0.9885 - val_loss: 0.0021 - val_accuracy: 0.3730 - val_precision: 0.9928 - val_recall: 0.9960\n",
      "Epoch 53/2000\n",
      "6153/6153 [==============================] - 57s 9ms/step - loss: 0.0035 - accuracy: 0.3810 - precision: 0.9904 - recall: 0.9886 - val_loss: 0.0021 - val_accuracy: 0.4102 - val_precision: 0.9929 - val_recall: 0.9958\n",
      "Epoch 54/2000\n",
      "6153/6153 [==============================] - 60s 10ms/step - loss: 0.0034 - accuracy: 0.3867 - precision: 0.9906 - recall: 0.9888 - val_loss: 0.0020 - val_accuracy: 0.3819 - val_precision: 0.9937 - val_recall: 0.9957\n",
      "Epoch 55/2000\n",
      "6153/6153 [==============================] - 58s 9ms/step - loss: 0.0034 - accuracy: 0.3946 - precision: 0.9906 - recall: 0.9889 - val_loss: 0.0020 - val_accuracy: 0.3220 - val_precision: 0.9946 - val_recall: 0.9953\n",
      "Epoch 56/2000\n",
      "6153/6153 [==============================] - 59s 10ms/step - loss: 0.0034 - accuracy: 0.3897 - precision: 0.9907 - recall: 0.9890 - val_loss: 0.0021 - val_accuracy: 0.3557 - val_precision: 0.9925 - val_recall: 0.9966\n",
      "Epoch 57/2000\n",
      "6153/6153 [==============================] - 64s 10ms/step - loss: 0.0033 - accuracy: 0.3973 - precision: 0.9908 - recall: 0.9892 - val_loss: 0.0021 - val_accuracy: 0.3623 - val_precision: 0.9926 - val_recall: 0.9963\n",
      "Epoch 58/2000\n",
      "6153/6153 [==============================] - 66s 11ms/step - loss: 0.0033 - accuracy: 0.4010 - precision: 0.9909 - recall: 0.9893 - val_loss: 0.0020 - val_accuracy: 0.4157 - val_precision: 0.9939 - val_recall: 0.9959\n",
      "Epoch 59/2000\n",
      "6153/6153 [==============================] - 60s 10ms/step - loss: 0.0033 - accuracy: 0.4079 - precision: 0.9910 - recall: 0.9895 - val_loss: 0.0022 - val_accuracy: 0.4571 - val_precision: 0.9911 - val_recall: 0.9973\n",
      "Epoch 60/2000\n",
      "6153/6153 [==============================] - 59s 10ms/step - loss: 0.0033 - accuracy: 0.4124 - precision: 0.9911 - recall: 0.9895 - val_loss: 0.0019 - val_accuracy: 0.4073 - val_precision: 0.9949 - val_recall: 0.9953\n",
      "Epoch 61/2000\n",
      "6153/6153 [==============================] - 61s 10ms/step - loss: 0.0032 - accuracy: 0.4111 - precision: 0.9911 - recall: 0.9897 - val_loss: 0.0021 - val_accuracy: 0.4206 - val_precision: 0.9921 - val_recall: 0.9972\n",
      "Epoch 62/2000\n",
      "6153/6153 [==============================] - 58s 9ms/step - loss: 0.0032 - accuracy: 0.4153 - precision: 0.9912 - recall: 0.9898 - val_loss: 0.0019 - val_accuracy: 0.4304 - val_precision: 0.9942 - val_recall: 0.9962\n",
      "Epoch 63/2000\n",
      "6153/6153 [==============================] - 62s 10ms/step - loss: 0.0032 - accuracy: 0.4159 - precision: 0.9913 - recall: 0.9899 - val_loss: 0.0019 - val_accuracy: 0.3875 - val_precision: 0.9946 - val_recall: 0.9956\n",
      "Epoch 64/2000\n",
      "6153/6153 [==============================] - 55s 9ms/step - loss: 0.0032 - accuracy: 0.4190 - precision: 0.9914 - recall: 0.9900 - val_loss: 0.0019 - val_accuracy: 0.3459 - val_precision: 0.9940 - val_recall: 0.9961\n",
      "Epoch 65/2000\n",
      "6153/6153 [==============================] - 55s 9ms/step - loss: 0.0031 - accuracy: 0.4231 - precision: 0.9914 - recall: 0.9901 - val_loss: 0.0020 - val_accuracy: 0.4027 - val_precision: 0.9928 - val_recall: 0.9970\n",
      "Epoch 66/2000\n",
      "6153/6153 [==============================] - 52s 9ms/step - loss: 0.0031 - accuracy: 0.4314 - precision: 0.9915 - recall: 0.9902 - val_loss: 0.0019 - val_accuracy: 0.4235 - val_precision: 0.9934 - val_recall: 0.9969\n",
      "Epoch 67/2000\n",
      "6153/6153 [==============================] - 53s 9ms/step - loss: 0.0031 - accuracy: 0.4301 - precision: 0.9916 - recall: 0.9903 - val_loss: 0.0019 - val_accuracy: 0.4174 - val_precision: 0.9933 - val_recall: 0.9969\n",
      "Epoch 68/2000\n",
      "6153/6153 [==============================] - 55s 9ms/step - loss: 0.0031 - accuracy: 0.4321 - precision: 0.9916 - recall: 0.9904 - val_loss: 0.0018 - val_accuracy: 0.4172 - val_precision: 0.9947 - val_recall: 0.9962\n",
      "Epoch 69/2000\n",
      "6153/6153 [==============================] - 55s 9ms/step - loss: 0.0030 - accuracy: 0.4394 - precision: 0.9917 - recall: 0.9905 - val_loss: 0.0018 - val_accuracy: 0.4394 - val_precision: 0.9957 - val_recall: 0.9954\n",
      "Epoch 70/2000\n",
      "6153/6153 [==============================] - 55s 9ms/step - loss: 0.0030 - accuracy: 0.4428 - precision: 0.9918 - recall: 0.9906 - val_loss: 0.0018 - val_accuracy: 0.4304 - val_precision: 0.9942 - val_recall: 0.9968\n",
      "Epoch 71/2000\n"
     ]
    },
    {
     "name": "stdout",
     "output_type": "stream",
     "text": [
      "6153/6153 [==============================] - 55s 9ms/step - loss: 0.0030 - accuracy: 0.4420 - precision: 0.9918 - recall: 0.9907 - val_loss: 0.0019 - val_accuracy: 0.4364 - val_precision: 0.9934 - val_recall: 0.9971\n",
      "Epoch 72/2000\n",
      "6153/6153 [==============================] - 74s 12ms/step - loss: 0.0030 - accuracy: 0.4509 - precision: 0.9919 - recall: 0.9907 - val_loss: 0.0019 - val_accuracy: 0.4947 - val_precision: 0.9939 - val_recall: 0.9969\n",
      "Epoch 73/2000\n",
      "6153/6153 [==============================] - 61s 10ms/step - loss: 0.0030 - accuracy: 0.4508 - precision: 0.9920 - recall: 0.9908 - val_loss: 0.0019 - val_accuracy: 0.5046 - val_precision: 0.9933 - val_recall: 0.9973\n",
      "Epoch 74/2000\n",
      "6153/6153 [==============================] - 56s 9ms/step - loss: 0.0029 - accuracy: 0.4576 - precision: 0.9920 - recall: 0.9908 - val_loss: 0.0020 - val_accuracy: 0.5029 - val_precision: 0.9917 - val_recall: 0.9978\n",
      "Epoch 75/2000\n",
      "6153/6153 [==============================] - 57s 9ms/step - loss: 0.0029 - accuracy: 0.4531 - precision: 0.9920 - recall: 0.9909 - val_loss: 0.0018 - val_accuracy: 0.4651 - val_precision: 0.9943 - val_recall: 0.9970\n",
      "Epoch 76/2000\n",
      "6153/6153 [==============================] - 58s 9ms/step - loss: 0.0029 - accuracy: 0.4563 - precision: 0.9921 - recall: 0.9909 - val_loss: 0.0019 - val_accuracy: 0.4945 - val_precision: 0.9926 - val_recall: 0.9977\n",
      "Epoch 77/2000\n",
      "6153/6153 [==============================] - 61s 10ms/step - loss: 0.0029 - accuracy: 0.4523 - precision: 0.9921 - recall: 0.9910 - val_loss: 0.0017 - val_accuracy: 0.4564 - val_precision: 0.9955 - val_recall: 0.9962\n",
      "Epoch 78/2000\n",
      "6153/6153 [==============================] - 58s 9ms/step - loss: 0.0029 - accuracy: 0.4616 - precision: 0.9922 - recall: 0.9911 - val_loss: 0.0019 - val_accuracy: 0.4758 - val_precision: 0.9933 - val_recall: 0.9975\n",
      "Epoch 79/2000\n",
      "6153/6153 [==============================] - 57s 9ms/step - loss: 0.0029 - accuracy: 0.4644 - precision: 0.9922 - recall: 0.9912 - val_loss: 0.0018 - val_accuracy: 0.4277 - val_precision: 0.9944 - val_recall: 0.9970\n",
      "Epoch 80/2000\n",
      "6153/6153 [==============================] - 60s 10ms/step - loss: 0.0029 - accuracy: 0.4623 - precision: 0.9922 - recall: 0.9912 - val_loss: 0.0018 - val_accuracy: 0.4929 - val_precision: 0.9934 - val_recall: 0.9975\n",
      "Epoch 81/2000\n",
      "6153/6153 [==============================] - 57s 9ms/step - loss: 0.0028 - accuracy: 0.4677 - precision: 0.9923 - recall: 0.9913 - val_loss: 0.0017 - val_accuracy: 0.4189 - val_precision: 0.9953 - val_recall: 0.9965\n",
      "Epoch 82/2000\n",
      "6153/6153 [==============================] - 56s 9ms/step - loss: 0.0028 - accuracy: 0.4638 - precision: 0.9923 - recall: 0.9914 - val_loss: 0.0018 - val_accuracy: 0.4998 - val_precision: 0.9940 - val_recall: 0.9973\n",
      "Epoch 83/2000\n",
      "6153/6153 [==============================] - 55s 9ms/step - loss: 0.0028 - accuracy: 0.4655 - precision: 0.9924 - recall: 0.9914 - val_loss: 0.0017 - val_accuracy: 0.4641 - val_precision: 0.9944 - val_recall: 0.9971\n",
      "Epoch 84/2000\n",
      "6153/6153 [==============================] - 55s 9ms/step - loss: 0.0028 - accuracy: 0.4700 - precision: 0.9924 - recall: 0.9914 - val_loss: 0.0017 - val_accuracy: 0.5077 - val_precision: 0.9943 - val_recall: 0.9973\n",
      "Epoch 85/2000\n",
      "6153/6153 [==============================] - 55s 9ms/step - loss: 0.0028 - accuracy: 0.4719 - precision: 0.9925 - recall: 0.9915 - val_loss: 0.0017 - val_accuracy: 0.5321 - val_precision: 0.9946 - val_recall: 0.9972\n",
      "Epoch 86/2000\n",
      "6153/6153 [==============================] - 57s 9ms/step - loss: 0.0028 - accuracy: 0.4730 - precision: 0.9925 - recall: 0.9916 - val_loss: 0.0017 - val_accuracy: 0.4806 - val_precision: 0.9945 - val_recall: 0.9971\n",
      "Epoch 87/2000\n",
      "6153/6153 [==============================] - 60s 10ms/step - loss: 0.0028 - accuracy: 0.4774 - precision: 0.9926 - recall: 0.9916 - val_loss: 0.0017 - val_accuracy: 0.4711 - val_precision: 0.9946 - val_recall: 0.9970\n",
      "Epoch 88/2000\n",
      "6153/6153 [==============================] - 58s 9ms/step - loss: 0.0027 - accuracy: 0.4776 - precision: 0.9926 - recall: 0.9917 - val_loss: 0.0017 - val_accuracy: 0.5107 - val_precision: 0.9944 - val_recall: 0.9972\n",
      "Epoch 89/2000\n",
      "6153/6153 [==============================] - 59s 10ms/step - loss: 0.0027 - accuracy: 0.4842 - precision: 0.9926 - recall: 0.9918 - val_loss: 0.0018 - val_accuracy: 0.5374 - val_precision: 0.9928 - val_recall: 0.9979\n",
      "Epoch 90/2000\n",
      "6153/6153 [==============================] - 59s 10ms/step - loss: 0.0027 - accuracy: 0.4840 - precision: 0.9927 - recall: 0.9918 - val_loss: 0.0018 - val_accuracy: 0.4927 - val_precision: 0.9934 - val_recall: 0.9978\n",
      "Epoch 91/2000\n",
      "6153/6153 [==============================] - 57s 9ms/step - loss: 0.0027 - accuracy: 0.4865 - precision: 0.9927 - recall: 0.9919 - val_loss: 0.0017 - val_accuracy: 0.5223 - val_precision: 0.9942 - val_recall: 0.9974\n"
     ]
    }
   ],
   "source": [
    "\n",
    "logdir = os.path.join(\"./TestLogs/\", datetime.datetime.now().strftime(\"%Y%m%d-%H%M%S\"))\n",
    "my_callbacks = [\n",
    "    tf.keras.callbacks.EarlyStopping(patience=10),\n",
    "    tf.keras.callbacks.TensorBoard(log_dir=logdir,histogram_freq=1, write_graph=True, write_images=True)\n",
    "\n",
    "]\n",
    "\n",
    "\n",
    "\n",
    "#PARAM:\n",
    "#tf.keras.regularizers.L1(l1=1e-4)\n",
    "param={\"INPUT_SIZE\" : 340,\n",
    "\"HIDDEN_SIZE\" : 170,\n",
    "\"HIDDEN_SIZE2\" : None,\n",
    "\"HIDDEN_SIZE3\" : None,\n",
    "\"CODE_SIZE\" :75,\n",
    "\"KERNEL_INIZIALIZER\":\"he_uniform\",\n",
    "\"KERNEL_REGULIZER\":tf.keras.regularizers.L2(l2=1e-5),\n",
    "'BIAS_REGULARIZER': None,\n",
    "\"ACTIVATION\":'relu',\n",
    "\"OPTIMIZER\":tf.keras.optimizers.Adam(learning_rate=0.0001),\n",
    "\"EPOCHS\":2000,\n",
    "\"BATCH_SIZE\":150,\n",
    "#\"BATCH_NORMAIZATION\": 0\n",
    "}\n",
    "\n",
    "autoencoder=tf.keras.models.Sequential()\n",
    "\n",
    "autoencoder.add(Input(shape=(param[\"INPUT_SIZE\"],)))\n",
    "autoencoder.add(tf.keras.layers.BatchNormalization())\n",
    "autoencoder.add( Dense(param[\"HIDDEN_SIZE\"], activation=param[\"ACTIVATION\"], kernel_initializer=param[\"KERNEL_INIZIALIZER\"],kernel_regularizer=param[\"KERNEL_REGULIZER\"], bias_regularizer=param[\"BIAS_REGULARIZER\"] ))\n",
    "autoencoder.add(tf.keras.layers.BatchNormalization())\n",
    "autoencoder.add(Dense(param[\"CODE_SIZE\"], activation=param[\"ACTIVATION\"],kernel_initializer=param[\"KERNEL_INIZIALIZER\"],kernel_regularizer=param[\"KERNEL_REGULIZER\"],bias_regularizer=param[\"BIAS_REGULARIZER\"],name=\"embedding\"))\n",
    "autoencoder.add(tf.keras.layers.BatchNormalization())\n",
    "autoencoder.add(Dense(param[\"HIDDEN_SIZE\"], activation=param[\"ACTIVATION\"], kernel_initializer=param[\"KERNEL_INIZIALIZER\"],kernel_regularizer=param[\"KERNEL_REGULIZER\"], bias_regularizer=param[\"BIAS_REGULARIZER\"] ))\n",
    "autoencoder.add(tf.keras.layers.BatchNormalization())\n",
    "autoencoder.add( Dense(param[\"INPUT_SIZE\"], activation='sigmoid'))\n",
    "\n",
    "\n",
    "#variare learning_rate beta_1,beta_2, da fare per ultimo\n",
    "#batch_size ???\n",
    "autoencoder.compile(optimizer=param[\"OPTIMIZER\"], loss='binary_crossentropy',metrics=[\"accuracy\",\"Precision\",\"Recall\"])\n",
    "history=autoencoder.fit(x=train,y=train, epochs=param[\"EPOCHS\"],batch_size=param[\"BATCH_SIZE\"], validation_data=(validation,validation), \n",
    "                        callbacks=my_callbacks)\n",
    "\n",
    " #Gardare i risulati delle metriche su tensorbord                      "
   ]
  },
  {
   "cell_type": "markdown",
   "id": "d078a2f1",
   "metadata": {},
   "source": [
    "### Print and Test ae"
   ]
  },
  {
   "cell_type": "code",
   "execution_count": 20,
   "id": "67006c5c",
   "metadata": {
    "ExecuteTime": {
     "end_time": "2022-07-29T17:00:37.821898Z",
     "start_time": "2022-07-29T17:00:37.394899Z"
    }
   },
   "outputs": [
    {
     "data": {
      "image/png": "[encoded data removed]",
      "text/plain": [
       "<Figure size 432x288 with 1 Axes>"
      ]
     },
     "metadata": {
      "needs_background": "light"
     },
     "output_type": "display_data"
    },
    {
     "data": {
      "image/png": "[encoded data removed]",
      "text/plain": [
       "<Figure size 432x288 with 1 Axes>"
      ]
     },
     "metadata": {
      "needs_background": "light"
     },
     "output_type": "display_data"
    },
    {
     "data": {
      "image/png": "[encoded data removed]",
      "text/plain": [
       "<Figure size 432x288 with 1 Axes>"
      ]
     },
     "metadata": {
      "needs_background": "light"
     },
     "output_type": "display_data"
    },
    {
     "data": {
      "image/png": "[encoded data removed]",
      "text/plain": [
       "<Figure size 432x288 with 1 Axes>"
      ]
     },
     "metadata": {
      "needs_background": "light"
     },
     "output_type": "display_data"
    }
   ],
   "source": [
    "\n",
    "plt.plot(history.history['loss'], label='train')\n",
    "plt.plot(history.history['val_loss'], label='validation')\n",
    "plt.legend()\n",
    "plt.title(\"Loss\")\n",
    "plt.show()\n",
    "    \n",
    "plt.plot(history.history['accuracy'], label='train')\n",
    "plt.plot(history.history['val_accuracy'], label='validation')\n",
    "plt.legend()\n",
    "plt.title(\"Accuracy\")\n",
    "plt.show()\n",
    "\n",
    "plt.plot(history.history['precision'], label='train')\n",
    "plt.plot(history.history['val_precision'], label='validation')\n",
    "plt.legend()\n",
    "plt.title(\"Precision\")\n",
    "plt.show()\n",
    "\n",
    "plt.plot(history.history['recall'], label='train')\n",
    "plt.plot(history.history['val_recall'], label='validation')\n",
    "plt.legend()\n",
    "plt.title(\"Recall\")\n",
    "plt.show()\n",
    "\n",
    "\n"
   ]
  },
  {
   "cell_type": "code",
   "execution_count": 21,
   "id": "f6ff3f12",
   "metadata": {
    "ExecuteTime": {
     "end_time": "2022-07-29T17:00:48.524453Z",
     "start_time": "2022-07-29T17:00:39.856952Z"
    }
   },
   "outputs": [],
   "source": [
    "#val_predictions = autoencoder.predict(validation)\n",
    "test_predictions = autoencoder.predict(test)"
   ]
  },
  {
   "cell_type": "code",
   "execution_count": 22,
   "id": "5ee7abf9",
   "metadata": {
    "ExecuteTime": {
     "end_time": "2022-07-29T17:03:53.095954Z",
     "start_time": "2022-07-29T17:00:48.525954Z"
    }
   },
   "outputs": [
    {
     "name": "stdout",
     "output_type": "stream",
     "text": [
      "Numero di vettori decodificati correttamente: 208708 su 230728 totali \n",
      "Rapporto: 90.456% \n",
      "Media num di errori per array: 0.144\n",
      "\n"
     ]
    },
    {
     "data": {
      "image/png": "[encoded data removed]",
      "text/plain": [
       "<Figure size 432x288 with 1 Axes>"
      ]
     },
     "metadata": {
      "needs_background": "light"
     },
     "output_type": "display_data"
    }
   ],
   "source": [
    "arr=results_info(test,test_predictions,logdir) "
   ]
  },
  {
   "cell_type": "code",
   "execution_count": 23,
   "id": "74cdfa98",
   "metadata": {
    "ExecuteTime": {
     "end_time": "2022-07-29T17:04:05.452301Z",
     "start_time": "2022-07-29T17:04:02.434801Z"
    }
   },
   "outputs": [
    {
     "name": "stdout",
     "output_type": "stream",
     "text": [
      "INFO:tensorflow:Assets written to: ./TestLogs/20220729-172616\\myModel\\assets\n",
      "Model: \"sequential_3\"\n",
      "_________________________________________________________________\n",
      "Layer (type)                 Output Shape              Param #   \n",
      "=================================================================\n",
      "batch_normalization_12 (Batc (None, 340)               1360      \n",
      "_________________________________________________________________\n",
      "dense_9 (Dense)              (None, 170)               57970     \n",
      "_________________________________________________________________\n",
      "batch_normalization_13 (Batc (None, 170)               680       \n",
      "_________________________________________________________________\n",
      "embedding (Dense)            (None, 75)                12825     \n",
      "_________________________________________________________________\n",
      "batch_normalization_14 (Batc (None, 75)                300       \n",
      "_________________________________________________________________\n",
      "dense_10 (Dense)             (None, 170)               12920     \n",
      "_________________________________________________________________\n",
      "batch_normalization_15 (Batc (None, 170)               680       \n",
      "_________________________________________________________________\n",
      "dense_11 (Dense)             (None, 340)               58140     \n",
      "=================================================================\n",
      "Total params: 144,875\n",
      "Trainable params: 143,365\n",
      "Non-trainable params: 1,510\n",
      "_________________________________________________________________\n"
     ]
    }
   ],
   "source": [
    "#Se i risultati sono buoni salva il modello in modo che possa essere riusato\n",
    "\n",
    "dir_model= os.path.join(logdir,\"myModel\")\n",
    "autoencoder.save(dir_model)\n",
    "\n",
    "autoencoder.summary()"
   ]
  },
  {
   "cell_type": "code",
   "execution_count": null,
   "id": "8c0a6e7b",
   "metadata": {},
   "outputs": [],
   "source": []
  }
 ],
 "metadata": {
  "kernelspec": {
   "display_name": "Python 3 (ipykernel)",
   "language": "python",
   "name": "python3"
  },
  "language_info": {
   "codemirror_mode": {
    "name": "ipython",
    "version": 3
   },
   "file_extension": ".py",
   "mimetype": "text/x-python",
   "name": "python",
   "nbconvert_exporter": "python",
   "pygments_lexer": "ipython3",
   "version": "3.9.12"
  },
  "vscode": {
   "interpreter": {
    "hash": "75241482a63b0cc21089a7e9630ce9a4e49832f95eea58b3d1ce72ab9c72cd52"
   }
  }
 },
 "nbformat": 4,
 "nbformat_minor": 5
}
