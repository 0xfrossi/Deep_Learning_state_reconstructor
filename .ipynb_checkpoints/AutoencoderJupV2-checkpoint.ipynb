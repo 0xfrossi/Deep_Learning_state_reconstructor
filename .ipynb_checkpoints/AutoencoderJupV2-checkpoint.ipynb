{
 "cells": [
  {
   "cell_type": "code",
   "execution_count": 2,
   "id": "8f435793",
   "metadata": {
    "ExecuteTime": {
     "end_time": "2022-06-18T13:08:01.761190Z",
     "start_time": "2022-06-18T13:08:01.674190Z"
    }
   },
   "outputs": [],
   "source": [
    "import numpy as np\n",
    "import tensorflow as tf\n",
    "from utils_functions import *\n",
    "from plan import *\n",
    "import random\n",
    "from tensorflow.keras.layers import Dense, Input\n",
    "from tensorflow.keras.models import Model\n",
    "import datetime, os\n",
    "\n",
    "\n"
   ]
  },
  {
   "cell_type": "code",
   "execution_count": 3,
   "id": "7177344b",
   "metadata": {
    "ExecuteTime": {
     "end_time": "2022-06-18T13:08:26.033689Z",
     "start_time": "2022-06-18T13:08:18.835191Z"
    }
   },
   "outputs": [
    {
     "name": "stdout",
     "output_type": "stream",
     "text": [
      "File loaded\n",
      "File loaded\n"
     ]
    }
   ],
   "source": [
    "\n",
    "dict_stati= load_file(\"./dizionario_stati\")\n",
    "plansLoaded=load_file(\"./plans\")\n",
    "#print(type(plansPickles))\n",
    "#plansList=load_from_pickles(\"C:/Users/Francesco/Desktop/dataset/dataset/dizionario_stati\",plansPickles)\n",
    "#print(plansPickles)\n"
   ]
  },
  {
   "cell_type": "code",
   "execution_count": 4,
   "id": "994cd7db",
   "metadata": {
    "ExecuteTime": {
     "end_time": "2022-06-18T13:08:32.140689Z",
     "start_time": "2022-06-18T13:08:32.112690Z"
    }
   },
   "outputs": [],
   "source": [
    "#ogni stato è un tensore con elementi dtype int8, questi stati vengono raggruppati in un altro tensore che rappresnta la\n",
    "#variabile \"states\" del piano \n",
    "def build_vector(dict, states_list):\n",
    "    l=len(dict)\n",
    "    vector_states=[]\n",
    "    for state in states_list:\n",
    "        vector=np.array([0]*l,dtype=np.int8)\n",
    "        #vector=tf.zeros(l,dtype=np.int8)\n",
    "        for s in state:\n",
    "            for key in dict.keys():\n",
    "                if key==s:\n",
    "                    vector[dict[key]-1]=1\n",
    "                    break\n",
    "        #t=tf.convert_to_tensor(vector,dtype=tf.int8)            \n",
    "        vector_states.append(vector) \n",
    "    r = np.array(vector_states)                          \n",
    "    return r\n",
    "\n",
    "\n",
    "#NON UTILIZZATO ADESSO\n",
    "#shape di ogni singolo elemento (r) è (n x 340) con n che varia su ogni piano, raggruppati sulla base dei piani\n",
    "def build_all_vectors(dict,plans_list):\n",
    "    total=[]\n",
    "    for plan in plans_list:\n",
    "        r=build_vector(dict,plan.states)\n",
    "        total.append(r)\n",
    "    #r = tf.convert_to_tensor(total,dtype=None)                         \n",
    "    return total\n",
    " \n",
    "    \n",
    "#gli stati vengono ordinati (in una lista) singolarmente con shape (1x340), non vengono raggruppati sulla base dei piani\n",
    "#da utilizzare per autoencoder standard\n",
    "def build_all_vectors1x340(dict, plans_list):\n",
    "    l=len(dict)\n",
    "    total=[]\n",
    "    for plan in plans_list:\n",
    "        for state in plan.states:\n",
    "            vector=np.array([0]*l,dtype=np.int8)\n",
    "            for s in state:\n",
    "                for key in dict.keys():\n",
    "                    if key==s:\n",
    "                        vector[dict[key]-1]=1\n",
    "                        break\n",
    "            #t=tf.convert_to_tensor(vector,dtype=tf.int8)            \n",
    "            total.append(vector)\n",
    "    total=np.array(total)        \n",
    "    return total        "
   ]
  },
  {
   "cell_type": "code",
   "execution_count": 5,
   "id": "a8f80382",
   "metadata": {
    "ExecuteTime": {
     "end_time": "2022-06-18T13:08:35.194188Z",
     "start_time": "2022-06-18T13:08:35.185689Z"
    },
    "scrolled": true
   },
   "outputs": [],
   "source": [
    "#all_states_from_plans_list=build_all_vectors(dict_stati,plansLoaded)"
   ]
  },
  {
   "cell_type": "markdown",
   "id": "4fe83a51",
   "metadata": {},
   "source": [
    "## Preparazione dati"
   ]
  },
  {
   "cell_type": "code",
   "execution_count": null,
   "id": "8d8fed23",
   "metadata": {
    "ExecuteTime": {
     "start_time": "2022-06-18T13:08:37.354Z"
    }
   },
   "outputs": [],
   "source": [
    "#Creazione dataset totale\n",
    "all1x340=build_all_vectors1x340(dict_stati,plansLoaded)\n",
    "random.shuffle(all1x340)\n"
   ]
  },
  {
   "cell_type": "code",
   "execution_count": null,
   "id": "4c7364dc",
   "metadata": {},
   "outputs": [],
   "source": [
    "print(all1x340.shape)\n",
    "print(type(all1x340))\n",
    "print(type(all1x340[6]))\n",
    "print(all1x340[6].dtype)"
   ]
  },
  {
   "cell_type": "code",
   "execution_count": null,
   "id": "ea9dd3bd",
   "metadata": {
    "ExecuteTime": {
     "start_time": "2022-06-18T13:08:52.767Z"
    }
   },
   "outputs": [],
   "source": [
    "#creAzione di train, test e validation set,--> input shape per rete = 340\n",
    "#rendere questi set statici, altimenti cambiano sempre ad ogni esecuzione.... es. comprimerli con 7zip o pickle --> DA FARE IN PRIMA POSSIBILE\n",
    "#random.shuffle(all1x340)\n",
    "half=int(len(all1x340)//3)\n",
    "train=all1x340[half:]\n",
    "vt=all1x340[:half]\n",
    "h2=int(len(vt)//2)\n",
    "validation=vt[h2:]\n",
    "test=vt[:h2]\n"
   ]
  },
  {
   "cell_type": "code",
   "execution_count": null,
   "id": "d2f59a0e",
   "metadata": {
    "ExecuteTime": {
     "start_time": "2022-06-18T13:08:55.067Z"
    }
   },
   "outputs": [],
   "source": [
    "logdir = os.path.join(\"logs\", datetime.datetime.now().strftime(\"%Y%m%d-%H%M%S\"))"
   ]
  },
  {
   "cell_type": "markdown",
   "id": "a85be87a",
   "metadata": {},
   "source": [
    "## Modello"
   ]
  },
  {
   "cell_type": "code",
   "execution_count": null,
   "id": "00dc9c18",
   "metadata": {
    "scrolled": false
   },
   "outputs": [],
   "source": [
    "input_size = 340 #costante\n",
    "\n",
    "#Scelti casulmente al momento.... da rivedere come prima modifica forse\n",
    "hidden_size = 85\n",
    "#hidden_size2 = 85\n",
    "code_size = 17\n",
    "\n",
    "\n",
    "\n",
    "my_callbacks = [\n",
    "    tf.keras.callbacks.EarlyStopping(patience=10),\n",
    "    tf.keras.callbacks.TensorBoard(log_dir=\"C:/Users/Francesco/Desktop/owl-main/logsTf\",histogram_freq=1)\n",
    "\n",
    "]\n",
    "\n",
    "#Cose da fare per migliorare la rete solo dopo aver fatto i primi tentativi con la rete proposta:\n",
    "# * Provare ad aggiungere Regolarizzazione es. L1,L2 e dropout(solo nella fase di encoding)\n",
    "# * Provare swish al posto di relu\n",
    "# * Provare keras.layers.BatchNormalization()\n",
    "# * Fare Hyperparameter Tuning  (ultima) www.tensorflow.org/tensorboard/hyperparameter_tuning_with_hparams\n",
    "#Salvare i risultati con ogni modifica fatta per scriverli nel report\n",
    "\n",
    "input_layer = Input(shape=(input_size,))\n",
    "hidden_1 = Dense(hidden_size, activation='relu', kernel_initializer=\"he_uniform\")(input_layer)\n",
    "#hidden_3 = Dense(hidden_size, activation='relu', kernel_initializer=\"he_uniform\")(hidden_1)\n",
    "\n",
    "code = Dense(code_size, activation='relu',kernel_initializer=\"he_uniform\")(hidden_1)\n",
    "\n",
    "hidden_2 =Dense(hidden_size, activation='relu',kernel_initializer=\"he_uniform\")(code)\n",
    "#hidden_4 =Dense(hidden_size, activation='relu',kernel_initializer=\"he_uniform\")(hidden_2)\n",
    "output_layer = Dense(input_size, activation='sigmoid')(hidden_2)\n",
    "\n",
    "autoencoder = Model(input_layer, output_layer)\n",
    "#variare learning_rate beta_1,beta_2, da fare per ultimo\n",
    "#batch_size ???\n",
    "autoencoder.compile(optimizer=tf.keras.optimizers.Adam(learning_rate=0.1), loss='binary_crossentropy',metrics=[\"accuracy\",\"Precision\",\"Recall\"])\n",
    "autoencoder.fit(x=train,y=train, epochs=5000,batch_size=5000, validation_data=(validation,validation), callbacks=my_callbacks,\n",
    "                      )\n",
    "\n",
    " #Gardare i risulati delle metriche su tensorbord                      "
   ]
  },
  {
   "cell_type": "code",
   "execution_count": null,
   "id": "283988aa",
   "metadata": {},
   "outputs": [],
   "source": [
    "#%tensorboard --logdir logsTf\n",
    "%load_ext tensorboard\n",
    "#Avvio da terminale: spostarsi nella cartella dove è presente la cartella di log, > tensorboard --logdir nomecartella"
   ]
  },
  {
   "cell_type": "markdown",
   "id": "d6cb3dc4",
   "metadata": {},
   "source": [
    "# Print di test"
   ]
  },
  {
   "cell_type": "code",
   "execution_count": null,
   "id": "369df4d3",
   "metadata": {},
   "outputs": [],
   "source": [
    "print(validation[59])\n",
    "print(test[2000])\n",
    "print(train[5000])"
   ]
  },
  {
   "cell_type": "code",
   "execution_count": null,
   "id": "68dbc7df",
   "metadata": {},
   "outputs": [],
   "source": [
    "for i in range(3):\n",
    "    print(all_states_from_plans_list[i])"
   ]
  },
  {
   "cell_type": "code",
   "execution_count": null,
   "id": "b662722d",
   "metadata": {},
   "outputs": [],
   "source": [
    "print(\"********initial state *******\")\n",
    "print(len(plansLoaded[1].initial_state))\n",
    "print(\"\")\n",
    "print(plansLoaded[1].initial_state)\n",
    "\n",
    "print(\"******** states *******\")\n",
    "print(len(plansLoaded[1].states))\n",
    "print(\"\")\n",
    "print(plansLoaded[1].states)\n",
    "print(\"******* goals ********\")\n",
    "print(len(plansLoaded[1].goals))\n",
    "print(\"\")\n",
    "print(plansLoaded[1].goals)\n",
    "\n",
    "print(\"\\n\\n -------------  dict stati -----------\")\n",
    "print(len(dict_stati))\n",
    "print(\"\")\n",
    "print(dict_stati)"
   ]
  },
  {
   "cell_type": "code",
   "execution_count": null,
   "id": "944bb903",
   "metadata": {},
   "outputs": [],
   "source": [
    "for i in range(5):\n",
    "    print(all1x340[i])"
   ]
  },
  {
   "cell_type": "code",
   "execution_count": null,
   "id": "18f079b4",
   "metadata": {},
   "outputs": [],
   "source": []
  }
 ],
 "metadata": {
  "kernelspec": {
   "display_name": "PyCharm (Deep_Learning_Autoencoder)",
   "language": "python",
   "name": "pycharm-ce22b02f"
  },
  "language_info": {
   "codemirror_mode": {
    "name": "ipython",
    "version": 3
   },
   "file_extension": ".py",
   "mimetype": "text/x-python",
   "name": "python",
   "nbconvert_exporter": "python",
   "pygments_lexer": "ipython3",
   "version": "3.9.12"
  },
  "vscode": {
   "interpreter": {
    "hash": "9acba0606d7acdc9122521c1e55edc08153e62462fdeed28528cdde632651f64"
   }
  }
 },
 "nbformat": 4,
 "nbformat_minor": 5
}
